{
 "cells": [
  {
   "cell_type": "markdown",
   "id": "7b2f14af",
   "metadata": {},
   "source": [
    "#### 객체(object) 개념 정리 ( 신원/타입/속성/메소드/클래스/OOP)\n",
    "- 파이썬 프로그램에서 모든 데이터는 객체(object)라는 개념을 사용하여 저장됩니다.\n",
    "- 가장 기본이 되는 데이터 타입인 숫자, 문자열, 리스트, 사전은 다 객체입니다.\n",
    "- 클래스를 사용해서 사용자 정의 객체를 생성할 수도 있습니다.\n",
    "- 또한 프로그램의 구조와 인터프리터의 내부 동작과 관련된 객체들도 있습니다\n",
    "- 객체(object) : 프로그램에서 저장되는 모든 데이터는 객체입니다. 각 객체는 신원(identity), 타입(클래스라고도 함)과 값을 가집니다.\n",
    "  - 객체의 신원(identity) : 객체가 메모리에 저장된 위치를 가리키는 포인터\n",
    "  - 객체의 타입(클래스) : 객체의 내부적인 표현 형태와 객체가 지원하는 메서드 및 연산들을 설명, 특정 타입의 객체가 생성되면 그 객체를 그 타입의 인스턴스(instance)라고 부른다.\n",
    "  - 객체의 속성(attribute)와 메서드(method) : 속성(attribute)은 객체에 연결된 값이고 메서드(method)는 호출될 때 객체에 대해 특정 연산을 수행하는 함수"
   ]
  },
  {
   "cell_type": "markdown",
   "id": "37ec3999",
   "metadata": {},
   "source": [
    "## 클래스\n",
    "\n",
    "클래스(class)란 똑같은 무엇인가를 계속해서 만들어 낼 수 있는 설계 도면이고(과자 틀), \n",
    "객체(object)란 클래스로 만든 피조물(과자 틀을 사용해 만든 과자)을 뜻한다.  \n",
    "과자 틀 → 클래스 (class)  \n",
    "과자 틀에 의해서 만들어진 과자 → 객체 (object)\n",
    "\n",
    "- class : 함수 + 변수 모아놓은 것\n",
    "- 오브젝트(object) : 클래스를 써서 만든 것\n",
    "- 오브젝트(object) == 인스턴스(instance)\n",
    "- 클래스를 정의한 후, 그 클래스를 사용해서 데이터 객체(인스턴스)를 만들 수 있다.\n",
    "- 동일한 클래스에 의해 만들어진 각 객체들은 유사한 특징을 공유한다.\n",
    "- 모든 인스턴스에서 메소드(=코드)는 동일하지만, 속성(데이터)는 다르다.\n",
    "  * 메소드 : 코드 \n",
    "  * 속성 : 데이터 \n",
    "  * 인스턴스 : 클래스에 의해 만들어진 데이터 객체\n",
    "  * a = 클래스() 이렇게 만든 a는 객체이다. 그리고 a 객체는 클래스의 인스턴스이다. 즉 인스턴스라는 말은 특정 객체(a)가 어떤 클래스의 객체인지를 관계 위주로 설명할 때 사용"
   ]
  },
  {
   "cell_type": "code",
   "execution_count": 2,
   "id": "37faf140",
   "metadata": {},
   "outputs": [
    {
     "name": "stdout",
     "output_type": "stream",
     "text": [
      "kita 과정입니다\n",
      "kita\n"
     ]
    }
   ],
   "source": [
    "# 생성자(Constructor)란 객체가 생성될 때 자동으로 호출되는 메서드를 의미\n",
    "# 파이썬 메서드 이름으로 __init__를 사용하면 이 메서드는 생성자가 된다.\n",
    "# 클래스 생성자(인자가 없는 경우)\n",
    "\n",
    "class Kita:\n",
    "    def __init__(self):\n",
    "        self.var = \"kita\"  # 인스턴스 멤버\n",
    "        print(\"kita 과정입니다\")\n",
    "        \n",
    "obj = Kita()\n",
    "print(obj.var)"
   ]
  },
  {
   "cell_type": "code",
   "execution_count": 4,
   "id": "4ecc5953",
   "metadata": {},
   "outputs": [
    {
     "name": "stdout",
     "output_type": "stream",
     "text": [
      "홍길동은 25세이며 computer를 전공했습니다\n",
      "홍길순은 27세이며 business를 전공했습니다\n",
      "홍길동\n",
      "27\n"
     ]
    }
   ],
   "source": [
    "# 클래스 생성자(인자가 있는 경우)\n",
    "\n",
    "class Kita:\n",
    "    def __init__(self, name, age, major):\n",
    "        self.name = name\n",
    "        self.age = age\n",
    "        self.major = major\n",
    "        print(f'{self.name}은 {self.age}세이며 {self.major}를 전공했습니다')\n",
    "        \n",
    "a = Kita('홍길동','25','computer')\n",
    "b = Kita('홍길순','27','business')\n",
    "print(a.name)\n",
    "print(b.age)"
   ]
  },
  {
   "cell_type": "markdown",
   "id": "10c52300",
   "metadata": {},
   "source": [
    "#### self 키워드\n",
    "- Python에서 클래스 정의 시 self 키워드는 인스턴스 메서드의 첫 번째 매개변수로 사용\n",
    "- self의 사용법\n",
    "    - 클래스의 인스턴스 메서드를 정의할 때, 첫 번째 매개변수로 self를 사용\n",
    "    - self를 사용하여 인스턴스 속성에 접근하거나 설정\n",
    "    - self를 통해 같은 객체의 다른 메서드를 호출\n",
    "    - 클래스로부터 객체를 생성할 때, Python은 자동으로 self를 첫 번째 매개변수로 전달\n",
    "    - self는 객체의 속성과 메서드를 해당 객체에 속한 네임스페이스에 바인딩\n",
    "    - self는 해당 서브클래스의 인스턴스를 가리키며, 이를 통해 부모 클래스의 메서드와 속성에 접근"
   ]
  },
  {
   "cell_type": "code",
   "execution_count": 6,
   "id": "bbe942e7",
   "metadata": {},
   "outputs": [
    {
     "ename": "SyntaxError",
     "evalue": "incomplete input (2412833966.py, line 5)",
     "output_type": "error",
     "traceback": [
      "\u001b[1;36m  Cell \u001b[1;32mIn[6], line 5\u001b[1;36m\u001b[0m\n\u001b[1;33m    # arg는 전달된 인자\u001b[0m\n\u001b[1;37m                 ^\u001b[0m\n\u001b[1;31mSyntaxError\u001b[0m\u001b[1;31m:\u001b[0m incomplete input\n"
     ]
    }
   ],
   "source": [
    "# 인스턴스 메서드 정의\n",
    "class MyClass:\n",
    "    def method(self, arg1, arg2):\n",
    "        # 여기서 self는 인스턴스 객체\n",
    "        # arg는 전달된 인자"
   ]
  },
  {
   "cell_type": "code",
   "execution_count": null,
   "id": "630c8870",
   "metadata": {},
   "outputs": [],
   "source": [
    "class MyClass:\n",
    "    def __init__(self, value):\n",
    "        self.instance_value = value  # 인스턴스 변수 설정\n",
    "        \n",
    "    def method(self):\n",
    "        return self.instance_value  # 인스턴스 변수 접근"
   ]
  },
  {
   "cell_type": "code",
   "execution_count": null,
   "id": "3ae2d883",
   "metadata": {},
   "outputs": [],
   "source": [
    "class MyClass:\n",
    "    def method_one(self):\n",
    "        pass\n",
    "    \n",
    "    def method_two(self):\n",
    "        def method_one()  # method_one을 호출\n",
    "    "
   ]
  },
  {
   "cell_type": "code",
   "execution_count": 7,
   "id": "1eaf8c64",
   "metadata": {},
   "outputs": [
    {
     "name": "stdout",
     "output_type": "stream",
     "text": [
      "Kita 객체가 제거됩니다.\n"
     ]
    }
   ],
   "source": [
    "# 클래스 소멸자\n",
    "# 클래스 인스턴스 객체가 메모리에서 제거될 때 자동으로 호출되는 클래스 메소드\n",
    "\n",
    "class Kita:\n",
    "    def __del__(self):\n",
    "        print(\"Kita 객체가 제거됩니다.\")\n",
    "        \n",
    "obj = Kita()\n",
    "del obj"
   ]
  },
  {
   "cell_type": "markdown",
   "id": "e25682a8",
   "metadata": {},
   "source": [
    "## 클래스를 구성하는 요소\n",
    "\n",
    "- 클래스 선언: class 키워드와 대문자로 시작하는 이름 사용.\n",
    "- 생성자: __init__ 메서드로 인스턴스 초기화, self를 첫 인자로 사용.\n",
    "- 속성(Attributes): self.변수명 형태의 인스턴스 변수로 각 객체의 상태 정의.\n",
    "- 메서드(Methods): 객체의 동작을 정의하는 함수, 첫 인자로 self를 사용.\n",
    "- 상속(Inheritance): 다른 클래스의 기능을 확장 또는 수정.\n",
    "- 인스턴스화: 클래스 이름에 괄호를 추가하여 객체 인스턴스 생성.\n",
    "- self: 메서드와 속성에서 객체 자신을 참조.\n",
    "- 클래스 변수: 클래스 내 정의되고 모든 인스턴스에 공유.\n",
    "- 인스턴스 변수: self로 접근, 각 인스턴스에 고유한 데이터 저장.\n",
    "- 매직 메서드(특수 메서드): __로 둘러싸인 메서드로 내장 연산/함수 커스터마이즈."
   ]
  },
  {
   "cell_type": "code",
   "execution_count": null,
   "id": "2c6408a8",
   "metadata": {},
   "outputs": [],
   "source": [
    "# 기본 클래스 또는 부모 클래스\n",
    "class Animal:\n",
    "    def __init__(self, name):\n",
    "        self.name = name\n",
    "        \n",
    "    def speak(self):\n",
    "        raise NotImplementedError(\"Subclass must implement absrtract method\")\n",
    "        \n",
    "# 자식 클래스의 Animal 클래스 상속\n",
    "class Dog(Animal):\n",
    "    def speak(self):\n",
    "        return f\"{self.name} says Woof!\"\n",
    "    \n",
    "class Cat(Animal):\n",
    "    def speak(self):\n",
    "        return f\"{self.name} says Meow!\""
   ]
  },
  {
   "cell_type": "code",
   "execution_count": 21,
   "id": "77124543",
   "metadata": {},
   "outputs": [
    {
     "name": "stdout",
     "output_type": "stream",
     "text": [
      "4\n",
      "15\n",
      "4\n",
      "========================\n",
      "15\n",
      "6\n",
      "========================\n",
      "6\n"
     ]
    }
   ],
   "source": [
    "# 클래스 변수\n",
    "# 클래스 변수 vs 인스턴스 변수\n",
    "# 클래스 변수: 클래스 내 정의되고 모든 인스턴스에 공유\n",
    "# 인스턴스 변수: self로 접근, 각 인스턴스에 고유한 데이터 저장.\n",
    "class Car:\n",
    "    wheels = 4  # 클래스 변수\n",
    "    \n",
    "    def __init__(self, brand, model):\n",
    "        self.brand = brand\n",
    "        self.model = model\n",
    "        \n",
    "obj1 = Car('aa','bb')\n",
    "obj2 = Car('cc','dd')\n",
    "\n",
    "print(obj1.wheels)\n",
    "obj1.wheels = 15    # 이 부분에서 obj1 에는 wheels 이 클래스변수 엎어치고 인스턴스변수로 생성됨.\n",
    "print(obj1.wheels)\n",
    "print(obj2.wheels)\n",
    "\n",
    "print('='*24)\n",
    "\n",
    "Car.wheels += 2\n",
    "\n",
    "print(obj1.wheels)\n",
    "print(obj2.wheels)\n"
   ]
  },
  {
   "cell_type": "code",
   "execution_count": 4,
   "id": "4b5206b8",
   "metadata": {},
   "outputs": [
    {
     "name": "stdout",
     "output_type": "stream",
     "text": [
      "자기관리론 by 데일 카네기\n"
     ]
    }
   ],
   "source": [
    "# 매직 매서드\n",
    "class Book:\n",
    "    def __init__(self, title, author):\n",
    "        self.title = title\n",
    "        self.author = author\n",
    "    \n",
    "    def __str__(self):  # 객체를 문자열로 표현할 때 사용\n",
    "        return f\"{self.title} by {self.author}\"\n",
    "    \n",
    "obj = Book(\"자기관리론\",\"데일 카네기\")\n",
    "print(obj)"
   ]
  },
  {
   "cell_type": "code",
   "execution_count": 5,
   "id": "13ee49dc",
   "metadata": {},
   "outputs": [
    {
     "name": "stdout",
     "output_type": "stream",
     "text": [
      "kita 과정입니다.\n",
      "안녕하세요\n",
      "안녕하세요\n"
     ]
    }
   ],
   "source": [
    "class MyClass:\n",
    "    var = \"안녕하세요\"  # 클래스 변수\n",
    "    def __init__(self):  # 생성자는 객체 만들 때 자동호출\n",
    "        self.name = \"kita\"  # 지역변수. 인스턴스 변수\n",
    "        print(f\"{self.name} 과정입니다.\")\n",
    "    def sayHello(self):  # 인스턴스 메소드\n",
    "        return self.var\n",
    "\n",
    "obj = MyClass()\n",
    "print(obj.var)\n",
    "print(obj.sayHello())"
   ]
  },
  {
   "cell_type": "code",
   "execution_count": 9,
   "id": "98824ae2",
   "metadata": {},
   "outputs": [
    {
     "name": "stdout",
     "output_type": "stream",
     "text": [
      "안녕하세요\n",
      "=========================\n",
      "안녕\n",
      "안녕하세요\n",
      "=========================\n",
      "하이\n"
     ]
    }
   ],
   "source": [
    "# 클래스 멤머는 바깥에서 선언되고 인스턴스 멤버는 메소드 안에서 self와 함께 선언\n",
    "\n",
    "class MyClass:\n",
    "    var = \"안녕하세요\"  # 클래스 변수\n",
    "    def sayHello(self):  # 인스턴스 메소드\n",
    "        param1 = \"안녕\"  # 지역 변수\n",
    "        self.param2 = '하이' # 인스턴스 변수\n",
    "        print(param1)\n",
    "#         print(var)  # 동작하지 않음\n",
    "        print(self.var)\n",
    "    \n",
    "obj = MyClass()\n",
    "print(obj.var)\n",
    "print('='*25)\n",
    "obj.sayHello()\n",
    "print('='*25)\n",
    "print(obj.param2)"
   ]
  },
  {
   "cell_type": "code",
   "execution_count": 10,
   "id": "36984d9d",
   "metadata": {},
   "outputs": [
    {
     "name": "stdout",
     "output_type": "stream",
     "text": [
      "안녕하세요\n",
      "kevin! 다음에 보자\n"
     ]
    }
   ],
   "source": [
    "# 인스턴스 메소드는 첫번째 인자가 반드시 self\n",
    "class MyClass:\n",
    "    def sayHello(self):\n",
    "        print(\"안녕하세요\")\n",
    "    def sayBye(self, name):\n",
    "        print(f'{name}! 다음에 보자')\n",
    "        \n",
    "obj = MyClass()\n",
    "obj.sayHello()\n",
    "obj.sayBye(\"kevin\")"
   ]
  },
  {
   "cell_type": "code",
   "execution_count": 11,
   "id": "aa3e662f",
   "metadata": {},
   "outputs": [
    {
     "name": "stdout",
     "output_type": "stream",
     "text": [
      "안녕하세요\n",
      "kevin! 다음에 보자\n"
     ]
    }
   ],
   "source": [
    "class MyClass:\n",
    "#     def __init__(self):\n",
    "#         pass\n",
    "#         print(\"생성자를 만들었습니다.\")\n",
    "    def sayHello(self):\n",
    "        print(\"안녕하세요\")\n",
    "    def sayBye(self, name):\n",
    "        print(f'{name}! 다음에 보자')\n",
    "        \n",
    "obj = MyClass()\n",
    "obj.sayHello()\n",
    "obj.sayBye(\"kevin\")"
   ]
  },
  {
   "cell_type": "code",
   "execution_count": null,
   "id": "083b619d",
   "metadata": {},
   "outputs": [],
   "source": [
    "# Q, 클래스 MyClass를 작성하고 객체를 생성하여 아래와 같이 출력하세요(생성자 사용)\n",
    "# kevin, 안녕하세요\n",
    "# kevin! 다음에 보자"
   ]
  },
  {
   "cell_type": "code",
   "execution_count": 15,
   "id": "4d63c3c6",
   "metadata": {},
   "outputs": [
    {
     "name": "stdout",
     "output_type": "stream",
     "text": [
      "kevin, 안녕하세요\n",
      "kevin! 다음에 보자\n"
     ]
    }
   ],
   "source": [
    "class MyClass:\n",
    "    def __init__(self):\n",
    "        name = 'kevin'\n",
    "        print(f'{name}, 안녕하세요')\n",
    "        print(f'{name}! 다음에 보자')\n",
    "        \n",
    "run = MyClass()"
   ]
  },
  {
   "cell_type": "code",
   "execution_count": 17,
   "id": "c717114b",
   "metadata": {},
   "outputs": [
    {
     "name": "stdout",
     "output_type": "stream",
     "text": [
      "kevin! 안녕하세요\n",
      "kevin! 다음에 보자\n"
     ]
    }
   ],
   "source": [
    "class Printtf:\n",
    "    def __init__(self,name):\n",
    "        self.name = name\n",
    "        \n",
    "    def sayHello(self):\n",
    "        print(f'{self.name}! 안녕하세요')\n",
    "        \n",
    "    def sayBye(self):\n",
    "        print(f'{self.name}! 다음에 보자')\n",
    "        \n",
    "obj = Printtf(\"kevin\")\n",
    "obj.sayHello()\n",
    "obj.sayBye()"
   ]
  },
  {
   "cell_type": "code",
   "execution_count": 23,
   "id": "943d9ef3",
   "metadata": {
    "scrolled": true
   },
   "outputs": [
    {
     "name": "stdout",
     "output_type": "stream",
     "text": [
      "1\n",
      "2\n",
      "3\n"
     ]
    }
   ],
   "source": [
    "class MyClass:\n",
    "    value = 0  # 클래스 변수를 선언\n",
    "    def __init__(self):  # 초기화: 인스턴스 생성\n",
    "        MyClass.value += 1\n",
    "        \n",
    "if __name__ == \"__main__\":\n",
    "    a = MyClass()  # 인스턴스 a를 생성한다.\n",
    "    print(MyClass.value)  # 1\n",
    "    b = MyClass()  # 인스턴스 b를 생성한다.\n",
    "    print(MyClass.value)  # 2\n",
    "    c = MyClass()  # 인스턴스 c를 생성한다.\n",
    "    print(MyClass.value)  # 3"
   ]
  },
  {
   "cell_type": "code",
   "execution_count": 25,
   "id": "6d1761c5",
   "metadata": {},
   "outputs": [
    {
     "name": "stdout",
     "output_type": "stream",
     "text": [
      "['__class__', '__delattr__', '__dict__', '__dir__', '__doc__', '__eq__', '__format__', '__ge__', '__getattribute__', '__gt__', '__hash__', '__init__', '__init_subclass__', '__le__', '__lt__', '__module__', '__ne__', '__new__', '__reduce__', '__reduce_ex__', '__repr__', '__setattr__', '__sizeof__', '__str__', '__subclasshook__', '__weakref__', 'value']\n"
     ]
    }
   ],
   "source": [
    "# 파이썬에서는 모든 게 다 객체(Object)\n",
    "# dir()은 어떤 객체를 인자로 넣어주면 해당 객체가 어떤 메서드를 가지고 있는지 반환\n",
    "print(dir(a))"
   ]
  },
  {
   "cell_type": "markdown",
   "id": "2058afc0",
   "metadata": {},
   "source": [
    "## 객체 지향 프로그래밍 (Object-Oriented Programming)\n",
    "\n",
    "- 클래스 인스턴스는 객체(object)라고도 하며, 이렇게 클래스를 정의하고 객체를 만드는 패턴을 객체 지향 프로그래밍(OOP)이라고 함\n",
    "- 인스턴스를 불러온다는 건 클래스를 가져와 객체로 바꿔준다는 건데, type() 함수를 사용하는 건 그 반대\n",
    "- 객체의 type을 확인해보면 해당 객체가 어떤 클래스의 인스턴스인지를 확인\n",
    "- 파이썬에서 __main__은 “현재 실행 중인 파일”을 의미"
   ]
  },
  {
   "cell_type": "markdown",
   "id": "56b7d88a",
   "metadata": {},
   "source": [
    "- 파이썬에서 type에 나오는 클래스와 객체를 만들기 위한 클래스는 기본적으로 동일한 개념\n",
    "- 파이썬의 모든 것은 객체이고, 각 객체는 특정 클래스의 인스턴스. type은 파이썬 내장 함수로, 주어진 객체의 타입을 반환. 클래스 자체도 객체이며, type을 사용하여 클래스의 타입을 확인할 수 있다.\n",
    "\n",
    "- 클래스를 정의하면, 이 클래스 자체는 type의 인스턴스. 즉, 클래스는 type이라는 메타클래스의 객체로, 다시 말해 클래스를 만드는 데 사용되는 '클래스의 클래스'. 이 메타클래스 type은 파이썬에서 클래스를 동적으로 생성하는 데 사용할 수 있다."
   ]
  },
  {
   "cell_type": "code",
   "execution_count": 27,
   "id": "51358bb0",
   "metadata": {},
   "outputs": [
    {
     "name": "stdout",
     "output_type": "stream",
     "text": [
      "<class '__main__.Test'>\n",
      "<class 'int'>\n"
     ]
    }
   ],
   "source": [
    "# Q. 임의의 클래스를 작성 후 인스턴스를 생성하고 그것의 타입을 확인하세요.\n",
    "class Test:\n",
    "    pass\n",
    "\n",
    "test = Test()\n",
    "print(type(test))\n",
    "print(type(1))"
   ]
  },
  {
   "cell_type": "markdown",
   "id": "1e76bc92",
   "metadata": {},
   "source": [
    "## 클래스 상속\n",
    "\n",
    "- 어떤 클래스가 가지고 있는 모든 멤버나 메소드를 상속받는 클래스가 모두 사용할 수 있도록 해주는 것. \n",
    "- 상속을 해주는 클래스가 부모클래스(슈퍼), 상속을 받는 클래스가 자식클래스(서브)라 함: class 자식클래스(부모클래스)\n",
    "- 자식클래스는 여러 부모클래스로 부터 상속받을 수 있으며 다중상속이라 함. class 자식클래스(부모클래스1, 부모클래스2,..)"
   ]
  },
  {
   "cell_type": "code",
   "execution_count": 28,
   "id": "d9005f24",
   "metadata": {},
   "outputs": [
    {
     "name": "stdout",
     "output_type": "stream",
     "text": [
      "3\n",
      "6\n",
      "1\n"
     ]
    }
   ],
   "source": [
    "class Sum:\n",
    "    def sum(self, n1, n2):\n",
    "        return n1+n2\n",
    "    \n",
    "class Mul:\n",
    "    def mul(self, n1, n2):\n",
    "        return n1*n2\n",
    "    \n",
    "class Cal(Sum, Mul):\n",
    "    def sub(self, n1, n2):\n",
    "        return n1-n2\n",
    "    \n",
    "obj = Cal()\n",
    "print(obj.sum(1,2))\n",
    "print(obj.mul(3,2))\n",
    "print(obj.sub(3,2))"
   ]
  },
  {
   "cell_type": "markdown",
   "id": "fd33a3ba",
   "metadata": {},
   "source": [
    "### 구조지향 vs 객체지향\n",
    "- 구조적 프로그래밍\n",
    "  - 프로그램을 작업을 수행하는 함수와 데이터를 처리하는 데 필요한 입력 및 출력으로 구성\n",
    "  - 이 접근법은 더 작은 문제로 나눌 수 있는 큰 문제에서 잘 작동\n",
    "  - 기능적 분해를 통해 문제를 해결하고, if, else, switch, while, for 등의 제어 구조를 사용하여 프로그램의 흐름을 제어\n",
    "\n",
    "- 객체지향 프로그래밍(OOP)\n",
    "  - 데이터와 그 데이터를 조작하는 연산을 객체라는 단일 구조로 결합\n",
    "  - 객체는 클래스로부터 생성되며, 클래스는 객체의 특성과 가능한 동작을 정의\n",
    "  - OOP는 캡슐화, 상속, 다형성 같은 개념을 사용하여 코드의 재사용성, 확장성 및 관리 용이성을 향상시킨다."
   ]
  },
  {
   "cell_type": "markdown",
   "id": "ea05e517",
   "metadata": {},
   "source": [
    "오버라이딩(Overriding)\n",
    "- 부모 클래스에 정의된 메서드를 자식 클래스에서 재정의\n",
    "\n",
    "오버로딩(Overloading)\n",
    "- 오버로딩(Overloading)은 하나의 클래스 내에서 메서드 이름은 같지만 매개변수의 타입이나 개수가 다른 여러 메서드를 정의하는 것을 의미이를 통해 동일한 메서드 호출에 다양한 매개변수를 사용할 수 있다.\n",
    "- 파이썬은 기본적으로 오버로딩을 직접 지원하지 않지만,  기본값 인자(default arguments), 가변 인자(variable arguments), 키워드 인자(keyword arguments) 등을 사용하여 유사한 기능을 구현\n",
    "\n",
    "다형성(Polymorphism)\n",
    "- 서로 다른 클래스의 객체가 동일한 인터페이스를 공유할 수 있게 하는 개념\n",
    "-  다형성은 하나의 인터페이스가 다양한 형태의 객체에 적용될 수 있음을 의미\n",
    "- 예를 들어, 여러 동물 클래스가 모두 speak 메서드를 갖고 있을 때, 이 메서드는 각 동물에 맞게 다르게 구현"
   ]
  },
  {
   "cell_type": "code",
   "execution_count": 10,
   "id": "42f3bf80",
   "metadata": {},
   "outputs": [
    {
     "name": "stdout",
     "output_type": "stream",
     "text": [
      "Woof!\n",
      "I'm an animal\n",
      "Tweet!\n",
      "Squawk!\n"
     ]
    }
   ],
   "source": [
    "class Animal:\n",
    "    def speak(self):\n",
    "        return \"I'm an animal\"\n",
    "    \n",
    "# 오버라이딩 : Dog와 Cat 클래스는 Animal 클래스의 speak 메서드를 오버라이딩\n",
    "class Dog(Animal):\n",
    "    def speak(self):\n",
    "        return \"Woof!\"\n",
    "    \n",
    "class Cat(Animal):  # 아래와 같이 주석처리시 부모 speak를 사용\n",
    "    pass\n",
    "#     def speak(self):\n",
    "#         return \"Meow!\"\n",
    "    \n",
    "# 오버로딩 유사 구현 : Bird 클래스는 기본값 인자를 사용하여 오버로딩과 유사한 기능을 구현\n",
    "class Bird(Animal):\n",
    "    def speak(self, mood=\"happy\"):\n",
    "        if mood == \"happy\":\n",
    "            return \"Tweet!\"\n",
    "        else:\n",
    "            return \"Squawk!\"\n",
    "\n",
    "# 다형성 예시\n",
    "def animal_sound(animal):\n",
    "    print(animal.speak())\n",
    "    \n",
    "# 객체 생성\n",
    "dog = Dog()\n",
    "cat = Cat()\n",
    "bird = Bird()\n",
    "\n",
    "# 다형성을 통한 메서드 호출\n",
    "animal_sound(dog)  # Woof!\n",
    "animal_sound(cat)  # Meow!\n",
    "animal_sound(bird)  #Tweet!\n",
    "\n",
    "# 오버로딩 유사 구현 사용\n",
    "print(bird.speak(\"angry\"))  # Squawk!\n"
   ]
  },
  {
   "cell_type": "markdown",
   "id": "2d7df284",
   "metadata": {},
   "source": [
    "클래스 변수\n",
    "- 클래스 정의에 속하는 변수로서, 클래스의 모든 인스턴스에서 공유\n",
    "- 이러한 특성은 공통 데이터를 모든 인스턴스와 공유해야 하는 경우에 유용"
   ]
  },
  {
   "cell_type": "markdown",
   "id": "a341df08",
   "metadata": {},
   "source": [
    "클래스 메서드\n",
    "- 클래스 레벨에서 정의되어 클래스 자체의 참조를 첫 인자(cls)로 받음.\n",
    "- @classmethod 데코레이터를 사용하여 정의하며, 클래스 변수에 접근하거나 수정\n",
    "- 객체 생성 로직을 캡슐화, 상속받은 클래스에서의 사용에 적합함. 클래스 이름으로 메서드를 직접 호출"
   ]
  },
  {
   "cell_type": "code",
   "execution_count": null,
   "id": "8536feac",
   "metadata": {},
   "outputs": [],
   "source": [
    "# Employee 클래스는 모든 직원 인스턴스에 대해 공통된 직원수를 추적\n",
    "class Employee:\n",
    "    #클래스 변수\n",
    "    employee_count = 0\n",
    "    \n",
    "    def __init__(self, name):\n",
    "        self.name = name\n",
    "        #클래스 변수값 증가\n",
    "        Employee.employee_count += 1\n",
    "    \n",
    "    @classmethod\n",
    "    def get_employee_count(cls):\n",
    "        # 클래스 메서드를 통해 클래스 변수에 접근\n",
    "        return cls.employee_count\n",
    "\n",
    "# 직원 인스턴스 생성\n",
    "emp1 = Employee(\"Alice\")\n",
    "emp2 = Employee(\"Bob\")\n",
    "emp3 = Employee(\"Charlie\")\n",
    "\n",
    "print(Employee.get_employee_count())  # 출력: 3"
   ]
  },
  {
   "cell_type": "code",
   "execution_count": null,
   "id": "c24404f9",
   "metadata": {},
   "outputs": [],
   "source": []
  },
  {
   "cell_type": "code",
   "execution_count": null,
   "id": "f215b7ca",
   "metadata": {},
   "outputs": [],
   "source": []
  },
  {
   "cell_type": "code",
   "execution_count": null,
   "id": "1c0bd3dc",
   "metadata": {},
   "outputs": [],
   "source": []
  },
  {
   "cell_type": "code",
   "execution_count": null,
   "id": "d2c27473",
   "metadata": {},
   "outputs": [],
   "source": []
  },
  {
   "cell_type": "code",
   "execution_count": null,
   "id": "b3d18928",
   "metadata": {},
   "outputs": [],
   "source": []
  },
  {
   "cell_type": "code",
   "execution_count": null,
   "id": "7525d910",
   "metadata": {},
   "outputs": [],
   "source": []
  },
  {
   "cell_type": "code",
   "execution_count": null,
   "id": "b3f07738",
   "metadata": {},
   "outputs": [],
   "source": []
  },
  {
   "cell_type": "code",
   "execution_count": null,
   "id": "641bdc07",
   "metadata": {},
   "outputs": [],
   "source": []
  },
  {
   "cell_type": "code",
   "execution_count": null,
   "id": "42a20609",
   "metadata": {},
   "outputs": [],
   "source": []
  },
  {
   "cell_type": "code",
   "execution_count": null,
   "id": "f56a4810",
   "metadata": {},
   "outputs": [],
   "source": []
  }
 ],
 "metadata": {
  "kernelspec": {
   "display_name": "Python 3 (ipykernel)",
   "language": "python",
   "name": "python3"
  },
  "language_info": {
   "codemirror_mode": {
    "name": "ipython",
    "version": 3
   },
   "file_extension": ".py",
   "mimetype": "text/x-python",
   "name": "python",
   "nbconvert_exporter": "python",
   "pygments_lexer": "ipython3",
   "version": "3.10.13"
  }
 },
 "nbformat": 4,
 "nbformat_minor": 5
}
