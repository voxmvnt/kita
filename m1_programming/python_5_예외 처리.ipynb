{
 "cells": [
  {
   "cell_type": "markdown",
   "id": "d69385e4",
   "metadata": {},
   "source": [
    "#### 에러(Error) vs. 예외(Exception).\n",
    "\n",
    "에러(Error):\n",
    "- 에러는 주로 프로그램 실행 전에 발생하는, 프로그램의 잘못된 구문이나 절차 등에 의해 발생하는 문제를 말한다.\n",
    "- 대표적인 에러로는 구문 에러(SyntaxError)가 있다. 예를 들어, 올바르지 않은 들여쓰기나 잘못된 코드 구조로 인해 파이썬 인터프리터가 코드를 실행하기 전에 에러를 발생시킨다.\n",
    "- 에러는 대체로 프로그램의 수정 없이는 복구될 수 없는 심각한 문제들이다.\n",
    "\n",
    "예외(Exception):\n",
    "- 예외는 실행 중인 프로그램에 영향을 주는 이벤트로, 일반적인 프로그램 흐름을 방해한다.\n",
    "- 예외는 프로그램의 정상적인 흐름을 방해하지만, 적절한 예외 처리를 통해 프로그램의 중단 없이 예외를 '잡아내고(catch)' 처리할 수 있다. 예를 들어, 파일을 열 때 파일이 존재하지 않는 경우 FileNotFoundError 예외가 발생할 수 있다. 이 경우 적절한 except 블록으로 예외를 처리하여 사용자에게 메시지를 표시하고 대안적인 행동을 취할 수 있다.\n",
    "- 예외는 try-except 블록을 통해 프로그램에서 처리할 수 있으며, 이를 통해 프로그램이 예외 상황에서도 안정적으로 동작하도록 만들 수 있다.\n",
    "\n",
    "요약하자면, 에러는 대개 코드 수정이 필요한 문제들을 가리키며, 예외는 프로그램 실행 중에 발생하지만 적절히 처리할 수 있는 예상 가능한 '예외적' 상황들을 말한다.\n",
    "\n",
    "#### 파이썬에서 발생할 수 있는 에러와 예외의 유형:\n",
    "에러 : 프로그램이 실행되기 전에 발생하는 문제\n",
    "- SyntaxError: 코드의 구문이 잘못되었을 때 생긴다.<br>\n",
    "\n",
    "예외 : 실행 시간(runtime) 중에 발생하고 처리 가능\n",
    "- NameError: 정의되지 않은 변수를 호출할 때 생긴다.\n",
    "- TypeError: 연산이나 함수가 부적절한 유형의 객체에 적용될 때 발생한다.\n",
    "- ValueError: 연산이나 함수가 적절하지 않은 값을 객체에 적용할 때 발생한다.\n",
    "- IndexError: 리스트 등의 시퀀스에서 존재하지 않는 인덱스를 사용할 때 생긴다.\n",
    "- KeyError: 딕셔너리에서 존재하지 않는 키를 사용할 때 발생한다.\n",
    "- AttributeError: 존재하지 않는 속성이나 메서드를 호출할 때 생긴다.\n",
    "- IOError 또는 OSError: 파일 입출력 과정에서 에러가 생길 때 발생한다.\n",
    "- ZeroDivisionError: 0으로 나눌 때 생긴다.\n",
    "- ImportError: 모듈을 임포트할 수 없을 때 발생한다.\n",
    "- StopIteration: 이터레이터에 더 이상의 아이템이 없을 때 next()를 호출하면 발생한다.\n",
    "- MemoryError: 메모리 할당이 실패할 때 생긴다.\n",
    "- RecursionError: 재귀 호출이 너무 깊어질 때 발생한다.\n",
    "\n",
    "### 예외 위치에 Exception 사용시 모든 에러를 포함."
   ]
  },
  {
   "cell_type": "code",
   "execution_count": 14,
   "id": "053fba94",
   "metadata": {
    "scrolled": false
   },
   "outputs": [
    {
     "ename": "SyntaxError",
     "evalue": "unterminated string literal (detected at line 4) (3900824384.py, line 4)",
     "output_type": "error",
     "traceback": [
      "\u001b[1;36m  Cell \u001b[1;32mIn[14], line 4\u001b[1;36m\u001b[0m\n\u001b[1;33m    print('예외 강제 발생!)\u001b[0m\n\u001b[1;37m          ^\u001b[0m\n\u001b[1;31mSyntaxError\u001b[0m\u001b[1;31m:\u001b[0m unterminated string literal (detected at line 4)\n"
     ]
    }
   ],
   "source": [
    "# 구문 오류 : 프로그램 실행전에 발생하는 오류\n",
    "# 예외 또는 런타임 오류 : 프로그램 실행중에 발생하는 오류\n",
    "\n",
    "print('예외 강제 발생!)"
   ]
  },
  {
   "cell_type": "code",
   "execution_count": 1,
   "id": "ed304783",
   "metadata": {},
   "outputs": [
    {
     "ename": "NameError",
     "evalue": "name 'name_3' is not defined",
     "output_type": "error",
     "traceback": [
      "\u001b[1;31m---------------------------------------------------------------------------\u001b[0m",
      "\u001b[1;31mNameError\u001b[0m                                 Traceback (most recent call last)",
      "Cell \u001b[1;32mIn[1], line 3\u001b[0m\n\u001b[0;32m      1\u001b[0m \u001b[38;5;66;03m# NameError\u001b[39;00m\n\u001b[0;32m      2\u001b[0m name \u001b[38;5;241m=\u001b[39m \u001b[38;5;124m'\u001b[39m\u001b[38;5;124m이정재\u001b[39m\u001b[38;5;124m'\u001b[39m\n\u001b[1;32m----> 3\u001b[0m \u001b[38;5;28mprint\u001b[39m(\u001b[43mname_3\u001b[49m)\n",
      "\u001b[1;31mNameError\u001b[0m: name 'name_3' is not defined"
     ]
    }
   ],
   "source": [
    "# NameError\n",
    "name = '이정재'\n",
    "print(name_3)"
   ]
  },
  {
   "cell_type": "code",
   "execution_count": 3,
   "id": "39b57c0f",
   "metadata": {},
   "outputs": [
    {
     "ename": "TypeError",
     "evalue": "can only concatenate str (not \"int\") to str",
     "output_type": "error",
     "traceback": [
      "\u001b[1;31m---------------------------------------------------------------------------\u001b[0m",
      "\u001b[1;31mTypeError\u001b[0m                                 Traceback (most recent call last)",
      "Cell \u001b[1;32mIn[3], line 3\u001b[0m\n\u001b[0;32m      1\u001b[0m \u001b[38;5;66;03m# TypeError\u001b[39;00m\n\u001b[0;32m      2\u001b[0m name \u001b[38;5;241m=\u001b[39m \u001b[38;5;124m'\u001b[39m\u001b[38;5;124m이정재\u001b[39m\u001b[38;5;124m'\u001b[39m\n\u001b[1;32m----> 3\u001b[0m \u001b[38;5;28mprint\u001b[39m(\u001b[43mname\u001b[49m\u001b[38;5;241;43m+\u001b[39;49m\u001b[38;5;241;43m1\u001b[39;49m)\n",
      "\u001b[1;31mTypeError\u001b[0m: can only concatenate str (not \"int\") to str"
     ]
    }
   ],
   "source": [
    "# TypeError\n",
    "name = '이정재'\n",
    "print(name+1)"
   ]
  },
  {
   "cell_type": "code",
   "execution_count": 4,
   "id": "94fa7acf",
   "metadata": {
    "scrolled": true
   },
   "outputs": [
    {
     "ename": "ValueError",
     "evalue": "invalid literal for int() with base 10: '이정재'",
     "output_type": "error",
     "traceback": [
      "\u001b[1;31m---------------------------------------------------------------------------\u001b[0m",
      "\u001b[1;31mValueError\u001b[0m                                Traceback (most recent call last)",
      "Cell \u001b[1;32mIn[4], line 3\u001b[0m\n\u001b[0;32m      1\u001b[0m \u001b[38;5;66;03m# ValueError\u001b[39;00m\n\u001b[0;32m      2\u001b[0m name \u001b[38;5;241m=\u001b[39m \u001b[38;5;124m'\u001b[39m\u001b[38;5;124m이정재\u001b[39m\u001b[38;5;124m'\u001b[39m\n\u001b[1;32m----> 3\u001b[0m \u001b[38;5;28;43mint\u001b[39;49m\u001b[43m(\u001b[49m\u001b[43mname\u001b[49m\u001b[43m)\u001b[49m\n",
      "\u001b[1;31mValueError\u001b[0m: invalid literal for int() with base 10: '이정재'"
     ]
    }
   ],
   "source": [
    "# ValueError\n",
    "name = '이정재'\n",
    "int(name)"
   ]
  },
  {
   "cell_type": "code",
   "execution_count": null,
   "id": "8e8a7477",
   "metadata": {},
   "outputs": [],
   "source": [
    "# 조건문으로 예외 처리\n",
    "user_input = input('정수를 입력하세요> ')\n",
    "if user_input.isdigit():   # isdigit() >> 정수인지 아닌지 판별하는 함수.\n",
    "    num_input = int(user_input)\n",
    "else:\n",
    "    print('정수를 입력 바랍니다.')"
   ]
  },
  {
   "cell_type": "code",
   "execution_count": 5,
   "id": "e5e72d4d",
   "metadata": {},
   "outputs": [
    {
     "ename": "IndexError",
     "evalue": "list index out of range",
     "output_type": "error",
     "traceback": [
      "\u001b[1;31m---------------------------------------------------------------------------\u001b[0m",
      "\u001b[1;31mIndexError\u001b[0m                                Traceback (most recent call last)",
      "Cell \u001b[1;32mIn[5], line 3\u001b[0m\n\u001b[0;32m      1\u001b[0m \u001b[38;5;66;03m# IndexError\u001b[39;00m\n\u001b[0;32m      2\u001b[0m sample \u001b[38;5;241m=\u001b[39m \u001b[38;5;28mlist\u001b[39m(\u001b[38;5;28mrange\u001b[39m(\u001b[38;5;241m5\u001b[39m))\n\u001b[1;32m----> 3\u001b[0m \u001b[38;5;28mprint\u001b[39m(\u001b[43msample\u001b[49m\u001b[43m[\u001b[49m\u001b[38;5;241;43m7\u001b[39;49m\u001b[43m]\u001b[49m)\n",
      "\u001b[1;31mIndexError\u001b[0m: list index out of range"
     ]
    }
   ],
   "source": [
    "# IndexError\n",
    "sample = list(range(5))\n",
    "print(sample[7])"
   ]
  },
  {
   "cell_type": "code",
   "execution_count": 7,
   "id": "eb290edc",
   "metadata": {
    "scrolled": true
   },
   "outputs": [
    {
     "name": "stdout",
     "output_type": "stream",
     "text": [
      "{'a': 5, 'b': 6, 'c': 7, 'd': 8, 'e': 9}\n"
     ]
    },
    {
     "ename": "KeyError",
     "evalue": "'y'",
     "output_type": "error",
     "traceback": [
      "\u001b[1;31m---------------------------------------------------------------------------\u001b[0m",
      "\u001b[1;31mKeyError\u001b[0m                                  Traceback (most recent call last)",
      "Cell \u001b[1;32mIn[7], line 9\u001b[0m\n\u001b[0;32m      7\u001b[0m     s3[v] \u001b[38;5;241m=\u001b[39m s2[i]\n\u001b[0;32m      8\u001b[0m \u001b[38;5;28mprint\u001b[39m(s3)\n\u001b[1;32m----> 9\u001b[0m \u001b[38;5;28mprint\u001b[39m(\u001b[43ms3\u001b[49m\u001b[43m[\u001b[49m\u001b[38;5;124;43m'\u001b[39;49m\u001b[38;5;124;43my\u001b[39;49m\u001b[38;5;124;43m'\u001b[39;49m\u001b[43m]\u001b[49m)\n",
      "\u001b[1;31mKeyError\u001b[0m: 'y'"
     ]
    }
   ],
   "source": [
    "# KeyError\n",
    "\n",
    "s1 = list('abcde')\n",
    "s2 = list(range(5,10))\n",
    "s3 = {}\n",
    "for i,v in enumerate(s1):\n",
    "    s3[v] = s2[i]\n",
    "print(s3)\n",
    "print(s3['y'])"
   ]
  },
  {
   "cell_type": "code",
   "execution_count": 12,
   "id": "306644fe",
   "metadata": {},
   "outputs": [
    {
     "ename": "AttributeError",
     "evalue": "'MyClass' object has no attribute 'xxxx'",
     "output_type": "error",
     "traceback": [
      "\u001b[1;31m---------------------------------------------------------------------------\u001b[0m",
      "\u001b[1;31mAttributeError\u001b[0m                            Traceback (most recent call last)",
      "Cell \u001b[1;32mIn[12], line 6\u001b[0m\n\u001b[0;32m      3\u001b[0m     \u001b[38;5;28;01mpass\u001b[39;00m\n\u001b[0;32m      5\u001b[0m sample_class \u001b[38;5;241m=\u001b[39m MyClass()\n\u001b[1;32m----> 6\u001b[0m \u001b[43msample_class\u001b[49m\u001b[38;5;241;43m.\u001b[39;49m\u001b[43mxxxx\u001b[49m\n",
      "\u001b[1;31mAttributeError\u001b[0m: 'MyClass' object has no attribute 'xxxx'"
     ]
    }
   ],
   "source": [
    "# AttributeError 1\n",
    "class MyClass:\n",
    "    pass\n",
    "\n",
    "sample_class = MyClass()\n",
    "sample_class.xxxx"
   ]
  },
  {
   "cell_type": "code",
   "execution_count": 13,
   "id": "1db17341",
   "metadata": {},
   "outputs": [
    {
     "ename": "AttributeError",
     "evalue": "'MyClass' object has no attribute 'yyy'",
     "output_type": "error",
     "traceback": [
      "\u001b[1;31m---------------------------------------------------------------------------\u001b[0m",
      "\u001b[1;31mAttributeError\u001b[0m                            Traceback (most recent call last)",
      "Cell \u001b[1;32mIn[13], line 6\u001b[0m\n\u001b[0;32m      3\u001b[0m     \u001b[38;5;28;01mpass\u001b[39;00m\n\u001b[0;32m      5\u001b[0m sample_class \u001b[38;5;241m=\u001b[39m MyClass()\n\u001b[1;32m----> 6\u001b[0m \u001b[43msample_class\u001b[49m\u001b[38;5;241;43m.\u001b[39;49m\u001b[43myyy\u001b[49m()\n",
      "\u001b[1;31mAttributeError\u001b[0m: 'MyClass' object has no attribute 'yyy'"
     ]
    }
   ],
   "source": [
    "# AttributeError 2\n",
    "class MyClass:\n",
    "    pass\n",
    "\n",
    "sample_class = MyClass()\n",
    "sample_class.yyy()"
   ]
  },
  {
   "cell_type": "code",
   "execution_count": 15,
   "id": "a1858c8c",
   "metadata": {},
   "outputs": [
    {
     "ename": "AttributeError",
     "evalue": "'list' object has no attribute 'push'",
     "output_type": "error",
     "traceback": [
      "\u001b[1;31m---------------------------------------------------------------------------\u001b[0m",
      "\u001b[1;31mAttributeError\u001b[0m                            Traceback (most recent call last)",
      "Cell \u001b[1;32mIn[15], line 3\u001b[0m\n\u001b[0;32m      1\u001b[0m \u001b[38;5;66;03m# AttributeError 예시\u001b[39;00m\n\u001b[0;32m      2\u001b[0m my_list \u001b[38;5;241m=\u001b[39m [\u001b[38;5;241m1\u001b[39m,\u001b[38;5;241m2\u001b[39m,\u001b[38;5;241m3\u001b[39m]\n\u001b[1;32m----> 3\u001b[0m \u001b[43mmy_list\u001b[49m\u001b[38;5;241;43m.\u001b[39;49m\u001b[43mpush\u001b[49m(\u001b[38;5;241m4\u001b[39m)\n",
      "\u001b[1;31mAttributeError\u001b[0m: 'list' object has no attribute 'push'"
     ]
    }
   ],
   "source": [
    "# AttributeError 예시\n",
    "my_list = [1,2,3]\n",
    "my_list.push(4)\n",
    "\n",
    "# 리스트에는 push라는 메소드가 없음."
   ]
  },
  {
   "cell_type": "code",
   "execution_count": 16,
   "id": "d60ba671",
   "metadata": {
    "scrolled": true
   },
   "outputs": [
    {
     "ename": "FileNotFoundError",
     "evalue": "[Errno 2] No such file or directory: 'non_exist.txt'",
     "output_type": "error",
     "traceback": [
      "\u001b[1;31m---------------------------------------------------------------------------\u001b[0m",
      "\u001b[1;31mFileNotFoundError\u001b[0m                         Traceback (most recent call last)",
      "Cell \u001b[1;32mIn[16], line 2\u001b[0m\n\u001b[0;32m      1\u001b[0m \u001b[38;5;66;03m# IOError 또는 OSError : 존재하지 않는 파일 열기 시도.\u001b[39;00m\n\u001b[1;32m----> 2\u001b[0m \u001b[38;5;28;01mwith\u001b[39;00m \u001b[38;5;28;43mopen\u001b[39;49m\u001b[43m(\u001b[49m\u001b[38;5;124;43m'\u001b[39;49m\u001b[38;5;124;43mnon_exist.txt\u001b[39;49m\u001b[38;5;124;43m'\u001b[39;49m\u001b[43m)\u001b[49m \u001b[38;5;28;01mas\u001b[39;00m f:\n\u001b[0;32m      3\u001b[0m     read_data \u001b[38;5;241m=\u001b[39m f\u001b[38;5;241m.\u001b[39mread()\n",
      "File \u001b[1;32mC:\\ca_da\\Anaconda3\\envs\\kita\\lib\\site-packages\\IPython\\core\\interactiveshell.py:286\u001b[0m, in \u001b[0;36m_modified_open\u001b[1;34m(file, *args, **kwargs)\u001b[0m\n\u001b[0;32m    279\u001b[0m \u001b[38;5;28;01mif\u001b[39;00m file \u001b[38;5;129;01min\u001b[39;00m {\u001b[38;5;241m0\u001b[39m, \u001b[38;5;241m1\u001b[39m, \u001b[38;5;241m2\u001b[39m}:\n\u001b[0;32m    280\u001b[0m     \u001b[38;5;28;01mraise\u001b[39;00m \u001b[38;5;167;01mValueError\u001b[39;00m(\n\u001b[0;32m    281\u001b[0m         \u001b[38;5;124mf\u001b[39m\u001b[38;5;124m\"\u001b[39m\u001b[38;5;124mIPython won\u001b[39m\u001b[38;5;124m'\u001b[39m\u001b[38;5;124mt let you open fd=\u001b[39m\u001b[38;5;132;01m{\u001b[39;00mfile\u001b[38;5;132;01m}\u001b[39;00m\u001b[38;5;124m by default \u001b[39m\u001b[38;5;124m\"\u001b[39m\n\u001b[0;32m    282\u001b[0m         \u001b[38;5;124m\"\u001b[39m\u001b[38;5;124mas it is likely to crash IPython. If you know what you are doing, \u001b[39m\u001b[38;5;124m\"\u001b[39m\n\u001b[0;32m    283\u001b[0m         \u001b[38;5;124m\"\u001b[39m\u001b[38;5;124myou can use builtins\u001b[39m\u001b[38;5;124m'\u001b[39m\u001b[38;5;124m open.\u001b[39m\u001b[38;5;124m\"\u001b[39m\n\u001b[0;32m    284\u001b[0m     )\n\u001b[1;32m--> 286\u001b[0m \u001b[38;5;28;01mreturn\u001b[39;00m io_open(file, \u001b[38;5;241m*\u001b[39margs, \u001b[38;5;241m*\u001b[39m\u001b[38;5;241m*\u001b[39mkwargs)\n",
      "\u001b[1;31mFileNotFoundError\u001b[0m: [Errno 2] No such file or directory: 'non_exist.txt'"
     ]
    }
   ],
   "source": [
    "# IOError 또는 OSError : 존재하지 않는 파일 열기 시도.\n",
    "# FileNotFoundError 는 IOError 의 하위클래스임.\n",
    "with open('non_exist.txt') as f:\n",
    "    read_data = f.read()"
   ]
  },
  {
   "cell_type": "code",
   "execution_count": 17,
   "id": "84c9742c",
   "metadata": {},
   "outputs": [
    {
     "ename": "ZeroDivisionError",
     "evalue": "division by zero",
     "output_type": "error",
     "traceback": [
      "\u001b[1;31m---------------------------------------------------------------------------\u001b[0m",
      "\u001b[1;31mZeroDivisionError\u001b[0m                         Traceback (most recent call last)",
      "Cell \u001b[1;32mIn[17], line 2\u001b[0m\n\u001b[0;32m      1\u001b[0m \u001b[38;5;66;03m# ZeroDivisionError\u001b[39;00m\n\u001b[1;32m----> 2\u001b[0m \u001b[38;5;241;43m4\u001b[39;49m\u001b[38;5;241;43m/\u001b[39;49m\u001b[38;5;241;43m0\u001b[39;49m\n",
      "\u001b[1;31mZeroDivisionError\u001b[0m: division by zero"
     ]
    }
   ],
   "source": [
    "# ZeroDivisionError\n",
    "4/0"
   ]
  },
  {
   "cell_type": "code",
   "execution_count": 18,
   "id": "4a930de9",
   "metadata": {},
   "outputs": [
    {
     "ename": "ModuleNotFoundError",
     "evalue": "No module named 'non_exist_module'",
     "output_type": "error",
     "traceback": [
      "\u001b[1;31m---------------------------------------------------------------------------\u001b[0m",
      "\u001b[1;31mModuleNotFoundError\u001b[0m                       Traceback (most recent call last)",
      "Cell \u001b[1;32mIn[18], line 2\u001b[0m\n\u001b[0;32m      1\u001b[0m \u001b[38;5;66;03m# ImportError\u001b[39;00m\n\u001b[1;32m----> 2\u001b[0m \u001b[38;5;28;01mimport\u001b[39;00m \u001b[38;5;21;01mnon_exist_module\u001b[39;00m\n",
      "\u001b[1;31mModuleNotFoundError\u001b[0m: No module named 'non_exist_module'"
     ]
    }
   ],
   "source": [
    "# ImportError\n",
    "# ModuleNotFoundError 는 ImportError 의 하위클래스\n",
    "import non_exist_module"
   ]
  },
  {
   "cell_type": "code",
   "execution_count": 19,
   "id": "c9e1e58f",
   "metadata": {},
   "outputs": [
    {
     "ename": "StopIteration",
     "evalue": "",
     "output_type": "error",
     "traceback": [
      "\u001b[1;31m---------------------------------------------------------------------------\u001b[0m",
      "\u001b[1;31mStopIteration\u001b[0m                             Traceback (most recent call last)",
      "Cell \u001b[1;32mIn[19], line 6\u001b[0m\n\u001b[0;32m      4\u001b[0m \u001b[38;5;28mnext\u001b[39m(my_iterator)\n\u001b[0;32m      5\u001b[0m \u001b[38;5;28mnext\u001b[39m(my_iterator)\n\u001b[1;32m----> 6\u001b[0m \u001b[38;5;28;43mnext\u001b[39;49m\u001b[43m(\u001b[49m\u001b[43mmy_iterator\u001b[49m\u001b[43m)\u001b[49m\n",
      "\u001b[1;31mStopIteration\u001b[0m: "
     ]
    }
   ],
   "source": [
    "# StopIteration: 이터레이터가 더이상 값을 제공하지 않음. 모든값을 이미 소진한 이터레이터에 next()를 호출시 발생\n",
    "my_iterator = iter([1,2,3])\n",
    "next(my_iterator)\n",
    "next(my_iterator)\n",
    "next(my_iterator)\n",
    "next(my_iterator)    # 여기서 발생\n",
    " "
   ]
  },
  {
   "cell_type": "code",
   "execution_count": 20,
   "id": "05ff490a",
   "metadata": {
    "scrolled": true
   },
   "outputs": [
    {
     "ename": "MemoryError",
     "evalue": "",
     "output_type": "error",
     "traceback": [
      "\u001b[1;31m---------------------------------------------------------------------------\u001b[0m",
      "\u001b[1;31mMemoryError\u001b[0m                               Traceback (most recent call last)",
      "Cell \u001b[1;32mIn[20], line 2\u001b[0m\n\u001b[0;32m      1\u001b[0m \u001b[38;5;66;03m# MemoryError : 매우 큰 메모리 할당 시다. 시스템에서 제공하는 메모리 용량을 초과하려고 하면 발생\u001b[39;00m\n\u001b[1;32m----> 2\u001b[0m very_large_list \u001b[38;5;241m=\u001b[39m \u001b[43m[\u001b[49m\u001b[38;5;241;43m0\u001b[39;49m\u001b[43m]\u001b[49m\u001b[43m \u001b[49m\u001b[38;5;241;43m*\u001b[39;49m\u001b[43m \u001b[49m\u001b[43m(\u001b[49m\u001b[38;5;241;43m10\u001b[39;49m\u001b[38;5;241;43m*\u001b[39;49m\u001b[38;5;241;43m*\u001b[39;49m\u001b[38;5;241;43m10\u001b[39;49m\u001b[43m)\u001b[49m\n",
      "\u001b[1;31mMemoryError\u001b[0m: "
     ]
    }
   ],
   "source": [
    "# MemoryError : 매우 큰 메모리 할당 시다. 시스템에서 제공하는 메모리 용량을 초과하려고 하면 발생\n",
    "very_large_list = [0] * (10**10)"
   ]
  },
  {
   "cell_type": "code",
   "execution_count": null,
   "id": "d4023d2e",
   "metadata": {},
   "outputs": [],
   "source": [
    "# RecursionError: 너무 깊은 재귀 호출\n",
    "# 아무런 종료조건 없이 자기 자신을 계속 호출할 때 에러 발생\n",
    "def recursive_function():\n",
    "    recursive_function()\n",
    "recursive_function()\n",
    "\n",
    "# 해당 구문 실행시 커널이 종료됨."
   ]
  },
  {
   "cell_type": "markdown",
   "id": "f691a4a4",
   "metadata": {},
   "source": [
    "#### 파이썬에서 예외 처리\n",
    "프로그램 실행 중 발생할 수 있는 오류를 예상하고 관리할 수 있게 하는 강력한 기능이다. 이는 try, except, else, finally 블록을 사용해 수행된다. 각 구성 요소에 대해 간략히 설명하자면:\n",
    "\n",
    "- try: 이 코드 블록은 예외를 발생시킬 수 있는 연산을 포함한다. 코드가 오류를 일으킬 수 있다는 것을 \"시도\"하는 곳이다.\n",
    "\n",
    "- except: try 블록 내에서 오류가 발생하면, 파이썬은 그 블록의 실행을 멈추고 except 블록으로 점프한다. except 블록에서는 예외를 처리한다, 즉 오류에 대응하는 코드가 들어간다. 특정 예외를 이름으로 잡거나 모든 예외를 잡을 수 있다.\n",
    "\n",
    "- else: 이 블록은 선택적이며 try-except 블록 뒤에 올 수 있다. else 블록의 코드는 try 블록에서 예외가 발생하지 않았을 때만 실행된다. try 블록이 성공적으로 실행됐을 때만 실행되어야 하는 코드를 넣기에 적합하다.\n",
    "\n",
    "- finally: 이 블록은 선택적이지만, 존재한다면 예외 발생 여부와 관계없이 실행된다. 파일을 닫거나 리소스를 해제하는 등의 정리 작업을 위해 자주 사용된다. 이 작업들은 오류 발생 여부와 관계없이 수행되어야 한다.\n",
    "\n",
    "#### 예외 처리 방법\n",
    "- try + except<br>\n",
    "  try : 에러가 발생할 것 같은, 예외처리를 하고 싶은 곳을 찾아서 try 구문에 코드를 작성합니다.<br>\n",
    "  except : 에러가 발생했을 때 처리할 코드를 작성합니다.\n",
    "- try + except + else<br>\n",
    "  else 는 에러가 발생하지 않았을때 거치는 구문입니다. else만 단독으로 try + else 는 불가능합니다. except 가 있어야 합니다.\n",
    "- try + finally<br>\n",
    "  finally 는 에러가 발생해도, 발생하지 않아도 무조건 거치는 구문입니다.except. 없이 try + finally 만 사용한다면 에러가 발생한 후에 finally 구문까지만 실행이 되고 프로그램이 중간에 죽게 됩니다.\n",
    "- try + except + finally\n",
    "  <br> except 구문을 추가하고 finally 구문도 있음\n",
    "- try + except + else + finally\n",
    "  <br> try (해당 구문 안에서 에러 발생 시 처리 가능 - 필수)\n",
    "  <br> except (에러 발생시 수행 - 선택이지만 에러를 처리하려면 필수)\n",
    "  <br> else (에러 없을 때 수행 - 선택이지만 except 없이는 올 수 없음)\n",
    "  <br> finally (에러가 있거나 없거나 상관없이 항상 수행 - 선택)"
   ]
  },
  {
   "cell_type": "code",
   "execution_count": 4,
   "id": "a55986e0",
   "metadata": {},
   "outputs": [
    {
     "name": "stdout",
     "output_type": "stream",
     "text": [
      "An error occured: name 'unknown_var' is not defined\n"
     ]
    }
   ],
   "source": [
    "try:\n",
    "    print(unknown_var)\n",
    "except NameError as e:\n",
    "    print(f\"An error occured: {e}\")"
   ]
  },
  {
   "cell_type": "code",
   "execution_count": 5,
   "id": "b4d228a1",
   "metadata": {},
   "outputs": [
    {
     "name": "stdout",
     "output_type": "stream",
     "text": [
      "An error occured: can only concatenate str (not \"int\") to str\n"
     ]
    }
   ],
   "source": [
    "try:\n",
    "    '2'+2\n",
    "except TypeError as e:\n",
    "    print(f\"An error occured: {e}\")"
   ]
  },
  {
   "cell_type": "code",
   "execution_count": 6,
   "id": "db2d19a0",
   "metadata": {},
   "outputs": [
    {
     "name": "stdout",
     "output_type": "stream",
     "text": [
      "An error occured: invalid literal for int() with base 10: 'abc'\n"
     ]
    }
   ],
   "source": [
    "try:\n",
    "    int('abc')\n",
    "except ValueError as e:\n",
    "    print(f\"An error occured: {e}\")"
   ]
  },
  {
   "cell_type": "code",
   "execution_count": 7,
   "id": "f8417868",
   "metadata": {},
   "outputs": [
    {
     "name": "stdout",
     "output_type": "stream",
     "text": [
      "An error occured: list index out of range\n"
     ]
    }
   ],
   "source": [
    "my_list = [1, 2, 3]\n",
    "try:\n",
    "    print(my_list[3])\n",
    "except IndexError as e:\n",
    "    print(f\"An error occured: {e}\")"
   ]
  },
  {
   "cell_type": "code",
   "execution_count": 12,
   "id": "326468d9",
   "metadata": {},
   "outputs": [
    {
     "name": "stdout",
     "output_type": "stream",
     "text": [
      "key error occured: 'c'\n"
     ]
    }
   ],
   "source": [
    "my_dict = {'a':1, 'b':2}\n",
    "try:\n",
    "    print(my_dict['c'])\n",
    "except KeyError as e:\n",
    "    print(f\"key error occured: {e}\")"
   ]
  },
  {
   "cell_type": "code",
   "execution_count": 13,
   "id": "dacf2e5a",
   "metadata": {},
   "outputs": [
    {
     "name": "stdout",
     "output_type": "stream",
     "text": [
      "An error occured: 'list' object has no attribute 'push'\n"
     ]
    }
   ],
   "source": [
    "my_list = [1, 2, 3]\n",
    "try:\n",
    "    my_list.push(4)\n",
    "except AttributeError as e:\n",
    "    print(f\"An error occured: {e}\")"
   ]
  },
  {
   "cell_type": "code",
   "execution_count": 15,
   "id": "56e1d3fe",
   "metadata": {},
   "outputs": [
    {
     "name": "stdout",
     "output_type": "stream",
     "text": [
      "An error occured: [Errno 2] No such file or directory: 'non_exist.txt'\n"
     ]
    }
   ],
   "source": [
    "\n",
    "try:\n",
    "    with open('non_exist.txt') as f:\n",
    "        read_data = f.read()\n",
    "except OSError as e:\n",
    "    print(f\"An error occured: {e}\")"
   ]
  },
  {
   "cell_type": "code",
   "execution_count": 16,
   "id": "5015e47d",
   "metadata": {},
   "outputs": [
    {
     "name": "stdout",
     "output_type": "stream",
     "text": [
      "An error occured: division by zero\n"
     ]
    }
   ],
   "source": [
    "try:\n",
    "    10/0\n",
    "except ZeroDivisionError as e:\n",
    "    print(f\"An error occured: {e}\")"
   ]
  },
  {
   "cell_type": "code",
   "execution_count": 18,
   "id": "93a61f78",
   "metadata": {},
   "outputs": [
    {
     "name": "stdout",
     "output_type": "stream",
     "text": [
      "An error occured: No module named 'non_module'\n"
     ]
    }
   ],
   "source": [
    "try:\n",
    "    import non_module\n",
    "except ImportError as e:\n",
    "    print(f\"An error occured: {e}\")"
   ]
  },
  {
   "cell_type": "code",
   "execution_count": 19,
   "id": "fd339bbe",
   "metadata": {},
   "outputs": [
    {
     "name": "stdout",
     "output_type": "stream",
     "text": [
      "1\n",
      "2\n",
      "3\n",
      "An error occured: \n"
     ]
    }
   ],
   "source": [
    "my_iterator = iter([1, 2, 3])\n",
    "try:\n",
    "    while True:\n",
    "        item = next(my_iterator)\n",
    "        print(item)\n",
    "except StopIteration\n",
    "    print(f\"An error occured.\")"
   ]
  },
  {
   "cell_type": "code",
   "execution_count": 20,
   "id": "7ce20315",
   "metadata": {},
   "outputs": [
    {
     "name": "stdout",
     "output_type": "stream",
     "text": [
      "An error occured: \n"
     ]
    }
   ],
   "source": [
    "try:\n",
    "    very_large_list = [0] * (10**10)\n",
    "except MemoryError as e:\n",
    "    print(f\"An error occured: {e}\")"
   ]
  },
  {
   "cell_type": "code",
   "execution_count": null,
   "id": "421ff814",
   "metadata": {},
   "outputs": [],
   "source": [
    "def recursive_func():\n",
    "    recursive_func()\n",
    "    \n",
    "try:\n",
    "    recursive_func()\n",
    "except RecursionError as e:\n",
    "    print(f\"An error occured: {e}\")\n",
    "    \n",
    "# 커널이 아예 꺼짐 (무한 재귀 에러)"
   ]
  },
  {
   "cell_type": "code",
   "execution_count": 1,
   "id": "198eada6",
   "metadata": {},
   "outputs": [
    {
     "name": "stdout",
     "output_type": "stream",
     "text": [
      "안녕하세요\n",
      "An error occured\n"
     ]
    }
   ],
   "source": [
    "try:\n",
    "    print('안녕하세요')\n",
    "    print(param)\n",
    "except:\n",
    "    print(f\"An error occured\")"
   ]
  },
  {
   "cell_type": "code",
   "execution_count": 11,
   "id": "9d79d0d0",
   "metadata": {},
   "outputs": [
    {
     "name": "stdout",
     "output_type": "stream",
     "text": [
      "예외처리 되었습니다\n"
     ]
    }
   ],
   "source": [
    "# Q. 예외처리를 수행하세요\n",
    "arr = list('blog')\n",
    "\n",
    "try:\n",
    "    print(arr[8])\n",
    "    print(\"=MID=\")\n",
    "except:\n",
    "    print(\"예외처리 되었습니다\")\n",
    "else:\n",
    "    print(\"예외가 발생하지 않았습니다\")"
   ]
  },
  {
   "cell_type": "code",
   "execution_count": null,
   "id": "b26f68cd",
   "metadata": {},
   "outputs": [],
   "source": [
    "# try + finally  \n",
    "# 사용하지 않음. 무조건 실행됨만 확인"
   ]
  },
  {
   "cell_type": "code",
   "execution_count": 10,
   "id": "7e874019",
   "metadata": {},
   "outputs": [
    {
     "name": "stdout",
     "output_type": "stream",
     "text": [
      "파이날리\n"
     ]
    },
    {
     "ename": "IndexError",
     "evalue": "list index out of range",
     "output_type": "error",
     "traceback": [
      "\u001b[1;31m---------------------------------------------------------------------------\u001b[0m",
      "\u001b[1;31mIndexError\u001b[0m                                Traceback (most recent call last)",
      "Cell \u001b[1;32mIn[10], line 4\u001b[0m\n\u001b[0;32m      1\u001b[0m arr \u001b[38;5;241m=\u001b[39m \u001b[38;5;28mlist\u001b[39m(\u001b[38;5;124m'\u001b[39m\u001b[38;5;124mblog\u001b[39m\u001b[38;5;124m'\u001b[39m)\n\u001b[0;32m      3\u001b[0m \u001b[38;5;28;01mtry\u001b[39;00m:\n\u001b[1;32m----> 4\u001b[0m     \u001b[38;5;28mprint\u001b[39m(\u001b[43marr\u001b[49m\u001b[43m[\u001b[49m\u001b[38;5;241;43m8\u001b[39;49m\u001b[43m]\u001b[49m)\n\u001b[0;32m      5\u001b[0m     \u001b[38;5;28mprint\u001b[39m(\u001b[38;5;124m\"\u001b[39m\u001b[38;5;124m=MID=\u001b[39m\u001b[38;5;124m\"\u001b[39m)\n\u001b[0;32m      6\u001b[0m \u001b[38;5;28;01mfinally\u001b[39;00m:\n",
      "\u001b[1;31mIndexError\u001b[0m: list index out of range"
     ]
    }
   ],
   "source": [
    "arr = list('blog')\n",
    "\n",
    "try:\n",
    "    print(arr[8])\n",
    "    print(\"=MID=\")\n",
    "finally:\n",
    "    print(\"파이날리\")\n",
    "\n",
    "print(\"===========\")"
   ]
  },
  {
   "cell_type": "code",
   "execution_count": 8,
   "id": "048858ec",
   "metadata": {},
   "outputs": [
    {
     "name": "stdout",
     "output_type": "stream",
     "text": [
      "예외처리 되었습니다\n",
      "무조건 실행\n"
     ]
    }
   ],
   "source": [
    "arr = list('blog')\n",
    "\n",
    "try:\n",
    "    print(arr[8])\n",
    "    print(\"=====\")\n",
    "except:\n",
    "    print(\"예외처리 되었습니다\")\n",
    "finally:\n",
    "    print(\"무조건 실행\")"
   ]
  },
  {
   "cell_type": "code",
   "execution_count": 13,
   "id": "53ae5a0d",
   "metadata": {},
   "outputs": [
    {
     "name": "stdout",
     "output_type": "stream",
     "text": [
      "==Program Start\n",
      "o\n",
      "=MID=\n",
      "에러없이 실행되었습니다.\n",
      "무조건 실행\n",
      "==Program End\n"
     ]
    }
   ],
   "source": [
    "print('==Program Start')\n",
    "\n",
    "arr = list('blog')\n",
    "\n",
    "try:\n",
    "    print(arr[2])\n",
    "    print(\"=MID=\")\n",
    "except:\n",
    "    print(\"예외처리 되었습니다\")\n",
    "else:\n",
    "    print(\"에러없이 실행되었습니다.\")\n",
    "finally:\n",
    "    print(\"무조건 실행\")\n",
    "    \n",
    "print('==Program End')"
   ]
  },
  {
   "cell_type": "code",
   "execution_count": 14,
   "id": "481fa76b",
   "metadata": {},
   "outputs": [
    {
     "name": "stdout",
     "output_type": "stream",
     "text": [
      "name 'param' is not defined\n"
     ]
    }
   ],
   "source": [
    "# 코드 예외 발생내용 확인\n",
    "\n",
    "try:\n",
    "    print(param)\n",
    "except Exception as e:\n",
    "    print(e)"
   ]
  },
  {
   "cell_type": "code",
   "execution_count": 17,
   "id": "37f1eb54",
   "metadata": {},
   "outputs": [
    {
     "name": "stdout",
     "output_type": "stream",
     "text": [
      "1\n",
      "2\n",
      "An error occured.\n"
     ]
    }
   ],
   "source": [
    "import time\n",
    "count = 1\n",
    "try:\n",
    "    while True:\n",
    "        print(count)\n",
    "        count += 1\n",
    "        time.sleep(2)\n",
    "except KeyboardInterrupt:\n",
    "    print(f\"An error occured.\")\n",
    "    \n",
    "# 강제로 멈췄을 때 발생"
   ]
  },
  {
   "cell_type": "code",
   "execution_count": 21,
   "id": "e23937db",
   "metadata": {},
   "outputs": [
    {
     "name": "stdout",
     "output_type": "stream",
     "text": [
      "[52, 273, 32, 103]\n"
     ]
    }
   ],
   "source": [
    "list_input = ['52', '273', '32', '문자', '103']\n",
    "list_num = []\n",
    "for i in list_input:\n",
    "    try:\n",
    "        list_num.append(int(i))\n",
    "    except ValueError:\n",
    "        pass\n",
    "print(list_num)"
   ]
  },
  {
   "cell_type": "code",
   "execution_count": 25,
   "id": "eb1854b9",
   "metadata": {
    "scrolled": true
   },
   "outputs": [
    {
     "name": "stdout",
     "output_type": "stream",
     "text": [
      "입력: oodh\n",
      "정수 아님\n"
     ]
    }
   ],
   "source": [
    "# Q. 정수를 입력하면 '정수', 정수가 아니면 '정수 아님'을 출력하세요.\n",
    "try:\n",
    "    int(input('입력: '))\n",
    "except ValueError:\n",
    "    print('정수 아님')\n",
    "else:\n",
    "    print('정수')\n"
   ]
  },
  {
   "cell_type": "markdown",
   "id": "f929ed4e",
   "metadata": {},
   "source": [
    "### 예외처리 (조건절 처리)"
   ]
  },
  {
   "cell_type": "code",
   "execution_count": 3,
   "id": "addc053b",
   "metadata": {},
   "outputs": [
    {
     "name": "stdout",
     "output_type": "stream",
     "text": [
      "예외가 발생했습니다: 분모는 음수일 수 없습니다.\n"
     ]
    }
   ],
   "source": [
    "# 챗 지피티 예외처리 : 예외 내용을 조건문으로 던지기\n",
    "def divide(a, b):\n",
    "    if b < 0:\n",
    "        raise ValueError(\"분모는 음수일 수 없습니다.\")\n",
    "    return a / b\n",
    "\n",
    "try:\n",
    "    result = divide(10, -2)\n",
    "    print(result)\n",
    "except ValueError as e:\n",
    "    print(f\"예외가 발생했습니다: {e}\")"
   ]
  },
  {
   "cell_type": "code",
   "execution_count": null,
   "id": "0bbb8b4a",
   "metadata": {},
   "outputs": [],
   "source": []
  },
  {
   "cell_type": "code",
   "execution_count": null,
   "id": "49a56191",
   "metadata": {},
   "outputs": [],
   "source": []
  }
 ],
 "metadata": {
  "kernelspec": {
   "display_name": "Python 3 (ipykernel)",
   "language": "python",
   "name": "python3"
  },
  "language_info": {
   "codemirror_mode": {
    "name": "ipython",
    "version": 3
   },
   "file_extension": ".py",
   "mimetype": "text/x-python",
   "name": "python",
   "nbconvert_exporter": "python",
   "pygments_lexer": "ipython3",
   "version": "3.10.13"
  }
 },
 "nbformat": 4,
 "nbformat_minor": 5
}
