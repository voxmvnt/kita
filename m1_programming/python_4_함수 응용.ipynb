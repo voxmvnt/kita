{
 "cells": [
  {
   "cell_type": "code",
   "execution_count": null,
   "id": "301bd280",
   "metadata": {},
   "outputs": [],
   "source": [
    "# Q. 입력값으로 Abc, ABC, abc 등으로 입력하는 경우 모두 처리할 수 있도록 코드를 수정하세요.\n",
    "c = input('소문자 abc를 입력하세요 >> ')\n",
    "if c == 'abc':\n",
    "    print(\"잘 처리되었습니다.\")\n",
    "else:\n",
    "    print(\"처리가 되지 않았습니다.\")"
   ]
  },
  {
   "cell_type": "code",
   "execution_count": 1,
   "id": "af64cfd6",
   "metadata": {},
   "outputs": [
    {
     "name": "stdout",
     "output_type": "stream",
     "text": [
      "소문자 abc를 입력하세요 >> Abc\n",
      "잘 처리되었습니다.\n"
     ]
    }
   ],
   "source": [
    "c = input('소문자 abc를 입력하세요 >> ')\n",
    "if c.lower() == 'abc':\n",
    "    print(\"잘 처리되었습니다.\")\n",
    "else:\n",
    "    print(\"처리가 되지 않았습니다.\")"
   ]
  },
  {
   "cell_type": "code",
   "execution_count": 3,
   "id": "78c0cdc4",
   "metadata": {},
   "outputs": [
    {
     "name": "stdout",
     "output_type": "stream",
     "text": [
      "제목을 입력해주세요: app\n",
      "HappyBin\n"
     ]
    }
   ],
   "source": [
    "# List안의 단어가 있으면 해당 제목을 출력\n",
    "x = input('제목을 입력해주세요: ')\n",
    "tlist = ['Hello World!','Nice Day','HappyBin','enDing_Story']\n",
    "n_list = []\n",
    "\n",
    "x = x.lower()\n",
    "for i in range(len(tlist)):\n",
    "    n_list.append(tlist[i].lower())\n",
    "    if x in n_list[i]:\n",
    "        print(tlist[i])\n"
   ]
  },
  {
   "cell_type": "code",
   "execution_count": 4,
   "id": "b4838a96",
   "metadata": {},
   "outputs": [
    {
     "name": "stdout",
     "output_type": "stream",
     "text": [
      "<양쪽 공백이 있는 문자열      >\n",
      "<   양쪽 공백이 있는 문자열>\n",
      "<양쪽 공백이 있는 문자열>\n"
     ]
    }
   ],
   "source": [
    "# 문자열 좌우 공백 제거\n",
    "txt = '   양쪽 공백이 있는 문자열      '\n",
    "ret1 = txt.lstrip()\n",
    "ret2 = txt.rstrip()\n",
    "ret3 = txt.strip()\n",
    "print('<'+ret1+'>')\n",
    "print('<'+ret2+'>')\n",
    "print('<'+ret3+'>')"
   ]
  },
  {
   "cell_type": "code",
   "execution_count": 6,
   "id": "5a959ee1",
   "metadata": {},
   "outputs": [
    {
     "name": "stdout",
     "output_type": "stream",
     "text": [
      "3\n",
      "6\n",
      "27\n",
      "38\n",
      "-1\n"
     ]
    }
   ],
   "source": [
    "# 문자열에서 특정 문자(열) 위치 찾기\n",
    "txt = 'A lot of things occur each day, every day.'\n",
    "offset1 = txt.find('o')\n",
    "offset2 = txt.find('o',4)\n",
    "offset3 = txt.find('day')\n",
    "offset4 = txt.find('day',30)\n",
    "offset5 = txt.find('z',45)  # 없으면 -1을 반환함.\n",
    "print(offset1)\n",
    "print(offset2)\n",
    "print(offset3)\n",
    "print(offset4)\n",
    "print(offset5)"
   ]
  },
  {
   "cell_type": "code",
   "execution_count": 7,
   "id": "51e8bc11",
   "metadata": {},
   "outputs": [
    {
     "name": "stdout",
     "output_type": "stream",
     "text": [
      "2016/10/23 10:12:11 ==== 200 ==== OK ==== 이 또한 지나가리라\n"
     ]
    }
   ],
   "source": [
    "# 특정 문자로 결합\n",
    "loglist = ['2016/10/23 10:12:11', '200', 'OK', '이 또한 지나가리라']\n",
    "bond = ' ==== '\n",
    "log = bond.join(loglist)\n",
    "print(log)"
   ]
  },
  {
   "cell_type": "code",
   "execution_count": 8,
   "id": "307decc2",
   "metadata": {},
   "outputs": [
    {
     "name": "stdout",
     "output_type": "stream",
     "text": [
      "My password is 0234\n",
      "My password is python234\n",
      "매일 아침 일찍 일어납니다.\n"
     ]
    }
   ],
   "source": [
    "# 특정 문자(열)을 다른 문자(열)로 바꾸기(replace)\n",
    "txt = 'My password is 1234'\n",
    "ret1 = txt.replace('1','0')\n",
    "ret2 = txt.replace('1','python')\n",
    "\n",
    "print(ret1)\n",
    "print(ret2)\n",
    "\n",
    "txt = '매일 많은 일들이 일어납니다.'\n",
    "\n",
    "ret3 = txt.replace('많은 일들이','아침 일찍')\n",
    "print(ret3)"
   ]
  },
  {
   "cell_type": "code",
   "execution_count": 10,
   "id": "408282c1",
   "metadata": {
    "scrolled": true
   },
   "outputs": [
    {
     "name": "stdout",
     "output_type": "stream",
     "text": [
      "문자 코드값을 입력하세요: 90\n",
      "코드값: 90 문자: Z\n"
     ]
    }
   ],
   "source": [
    "# 코드값에 대응하는 문자 얻기\n",
    "\n",
    "val = int(input('문자 코드값을 입력하세요: '))\n",
    "ch = chr(val)\n",
    "print('코드값: %d 문자: %s' %(val, ch))"
   ]
  },
  {
   "cell_type": "code",
   "execution_count": 12,
   "id": "54301847",
   "metadata": {},
   "outputs": [
    {
     "name": "stdout",
     "output_type": "stream",
     "text": [
      "문자 코드값을 입력하세요: 65\n",
      "코드값: 65 문자: A\n",
      "종료하시겠습니까(y/n)n\n",
      "문자 코드값을 입력하세요: 70\n",
      "코드값: 70 문자: F\n",
      "종료하시겠습니까(y/n)y\n"
     ]
    }
   ],
   "source": [
    "while True:\n",
    "    val = int(input('문자 코드값을 입력하세요: '))\n",
    "    ch = chr(val)\n",
    "    print('코드값: %d 문자: %s' %(val, ch))\n",
    "    if input('종료하시겠습니까(y/n)') == 'y':\n",
    "        break"
   ]
  },
  {
   "cell_type": "code",
   "execution_count": 14,
   "id": "eb9d4813",
   "metadata": {
    "scrolled": true
   },
   "outputs": [
    {
     "name": "stdout",
     "output_type": "stream",
     "text": [
      "I love python\n",
      "b'I love python'\n",
      "I\n",
      "73\n",
      "True\n",
      "False\n"
     ]
    }
   ],
   "source": [
    "# 문자열을 바이트 객체로 바꾸기(encode)\n",
    "u_txt = 'I love python'\n",
    "b_txt = u_txt.encode()\n",
    "\n",
    "print(u_txt)\n",
    "print(b_txt)\n",
    "\n",
    "ret1 = 'I' == u_txt[0]\n",
    "ret2 = 'I' == b_txt[0]\n",
    "print(u_txt[0])\n",
    "print(b_txt[0])\n",
    "print(ret1)\n",
    "print(ret2)"
   ]
  },
  {
   "cell_type": "code",
   "execution_count": 10,
   "id": "fd8873ad",
   "metadata": {},
   "outputs": [
    {
     "name": "stdout",
     "output_type": "stream",
     "text": [
      "[98, 99, 100, 101]\n",
      "['b', 'c', 'd', 'e']\n"
     ]
    }
   ],
   "source": [
    "sample = b'abcd'\n",
    "tt1102_01 = [i+1 for i in tt1102]\n",
    "print(tt1102_01)\n",
    "tt1102_02 = [chr(i) for i in tt1102_01]\n",
    "print(tt1102_02)"
   ]
  },
  {
   "cell_type": "code",
   "execution_count": 15,
   "id": "88b8fc17",
   "metadata": {},
   "outputs": [
    {
     "name": "stdout",
     "output_type": "stream",
     "text": [
      "A lot of things occur each day\n"
     ]
    }
   ],
   "source": [
    "# 바이트 객체를 문자열로 바꾸기\n",
    "b_txt = b'A lot of things occur each day'\n",
    "u_txt = b_txt.decode()\n",
    "print(u_txt)"
   ]
  },
  {
   "cell_type": "code",
   "execution_count": 17,
   "id": "a876575b",
   "metadata": {},
   "outputs": [
    {
     "name": "stdout",
     "output_type": "stream",
     "text": [
      "[1, 4, 9, 16, 25]\n",
      "['1', '2', '3', '4', '5']\n"
     ]
    }
   ],
   "source": [
    "# 인자를 바꾸어 함수를 반복 호출하는 결과값 얻기(map)\n",
    "f = lambda x: x*x\n",
    "args = [1,2,3,4,5]\n",
    "ret1 = map(f, args)\n",
    "print(list(ret1))\n",
    "w = lambda x: str(x)\n",
    "ret2 = map(w, args)\n",
    "print(list(ret2))"
   ]
  },
  {
   "cell_type": "code",
   "execution_count": 18,
   "id": "f898aed4",
   "metadata": {},
   "outputs": [
    {
     "name": "stdout",
     "output_type": "stream",
     "text": [
      "[1, 4, 9, 16, 25]\n"
     ]
    }
   ],
   "source": [
    "li = []\n",
    "f = lambda x: x*x\n",
    "args = [1,2,3,4,5]\n",
    "ret = map(f, args)\n",
    "for i in ret:\n",
    "    li.append(i)\n",
    "print(li)"
   ]
  },
  {
   "cell_type": "code",
   "execution_count": 23,
   "id": "92f56d0d",
   "metadata": {
    "scrolled": true
   },
   "outputs": [
    {
     "name": "stdout",
     "output_type": "stream",
     "text": [
      "dcb\n",
      "dcba\n",
      "edcba\n"
     ]
    }
   ],
   "source": [
    "# [3:0:-1] 과 같이 출력하면 3번 인덱스부터 0번 인덱스까지 역순으로 출력해준다.\n",
    "\n",
    "s = 'abcde'\n",
    "print(s[3:0:-1])\n",
    "print(s[3::-1])\n",
    "print(s[::-1])"
   ]
  },
  {
   "cell_type": "markdown",
   "id": "e8a46028",
   "metadata": {},
   "source": [
    "#### re 모듈\n",
    "\n",
    "- 파이썬에서 정규 표현식(Regular Expressions)을 지원하기 위한 표준 라이브러리.\n",
    "- 정규 표현식은 텍스트에서 문자열 검색, 매칭, 치환 및 파싱을 할 때 사용하는 강력한 문자열 처리 도구\n",
    "\n",
    "re 모듈을 사용하여 수행할 수 있는 기본 작업\n",
    "\n",
    "- re.match(): 문자열의 시작부터 정규식과 일치하는 패턴을 찾습니다. 일치하는 객체를 반환하거나, 일치하는 것이 없으면 None을 반환\n",
    "\n",
    "- re.search(): 문자열 전체에 걸쳐 정규식과 일치하는 패턴을 찾는다. match와 달리 문자열의 중간부터 일치하는 패턴을 찾을 수도 있고 일치하는 객체를 반환하거나, 일치하는 것이 없으면 None을 반환\n",
    "\n",
    "- re.findall(): 문자열 내에서 정규식과 일치하는 모든 부분 문자열을 리스트로 반환\n",
    "\n",
    "- re.finditer(): findall()과 유사하지만, 일치하는 모든 결과를 이터레이터(iterator)로 반환하여 메모리를 절약\n",
    "\n",
    "- re.sub(): 문자열 내에서 정규식과 일치하는 부분을 다른 문자열로 치환\n",
    "\n",
    "- re.compile(): 정규식 패턴을 컴파일하여 나중에 재사용할 수 있는 정규식 객체를 생성. 이것은 패턴을 여러 번 사용할 때 성능을 최적화하는 데 도움\n",
    "\n",
    "정규 표현식 패턴은 특수 문자와 시퀀스를 포함할 수 있으며, 복잡한 문자열 처리를 위한 강력한 문법을 제공.\n",
    "예를 들어, \\d는 숫자를, \\w는 단어 문자를, .는 거의 모든 문자를 나타낸다(개행 문자는 제외). 대괄호([])는 문자 집합을, \n",
    "괄호(())는 그룹을 정의한다. 별표(*), 더하기(+), 물음표(?), 중괄호({}) 등은 일치하는 횟수를 정의."
   ]
  },
  {
   "cell_type": "code",
   "execution_count": 1,
   "id": "b385ef3c",
   "metadata": {},
   "outputs": [
    {
     "data": {
      "text/plain": [
       "['Alabama',\n",
       " 'Georgia',\n",
       " 'Georgia',\n",
       " 'Georgia',\n",
       " 'Florida',\n",
       " 'South   Carolina',\n",
       " 'West Virginia']"
      ]
     },
     "execution_count": 1,
     "metadata": {},
     "output_type": "execute_result"
    }
   ],
   "source": [
    "import re\n",
    "states = ['   Alabama ', 'Georgia!', 'Georgia', 'georgia', 'FlOrIda',\n",
    "          'south   carolina##', 'West virginia?']\n",
    "\n",
    "def clean_strings(strings):\n",
    "    result =[]\n",
    "    for value in strings:\n",
    "        value = value.strip()\n",
    "        value = re.sub('[!#?]', '', value)   # r'[^\\w\\s]' 를 사용시 모든 특수문자 치환 가능\n",
    "        value = value.title()\n",
    "        result.append(value)\n",
    "    return result\n",
    "\n",
    "clean_strings(states)"
   ]
  },
  {
   "cell_type": "markdown",
   "id": "3fad4f2a",
   "metadata": {},
   "source": [
    "#### Python random 모듈 \n",
    "Python의 표준 라이브러리 중 하나로, 다양한 유형의 무작위 데이터를 생성하기 위한 함수와 도구들을 제공합니다. 여기에는 단일 숫자, 숫자 범위, 무작위 순서로 요소를 선택하거나 배열을 섞는 기능 등이 포함\n",
    "1. random.random() : 0.0에서부터 1.0 사이의 실수(float)를 반환. 0은 포함되고 1은 포함되지 않음\n",
    "2. random.uniform(a, b) : 인자로 들어온 a~b 사이의 실수(float)를 반환\n",
    "3. randint(a, b) : 인자로 들어온 a, b 사이의 랜덤한 정수(int)를 반환\n",
    "4. randrange(a, b), randrange(b) :  a <= x < b 의 범위 내에서의 랜덤한 정수(int)를 반환, randrange(b)는 0 <= x < b 의 범위 내에서의 랜덤한 정수(int)를 반환\n",
    "5. random.choice(seq) : 인자로 받은 리스트, 튜플, 문자열, range 에서 무작위로 하나의 원소 반환\n",
    "6. random.sample(seq or set, N) : 첫번째 인자로 받은 시퀀스데이터 or set에서 N개의 랜덤하고, unique하고, 순서상관없이 인자를 뽑아서 리스트로 만들어서 반환. 예: random.sample([1, 2, 3, 4, 5], 3)은 5개의 숫자 중 3개를 임의로 선택한 리스트를 반환\n",
    "7. random.shuffle(seq) : 데이터의 순서를 무작위로 랜덤하게 바꾸어 주는 함수"
   ]
  },
  {
   "cell_type": "code",
   "execution_count": 5,
   "id": "3a88edd4",
   "metadata": {},
   "outputs": [
    {
     "data": {
      "text/plain": [
       "0.6975273942907632"
      ]
     },
     "execution_count": 5,
     "metadata": {},
     "output_type": "execute_result"
    }
   ],
   "source": [
    "import random\n",
    "random.random()"
   ]
  },
  {
   "cell_type": "code",
   "execution_count": 26,
   "id": "e9467541",
   "metadata": {},
   "outputs": [
    {
     "data": {
      "text/plain": [
       "8.748124692648915"
      ]
     },
     "execution_count": 26,
     "metadata": {},
     "output_type": "execute_result"
    }
   ],
   "source": [
    "random.uniform(1,10)  # 랜덤 float x, 1.0 <= x < 10.0"
   ]
  },
  {
   "cell_type": "code",
   "execution_count": 32,
   "id": "795ae349",
   "metadata": {},
   "outputs": [
    {
     "data": {
      "text/plain": [
       "10"
      ]
     },
     "execution_count": 32,
     "metadata": {},
     "output_type": "execute_result"
    }
   ],
   "source": [
    "random.randint(1,10)  # 랜덤 integer 1 <= x <= 10 , 주의사항 : 10이 포함됨."
   ]
  },
  {
   "cell_type": "code",
   "execution_count": 42,
   "id": "4e4bf2e2",
   "metadata": {},
   "outputs": [
    {
     "data": {
      "text/plain": [
       "8"
      ]
     },
     "execution_count": 42,
     "metadata": {},
     "output_type": "execute_result"
    }
   ],
   "source": [
    "random.randrange(0, 10, 2)  # [0,2,4,6,8]에서 랜덤."
   ]
  },
  {
   "cell_type": "code",
   "execution_count": 48,
   "id": "e27d470b",
   "metadata": {},
   "outputs": [
    {
     "data": {
      "text/plain": [
       "'melon'"
      ]
     },
     "execution_count": 48,
     "metadata": {},
     "output_type": "execute_result"
    }
   ],
   "source": [
    "fruits = ['apple', 'banana', 'cherry', 'melon']\n",
    "random.choice(fruits)"
   ]
  },
  {
   "cell_type": "code",
   "execution_count": 49,
   "id": "a9bc723d",
   "metadata": {
    "scrolled": true
   },
   "outputs": [
    {
     "data": {
      "text/plain": [
       "[3, 1, 5]"
      ]
     },
     "execution_count": 49,
     "metadata": {},
     "output_type": "execute_result"
    }
   ],
   "source": [
    "random.sample([1,2,3,4,5], 3)"
   ]
  },
  {
   "cell_type": "code",
   "execution_count": 11,
   "id": "6205d068",
   "metadata": {},
   "outputs": [
    {
     "data": {
      "text/plain": [
       "[4, 2, 3, 1, 5]"
      ]
     },
     "execution_count": 11,
     "metadata": {},
     "output_type": "execute_result"
    }
   ],
   "source": [
    "r_list = [1,2,3,4,5]\n",
    "random.sample(r_list,len(r_list))"
   ]
  },
  {
   "cell_type": "code",
   "execution_count": 5,
   "id": "ea686f3c",
   "metadata": {},
   "outputs": [
    {
     "data": {
      "text/plain": [
       "[5, 3, 2, 4, 1]"
      ]
     },
     "execution_count": 5,
     "metadata": {},
     "output_type": "execute_result"
    }
   ],
   "source": [
    "numbers = [1,2,3,4,5]\n",
    "random.shuffle(numbers)\n",
    "numbers"
   ]
  },
  {
   "cell_type": "code",
   "execution_count": 6,
   "id": "33147e96",
   "metadata": {},
   "outputs": [
    {
     "name": "stdout",
     "output_type": "stream",
     "text": [
      "68.19807756186393\n"
     ]
    }
   ],
   "source": [
    "# Q. 0.0에서 100.0 사이의  실수 중에서 난수값을 리턴\n",
    "import random\n",
    "print(random.uniform(0,100))"
   ]
  },
  {
   "cell_type": "code",
   "execution_count": 10,
   "id": "180214dd",
   "metadata": {},
   "outputs": [
    {
     "name": "stdout",
     "output_type": "stream",
     "text": [
      "27\n"
     ]
    }
   ],
   "source": [
    "# Q.1부터 100 사이의 임의의 홀수를 출력\n",
    "print(random.randrange(1,100,2))"
   ]
  },
  {
   "cell_type": "code",
   "execution_count": 11,
   "id": "e35961fe",
   "metadata": {},
   "outputs": [
    {
     "name": "stdout",
     "output_type": "stream",
     "text": [
      "14\n"
     ]
    }
   ],
   "source": [
    "# Q.1부터 100 사이의 임의의 짝수를 출력\n",
    "print(random.randrange(2,100,2))"
   ]
  },
  {
   "cell_type": "code",
   "execution_count": 12,
   "id": "077ce9ad",
   "metadata": {},
   "outputs": [
    {
     "data": {
      "text/plain": [
       "24"
      ]
     },
     "execution_count": 12,
     "metadata": {},
     "output_type": "execute_result"
    }
   ],
   "source": [
    "# Q. 1에서 55사이의 정수 중 난수값을 리턴\n",
    "random.randint(1,55)"
   ]
  },
  {
   "cell_type": "code",
   "execution_count": 13,
   "id": "0b3fe3fb",
   "metadata": {
    "scrolled": true
   },
   "outputs": [
    {
     "data": {
      "text/plain": [
       "[5, 6, 9]"
      ]
     },
     "execution_count": 13,
     "metadata": {},
     "output_type": "execute_result"
    }
   ],
   "source": [
    "# Q. [1,2,3,4,5,6,7,8,9,1,2,3,4,5,6,7,8,9]에서 임의 3개 출력 (중복 불허)\n",
    "random.sample([1,2,3,4,5,6,7,8,9,1,2,3,4,5,6,7,8,9],3)"
   ]
  },
  {
   "cell_type": "code",
   "execution_count": 14,
   "id": "d2077c92",
   "metadata": {},
   "outputs": [
    {
     "name": "stdout",
     "output_type": "stream",
     "text": [
      "b가 꽝되었습니다.\n"
     ]
    }
   ],
   "source": [
    "# Q. 주어진 데이터에서 아래와 같이 출력하세요.\n",
    "m = ['a', 'b', 'c', 'd', 'e']\n",
    "t = ['당첨','꽝']\n",
    "\n",
    "print(f'{random.choice(m)}가 {random.choice(t)}되었습니다.')"
   ]
  },
  {
   "cell_type": "code",
   "execution_count": 17,
   "id": "a784dc4b",
   "metadata": {
    "scrolled": true
   },
   "outputs": [
    {
     "name": "stdout",
     "output_type": "stream",
     "text": [
      "첫번째 값:1\n",
      "두번째 값:2\n",
      "꽝입니다.\n"
     ]
    }
   ],
   "source": [
    "# Q. a, b 에서 무작위로 뽑은 숫자가 같으면 당첨, 다르면 꽝을 출력하는 프로그램을 작성\n",
    "import time\n",
    "import random\n",
    "\n",
    "a = [1,2,3,4,5]\n",
    "b = [1,2,3,4,5]\n",
    "\n",
    "a_choice = random.choice(a)\n",
    "b_choice = random.choice(b)\n",
    "\n",
    "print('첫번째 값:'+str(a_choice))\n",
    "time.sleep(1.4)\n",
    "print('두번째 값:'+str(b_choice))\n",
    "time.sleep(1)\n",
    "\n",
    "if a_choice == b_choice:\n",
    "    print('당첨입니다.')\n",
    "else:\n",
    "    print('꽝입니다.')"
   ]
  },
  {
   "cell_type": "code",
   "execution_count": 18,
   "id": "9cb95143",
   "metadata": {},
   "outputs": [
    {
     "name": "stdout",
     "output_type": "stream",
     "text": [
      "[6, 5, 4, 3, 2, 1, 0]\n",
      "[6, 5, 4, 3, 2, 1, 0]\n"
     ]
    }
   ],
   "source": [
    "# Q. list [0,1,2,3,4,5,6]을 내림차순으로 출력 (2가지)\n",
    "list1 = [0,1,2,3,4,5,6]\n",
    "print(list1[::-1])\n",
    "list1.reverse()\n",
    "print(list1)"
   ]
  },
  {
   "cell_type": "code",
   "execution_count": 19,
   "id": "3cd15673",
   "metadata": {},
   "outputs": [
    {
     "name": "stdout",
     "output_type": "stream",
     "text": [
      "1번째는 a입니다.\n",
      "2번째는 b입니다.\n",
      "3번째는 c입니다.\n"
     ]
    }
   ],
   "source": [
    "# Q. list = ['a', 'b', 'c']을 for문을 사용해서 아래와 같이 출력\n",
    "list2 = ['a', 'b', 'c']\n",
    "for i, value in enumerate(list2):\n",
    "    print(f'{i+1}번째는 {value}입니다.')"
   ]
  },
  {
   "cell_type": "code",
   "execution_count": null,
   "id": "69c00d02",
   "metadata": {},
   "outputs": [],
   "source": [
    "# Q. join 함수를 이용해서 ['a', 'b', 'c']을 아래와 같이 출력하세요\n",
    "a::b::c"
   ]
  },
  {
   "cell_type": "code",
   "execution_count": 20,
   "id": "65a3594b",
   "metadata": {
    "scrolled": true
   },
   "outputs": [
    {
     "name": "stdout",
     "output_type": "stream",
     "text": [
      "a::b::c\n"
     ]
    }
   ],
   "source": [
    "list3 = ['a', 'b', 'c']\n",
    "print(\"::\".join(list3))"
   ]
  },
  {
   "cell_type": "code",
   "execution_count": null,
   "id": "4cbdbb9f",
   "metadata": {},
   "outputs": [],
   "source": [
    "# Q. 데이터를 입력하지 않으면 종료되는 코딩을 수행하세요. 단 반복적으로 작업을 수행할 수 있음."
   ]
  },
  {
   "cell_type": "code",
   "execution_count": 22,
   "id": "dcef61dd",
   "metadata": {
    "scrolled": true
   },
   "outputs": [
    {
     "name": "stdout",
     "output_type": "stream",
     "text": [
      "아무거나 입력하세요 : None\n",
      "아무거나 입력하세요 : d\n",
      "아무거나 입력하세요 : aa\n",
      "아무거나 입력하세요 : \\n\n",
      "아무거나 입력하세요 : \n"
     ]
    }
   ],
   "source": [
    "while True:\n",
    "    x = input('아무거나 입력하세요 : ')\n",
    "    if not x: break"
   ]
  },
  {
   "cell_type": "code",
   "execution_count": 24,
   "id": "6ef8a054",
   "metadata": {},
   "outputs": [
    {
     "name": "stdout",
     "output_type": "stream",
     "text": [
      "원의 면적은 31.42이고 둘레는 78.54입니다\n",
      "원의 면적은 62.83이고 둘레는 314.16입니다\n"
     ]
    }
   ],
   "source": [
    "#. Q. 원의 면적과 둘레의 길이를 구하는 사용자함수를 작성하여 반지름이 5와 10일때 면적과 둘레를 구하세요\n",
    "import math\n",
    "def circle_def(r):\n",
    "    r1 = round(r*r*math.pi, 2)\n",
    "    r2 = round(2*r*math.pi, 2)\n",
    "    print(f'원의 면적은 {r2}이고 둘레는 {r1}입니다')\n",
    "    \n",
    "circle_def(5)\n",
    "circle_def(10)"
   ]
  },
  {
   "cell_type": "code",
   "execution_count": 29,
   "id": "9491728e",
   "metadata": {},
   "outputs": [
    {
     "name": "stdout",
     "output_type": "stream",
     "text": [
      "차타, 144, 62\n",
      "가타, 189, 41\n",
      "차라, 141, 73\n",
      "라사, 194, 46\n",
      "타하, 142, 72\n",
      "아카, 178, 59\n",
      "아사, 156, 69\n",
      "바자, 177, 43\n",
      "\n"
     ]
    }
   ],
   "source": [
    "# Q. 랜덤하게 1000명의 이름, 키와 몸무게\n",
    "import random\n",
    "hanguls = list('가나다라마바사아자차카타파하')\n",
    "with open('member.txt','w') as file:\n",
    "    for i in range(1000):\n",
    "        name = random.choice(hanguls) + random.choice(hanguls)\n",
    "        height = random.randrange(140,200)\n",
    "        weight = random.randrange(40,100)\n",
    "        file.write(f'{name}, {height}, {weight}\\n')\n",
    "\n",
    "with open('member.txt','r') as file:\n",
    "    data = file.readlines()\n",
    "    show_data = ''.join(random.sample(data, 8))\n",
    "    print(show_data)"
   ]
  },
  {
   "cell_type": "code",
   "execution_count": null,
   "id": "2f2322e2",
   "metadata": {},
   "outputs": [],
   "source": [
    "파이썬 if __name__ == \"__main__\" 의미\n",
    "\n",
    "- 메인 함수의 선언, 시작을 의미합니다. 해당 코드 밑에 main 등의 함수 호출 코드를 작성해서 함수의 기능을 수행\n",
    "- 직접 modex2.py 파일을 실행하는 경우에는 __name___ 변수에 __main__ 이라는 값이 할당되고 이 조건절이 참이 되어 if문 다음 문장들이 수행\n",
    "- 모듈을 불러와서 사용하는 경우 __name__ 변수에는 모듈 이름이 저장되고 이 조건절이 거짓이 되어 if문 다음 문장들이 수행되지 않음\n",
    "- if __name__ == \"__main__\"와 같이 조건문을 사용하여 터미널에서와 같이 직접 호출되어 사용될 때는 \n",
    "- 그 자체로 기능을 수행하고, 동시에 다른 모듈에서 필요한 함수 등을 제공"
   ]
  },
  {
   "cell_type": "code",
   "execution_count": null,
   "id": "03e5bfce",
   "metadata": {},
   "outputs": [],
   "source": [
    "# my_module.py\n",
    "\n",
    "def add(a, b):\n",
    "    return a + b\n",
    "\n",
    "def multiply(a, b):\n",
    "    return a * b\n",
    "\n",
    "# 아래 if 블록은 my_module.py가 직접 실행될 때만 실행됨.\n",
    "# 직접 실행할 때에는 __name__ 위치에 name = main 이고\n",
    "# 모듈로 불러왔을 때에는 __name__ 위치의 name = 모듈이름이다. 그래서 조건이 거짓이 되어 실행되지 않는다.\n",
    "\n",
    "if __name__ == \"__main__\":\n",
    "    print('모듈로 불러올 때 실행되지 않는 곳')\n",
    "    "
   ]
  },
  {
   "cell_type": "code",
   "execution_count": 33,
   "id": "87ff387a",
   "metadata": {},
   "outputs": [
    {
     "data": {
      "text/plain": [
       "'a:b'"
      ]
     },
     "execution_count": 33,
     "metadata": {},
     "output_type": "execute_result"
    }
   ],
   "source": [
    "# 예전에 만든 모듈\n",
    "import mymodule\n",
    "\n",
    "mymodule.add_txt('a','b')"
   ]
  },
  {
   "cell_type": "code",
   "execution_count": 35,
   "id": "ffa3c008",
   "metadata": {},
   "outputs": [],
   "source": [
    "with open('modex1.py','w') as f:\n",
    "    f.write(\n",
    "'''\n",
    "def add(a,b):\n",
    "    return a+b\n",
    "print(add(1,1))\n",
    "''')"
   ]
  },
  {
   "cell_type": "code",
   "execution_count": 36,
   "id": "e8bf8425",
   "metadata": {},
   "outputs": [
    {
     "name": "stdout",
     "output_type": "stream",
     "text": [
      "2\n"
     ]
    }
   ],
   "source": [
    "!python modex1.py"
   ]
  },
  {
   "cell_type": "code",
   "execution_count": 37,
   "id": "e94d2f3d",
   "metadata": {
    "scrolled": false
   },
   "outputs": [
    {
     "name": "stdout",
     "output_type": "stream",
     "text": [
      "2\n"
     ]
    }
   ],
   "source": [
    "# if __name__ == \"__main__\" 안쓰면 불러올 때 실행됨.\n",
    "import modex1"
   ]
  },
  {
   "cell_type": "markdown",
   "id": "de9d954e",
   "metadata": {},
   "source": [
    "#### 날짜 함수\n",
    "\n",
    "날짜와 시간을 처리하기 위한 주요 라이브러리는 datetime입니다. 이 라이브러리는 날짜, 시간, 시간대와 관련된 다양한 클래스와 함수를 제공하며, 날짜와 시간 연산에 매우 유용\n",
    "- datetime.date: 날짜(연, 월, 일)를 표현하는 클래스\n",
    "    - today(): 오늘의 날짜를 반환\n",
    "- datetime.time: 시간(시, 분, 초, 마이크로초)을 표현하는 클래스\n",
    "- datetime.datetime: 날짜와 시간을 모두 포함하는 클래스\n",
    "    - now(): 현재의 날짜와 시간을 반환\n",
    "- datetime.timedelta: 두 날짜/시간 간의 차이를 표현하는 클래스\n",
    "- datetime.tzinfo: 시간대 정보를 위한 기본 클래스\n",
    "\n",
    "datetime 모듈의 날짜와 시간 객체들을 문자열 형식으로 포맷팅하거나 문자열로부터 날짜와 시간 객체를 생성하기 위해 사용하는 주요 메서드는 strftime()와 strptime()\n",
    "- strftime() (String Format Time)\n",
    "    - 날짜와 시간 객체를 문자열로 변환하는 데 사용\n",
    "    - 사용자가 지정한 형식 문자열을 기반으로 날짜와 시간 정보를 문자열로 표현\n",
    "- strptime() (String Parse Time)\n",
    "    - 문자열을 날짜와 시간 객체로 변환하는 데 사용\n",
    "    - 주어진 형식 문자열을 기반으로 문자열에서 날짜와 시간 정보를 파싱 "
   ]
  },
  {
   "cell_type": "code",
   "execution_count": 9,
   "id": "41c3b255",
   "metadata": {},
   "outputs": [
    {
     "name": "stdout",
     "output_type": "stream",
     "text": [
      "<class 'datetime.date'>\n",
      "2023-11-03 00:00:00\n"
     ]
    },
    {
     "data": {
      "text/plain": [
       "364"
      ]
     },
     "execution_count": 9,
     "metadata": {},
     "output_type": "execute_result"
    }
   ],
   "source": [
    "import datetime\n",
    "\n",
    "# 현재 날짜와 시간 가져오기\n",
    "now = datetime.datetime.now()\n",
    "# 2023-11-03 15:12:48.056052\n",
    "\n",
    "# 오늘의 날짜만 가져오기\n",
    "today = datetime.date.today()\n",
    "# 2023-11-03\n",
    "print(type(today))\n",
    "print(today.strftime(\"%Y-%m-%d %H:%M:%S\"))\n",
    "\n",
    "# 특정 날짜와 시간을 직접 지정\n",
    "d = datetime.datetime(2023, 11, 2, 14, 29, 45)\n",
    "# 2023-11-02 14:29:45\n",
    "\n",
    "# 날짜 간의 차이 계산\n",
    "delta = datetime.timedelta(days=7)  # 7일의 기간\n",
    "new_date = today + delta\n",
    "# 2023-11-10 \n",
    "\n",
    "# 두 날짜 간의 차이 계산\n",
    "date1 = datetime.date(2023, 1, 1)\n",
    "date2 = datetime.date(2023, 12, 31)\n",
    "diff = date2 - date1\n",
    "diff.days\n",
    "# 364"
   ]
  },
  {
   "cell_type": "code",
   "execution_count": 47,
   "id": "218a822a",
   "metadata": {},
   "outputs": [
    {
     "name": "stdout",
     "output_type": "stream",
     "text": [
      "2023-11-03 15:25:04.067725 <class 'datetime.datetime'>\n",
      "2023-11-03 15:25:04 <class 'str'>\n"
     ]
    }
   ],
   "source": [
    "import datetime\n",
    "\n",
    "now = datetime.datetime.now()\n",
    "print(now, type(now))\n",
    "formatted = now.strftime(\"%Y-%m-%d %H:%M:%S\")\n",
    "print(formatted, type(formatted))"
   ]
  },
  {
   "cell_type": "markdown",
   "id": "552d5e27",
   "metadata": {},
   "source": [
    "포맷 코드 표<BR>\n",
    "포맷코드   설명   예<BR>\n",
    "%a   요일 줄임말   Sun, Mon, ... Sat<BR>\n",
    "%A   요일   Sunday, Monday, ..., Saturday<BR>\n",
    "%w   요일을 숫자로 표시, 월요일일요일, 06   0, 1, ..., 6<BR>\n",
    "%d   일   01, 02, ..., 31<BR>\n",
    "%b   월 줄임말   Jan, Feb, ..., Dec<BR>\n",
    "%B   월   January, February, …, December<BR>\n",
    "%m   숫자 월   01, 02, ..., 12<BR>\n",
    "%y   두 자릿수 연도   01, 02, ..., 99<BR>\n",
    "%Y   네 자릿수 연도   0001, 0002, ..., 2017, 2018, 9999<BR>\n",
    "%H   시간(24시간)   00, 01, ..., 23<BR>\n",
    "%I   시간(12시간)   01, 02, ..., 12<BR>\n",
    "%p   AM, PM   AM, PM<BR>\n",
    "%M   분   00, 01, ..., 59<BR>\n",
    "%S   초   00, 01, ..., 59<BR>\n",
    "%Z   시간대   대한민국 표준시<BR>\n",
    "%j   1월 1일부터 경과한 일수   001, 002, ..., 366<BR>\n",
    "%U   1년중 주차, 월요일이 한 주의 시작으로   00, 01, ..., 53<BR>\n",
    "%W   1년중 주차, 월요일이 한 주의 시작으로   00, 01, ..., 53<BR>\n",
    "%c   날짜, 요일, 시간을 출력, 현재 시간대 기준   Sat May 19 11:14:27 2018<BR>\n",
    "%x   날짜를 출력, 현재 시간대 기준   05/19/18<BR>\n",
    "%X   시간을 출력, 현재 시간대 기준   '11:44:22'"
   ]
  },
  {
   "cell_type": "markdown",
   "id": "88a34bc0",
   "metadata": {},
   "source": [
    "#### time 모듈\n",
    "- 시스템 시간에 접근하거나 간단한 타이머 기능을 구현\n",
    "- 함수와 같이 프로그램을 일정시간 동안 중지시키는데 사용\n",
    "- 시간을 연도, 월, 일, 시, 분, 초, 등의 구성요소로 변환하고 다룰수 있는 struct_time 객체를 제공\n",
    "- time 모듈은 날짜와 시간을 처리하는 다양한 프로그래밍 요구에 대응할 수 있는 기본적인 기능을 제공하지만, 더 복잡한 날짜 시간 처리나 시간대 변환등은 datetime 모듈 또는 외부 라이브러리 사용"
   ]
  },
  {
   "cell_type": "code",
   "execution_count": null,
   "id": "fd16c41d",
   "metadata": {},
   "outputs": [],
   "source": [
    "# localtime() 함수는 파이썬의 time 모듈에 포함되어 있으며, 이 함수는 초로 표시되는 시간을 구조화된 시간 튜플 형태로 변환하여 반환"
   ]
  },
  {
   "cell_type": "code",
   "execution_count": 50,
   "id": "41e5af64",
   "metadata": {},
   "outputs": [
    {
     "name": "stdout",
     "output_type": "stream",
     "text": [
      "time.struct_time(tm_year=2023, tm_mon=11, tm_mday=3, tm_hour=15, tm_min=38, tm_sec=31, tm_wday=4, tm_yday=307, tm_isdst=0)\n"
     ]
    }
   ],
   "source": [
    "import time\n",
    "\n",
    "local_time = time.localtime()\n",
    "print(local_time)"
   ]
  },
  {
   "cell_type": "code",
   "execution_count": 51,
   "id": "be24954b",
   "metadata": {},
   "outputs": [
    {
     "data": {
      "text/plain": [
       "1698993592.430637"
      ]
     },
     "execution_count": 51,
     "metadata": {},
     "output_type": "execute_result"
    }
   ],
   "source": [
    "# 현재 시간을 1970년 1월 1일 0시 0분 0초 (유닉스 시간의 시작)부터 현재까지의 초(second)로 표현한 값을 반환\n",
    "import time\n",
    "time.time()"
   ]
  },
  {
   "cell_type": "code",
   "execution_count": 52,
   "id": "ddcc4f9f",
   "metadata": {},
   "outputs": [
    {
     "data": {
      "text/plain": [
       "time.struct_time(tm_year=2023, tm_mon=11, tm_mday=3, tm_hour=15, tm_min=42, tm_sec=44, tm_wday=4, tm_yday=307, tm_isdst=0)"
      ]
     },
     "execution_count": 52,
     "metadata": {},
     "output_type": "execute_result"
    }
   ],
   "source": [
    "# 초로 표현된 시간을 튜플형태로 반환\n",
    "t = time.time()\n",
    "time.localtime(t)"
   ]
  },
  {
   "cell_type": "code",
   "execution_count": 4,
   "id": "87e8bd61",
   "metadata": {},
   "outputs": [
    {
     "name": "stdout",
     "output_type": "stream",
     "text": [
      "03\n",
      "11\n",
      "2023\n",
      "Friday\n"
     ]
    }
   ],
   "source": [
    "# strftime 함수는 시간에 관계된 것을 세밀하게 표현할 수 있는 여러가지 포멧 코드 제공\n",
    "import time\n",
    "d = time.strftime('%d', time.localtime(time.time()))\n",
    "m = time.strftime('%m', time.localtime(time.time()))\n",
    "y = time.strftime('%Y', time.localtime(time.time()))\n",
    "a = time.strftime('%A', time.localtime(time.time()))\n",
    "print(d)\n",
    "print(m)\n",
    "print(y)\n",
    "print(a)"
   ]
  },
  {
   "cell_type": "code",
   "execution_count": null,
   "id": "cb73979b",
   "metadata": {},
   "outputs": [],
   "source": [
    "# Q. 1609160537.371015을 \"Sat Jun 26 08:35:03 2021\" 포멧으로 출력하세요"
   ]
  },
  {
   "cell_type": "code",
   "execution_count": 8,
   "id": "038469ba",
   "metadata": {},
   "outputs": [
    {
     "name": "stdout",
     "output_type": "stream",
     "text": [
      "Mon Dec 28 22:02:17 2020\n",
      "\n",
      "Mon Dec 28 22:02:17 2020 <class 'str'>\n"
     ]
    }
   ],
   "source": [
    "import time\n",
    "\n",
    "tt = 1609160537.371015\n",
    "lct = time.localtime(tt)\n",
    "print(time.strftime('%a %b %d %H:%M:%S %Y',lct))\n",
    "print()\n",
    "readable_time = time.asctime(lct)\n",
    "print(readable_time, type(readable_time))"
   ]
  },
  {
   "cell_type": "code",
   "execution_count": 9,
   "id": "49696226",
   "metadata": {},
   "outputs": [
    {
     "name": "stdout",
     "output_type": "stream",
     "text": [
      "Fri Nov  3 16:08:01 2023\n"
     ]
    }
   ],
   "source": [
    "# asctime() 함수는 주어진 시간 튜플을 \"Sat Jun 26 08:35:03 2021\"와 같은 형식의 문자열로 변환\n",
    "print(time.asctime(time.localtime(time.time())))"
   ]
  },
  {
   "cell_type": "code",
   "execution_count": 11,
   "id": "1f980983",
   "metadata": {},
   "outputs": [
    {
     "name": "stdout",
     "output_type": "stream",
     "text": [
      "1698995480.6874971 <class 'float'>\n",
      "1698995480.6874971 <class 'str'>\n"
     ]
    }
   ],
   "source": [
    "# timestamp -> str\n",
    "import time\n",
    "\n",
    "t = time.time()\n",
    "print(t, type(t))\n",
    "\n",
    "s = str(t)\n",
    "print(s, type(s))"
   ]
  },
  {
   "cell_type": "code",
   "execution_count": 5,
   "id": "c4275758",
   "metadata": {},
   "outputs": [
    {
     "name": "stdout",
     "output_type": "stream",
     "text": [
      "1698996257.677893 <class 'float'>\n",
      "2023-11-03 16:24:17.677893 <class 'datetime.datetime'>\n"
     ]
    }
   ],
   "source": [
    "# timestamp -> datetime\n",
    "from datetime import datetime\n",
    "import time\n",
    "\n",
    "t = time.time()\n",
    "print(t, type(t))\n",
    "\n",
    "d = datetime.fromtimestamp(t)\n",
    "print(d, type(d))"
   ]
  },
  {
   "cell_type": "code",
   "execution_count": 13,
   "id": "9db3871a",
   "metadata": {},
   "outputs": [
    {
     "name": "stdout",
     "output_type": "stream",
     "text": [
      "1698995747.4551861 <class 'float'>\n",
      "2023-11-03 16:15:47.455186 <class 'datetime.datetime'>\n",
      "11/03/23 16:15:47 <class 'str'>\n"
     ]
    }
   ],
   "source": [
    "# timestamp -> datetime -> str\n",
    "from datetime import datetime\n",
    "\n",
    "t = time.time()\n",
    "print(t, type(t))\n",
    "\n",
    "d = datetime.fromtimestamp(t)\n",
    "print(d, type(d))\n",
    "\n",
    "s = d.strftime('%x %X')\n",
    "print(s, type(s))"
   ]
  },
  {
   "cell_type": "code",
   "execution_count": 3,
   "id": "2279714e",
   "metadata": {},
   "outputs": [
    {
     "name": "stdout",
     "output_type": "stream",
     "text": [
      "2023-11-03 16:23:42.684920 <class 'datetime.datetime'>\n",
      "2023-11-03 16:23:42 <class 'str'>\n"
     ]
    }
   ],
   "source": [
    "# datetime -> str\n",
    "from datetime import datetime\n",
    "\n",
    "s = datetime.now()\n",
    "print(s, type(s))\n",
    "\n",
    "s1 = s.strftime('%Y-%m-%d %H:%M:%S')\n",
    "print(s1, type(s1))"
   ]
  },
  {
   "cell_type": "code",
   "execution_count": 2,
   "id": "a5d70a5b",
   "metadata": {},
   "outputs": [
    {
     "name": "stdout",
     "output_type": "stream",
     "text": [
      "2023-11-03 16:19:42 <class 'datetime.datetime'>\n"
     ]
    }
   ],
   "source": [
    "# str -> datetime\n",
    "from datetime import datetime\n",
    "\n",
    "s = '2023-11-03 16:19:42'\n",
    "d = datetime.strptime(s, '%Y-%m-%d %H:%M:%S')\n",
    "print(d, type(d))"
   ]
  },
  {
   "cell_type": "code",
   "execution_count": 6,
   "id": "dcb81fbf",
   "metadata": {},
   "outputs": [
    {
     "name": "stdout",
     "output_type": "stream",
     "text": [
      "1698995982.0 <class 'float'>\n"
     ]
    }
   ],
   "source": [
    "# str -> datetime -> timestamp\n",
    "from datetime import datetime\n",
    "import time\n",
    "\n",
    "s = '2023-11-03 16:19:42'\n",
    "d = datetime.strptime(s, '%Y-%m-%d %H:%M:%S')\n",
    "ts = time.mktime(d.timetuple())  # datetime 형태에 .timetuple()을 사용한다.\n",
    "print(ts, type(ts))"
   ]
  },
  {
   "cell_type": "markdown",
   "id": "27143ffc",
   "metadata": {},
   "source": [
    "#### 파이썬에서 언더바/더블언더바 의 의미와 역할\n",
    "\n",
    "단일 언더바 (_):\n",
    "\n",
    "- 인터프리터: 파이썬 인터프리터에서 단일 언더바는 가장 최근의 표현식의 결과를 저장\n",
    "- 변수 이름: 관례적으로 관심이 없는 값을 할당할 때 사용합니다. 예를 들어, for _ in range(5):는 반복문에서 인덱스를 사용하지 않을 때 관용적으로 사용\n",
    "- 국제화(i18n)/지역화(l10n): 함수 이름으로서 _()는 종종 gettext 모듈을 통해 문자열을 번역하는 데 사용\n",
    "- 값 무시: 튜플 언패킹에서 특정 값을 무시할 때 사용합니다. 예: x, _, y = (1, 2, 3) 여기서 2는 무시\n",
    "\n",
    "단일 선행 언더바 (_변수):\n",
    "- 일반적으로 모듈 내부에서만 사용되는 \"private\" 변수나 함수 또는 메서드를 지정할 때 사용\n",
    "- 파이썬에서 강제할 수는 없지만, 이것은 프로그래머에게 그 변수나 함수가 내부 사용을 위한 것임을 알려주는 관례\n",
    "\n",
    "단일 후행 언더바 (변수_):\n",
    "- 파이썬 키워드와 충돌을 피하기 위해 사용됩니다. 예를 들어, class_는 class라는 이름 대신 사용\n",
    "\n",
    "더블 선행 언더바 (__변수):\n",
    "- 클래스의 속성을 이름 맹글링(name mangling)하기 위해 사용\n",
    "- 이는 속성이 해당 클래스와 그 서브클래스 내부에서만 사용될 것임을 나타내며, 부모 클래스의 필드와 이름 충돌을 피하는 데 도움을 준다. 예: __private_var는 _ClassName__private_var로 변환되어 클래스 외부에서 직접 접근할 수 없습니다.\n",
    "\n",
    "더블 선행과 후행 언더바 (변수):\n",
    "- 파이썬의 매직 메서드 또는 특별 메서드를 나타냅니다. 이들은 특별한 의미를 가지며, 파이썬의 내부 구조와 연동\n",
    "- 예를 들어, __init__, __call__, __str__, __repr__ 등이 있습니다. 이러한 메서드들은 사용자 정의 객체가 내장 타입과 상호작용하는 방식을 정의\n",
    "    __init__: 객체가 생성될 때 초기화를 담당합니다.<br>\n",
    "    __repr__: 객체의 “공식적인” 문자열 표현을 제공합니다.<br>\n",
    "    __add__: + 연산자로 두 객체를 더할 때 호출됩니다.<br>\n",
    "    __call__: 객체를 함수처럼 호출할 수 있게 합니다 (예: instance()).<br>\n",
    "    __getitem__: 인덱싱을 통해 요소에 접근할 때 호출됩니다 (예: instance[key]).\n",
    "- __main__은 파이썬에서 사용되는 특별한 변수이며, 현재 최상위 실행 환경이 무엇인지를 나타내는 데 사용됩니다. 파이썬 스크립트가 직접 실행될 때 그 스크립트의 __name__ 변수는 \"__main__\"으로 설정"
   ]
  },
  {
   "cell_type": "code",
   "execution_count": 2,
   "id": "b5918ada",
   "metadata": {},
   "outputs": [
    {
     "name": "stdout",
     "output_type": "stream",
     "text": [
      "0\n",
      "1\n",
      "2\n",
      "3\n",
      "4\n"
     ]
    }
   ],
   "source": [
    "for _ in range(5):\n",
    "    print(_)"
   ]
  },
  {
   "cell_type": "code",
   "execution_count": 3,
   "id": "876295c9",
   "metadata": {
    "scrolled": true
   },
   "outputs": [
    {
     "name": "stdout",
     "output_type": "stream",
     "text": [
      "1번: a\n",
      "2번: b\n",
      "3번: c\n",
      "4번: d\n",
      "5번: e\n"
     ]
    }
   ],
   "source": [
    "# 리스트의 각 아이템이 튜플 형태를 이루고 있어야 함\n",
    "c1 = [1,2,3,4,5]\n",
    "c2 = list('abcde')\n",
    "c3 = list(zip(c1, c2))\n",
    "for i, _ in c3:\n",
    "    print(f'{i}번: {_}')"
   ]
  },
  {
   "cell_type": "code",
   "execution_count": null,
   "id": "845567c9",
   "metadata": {},
   "outputs": [],
   "source": [
    "# _InternalUse 클래스와 _Internal_method 메서드, 그리고 _internal_function 함수는 모두 단일 선행 언더바를 사용하여 정의\n",
    "# 이것은 이들이 모듈 내부에서만 사용되도록 의도\n",
    "class _InternalUse:\n",
    "    def __init__(self):\n",
    "        print(\"이 클래스는 내부적으로만 사용됩니다.\")\n",
    "    \n",
    "    def _Internal_method(self):\n",
    "        print(\"이 메서드는 내부적으로만 사용됩니다.\")\n",
    "    \n",
    "def _internal_function():\n",
    "    print(\"이 함수는 내부적으로만 사용됩니다.\")"
   ]
  },
  {
   "cell_type": "code",
   "execution_count": null,
   "id": "2c3e92e0",
   "metadata": {},
   "outputs": [],
   "source": [
    "# class는 파이썬에서 클래스를 정의할 때 사용되는 키워드입니다. 만약 변수로 class를 사용하고 싶다면,\n",
    "# 이름 충돌을 피하기 위해 언더바를 사용\n",
    "class_ = \"This is a string variable, not a class\"\n",
    "\n",
    "# from_은 파이썬의 from 키워드와 충돌하지 않기 위해 사용 "
   ]
  },
  {
   "cell_type": "code",
   "execution_count": null,
   "id": "1a3b18b2",
   "metadata": {},
   "outputs": [],
   "source": [
    "# __privateVar와 __privateMethod는 클래스 Test 내부에서만 사용될 것이라는 의미로 이름 앞에 더블 언더바를 붙였습니다. \n",
    "# 파이썬 인터프리터는 이 이름들을 _Test__privateVar와 _Test__privateMethod로 맹글링하여 내부적으로 사용합니다. \n",
    "# 따라서 이들에 대한 직접적인 접근은 에러를 발생\n",
    "class Test:\n",
    "    def __init__(self):\n",
    "        self.__privateVar = 42\n",
    "\n",
    "    def __privateMethod(self):\n",
    "        return \"This is a private method\"\n",
    "\n",
    "# 외부에서 접근\n",
    "test = Test()\n",
    "# print(test.__privateVar)  # 이 코드는 에러를 발생시킵니다.\n",
    "# print(test.__privateMethod())  # 이 코드도 에러를 발생시킵니다."
   ]
  },
  {
   "cell_type": "markdown",
   "id": "77805964",
   "metadata": {},
   "source": [
    "#### 파이썬에서 -1은 다양한 방식으로 사용됩니다. 다음은 일부 예시입니다:\n",
    "\n",
    "- 인덱스: 파이썬에서는 리스트, 문자열, 튜플 등의 시퀀스 자료형의 인덱스를 지정할 때 음수를 사용할 수 있습니다. 이때 -1은 시퀀스의 마지막 요소를 가리킵니다. 예를 들어, 리스트에서 my_list[-1]은 리스트의 마지막 요소를 반환합니다.\n",
    "\n",
    "- 슬라이스: 마찬가지로, 시퀀스 자료형의 슬라이스를 지정할 때도 음수를 사용할 수 있습니다. 이때 -1은 시퀀스의 마지막 요소를 가리킵니다. 예를 들어, 리스트에서 my_list[:-1]은 마지막 요소를 제외한 모든 요소를 반환합니다.\n",
    "\n",
    "- 반환 값: 일부 함수에서는 실패 또는 오류를 나타내는 값을 -1로 반환합니다. 예를 들어, 문자열에서 find() 메서드는 문자열에서 지정된 문자열을 찾을 수 없을 때 -1을 반환합니다.\n",
    "\n",
    "- 비트 연산: 비트 연산에서는 -1이 모든 비트가 1인 이진수로 사용됩니다. 예를 들어, 0b11111111은 10진수로 255이며, -1과 같습니다."
   ]
  },
  {
   "cell_type": "code",
   "execution_count": null,
   "id": "15e69bb9",
   "metadata": {},
   "outputs": [],
   "source": []
  },
  {
   "cell_type": "code",
   "execution_count": null,
   "id": "3d22c9d0",
   "metadata": {},
   "outputs": [],
   "source": []
  },
  {
   "cell_type": "code",
   "execution_count": null,
   "id": "5feeec55",
   "metadata": {},
   "outputs": [],
   "source": []
  },
  {
   "cell_type": "code",
   "execution_count": null,
   "id": "0fe6262b",
   "metadata": {},
   "outputs": [],
   "source": []
  },
  {
   "cell_type": "code",
   "execution_count": null,
   "id": "36bbdee8",
   "metadata": {},
   "outputs": [],
   "source": []
  },
  {
   "cell_type": "code",
   "execution_count": null,
   "id": "6efb986d",
   "metadata": {},
   "outputs": [],
   "source": []
  },
  {
   "cell_type": "code",
   "execution_count": null,
   "id": "0d091553",
   "metadata": {},
   "outputs": [],
   "source": []
  },
  {
   "cell_type": "code",
   "execution_count": null,
   "id": "9033e9e7",
   "metadata": {},
   "outputs": [],
   "source": []
  },
  {
   "cell_type": "code",
   "execution_count": null,
   "id": "674af247",
   "metadata": {},
   "outputs": [],
   "source": []
  },
  {
   "cell_type": "code",
   "execution_count": null,
   "id": "16db4880",
   "metadata": {},
   "outputs": [],
   "source": []
  },
  {
   "cell_type": "code",
   "execution_count": null,
   "id": "a46376de",
   "metadata": {},
   "outputs": [],
   "source": []
  },
  {
   "cell_type": "code",
   "execution_count": null,
   "id": "777479e8",
   "metadata": {},
   "outputs": [],
   "source": []
  },
  {
   "cell_type": "code",
   "execution_count": null,
   "id": "675efde1",
   "metadata": {},
   "outputs": [],
   "source": []
  },
  {
   "cell_type": "code",
   "execution_count": null,
   "id": "08cca510",
   "metadata": {},
   "outputs": [],
   "source": []
  },
  {
   "cell_type": "code",
   "execution_count": null,
   "id": "76aad676",
   "metadata": {},
   "outputs": [],
   "source": []
  },
  {
   "cell_type": "code",
   "execution_count": null,
   "id": "99dd49fa",
   "metadata": {},
   "outputs": [],
   "source": []
  },
  {
   "cell_type": "code",
   "execution_count": null,
   "id": "f617912a",
   "metadata": {},
   "outputs": [],
   "source": []
  }
 ],
 "metadata": {
  "kernelspec": {
   "display_name": "Python 3 (ipykernel)",
   "language": "python",
   "name": "python3"
  },
  "language_info": {
   "codemirror_mode": {
    "name": "ipython",
    "version": 3
   },
   "file_extension": ".py",
   "mimetype": "text/x-python",
   "name": "python",
   "nbconvert_exporter": "python",
   "pygments_lexer": "ipython3",
   "version": "3.10.13"
  }
 },
 "nbformat": 4,
 "nbformat_minor": 5
}
