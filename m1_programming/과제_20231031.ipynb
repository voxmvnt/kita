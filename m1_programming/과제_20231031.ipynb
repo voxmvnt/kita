{
 "cells": [
  {
   "cell_type": "code",
   "execution_count": null,
   "id": "c614422b",
   "metadata": {},
   "outputs": [],
   "source": [
    "# 과제_1_1031 : 사용자가 입력한 게임 회수만큼 로또 번호를 출력하는 프로그램을 작성하세요.(중복 처리)"
   ]
  },
  {
   "cell_type": "code",
   "execution_count": 20,
   "id": "1729b181",
   "metadata": {
    "scrolled": true
   },
   "outputs": [
    {
     "name": "stdout",
     "output_type": "stream",
     "text": [
      "게임 횟수 입력: 7\n",
      "[9, 11, 21, 27, 36, 42]\n",
      "[6, 11, 16, 36, 42, 44]\n",
      "[5, 16, 22, 33, 41, 43]\n",
      "[2, 9, 11, 26, 29, 31]\n",
      "[8, 11, 18, 20, 29, 38]\n",
      "[2, 3, 6, 13, 19, 20]\n",
      "[1, 10, 14, 27, 34, 38]\n"
     ]
    }
   ],
   "source": [
    "import random\n",
    "\n",
    "lotto_all = list(range(1,46))\n",
    "game_num = int(input('게임 횟수 입력: '))\n",
    "\n",
    "for i in range(game_num):\n",
    "    lotto_list = random.sample(lotto_all, 6)\n",
    "    print(sorted(lotto_list))"
   ]
  },
  {
   "cell_type": "code",
   "execution_count": 27,
   "id": "c72eb81b",
   "metadata": {
    "scrolled": true
   },
   "outputs": [
    {
     "name": "stdout",
     "output_type": "stream",
     "text": [
      "게임 횟수 입력: 3\n",
      "로또번호1: [6, 9, 14, 16, 21, 36]\n",
      "로또번호2: [6, 7, 15, 27, 29, 30]\n",
      "로또번호3: [2, 9, 15, 22, 25, 32]\n"
     ]
    }
   ],
   "source": [
    "# 샘플 없이 추출\n",
    "import random\n",
    "from time import sleep\n",
    "game_num = int(input('게임 횟수 입력: '))\n",
    "\n",
    "for i in range(game_num):\n",
    "    lotto_to_pop = list(range(1,46))\n",
    "    lotto_pop = []\n",
    "    print(f'로또번호{i+1}: ', end='')\n",
    "    cnt = 0\n",
    "    remain_index = 44\n",
    "    while cnt < 6:\n",
    "        random_int = random.randint(0, remain_index)\n",
    "        lotto_pop.append(lotto_to_pop.pop(random_int))\n",
    "        cnt += 1\n",
    "        remain_index -= 1\n",
    "    lotto_pop.sort()\n",
    "    print(lotto_pop)\n",
    "    sleep(2)  # 2초 후 다음명령 실행 (from time import sleep)"
   ]
  },
  {
   "cell_type": "code",
   "execution_count": 3,
   "id": "779d62d0",
   "metadata": {},
   "outputs": [],
   "source": [
    "# 올바른 리스트 복사방법\n",
    "lotto = list(range(1,46))\n",
    "copy1 = lotto.[:]\n",
    "copy2 = lotto.copy()"
   ]
  },
  {
   "cell_type": "code",
   "execution_count": null,
   "id": "cbedae9c",
   "metadata": {},
   "outputs": [],
   "source": [
    "과제2_1031 현재 계절 구분 프로그램\n",
    "- 시나리오 : 3 ~ 5월은 봄, 6 ~ 8월은 여름, 9 ~ 11월은 가을, 12 ~ 2월은 겨울로 구분. 지금 계절을 알려주는 프로그램 \n",
    "- 각 계절별 출력 멘트는 계절에 맞게 창작\n",
    "- if 조건문으로 datetime 모듈을 import해서 datetime.now 함수를 사용해서 작성"
   ]
  },
  {
   "cell_type": "code",
   "execution_count": 9,
   "id": "a2c33195",
   "metadata": {},
   "outputs": [
    {
     "name": "stdout",
     "output_type": "stream",
     "text": [
      "현재는 10월이고 계절은 가을입니다.\n"
     ]
    }
   ],
   "source": [
    "from datetime import datetime\n",
    "now = datetime.now()\n",
    "month = now.month\n",
    "season = ''\n",
    "\n",
    "if month in [3,4,5]:\n",
    "    season = '봄'\n",
    "elif month in [6,7,8]:\n",
    "    season = '여름'\n",
    "elif month in [9,10,11]:\n",
    "    season = '가을'\n",
    "else:\n",
    "    season = '겨울'\n",
    "    \n",
    "print(f'현재는 {month}월이고 계절은 {season}입니다.')"
   ]
  },
  {
   "cell_type": "code",
   "execution_count": null,
   "id": "5d78e356",
   "metadata": {},
   "outputs": [],
   "source": [
    "# 과제3_1031 : 1부터 99까지 아래와 같이 2개의 수를 곱해서 가장 큰 수를 구하세요.\n",
    "1*99, 2*98 ...99*1"
   ]
  },
  {
   "cell_type": "code",
   "execution_count": 28,
   "id": "33a58602",
   "metadata": {},
   "outputs": [
    {
     "name": "stdout",
     "output_type": "stream",
     "text": [
      "2500\n"
     ]
    }
   ],
   "source": [
    "list1 = list(range(1,100))\n",
    "list2 = list(reversed(list1))\n",
    "list3 = []\n",
    "\n",
    "for i in range(len(list1)):\n",
    "    x = list1[i] * list2[i]\n",
    "    list3.append(x)\n",
    "    \n",
    "print(max(list3))"
   ]
  },
  {
   "cell_type": "code",
   "execution_count": 30,
   "id": "baaf9d98",
   "metadata": {},
   "outputs": [
    {
     "name": "stdout",
     "output_type": "stream",
     "text": [
      "2500\n"
     ]
    }
   ],
   "source": [
    "max_value = 0\n",
    "for i in range (1,100):\n",
    "    if max_value < (i*(100-i)):\n",
    "        max_value = i*(100-i)\n",
    "print(max_value)"
   ]
  },
  {
   "cell_type": "code",
   "execution_count": null,
   "id": "6feaf3b8",
   "metadata": {},
   "outputs": [],
   "source": [
    "# 과제4_1031 [    ]을 채워서 아래의 출력과 같이 출력하세요.\n",
    "# 출력 :\n",
    "numbers = [1,2,3,4,5,6,7,8,9]\n",
    "output = [[], [], []]\n",
    "\n",
    "# [[1,4,7],[2,5,8],[3,6,9]]"
   ]
  },
  {
   "cell_type": "code",
   "execution_count": 31,
   "id": "0c3ff252",
   "metadata": {},
   "outputs": [
    {
     "name": "stdout",
     "output_type": "stream",
     "text": [
      "[[1, 4, 7], [2, 5, 8], [3, 6, 9]]\n"
     ]
    }
   ],
   "source": [
    "numbers = [1,2,3,4,5,6,7,8,9]\n",
    "output = [[], [], []]\n",
    "\n",
    "for i in numbers:\n",
    "    if i % 3 == 1:\n",
    "        output[0].append(i)\n",
    "    elif i % 3 == 2:\n",
    "        output[1].append(i)\n",
    "    else:\n",
    "        output[2].append(i)\n",
    "        \n",
    "print(output)"
   ]
  },
  {
   "cell_type": "code",
   "execution_count": 1,
   "id": "c4bb71ff",
   "metadata": {
    "scrolled": true
   },
   "outputs": [
    {
     "name": "stdout",
     "output_type": "stream",
     "text": [
      "숫자 맞추기 게임을 시작합니다.\n",
      "숫자를 입력하세요(1-100): 50\n",
      "정답보다 큽니다\n",
      "숫자를 입력하세요(1-100): 25\n",
      "정답보다 작습니다\n",
      "숫자를 입력하세요(1-100): 37\n",
      "정답보다 큽니다\n",
      "숫자를 입력하세요(1-100): 30\n",
      "정답보다 작습니다\n",
      "숫자를 입력하세요(1-100): 34\n",
      "정답보다 큽니다\n",
      "숫자를 입력하세요(1-100): 32\n",
      "정답입니다. 6회 만에 맞추셨습니다.\n",
      "게임을 계속하시겠습니까(y/n): n\n"
     ]
    }
   ],
   "source": [
    "# 과제5_1031 컴퓨터가 랜덤하게 생성하는 숫자 맞추기 게임 프로그램을 작성하세요\n",
    "# 맞추면 종료, 횟수를 보여주기.\n",
    "# 범위 1 - 100\n",
    "import random\n",
    "\n",
    "ran_number = random.randint(1,100)\n",
    "ans_number = 0\n",
    "cnt = 0\n",
    "\n",
    "print('숫자 맞추기 게임을 시작합니다.')\n",
    "while True:\n",
    "    cnt += 1\n",
    "    ans_number = int(input('숫자를 입력하세요(1-100): '))\n",
    "    if ans_number > ran_number:\n",
    "        print('정답보다 큽니다')\n",
    "    elif ans_number < ran_number:\n",
    "        print('정답보다 작습니다')\n",
    "    else:\n",
    "        print(f'정답입니다. {cnt}회 만에 맞추셨습니다.')\n",
    "        game_yn = input('게임을 계속하시겠습니까(y/n): ')\n",
    "        if game_yn.lower() == 'y':\n",
    "            ran_number = random.randint(1,100)\n",
    "            ans_number = 0\n",
    "            cnt = 0\n",
    "            print('숫자 맞추기 게임을 다시 시작합니다.')\n",
    "        else:\n",
    "            break\n",
    "    \n"
   ]
  },
  {
   "cell_type": "code",
   "execution_count": 1,
   "id": "d1dac147",
   "metadata": {},
   "outputs": [
    {
     "name": "stdout",
     "output_type": "stream",
     "text": [
      "부등호 사용 확인\n"
     ]
    }
   ],
   "source": [
    "# 조건문 부등호 사용 방식 확인\n",
    "\n",
    "a= 12\n",
    "\n",
    "if (0 <= a <= 20) & (a % 2 == 0):\n",
    "    print('부등호 사용 확인')"
   ]
  },
  {
   "cell_type": "code",
   "execution_count": null,
   "id": "a4637eee",
   "metadata": {},
   "outputs": [],
   "source": [
    "# 과제6_1031 Player가 3승할 때까지 계속 진행되는 가위바위보 게임 프로그램을 작성하세요.\n",
    "# 게임을 Player와 컴퓨터가 진행"
   ]
  },
  {
   "cell_type": "code",
   "execution_count": 2,
   "id": "2b92f5da",
   "metadata": {
    "scrolled": true
   },
   "outputs": [
    {
     "name": "stdout",
     "output_type": "stream",
     "text": [
      "가위 바위 보 게임을 시작합니다. (3회 우승시 종료)\n",
      "※주의 : 오타는 패배로 간주됩니다.\n",
      "가위/바위/보 입력: 가위\n",
      "컴퓨터는 보입니다.\n",
      "이겼습니다. 현재 1승 입니다.\n",
      "가위/바위/보 입력: 가위\n",
      "컴퓨터는 바위입니다.\n",
      "졌습니다.\n",
      "가위/바위/보 입력: 바위\n",
      "컴퓨터는 가위입니다.\n",
      "이겼습니다. 현재 2승 입니다.\n",
      "가위/바위/보 입력: 보\n",
      "컴퓨터는 가위입니다.\n",
      "졌습니다.\n",
      "가위/바위/보 입력: 보\n",
      "컴퓨터는 바위입니다.\n",
      "이겼습니다. 현재 3승 입니다.\n",
      "3승을 달성하여 게임이 종료됩니다.\n"
     ]
    }
   ],
   "source": [
    "import random\n",
    "\n",
    "com_hand = ['가위','바위','보']\n",
    "win_case={'가위':'바위','바위':'보','보':'가위'}\n",
    "win_number = 0\n",
    "\n",
    "print('가위 바위 보 게임을 시작합니다. (3회 우승시 종료)')\n",
    "print('※주의 : 오타는 패배로 간주됩니다.')\n",
    "while True:\n",
    "    com_select = com_hand[random.randint(0,2)]\n",
    "    you_select = input('가위/바위/보 입력: ')\n",
    "    print(f'컴퓨터는 {com_select}입니다.')\n",
    "    if win_case[com_select] == you_select:\n",
    "        win_number += 1\n",
    "        print(f'이겼습니다. 현재 {win_number}승 입니다.')\n",
    "    else:\n",
    "        if com_select == you_select:\n",
    "            print('비겼습니다.')\n",
    "        else:\n",
    "            print('졌습니다.')\n",
    "    if win_number == 3:\n",
    "        print('3승을 달성하여 게임이 종료됩니다.')\n",
    "        break"
   ]
  },
  {
   "cell_type": "markdown",
   "id": "eb8fc05f",
   "metadata": {},
   "source": [
    "과제_7_1031\n",
    "\n",
    "음식점의 음식 주문가격 산출 프로그램을 자유롭게 작성하세요\n",
    "\n",
    "'''\n",
    "KITA 식당에 오신 것을 환영합니다\n",
    "\n",
    "========================================\n",
    "\n",
    "          - 메  뉴 -\n",
    "    1. 불고기 비빔밥 : 12,000원\n",
    "    2. 야채 비빔밥 : 8,000원\n",
    "    3. 전주 비빔밥 : 10,000원\n",
    "\n",
    "    세트 주문시 : 3000원 추가\n",
    "    (세트는 밥과 반찬이 추가됩니다.)\n",
    "\n",
    "========================================\n",
    "\n",
    "비빔밥 메뉴를 선택해 주세요. 1, 2, 3 >>> 2\n",
    "세트 주문을 하시겠습니까? 3,000원 추가. y, n >>> y\n",
    "총 금액은 11000원 입니다.\n",
    "'''"
   ]
  },
  {
   "cell_type": "code",
   "execution_count": 2,
   "id": "7b97b751",
   "metadata": {},
   "outputs": [
    {
     "name": "stdout",
     "output_type": "stream",
     "text": [
      "\n",
      "KITA 식당에 오신 것을 환영합니다\n",
      "\n",
      "========================================\n",
      "\n",
      "          - 메  뉴 -\n",
      "    1. 불고기 비빔밥 : 12,000원\n",
      "    2. 야채 비빔밥 : 8,000원\n",
      "    3. 전주 비빔밥 : 10,000원\n",
      "\n",
      "    세트 주문시 : 3000원 추가\n",
      "    (세트는 밥과 반찬이 추가됩니다.)\n",
      "\n",
      "========================================\n",
      "\n",
      "\n",
      "==========================================================\n",
      "1.메뉴보기 2.주문하기 3.장바구니 4.주문완료 5.시스템종료\n",
      "==========================================================\n",
      "\n",
      "실행할 내용을 번호로 선택하세요: 2\n",
      "\n",
      "비빔밥 메뉴를 선택해 주세요. 1, 2, 3 >>>3\n",
      "세트 주문을 하시겠습니까? 3,000원 추가. y, n >>>y\n",
      "전주 비빔밥 세트 1개 추가되었습니다.\n",
      "\n",
      "==========================================================\n",
      "1.메뉴보기 2.주문하기 3.장바구니 4.주문완료 5.시스템종료\n",
      "==========================================================\n",
      "\n",
      "실행할 내용을 번호로 선택하세요: 2\n",
      "\n",
      "비빔밥 메뉴를 선택해 주세요. 1, 2, 3 >>>1\n",
      "세트 주문을 하시겠습니까? 3,000원 추가. y, n >>>n\n",
      "불고기 비빔밥 1개 추가되었습니다.\n",
      "\n",
      "==========================================================\n",
      "1.메뉴보기 2.주문하기 3.장바구니 4.주문완료 5.시스템종료\n",
      "==========================================================\n",
      "\n",
      "실행할 내용을 번호로 선택하세요: 3\n",
      "\n",
      "장바구니 보기:\n",
      "========================================\n",
      "불고기 비빔밥 : 1개\n",
      "불고기 비빔밥 세트 : 0개\n",
      "야채 비빔밥 : 0개\n",
      "야채 비빔밥 세트 : 0개\n",
      "전주 비빔밥 : 0개\n",
      "전주 비빔밥 세트 : 1개\n",
      "========================================\n",
      "\n",
      "==========================================================\n",
      "1.메뉴보기 2.주문하기 3.장바구니 4.주문완료 5.시스템종료\n",
      "==========================================================\n",
      "\n",
      "실행할 내용을 번호로 선택하세요: 4\n",
      "\n",
      "총 가격은 25000원 입니다.\n",
      "주문을 완료하여 장바구니가 초기화됩니다.\n",
      "\n",
      "==========================================================\n",
      "1.메뉴보기 2.주문하기 3.장바구니 4.주문완료 5.시스템종료\n",
      "==========================================================\n",
      "\n",
      "실행할 내용을 번호로 선택하세요: 5\n",
      "\n",
      "주문 시스템을 종료합니다.\n"
     ]
    }
   ],
   "source": [
    "intro_str = '''\n",
    "KITA 식당에 오신 것을 환영합니다\n",
    "\n",
    "========================================\n",
    "\n",
    "          - 메  뉴 -\n",
    "    1. 불고기 비빔밥 : 12,000원\n",
    "    2. 야채 비빔밥 : 8,000원\n",
    "    3. 전주 비빔밥 : 10,000원\n",
    "\n",
    "    세트 주문시 : 3000원 추가\n",
    "    (세트는 밥과 반찬이 추가됩니다.)\n",
    "\n",
    "========================================\n",
    "'''\n",
    "\n",
    "menu_dic = {'불고기 비빔밥': 0, '불고기 비빔밥 세트': 0, \n",
    "            '야채 비빔밥': 0, '야채 비빔밥 세트':0, \n",
    "            '전주 비빔밥':0, '전주 비빔밥 세트':0}\n",
    "money_dic = {'불고기 비빔밥': 12000, '불고기 비빔밥 세트': 15000, \n",
    "             '야채 비빔밥': 8000, '야채 비빔밥 세트': 11000, \n",
    "             '전주 비빔밥': 10000, '전주 비빔밥 세트': 13000}\n",
    "\n",
    "def cal_menu(m1, m2):\n",
    "    if m1 == 1 and m2 != 'y':\n",
    "        menu_dic['불고기 비빔밥'] += 1\n",
    "        print('불고기 비빔밥 1개 추가되었습니다.')\n",
    "    elif m1 == 1 and m2 == 'y':\n",
    "        menu_dic['불고기 비빔밥 세트'] += 1\n",
    "        print('불고기 비빔밥 세트 1개 추가되었습니다.')\n",
    "    elif m1 == 2 and m2 != 'y':\n",
    "        menu_dic['야채 비빔밥'] += 1\n",
    "        print('야채 비빔밥 1개 추가되었습니다.')\n",
    "    elif m1 == 2 and m2 == 'y':\n",
    "        menu_dic['야채 비빔밥 세트'] += 1\n",
    "        print('야채 비빔밥 세트 1개 추가되었습니다.')\n",
    "    elif m1 == 3 and m2 != 'y':\n",
    "        menu_dic['전주 비빔밥'] += 1\n",
    "        print('전주 비빔밥 1개 추가되었습니다.')\n",
    "    elif m1 == 3 and m2 == 'y':\n",
    "        menu_dic['전주 비빔밥 세트'] += 1\n",
    "        print('전주 비빔밥 세트 1개 추가되었습니다.')\n",
    "    else:\n",
    "        print('메뉴가 선택되지 않았습니다.')\n",
    "\n",
    "def show_money():\n",
    "    result = 0\n",
    "    for k, v in menu_dic.items():\n",
    "        if v != 0:\n",
    "            result += money_dic[k]\n",
    "    print(f'총 가격은 {result}원 입니다.')\n",
    "    print('주문을 완료하여 장바구니가 초기화됩니다.')\n",
    "    return result\n",
    "      \n",
    "def show_list():\n",
    "    print('장바구니 보기:')\n",
    "    print('========================================')\n",
    "    for k, v in menu_dic.items():\n",
    "        print(f'{k} : {v}개')\n",
    "    print('========================================')\n",
    "    \n",
    "def menu_order():\n",
    "    m1 = int(input('비빔밥 메뉴를 선택해 주세요. 1, 2, 3 >>>'))\n",
    "    m2 = str(input('세트 주문을 하시겠습니까? 3,000원 추가. y, n >>>'))\n",
    "    cal_menu(m1, m2)\n",
    "\n",
    "select_str ='''\n",
    "==========================================================\n",
    "1.메뉴보기 2.주문하기 3.장바구니 4.주문완료 5.시스템종료\n",
    "==========================================================\n",
    "'''\n",
    "cnt = 0;  # 무한 루프 방지용, 첫화면 확인\n",
    "while cnt < 20:\n",
    "    if cnt == 0:\n",
    "        print(intro_str)\n",
    "    \n",
    "    print(select_str)\n",
    "    select_order = int(input('실행할 내용을 번호로 선택하세요: '))\n",
    "    print()\n",
    "    if select_order in [1,2,3,4,5]:\n",
    "        if select_order == 1:\n",
    "            print(intro_str)\n",
    "        elif select_order == 2:\n",
    "            menu_order()\n",
    "        elif select_order == 3:\n",
    "            show_list()\n",
    "        elif select_order == 4:\n",
    "            show_money()\n",
    "            # 주문 초기화\n",
    "            menu_dic = {'불고기 비빔밥': 0, '불고기 비빔밥 세트': 0, \n",
    "            '야채 비빔밥': 0, '야채 비빔밥 세트':0, \n",
    "            '전주 비빔밥':0, '전주 비빔밥 세트':0}\n",
    "            cnt = 0\n",
    "        else:\n",
    "            print('주문 시스템을 종료합니다.')\n",
    "            break\n",
    "    else:\n",
    "        print('메뉴 안의 번호를 입력하세요')\n",
    "    cnt += 1"
   ]
  },
  {
   "cell_type": "markdown",
   "id": "250a615d",
   "metadata": {},
   "source": [
    "과제_8_1031\n",
    "- 내장함수 5개 활용하여 간단한 프로그램\n",
    "- 외장함수 5개 활용하여 간단한 프로그램\n",
    "- 사용자 함수 3개 작성\n",
    "- 리스트 작성하고 람다 함수를 이용, 한번에 결과값을 출력\n",
    "- 외부 라이브러리를 임포트하여 간단한 프로그램 만들기"
   ]
  },
  {
   "cell_type": "code",
   "execution_count": 8,
   "id": "90159bd2",
   "metadata": {},
   "outputs": [
    {
     "name": "stdout",
     "output_type": "stream",
     "text": [
      "랜덤 커플 수를 입력(1-3): 2\n",
      "커플1: 기영, 혜수\n",
      "커플2: 기수, 예나\n"
     ]
    }
   ],
   "source": [
    "# 내장함수 5개 활용하기\n",
    "# print(), len(), range(), zip(), sort(), input(), pop() 등등\n",
    "\n",
    "from random import shuffle\n",
    "\n",
    "male = ['기영','기수','준영']\n",
    "female = ['혜진','혜수','예나']\n",
    "\n",
    "shuffle(male)\n",
    "shuffle(female)\n",
    "\n",
    "p_m = []\n",
    "p_f = []\n",
    "\n",
    "cupple_num = int(input('랜덤 커플 수를 입력(1-3): '))\n",
    "\n",
    "for i in range(cupple_num):\n",
    "    p_m.append(male.pop())\n",
    "    p_f.append(female.pop())\n",
    "\n",
    "cupple_zip = list(zip(p_m, p_f))\n",
    "\n",
    "for i, cupple in enumerate(cupple_zip):\n",
    "    print(f'커플{i+1}: {cupple[0]}, {cupple[1]}')\n"
   ]
  },
  {
   "cell_type": "code",
   "execution_count": 4,
   "id": "c725ab36",
   "metadata": {
    "scrolled": true
   },
   "outputs": [
    {
     "name": "stdout",
     "output_type": "stream",
     "text": [
      "현재 파이썬의 버전을 출력합니다.\n",
      "3.10.13 | packaged by Anaconda, Inc. | (main, Sep 11 2023, 13:15:57) [MSC v.1916 64 bit (AMD64)]\n",
      "현재 파이썬 과제파일의 경로를 출력합니다.\n",
      "D:\\kdt_jyk\\workspace\\m1_programming\n",
      "현재 날짜 및 시간을 출력합니다.\n",
      "2023-11-01 10:14:54\n",
      "randint를 사용하지 않고 입력된 정수값의 범위 내 랜덤값의 정수를 출력합니다.\n",
      "정수값을 입력하세요:8\n",
      "생성된 랜덤값은 4입니다\n",
      "3.141592653589793\n"
     ]
    }
   ],
   "source": [
    "# 외장함수 5개 활용하기\n",
    "# sys, os, math, random, datetime\n",
    "\n",
    "import sys\n",
    "import os\n",
    "import math\n",
    "import random\n",
    "import datetime\n",
    "\n",
    "print('현재 파이썬의 버전을 출력합니다.')\n",
    "print(sys.version)\n",
    "print('현재 파이썬 과제파일의 경로를 출력합니다.')\n",
    "print(os.getcwd())\n",
    "print('현재 날짜 및 시간을 출력합니다.')\n",
    "time_now = datetime.datetime.now()\n",
    "print(time_now.strftime('%Y-%m-%d %H:%M:%S'))\n",
    "print('randint를 사용하지 않고 입력된 정수값의 범위 내 랜덤값의 정수를 출력합니다.')\n",
    "num_input = int(input('정수값을 입력하세요:'))\n",
    "num_random = math.ceil((random.random())*num_input)\n",
    "print(f'생성된 랜덤값은 {num_random}입니다')\n",
    "print(math.pi)\n"
   ]
  },
  {
   "cell_type": "code",
   "execution_count": null,
   "id": "19f47c46",
   "metadata": {},
   "outputs": [],
   "source": [
    "# 사용자 함수 3개 작성"
   ]
  },
  {
   "cell_type": "code",
   "execution_count": 22,
   "id": "74b8bffe",
   "metadata": {},
   "outputs": [
    {
     "name": "stdout",
     "output_type": "stream",
     "text": [
      "1일차 식단: 돈까스\n",
      "2일차 식단: 라멘\n",
      "3일차 식단: 돈까스\n",
      "4일차 식단: 순대국밥\n",
      "5일차 식단: 백반\n",
      "6일차 식단: 햄버거\n",
      "7일차 식단: 햄버거\n",
      "총 가격은 66000원 입니다.\n"
     ]
    }
   ],
   "source": [
    "# 식단 구성 및 식비 계산\n",
    "\n",
    "import random\n",
    "\n",
    "# 식단 dict 구성 입력 (음식:가격, 음식:가격 형식으로 입력)\n",
    "def food_in(ans):\n",
    "    list_f = ans.split(',')\n",
    "    dic_f = {}\n",
    "    for i in list_f:\n",
    "        cut_col = i.split(':')\n",
    "        dic_f[cut_col[0]] = cut_col[1]\n",
    "    return dic_f\n",
    "\n",
    "# 입력 일수 해당하는 랜덤 출력\n",
    "# 일차별 메뉴 리스트 구성 (중복 허용)\n",
    "def show_food(eat_days, eat_list):\n",
    "    list_eat = [random.choice(eat_list) for i in range(eat_days)]\n",
    "    for i, food in enumerate(list_eat):\n",
    "        print(f'{i+1}일차 식단: {food}')\n",
    "    return list_eat\n",
    "\n",
    "def cal_money(cal_list, car_dict):\n",
    "    result = 0\n",
    "    for i in cal_list:\n",
    "        result += int(car_dict[i])\n",
    "    print(f'총 가격은 {result}원 입니다.')\n",
    "    \n",
    "food_str = '순대국밥:9000,백반:7000,라멘:11000,돈까스:12000,햄버거:7500'\n",
    "dic_food = food_in(food_str)\n",
    "day_num = 7\n",
    "day_list = show_food(day_num, list(dic_food.keys()))\n",
    "\n",
    "cal_money(day_list, dic_food)\n",
    "\n"
   ]
  },
  {
   "cell_type": "code",
   "execution_count": null,
   "id": "a3e54d61",
   "metadata": {},
   "outputs": [],
   "source": [
    "# 리스트 작성하고 람다 함수를 이용, 한번에 결과값을 출력"
   ]
  },
  {
   "cell_type": "code",
   "execution_count": 1,
   "id": "654367b9",
   "metadata": {},
   "outputs": [
    {
     "name": "stdout",
     "output_type": "stream",
     "text": [
      "[(38, 91), (4, 83), (81, 32), (6, 78), (13, 40)]\n",
      "[(38, 91), (81, 32)]\n",
      "[129, 113]\n"
     ]
    }
   ],
   "source": [
    "import random\n",
    "\n",
    "y = list(range(1,100))\n",
    "x1 = random.sample(y, 5)\n",
    "x2 = random.sample(y, 5)\n",
    "x3 = list(zip(x1, x2))\n",
    "print(x3)\n",
    "\n",
    "# 집파일 내에서 더한값이 100 이상만 모으기\n",
    "x4 = list(filter(lambda x: x[0]+x[1] >= 100, x3))\n",
    "print(x4)\n",
    "\n",
    "# 집파일 내의 값을 더해서 리스트로 출력\n",
    "x5 = list(map(lambda x: x[0]+x[1], x4))\n",
    "print(x5)"
   ]
  },
  {
   "cell_type": "code",
   "execution_count": null,
   "id": "a3756c66",
   "metadata": {},
   "outputs": [],
   "source": [
    "# 외부 라이브러리를 임포트하여 간단한 프로그램 만들기"
   ]
  },
  {
   "cell_type": "code",
   "execution_count": 6,
   "id": "17182376",
   "metadata": {},
   "outputs": [
    {
     "name": "stdout",
     "output_type": "stream",
     "text": [
      "[210 230 320]\n",
      "[233.1 255.3 355.2]\n",
      "233.1\n",
      "255.3\n",
      "355.2\n"
     ]
    }
   ],
   "source": [
    "# numpy 어레이 실습\n",
    "import numpy as np\n",
    "\n",
    "# 연봉 11% 인상 적용\n",
    "salary = np.array([210, 230, 320])\n",
    "salary_re = salary.copy()\n",
    "salary_re = salary_re * 1.11\n",
    "\n",
    "print(salary)\n",
    "print(salary_re)\n",
    "\n",
    "for i in salary_re:\n",
    "    print(round(i,1))"
   ]
  },
  {
   "cell_type": "code",
   "execution_count": null,
   "id": "12c4499b",
   "metadata": {},
   "outputs": [],
   "source": []
  },
  {
   "cell_type": "code",
   "execution_count": null,
   "id": "61273f65",
   "metadata": {},
   "outputs": [],
   "source": []
  },
  {
   "cell_type": "code",
   "execution_count": null,
   "id": "9f910707",
   "metadata": {},
   "outputs": [],
   "source": []
  },
  {
   "cell_type": "code",
   "execution_count": null,
   "id": "9cd7c59b",
   "metadata": {},
   "outputs": [],
   "source": []
  }
 ],
 "metadata": {
  "kernelspec": {
   "display_name": "Python 3 (ipykernel)",
   "language": "python",
   "name": "python3"
  },
  "language_info": {
   "codemirror_mode": {
    "name": "ipython",
    "version": 3
   },
   "file_extension": ".py",
   "mimetype": "text/x-python",
   "name": "python",
   "nbconvert_exporter": "python",
   "pygments_lexer": "ipython3",
   "version": "3.10.13"
  }
 },
 "nbformat": 4,
 "nbformat_minor": 5
}
