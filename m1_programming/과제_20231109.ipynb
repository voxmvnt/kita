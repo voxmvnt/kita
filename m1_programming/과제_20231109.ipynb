{
 "cells": [
  {
   "cell_type": "markdown",
   "id": "dcc87c17",
   "metadata": {},
   "source": [
    "### 과제1_1109: 파이썬 오버라이딩, 오버로딩, 다형성 사례 만들기"
   ]
  },
  {
   "cell_type": "code",
   "execution_count": 4,
   "id": "faa60bd0",
   "metadata": {},
   "outputs": [
    {
     "name": "stdout",
     "output_type": "stream",
     "text": [
      "맨손으로 공격합니다.\n",
      "단검으로 공격합니다.\n",
      "\n",
      "======================================\n",
      "\n",
      "단검으로 공격합니다.\n",
      "장검으로 공격합니다.\n"
     ]
    }
   ],
   "source": [
    "class Level1:\n",
    "    def attack(self):\n",
    "        return \"맨손으로 공격합니다.\"\n",
    "        \n",
    "class Level10(Level1):\n",
    "    def attack(self, weapon=\"단검\"):\n",
    "        return f\"{weapon}으로 공격합니다.\"\n",
    "        \n",
    "man1 = Level1()\n",
    "man2 = Level10()\n",
    "\n",
    "def attacking(man):\n",
    "    print(man.attack())\n",
    "    \n",
    "attacking(man1)\n",
    "attacking(man2)\n",
    "\n",
    "print(\"\\n======================================\\n\")\n",
    "\n",
    "print(man2.attack())\n",
    "print(man2.attack(\"장검\"))"
   ]
  },
  {
   "cell_type": "markdown",
   "id": "bdc884ae",
   "metadata": {},
   "source": [
    "## 과제 2 - 6 은 객체(문제방식)지향, 구조지향 2가지 방식으로 진행"
   ]
  },
  {
   "cell_type": "markdown",
   "id": "a6969a00",
   "metadata": {},
   "source": [
    "### 과제2_1109: 은행 계좌 클래스 만들기\n",
    "은행 계좌를 나타내는 BankAccount 클래스를 만들고, 입금, 출금, 잔액 확인 기능을 가지게 하세요.<br>\n",
    "출금 시 잔액이 부족할 경우 오류 메시지를 출력하는 예외 처리를 포함하세요."
   ]
  },
  {
   "cell_type": "code",
   "execution_count": 12,
   "id": "edf49cdf",
   "metadata": {},
   "outputs": [
    {
     "name": "stdout",
     "output_type": "stream",
     "text": [
      "잔액: 50000\n",
      "2000원 입금되었습니다.\n",
      "잔액이 부족합니다.\n",
      "7000원 출금되었습니다.\n",
      "잔액: 45000\n"
     ]
    }
   ],
   "source": [
    "# 객체\n",
    "class Bank:\n",
    "    def __init__(self, money=50000):\n",
    "        self.money = money\n",
    "        \n",
    "    def deposit(self, m):\n",
    "        self.money += m\n",
    "        print(f\"{m}원 입금되었습니다.\")\n",
    "    \n",
    "    def withdraw(self, m):\n",
    "        if m > self.money: \n",
    "            print(\"잔액이 부족합니다.\")\n",
    "            return\n",
    "        self.money -= m\n",
    "        print(f\"{m}원 출금되었습니다.\")\n",
    "    \n",
    "    def show(self):\n",
    "        print(f\"잔액: {self.money}\")\n",
    "    \n",
    "man = Bank()\n",
    "man.show()\n",
    "man.deposit(2000)\n",
    "man.withdraw(90000)\n",
    "man.withdraw(7000)\n",
    "man.show()"
   ]
  },
  {
   "cell_type": "code",
   "execution_count": 13,
   "id": "df1fa46c",
   "metadata": {
    "scrolled": true
   },
   "outputs": [
    {
     "name": "stdout",
     "output_type": "stream",
     "text": [
      "잔액: 50000\n",
      "2000원 입금되었습니다.\n",
      "잔액이 부족합니다.\n",
      "7000원 출금되었습니다.\n",
      "잔액: 45000\n"
     ]
    }
   ],
   "source": [
    "# 구조\n",
    "my_money = 50000\n",
    "\n",
    "def deposit(m):\n",
    "    global my_money\n",
    "    my_money += m\n",
    "    print(f\"{m}원 입금되었습니다.\")\n",
    "\n",
    "def withdraw(m):\n",
    "    global my_money\n",
    "    if m > my_money: \n",
    "        print(\"잔액이 부족합니다.\")\n",
    "        return\n",
    "    my_money -= m\n",
    "    print(f\"{m}원 출금되었습니다.\")\n",
    "\n",
    "def show():\n",
    "    global my_money\n",
    "    print(f\"잔액: {my_money}\")\n",
    "    \n",
    "show()\n",
    "deposit(2000)\n",
    "withdraw(90000)\n",
    "withdraw(7000)\n",
    "show()"
   ]
  },
  {
   "cell_type": "code",
   "execution_count": null,
   "id": "f46ad923",
   "metadata": {},
   "outputs": [],
   "source": [
    "# 강사님 모범답안 객체지향\n",
    "class BankAccount:\n",
    "    def __init__(self, owner, balance=0):\n",
    "        self.owner = owner\n",
    "        self.balance = balance\n",
    "\n",
    "    def deposit(self, amount):\n",
    "        if amount > 0:\n",
    "            self.balance += amount\n",
    "            print(f\"{amount}원이 입금되었습니다.\")\n",
    "        else:\n",
    "            print(\"금액은 양수여야 합니다.\")\n",
    "\n",
    "    def withdraw(self, amount):\n",
    "        if amount > self.balance:\n",
    "            print(\"잔액이 부족합니다.\")\n",
    "        else:\n",
    "            self.balance -= amount\n",
    "            print(f\"{amount}원이 출금되었습니다.\")\n",
    "\n",
    "    def get_balance(self):\n",
    "        return f\"현재 잔액은 {self.balance}원입니다.\"\n",
    "\n",
    "# 사용 예\n",
    "account = BankAccount(\"홍길동\", 1000)\n",
    "account.deposit(500)\n",
    "account.withdraw(200)\n",
    "print(account.get_balance())"
   ]
  },
  {
   "cell_type": "code",
   "execution_count": null,
   "id": "cb50d030",
   "metadata": {},
   "outputs": [],
   "source": [
    "# 강사님 모범답안 구조지향\n",
    "def create_account(owner, balance=0):\n",
    "    return {\"owner\": owner, \"balance\": balance}\n",
    "\n",
    "def deposit(account, amount):\n",
    "    if amount > 0:\n",
    "        account['balance'] += amount\n",
    "        print(f\"{amount}원이 입금되었습니다.\")\n",
    "    else:\n",
    "        print(\"금액은 양수여야 합니다.\")\n",
    "\n",
    "def withdraw(account, amount):\n",
    "    if amount > account['balance']:\n",
    "        print(\"잔액이 부족합니다.\")\n",
    "    else:\n",
    "        account['balance'] -= amount\n",
    "        print(f\"{amount}원이 출금되었습니다.\")\n",
    "\n",
    "def get_balance(account):\n",
    "    return f\"현재 잔액은 {account['balance']}원입니다.\"\n",
    "\n",
    "# 사용 예\n",
    "account = create_account(\"홍길동\", 1000)\n",
    "print(account)\n",
    "deposit(account, 500)\n",
    "withdraw(account, 200)\n",
    "print(get_balance(account))"
   ]
  },
  {
   "cell_type": "markdown",
   "id": "7f1e0fc0",
   "metadata": {},
   "source": [
    "### 과제3_1109: 책 클래스 만들기\n",
    "책을 나타내는 Book 클래스를 만들고, 제목, 저자, ISBN, 가격을 속성으로 가지게 하세요.<br>\n",
    "또한 책의 정보를 출력하는 메서드를 만드세요."
   ]
  },
  {
   "cell_type": "code",
   "execution_count": 1,
   "id": "f3ca479f",
   "metadata": {},
   "outputs": [
    {
     "name": "stdout",
     "output_type": "stream",
     "text": [
      "책의 제목은 오발탄, 작가는 이범선, 발행번호는 BBB00124, 가격은 8500원 입니다.\n"
     ]
    }
   ],
   "source": [
    "# 객체\n",
    "class Book:\n",
    "    def __init__(self, title, author, isbn, price):\n",
    "        self.title = title\n",
    "        self.author = author\n",
    "        self.isbn = isbn\n",
    "        self.price = price\n",
    "        \n",
    "    def show_info(self):\n",
    "        print(f\"책의 제목은 {self.title}, 작가는 {self.author}, 발행번호는 {self.isbn}, 가격은 {self.price}원 입니다.\")\n",
    "        \n",
    "result3 = Book(\"오발탄\", \"이범선\", \"BBB00124\", \"8500\")\n",
    "result3.show_info()"
   ]
  },
  {
   "cell_type": "code",
   "execution_count": 14,
   "id": "8d84ee10",
   "metadata": {},
   "outputs": [
    {
     "name": "stdout",
     "output_type": "stream",
     "text": [
      "책의 제목은 오발탄, 작가는 이범선, 발행번호는 BBB00124, 가격은 8500원 입니다.\n"
     ]
    }
   ],
   "source": [
    "# 구조\n",
    "\n",
    "def show_info(*args):\n",
    "    print(f\"책의 제목은 {args[0]}, 작가는 {args[1]}, 발행번호는 {args[2]}, 가격은 {args[3]}원 입니다.\")\n",
    "    \n",
    "show_info(\"오발탄\", \"이범선\", \"BBB00124\", \"8500\")"
   ]
  },
  {
   "cell_type": "markdown",
   "id": "009fa743",
   "metadata": {},
   "source": [
    "### 과제4_1109: 도형 계산 클래스 만들기\n",
    "Rectangle 및 Circle 클래스를 만들고 각각 너비, 높이, 반지름을 속성으로 가지게 하세요.<br>\n",
    "각 클래스에 면적을 계산하는 메서드를 추가하고, 두 도형의 면적을 비교하는 외부 함수를 작성하세요."
   ]
  },
  {
   "cell_type": "code",
   "execution_count": 20,
   "id": "1a1ede66",
   "metadata": {},
   "outputs": [
    {
     "name": "stdout",
     "output_type": "stream",
     "text": [
      "20\n",
      "50.27\n",
      "두 도형 면적은  30.27값 만큼 차이납니다.\n"
     ]
    }
   ],
   "source": [
    "# 객체\n",
    "import math\n",
    "class Rectangle:\n",
    "    def __init__(self, width, height):\n",
    "        self.width = width\n",
    "        self.height = height\n",
    "    \n",
    "    def cal_area(self):\n",
    "        return self.width * self.height\n",
    "        \n",
    "class Circle:\n",
    "    def __init__(self, radius):\n",
    "        self.radius = radius\n",
    "        \n",
    "    def cal_area(self):\n",
    "        return round((self.radius ** 2) * math.pi, 2)\n",
    "    \n",
    "def sub_area(a1, a2):\n",
    "    print(f\"두 도형 면적은 {abs(a1 - a2): 0.2f}값 만큼 차이납니다.\")\n",
    "    \n",
    "r = Rectangle(5, 4)\n",
    "c = Circle(4)\n",
    "a1 = r.cal_area()\n",
    "print(r.cal_area())\n",
    "a2 =  c.cal_area()\n",
    "print(c.cal_area())\n",
    "sub_area(a1,a2)"
   ]
  },
  {
   "cell_type": "code",
   "execution_count": 21,
   "id": "a1406bd9",
   "metadata": {},
   "outputs": [
    {
     "name": "stdout",
     "output_type": "stream",
     "text": [
      "사각형의 면적은 20입니다.\n",
      "원의 면적은 50.27입니다.\n",
      "두 도형 면적은  30.27값 만큼 차이납니다.\n"
     ]
    }
   ],
   "source": [
    "# 구조\n",
    "import math\n",
    "def cal_rec(w,h):\n",
    "    print(f\"사각형의 면적은 {w * h}입니다.\")\n",
    "    return w * h\n",
    "\n",
    "def cal_cir(r):\n",
    "    print(f\"원의 면적은 {(r ** 2) * math.pi:0.2f}입니다.\")\n",
    "    return round((r ** 2) * math.pi, 2)\n",
    "\n",
    "def sub_area(a1, a2):\n",
    "    print(f\"두 도형 면적은 {abs(a1 - a2): 0.2f}값 만큼 차이납니다.\")\n",
    "    \n",
    "a1 = cal_rec(5,4)\n",
    "a2 = cal_cir(4)\n",
    "sub_area(a1,a2)"
   ]
  },
  {
   "cell_type": "markdown",
   "id": "a33e66c3",
   "metadata": {},
   "source": [
    "### 과제5_1109: 차량 클래스 만들기\n",
    "Vehicle 클래스를 만들고, 이를 상속받아 Car와 Truck 클래스를 만드세요.<br>\n",
    "각 차량에는 제조사, 모델, 연료 타입 속성이 있어야 하고, 각 클래스에 고유한 메서드를 추가하세요.<br> \n",
    "(예: Car에는 honk 메서드, Truck에는 load_cargo 메서드)."
   ]
  },
  {
   "cell_type": "code",
   "execution_count": 4,
   "id": "ca8f3873",
   "metadata": {},
   "outputs": [
    {
     "name": "stdout",
     "output_type": "stream",
     "text": [
      "빵빵\n",
      "화물 적재를 위해 문이 열립니다.\n"
     ]
    }
   ],
   "source": [
    "# 객체\n",
    "class Vehicle:\n",
    "    def __init__(self, brand, model, fuel):\n",
    "        self.brand = brand\n",
    "        self.model = model\n",
    "        self.fuel = fuel\n",
    "        \n",
    "class Car(Vehicle):\n",
    "    def __init__(self, brand, model, fuel):\n",
    "        super().__init__(brand, model, fuel)\n",
    "    \n",
    "    def honk(self):\n",
    "        print(\"빵빵\")\n",
    "\n",
    "class Truck(Vehicle):\n",
    "    def __init__(self, brand, model, fuel):\n",
    "        super().__init__(brand, model, fuel)\n",
    "        \n",
    "    def load_cargo(self):\n",
    "        print(\"화물 적재를 위해 문이 열립니다.\")\n",
    "        \n",
    "car1 = Car(\"BMW\", \"Normal002\", \"휘발유\")\n",
    "car2 = Truck(\"Kia\", \"Truck004\", \"경유\")\n",
    "\n",
    "car1.honk()\n",
    "car2.load_cargo()\n"
   ]
  },
  {
   "cell_type": "code",
   "execution_count": 6,
   "id": "9798122e",
   "metadata": {},
   "outputs": [
    {
     "name": "stdout",
     "output_type": "stream",
     "text": [
      "빵빵\n",
      "=========================\n",
      "=========================\n",
      "=========================\n",
      "화물 적재를 위해 문이 열립니다.\n"
     ]
    }
   ],
   "source": [
    "# 구조\n",
    "c1 = \"BMW\", \"Normal002\", \"휘발유\",\"Car\"\n",
    "c2 = \"Kia\", \"Truck004\", \"경유\",\"Truck\"\n",
    "\n",
    "def honk(val):\n",
    "    if val[-1] == \"Car\":\n",
    "        print(\"빵빵\")\n",
    "\n",
    "def load_cargo(val):\n",
    "    if val[-1] == \"Truck\":\n",
    "        print(\"화물 적재를 위해 문이 열립니다.\")\n",
    "        \n",
    "honk(c1)\n",
    "print(\"=\"*25)\n",
    "honk(c2)\n",
    "print(\"=\"*25)\n",
    "load_cargo(c1)\n",
    "print(\"=\"*25)\n",
    "load_cargo(c2)"
   ]
  },
  {
   "cell_type": "markdown",
   "id": "a6a0900a",
   "metadata": {},
   "source": [
    "### 과제6_1109: 학생과 교수 클래스 만들기\n",
    "Person 클래스를 만들고 이를 상속받아 Student와 Professor 클래스를 구현하세요. <br>\n",
    "Person 클래스에는 이름과 나이가 있어야 하고,<br>\n",
    "Student 클래스에는 학번과 전공, Professor 클래스에는 직원번호와 연구분야를 추가하세요.<br>\n",
    "각 클래스에 적합한 메서드도 추가해보세요."
   ]
  },
  {
   "cell_type": "code",
   "execution_count": 7,
   "id": "9e5d4d3c",
   "metadata": {},
   "outputs": [
    {
     "name": "stdout",
     "output_type": "stream",
     "text": [
      "제 나이는 27살 입니다.\n",
      "제 나이는 45살 입니다.\n",
      "안녕하세요. 학생입니다. 전공은 화학입니다.\n",
      "안녕하세요. 교수입니다. 연구분야는 진동학입니다.\n"
     ]
    }
   ],
   "source": [
    "# 객체\n",
    "class Person:\n",
    "    def __init__(self, name, age):\n",
    "        self.name = name\n",
    "        self.age = age\n",
    "    \n",
    "    def show_age(self):\n",
    "        print(f\"제 나이는 {self.age}살 입니다.\")\n",
    "\n",
    "class Student(Person):\n",
    "    def __init__(self, name, age, s_id, major):\n",
    "        super().__init__(name, age)\n",
    "        self.s_id = s_id\n",
    "        self.major = major\n",
    "        \n",
    "    def greeting(self):\n",
    "        print(f\"안녕하세요. 학생입니다. 전공은 {self.major}입니다.\")\n",
    "        \n",
    "class Professor(Person):\n",
    "    def __init__(self, name, age, p_id, field):\n",
    "        super().__init__(name, age)\n",
    "        self.p_id = p_id\n",
    "        self.field = field\n",
    "        \n",
    "    def greeting(self):\n",
    "        print(f\"안녕하세요. 교수입니다. 연구분야는 {self.field}입니다.\")\n",
    "        \n",
    "s = Student(\"이승엽\", 27,\"20113405\", \"화학\")\n",
    "p = Professor(\"김학도\", 45, \"PE024\", \"진동학\")\n",
    "\n",
    "s.show_age()\n",
    "p.show_age()\n",
    "s.greeting()\n",
    "p.greeting()"
   ]
  },
  {
   "cell_type": "code",
   "execution_count": 8,
   "id": "0d161d90",
   "metadata": {},
   "outputs": [
    {
     "name": "stdout",
     "output_type": "stream",
     "text": [
      "안녕하세요. 학생입니다. 전공은 화학입니다.\n",
      "안녕하세요. 교수입니다. 연구분야는 진동학입니다.\n"
     ]
    }
   ],
   "source": [
    "# 구조\n",
    "s = \"이승엽\", 27,\"20113405\", \"화학\", \"student\"\n",
    "p = \"김학도\", 45, \"PE024\", \"진동학\", \"professor\"\n",
    "\n",
    "def greeting(val):\n",
    "    if val[-1] == \"student\":\n",
    "        print(f\"안녕하세요. 학생입니다. 전공은 {val[-2]}입니다.\")\n",
    "    elif val[-1] == \"professor\":\n",
    "        print(f\"안녕하세요. 교수입니다. 연구분야는 {val[-2]}입니다.\")\n",
    "        \n",
    "greeting(s)\n",
    "greeting(p)"
   ]
  },
  {
   "cell_type": "code",
   "execution_count": null,
   "id": "e4f087c1",
   "metadata": {},
   "outputs": [],
   "source": []
  },
  {
   "cell_type": "code",
   "execution_count": null,
   "id": "a03c06b1",
   "metadata": {},
   "outputs": [],
   "source": []
  },
  {
   "cell_type": "code",
   "execution_count": null,
   "id": "10c0c32d",
   "metadata": {},
   "outputs": [],
   "source": []
  },
  {
   "cell_type": "code",
   "execution_count": null,
   "id": "dfbbb574",
   "metadata": {},
   "outputs": [],
   "source": []
  },
  {
   "cell_type": "code",
   "execution_count": null,
   "id": "8ad70e5f",
   "metadata": {},
   "outputs": [],
   "source": []
  },
  {
   "cell_type": "code",
   "execution_count": null,
   "id": "d656ae7e",
   "metadata": {},
   "outputs": [],
   "source": []
  },
  {
   "cell_type": "code",
   "execution_count": null,
   "id": "954028e7",
   "metadata": {},
   "outputs": [],
   "source": []
  },
  {
   "cell_type": "code",
   "execution_count": null,
   "id": "9d43a738",
   "metadata": {},
   "outputs": [],
   "source": []
  },
  {
   "cell_type": "code",
   "execution_count": null,
   "id": "e8ef0b22",
   "metadata": {},
   "outputs": [],
   "source": []
  },
  {
   "cell_type": "code",
   "execution_count": null,
   "id": "76da7899",
   "metadata": {},
   "outputs": [],
   "source": []
  },
  {
   "cell_type": "code",
   "execution_count": null,
   "id": "15e03e3a",
   "metadata": {},
   "outputs": [],
   "source": []
  },
  {
   "cell_type": "code",
   "execution_count": null,
   "id": "df48d6e5",
   "metadata": {},
   "outputs": [],
   "source": []
  },
  {
   "cell_type": "code",
   "execution_count": null,
   "id": "fb5a5e21",
   "metadata": {},
   "outputs": [],
   "source": []
  }
 ],
 "metadata": {
  "kernelspec": {
   "display_name": "Python 3 (ipykernel)",
   "language": "python",
   "name": "python3"
  },
  "language_info": {
   "codemirror_mode": {
    "name": "ipython",
    "version": 3
   },
   "file_extension": ".py",
   "mimetype": "text/x-python",
   "name": "python",
   "nbconvert_exporter": "python",
   "pygments_lexer": "ipython3",
   "version": "3.10.13"
  }
 },
 "nbformat": 4,
 "nbformat_minor": 5
}
