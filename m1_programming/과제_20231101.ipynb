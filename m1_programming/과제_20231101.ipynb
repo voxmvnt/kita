{
 "cells": [
  {
   "cell_type": "code",
   "execution_count": null,
   "id": "b9373507",
   "metadata": {},
   "outputs": [],
   "source": [
    "# 과제1_1101 : 사용자 함수를 아래와 같이 사용할 수 있는 func3를 작성하세요.\n",
    "func3(100, 200)  \n",
    "# 출력: Width: 100, Height: 200, Color: blue, Thickness: 1\n",
    "\n",
    "func3(100, 200, color='green', thickness=10)  \n",
    "# 출력: Width: 100, Height: 200, Color: green, Thickness: 10"
   ]
  },
  {
   "cell_type": "code",
   "execution_count": 6,
   "id": "42da1f0f",
   "metadata": {},
   "outputs": [
    {
     "name": "stdout",
     "output_type": "stream",
     "text": [
      "Width: 100, Height: 200, color: green, thickness: 10\n"
     ]
    }
   ],
   "source": [
    "def func3(width, height, **kwargs):\n",
    "    dic_text = str(kwargs)[1:-1].replace(\"'\", \"\")\n",
    "    text3=f'Width: {width}, Height: {height}, {dic_text}'\n",
    "    print(text3)\n",
    "\n",
    "func3(100,200, color='green', thickness=10)"
   ]
  },
  {
   "cell_type": "code",
   "execution_count": 5,
   "id": "a6e9b6e5",
   "metadata": {},
   "outputs": [
    {
     "name": "stdout",
     "output_type": "stream",
     "text": [
      "color: yellow\n",
      "style: dotted\n"
     ]
    }
   ],
   "source": [
    "# 과제2_1101 : 아래와 같이 출력되도록 func4를 작성하세요\n",
    "def func4(width, height, **kwargs):\n",
    "    for key, value in kwargs.items():\n",
    "        print(f\"{key}: {value}\")\n",
    "   \n",
    "func4(100, 200, color='yellow', style='dotted')\n",
    "# 출력:\n",
    "# color: yellow\n",
    "# style: dotted"
   ]
  },
  {
   "cell_type": "code",
   "execution_count": null,
   "id": "f611c65f",
   "metadata": {},
   "outputs": [],
   "source": [
    "# 과제3_1101 : 뻴셈, 나눗셈 멀티 계산 함수 sub_div를 작성\n",
    "('-', 2,4,6,8,10)\n",
    "('/', 2,4,6,8,10)"
   ]
  },
  {
   "cell_type": "code",
   "execution_count": 7,
   "id": "a09d49fc",
   "metadata": {},
   "outputs": [
    {
     "name": "stdout",
     "output_type": "stream",
     "text": [
      "-26\n",
      "0.0010416666666666667\n"
     ]
    }
   ],
   "source": [
    "import math\n",
    "\n",
    "def sub_div(choice, *args):\n",
    "    mul_list = args[1:]\n",
    "    if choice == '-':\n",
    "        return args[0] - sum(mul_list)\n",
    "    elif choice == '/':\n",
    "        return args[0] / math.prod(mul_list)\n",
    "    else:\n",
    "        print('수행할 수 없는 연산입니다')\n",
    "\n",
    "print(sub_div('-', 2,4,6,8,10))\n",
    "print(sub_div('/', 2,4,6,8,10))"
   ]
  },
  {
   "cell_type": "code",
   "execution_count": null,
   "id": "54f8361f",
   "metadata": {},
   "outputs": [],
   "source": [
    "# 과제4_1101 : 아래 사용자 함수에서 결과가 아래와 같이 출력되도록 완성하세요.\n",
    "함수 내에서의 x 값: 20\n",
    "함수 밖에서의 x 값: 20"
   ]
  },
  {
   "cell_type": "code",
   "execution_count": 8,
   "id": "00866b38",
   "metadata": {},
   "outputs": [
    {
     "name": "stdout",
     "output_type": "stream",
     "text": [
      "함수 내에서의 x 값: 20\n",
      "함수 밖에서의 x 값: 20\n"
     ]
    }
   ],
   "source": [
    "x = 10\n",
    "\n",
    "def modify_global():\n",
    "    global x\n",
    "    x = 20\n",
    "    print(\"함수 내에서의 x 값:\", x)\n",
    "    \n",
    "modify_global()\n",
    "print(\"함수 밖에서의 x 값:\", x)"
   ]
  },
  {
   "cell_type": "code",
   "execution_count": null,
   "id": "02eda996",
   "metadata": {},
   "outputs": [],
   "source": [
    "# 과제5_1101 : 원하는 데이터를 생성하고 저장한 뒤, 다시 읽어오세요."
   ]
  },
  {
   "cell_type": "code",
   "execution_count": null,
   "id": "597331ba",
   "metadata": {},
   "outputs": [],
   "source": [
    "with open('sample_5_1101.txt','w') as f:\n",
    "    f.write('1-100 사이 4의배수를 순서대로 씁니다.\\n')\n",
    "    for idx, value in enumerate(range(4, 100, 4)):\n",
    "        data = '4의배수 %d번째는 %d 입니다.\\n' %(idx+1, value)\n",
    "        f.write(data)"
   ]
  },
  {
   "cell_type": "code",
   "execution_count": 2,
   "id": "81a868f8",
   "metadata": {},
   "outputs": [
    {
     "name": "stdout",
     "output_type": "stream",
     "text": [
      "1-100 사이 4의배수를 순서대로 씁니다.\n",
      "4의배수 1번째는 4 입니다.\n",
      "4의배수 2번째는 8 입니다.\n",
      "4의배수 3번째는 12 입니다.\n",
      "4의배수 4번째는 16 입니다.\n",
      "4의배수 5번째는 20 입니다.\n",
      "4의배수 6번째는 24 입니다.\n",
      "4의배수 7번째는 28 입니다.\n",
      "4의배수 8번째는 32 입니다.\n",
      "4의배수 9번째는 36 입니다.\n",
      "4의배수 10번째는 40 입니다.\n",
      "4의배수 11번째는 44 입니다.\n",
      "4의배수 12번째는 48 입니다.\n",
      "4의배수 13번째는 52 입니다.\n",
      "4의배수 14번째는 56 입니다.\n",
      "4의배수 15번째는 60 입니다.\n",
      "4의배수 16번째는 64 입니다.\n",
      "4의배수 17번째는 68 입니다.\n",
      "4의배수 18번째는 72 입니다.\n",
      "4의배수 19번째는 76 입니다.\n",
      "4의배수 20번째는 80 입니다.\n",
      "4의배수 21번째는 84 입니다.\n",
      "4의배수 22번째는 88 입니다.\n",
      "4의배수 23번째는 92 입니다.\n",
      "4의배수 24번째는 96 입니다.\n",
      "\n"
     ]
    }
   ],
   "source": [
    "with open('sample_5_1101.txt','r') as f:\n",
    "    data = f.read()\n",
    "    print(data)"
   ]
  },
  {
   "cell_type": "code",
   "execution_count": null,
   "id": "4a2c58be",
   "metadata": {},
   "outputs": [],
   "source": [
    "도전과제6_1101 :\n",
    "텍스트 파일(mydata.txt)을 읽고  파일의 내용에서 나타나는 문자들에 대해 자주 나타나는 문자들을 아래와 같이 순서대로 출력하세요.\n",
    "- \\[ \\] -> [177]회 나타남\n",
    "- [e] -> [97]회 나타남\n",
    "- [t] -> [85]회 나타남"
   ]
  },
  {
   "cell_type": "code",
   "execution_count": null,
   "id": "d3aecb07",
   "metadata": {},
   "outputs": [],
   "source": [
    "with open('mydata.txt','w') as f:\n",
    "    f.write(\n",
    "'''\n",
    "a lot of things occur each day\n",
    "we've got to live with on our way\n",
    "there's so much misery on the screen\n",
    "with commercials in between\n",
    "\n",
    "and the russians won't be so late\n",
    "uncle sam don't want to wait\n",
    "no matter if you're black or white\n",
    "you never ever had a right\n",
    "\n",
    "and look up to the eternal skies\n",
    "see warfare even there\n",
    "what once has been a paradise\n",
    "now destruction and despair\n",
    "\n",
    "in other worlds the children die\n",
    "lacking food ill from a fly\n",
    "oppressed by troops to tame their land\n",
    "it's all the same again\n",
    "\n",
    "if any man is free on earth\n",
    "then tormentors steal his birth\n",
    "they slam gun butts in his face\n",
    "and leave his woman choked in mace\n",
    "\n",
    "so stand up for our human rights\n",
    "push back this pest of hate\n",
    "raise you voice pass on the light\n",
    "unite! it's not too late\n",
    "\n",
    "how many tears flow away\n",
    "to become a sea of fears\n",
    "how many hearts are torn apart\n",
    "till another torment starts\n",
    "\n",
    "but before the world\n",
    "turns into a sun\n",
    "all cruelty and violence\n",
    "on earth will be dead and gone\n",
    "\n",
    "so stand up for our human rights\n",
    "push back this pest of hate\n",
    "raise you voice pass on the light\n",
    "unite! it's not too late\n",
    "''')"
   ]
  },
  {
   "cell_type": "code",
   "execution_count": 5,
   "id": "522d9c6e",
   "metadata": {
    "collapsed": true
   },
   "outputs": [
    {
     "name": "stdout",
     "output_type": "stream",
     "text": [
      "[t ] -> [ 85]회 나타남\n",
      "[o ] -> [ 73]회 나타남\n",
      "[! ] -> [  2]회 나타남\n",
      "[v ] -> [  9]회 나타남\n",
      "[m ] -> [ 20]회 나타남\n",
      "[c ] -> [ 23]회 나타남\n",
      "[l ] -> [ 34]회 나타남\n",
      "[k ] -> [  7]회 나타남\n",
      "[h ] -> [ 48]회 나타남\n",
      "[p ] -> [ 15]회 나타남\n",
      "[\\n] -> [ 45]회 나타남 (해당란은 줄바꿈의 사용횟수를 표시)\n",
      "[g ] -> [ 11]회 나타남\n",
      "[' ] -> [  8]회 나타남\n",
      "[y ] -> [ 15]회 나타남\n",
      "[w ] -> [ 20]회 나타남\n",
      "[i ] -> [ 50]회 나타남\n",
      "[b ] -> [ 13]회 나타남\n",
      "[u ] -> [ 27]회 나타남\n",
      "[d ] -> [ 24]회 나타남\n",
      "[r ] -> [ 54]회 나타남\n",
      "[  ] -> [177]회 나타남 (해당란은 공백값의 사용횟수를 표시)\n",
      "[f ] -> [ 17]회 나타남\n",
      "[n ] -> [ 60]회 나타남\n",
      "[a ] -> [ 78]회 나타남\n",
      "[s ] -> [ 60]회 나타남\n",
      "[e ] -> [ 97]회 나타남\n"
     ]
    }
   ],
   "source": [
    "read_all = ''\n",
    "with open('mydata.txt','r') as f:\n",
    "    read_all = f.read()\n",
    "    \n",
    "str_set = set(read_all)\n",
    "str_dict = {}\n",
    "\n",
    "for i in str_set:\n",
    "    str_dict[i] = read_all.count(i)\n",
    "\n",
    "# str_dict = sorted(str_dict.items(), key= lambda x: x[1], reverse=True)\n",
    "# 딕셔너리를 밸류값 기준으로 솔트.\n",
    "    \n",
    "for k, v in str_dict.items():\n",
    "    if k == '\\n':\n",
    "        k = '\\\\n'\n",
    "        \n",
    "    if k == ' ':\n",
    "        print(f'[{k:2}] -> [{v:3}]회 나타남 (해당란은 공백값의 사용횟수를 표시)')\n",
    "    elif k == '\\\\n':\n",
    "        print(f'[{k:2}] -> [{v:3}]회 나타남 (해당란은 줄바꿈의 사용횟수를 표시)')\n",
    "    else:\n",
    "        print(f'[{k:2}] -> [{v:3}]회 나타남')\n",
    "    "
   ]
  },
  {
   "cell_type": "code",
   "execution_count": 11,
   "id": "c6b81a74",
   "metadata": {
    "collapsed": true
   },
   "outputs": [
    {
     "name": "stdout",
     "output_type": "stream",
     "text": [
      "\n",
      "a lot of things occur each day\n",
      "we've got to live with on our way\n",
      "there's so much misery on the screen\n",
      "with commercials in between\n",
      "\n",
      "and the russians won't be so late\n",
      "uncle sam don't want to wait\n",
      "no matter if you're black or white\n",
      "you never ever had a right\n",
      "\n",
      "and look up to the eternal skies\n",
      "see warfare even there\n",
      "what once has been a paradise\n",
      "now destruction and despair\n",
      "\n",
      "in other worlds the children die\n",
      "lacking food ill from a fly\n",
      "oppressed by troops to tame their land\n",
      "it's all the same again\n",
      "\n",
      "if any man is free on earth\n",
      "then tormentors steal his birth\n",
      "they slam gun butts in his face\n",
      "and leave his woman choked in mace\n",
      "\n",
      "so stand up for our human rights\n",
      "push back this pest of hate\n",
      "raise you voice pass on the light\n",
      "unite! it's not too late\n",
      "\n",
      "how many tears flow away\n",
      "to become a sea of fears\n",
      "how many hearts are torn apart\n",
      "till another torment starts\n",
      "\n",
      "but before the world\n",
      "turns into a sun\n",
      "all cruelty and violence\n",
      "on earth will be dead and gone\n",
      "\n",
      "so stand up for our human rights\n",
      "push back this pest of hate\n",
      "raise you voice pass on the light\n",
      "unite! it's not too late\n",
      "\n",
      "[('e', 97), ('t', 85), ('a', 78), ('o', 73), ('n', 60), ('s', 60), ('r', 54), ('i', 50), ('h', 48), ('l', 34), ('u', 27), ('d', 24), ('c', 23), ('m', 20), ('w', 20), ('f', 17), ('p', 15), ('y', 15), ('b', 13), ('g', 11), ('v', 9), ('k', 7)]\n",
      "==================================================\n",
      "가장 많이 나온 단어 5개를 뽑아 봤습니다.\n",
      "[e] -> [97]회 나타남\n",
      "[t] -> [85]회 나타남\n",
      "[a] -> [78]회 나타남\n",
      "[o] -> [73]회 나타남\n",
      "[n] -> [60]회 나타남\n"
     ]
    }
   ],
   "source": [
    "#서영우씨 답\n",
    "\n",
    "with open('mydata.txt', 'r') as f:\n",
    "    data = f.read()\n",
    "    print(data)\n",
    "words_list = data # 데이터 받음\n",
    "words_list = list(words_list.replace(',', '').replace('.', '').replace('\\n', '').replace(\"'\", \"\").replace('!','').replace(' ','')) # 잡다한거 지우고 리스트화\n",
    "words_set = set(words_list) # 리스트를 세트화한것을 변수에 저장\n",
    "words_listed_set = list(words_set) # 세트화한 변수를 리스트화\n",
    "word_frequency = {word : 0 for word in words_listed_set} # 세트화한 변수를 리스트화한 리스트를 딕셔너리화\n",
    "for word in words_list: # 글자가 있는 리스트에서 글자하나씩 떼고\n",
    "    if word in word_frequency: # 딕셔너리안에 있는 글자들도 하나씩 떼서\n",
    "        word_frequency[word] += 1 # 딕셔너리[글자] = 갯수 - 돌린다.\n",
    "word_frequency = sorted(word_frequency.items(), key= lambda x: x[1], reverse=True) # 많은 순서대로 나열했습니다. 순서를 가장 많은것부터 오게 첫번째부터\n",
    "\n",
    "# 딕셔너리 솔트하면 리스트+튜플로 정리됨.\n",
    "print(word_frequency)\n",
    "print('=' * 50)\n",
    "print('가장 많이 나온 단어 5개를 뽑아 봤습니다.')\n",
    "for i in range(5):\n",
    "    print(f'[{word_frequency[i][0]}] -> [{word_frequency[i][1]}]회 나타남')"
   ]
  },
  {
   "cell_type": "code",
   "execution_count": null,
   "id": "cd0b7a98",
   "metadata": {},
   "outputs": [],
   "source": []
  },
  {
   "cell_type": "code",
   "execution_count": null,
   "id": "6dfbcef3",
   "metadata": {},
   "outputs": [],
   "source": []
  },
  {
   "cell_type": "code",
   "execution_count": null,
   "id": "4b144181",
   "metadata": {},
   "outputs": [],
   "source": []
  },
  {
   "cell_type": "code",
   "execution_count": null,
   "id": "e8107dfc",
   "metadata": {},
   "outputs": [],
   "source": []
  }
 ],
 "metadata": {
  "kernelspec": {
   "display_name": "Python 3 (ipykernel)",
   "language": "python",
   "name": "python3"
  },
  "language_info": {
   "codemirror_mode": {
    "name": "ipython",
    "version": 3
   },
   "file_extension": ".py",
   "mimetype": "text/x-python",
   "name": "python",
   "nbconvert_exporter": "python",
   "pygments_lexer": "ipython3",
   "version": "3.10.13"
  }
 },
 "nbformat": 4,
 "nbformat_minor": 5
}
