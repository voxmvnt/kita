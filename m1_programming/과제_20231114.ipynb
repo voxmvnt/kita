{
 "cells": [
  {
   "cell_type": "markdown",
   "id": "28c78fd3",
   "metadata": {},
   "source": [
    "긍정 전방탐색 사용\n",
    "\n",
    "문제1_1114: 문자열 \"I love cats but I hate catching colds\"에서 'cat' 다음에 's'가 오는 단어만 찾으세요."
   ]
  },
  {
   "cell_type": "code",
   "execution_count": 1,
   "id": "7366c6fc",
   "metadata": {},
   "outputs": [
    {
     "data": {
      "text/plain": [
       "<re.Match object; span=(7, 10), match='cat'>"
      ]
     },
     "execution_count": 1,
     "metadata": {},
     "output_type": "execute_result"
    }
   ],
   "source": [
    "import re\n",
    "text = \"I love cats but I hate catching colds\"\n",
    "pattern = re.compile(r'cat(?=s)')\n",
    "pattern.search(text)"
   ]
  },
  {
   "cell_type": "markdown",
   "id": "b55745ea",
   "metadata": {},
   "source": [
    "부정 전방탐색 사용\n",
    "\n",
    "문제2_1114: 문자열 \"7UP, Cherry7UP, 7Down\"에서 '7' 뒤에 'UP'이 오지 않는 숫자 7을 찾으세요."
   ]
  },
  {
   "cell_type": "code",
   "execution_count": 2,
   "id": "1cc50315",
   "metadata": {
    "scrolled": true
   },
   "outputs": [
    {
     "data": {
      "text/plain": [
       "<re.Match object; span=(16, 17), match='7'>"
      ]
     },
     "execution_count": 2,
     "metadata": {},
     "output_type": "execute_result"
    }
   ],
   "source": [
    "import re\n",
    "text = \"7UP, Cherry7UP, 7Down\"\n",
    "pattern = re.compile(r'7(?!UP)')\n",
    "pattern.search(text)"
   ]
  },
  {
   "cell_type": "markdown",
   "id": "520b142a",
   "metadata": {},
   "source": [
    "문제3_1114: 다음 텍스트에서 화폐 단위('€')가 붙어 있는 숫자만 찾으세요.\n",
    "\n",
    "\"Prices are 30€ for adults, 20 for children and 25€ for seniors.\""
   ]
  },
  {
   "cell_type": "code",
   "execution_count": 4,
   "id": "214e696e",
   "metadata": {},
   "outputs": [
    {
     "data": {
      "text/plain": [
       "['30', '25']"
      ]
     },
     "execution_count": 4,
     "metadata": {},
     "output_type": "execute_result"
    }
   ],
   "source": [
    "import re\n",
    "text = \"Prices are 30€ for adults, 20 for children and 25€ for seniors\"\n",
    "pattern = re.compile(r'\\d+(?=€)')\n",
    "pattern.findall(text)"
   ]
  },
  {
   "cell_type": "markdown",
   "id": "0daa4a8e",
   "metadata": {},
   "source": [
    "문제4_1114: 다음 텍스트에서 'com'으로 끝나는 이메일 주소의 도메인 부분만 추출하세요. (예: 'example@domain.com'에서 'domain.com')"
   ]
  },
  {
   "cell_type": "code",
   "execution_count": 21,
   "id": "cc00fe98",
   "metadata": {},
   "outputs": [
    {
     "data": {
      "text/plain": [
       "['company.com', 'enterprise.com', 'organization.org']"
      ]
     },
     "execution_count": 21,
     "metadata": {},
     "output_type": "execute_result"
    }
   ],
   "source": [
    "import re\n",
    "text = 'example@domain.com'\n",
    "text2 = \"Contact us at support@company.com, sales@enterprise.com or info@organization.org.\"\n",
    "pattern = re.compile(r'\\w+\\.\\w{2,5}')\n",
    "pattern.findall(text2)"
   ]
  },
  {
   "cell_type": "markdown",
   "id": "1d899781",
   "metadata": {},
   "source": [
    "문제5_1114: 텍스트에서 모든 이메일 주소를 'email'로 대체하세요.\n",
    "    \n",
    "text = \"Contact: john.doe@example.com, jane.smith@workplace.org\""
   ]
  },
  {
   "cell_type": "code",
   "execution_count": 8,
   "id": "b50589b5",
   "metadata": {},
   "outputs": [
    {
     "name": "stdout",
     "output_type": "stream",
     "text": [
      "Contact: email, email\n"
     ]
    }
   ],
   "source": [
    "import re\n",
    "p = re.compile(r'\\b[\\w.]+[@][\\w.]+[^,\\s]')   \n",
    "text = \"Contact: john.doe@example.com, jane.smith@workplace.org\"\n",
    "print(p.sub('email',text))"
   ]
  },
  {
   "cell_type": "markdown",
   "id": "f037f6e3",
   "metadata": {},
   "source": [
    "문제6_1114: 텍스트에서 모든 전화번호를 'phone'으로 대체하세요. 전화번호는 다음과 같은 형식으로 가정합니다: '123-456-7890'."
   ]
  },
  {
   "cell_type": "code",
   "execution_count": 14,
   "id": "fc1ac00b",
   "metadata": {},
   "outputs": [
    {
     "name": "stdout",
     "output_type": "stream",
     "text": [
      "Our office numbers are phone and phone.\n"
     ]
    }
   ],
   "source": [
    "text=\"\"\"존의 전화번호는 223-445-6464이고\n",
    "샘의 전화번호는 332-2543-2364이며\n",
    "밥의 전화번호는 003-122-4543이다.\n",
    "\"\"\"\n",
    "text2 = \"Our office numbers are 123-456-7890 and 987-654-3210.\"\n",
    "p = re.compile(r'(\\d{3,4}-){2}\\d{3,4}')\n",
    "print(p.sub('phone',text2))"
   ]
  },
  {
   "cell_type": "markdown",
   "id": "11abde8e",
   "metadata": {},
   "source": [
    "문제7_1114: HTML 텍스트에서 \\<p> 태그로 둘러싸인 전체 부분을 찾으세요 (Greedy 방식 사용)."
   ]
  },
  {
   "cell_type": "code",
   "execution_count": 22,
   "id": "f1025c4e",
   "metadata": {},
   "outputs": [
    {
     "name": "stdout",
     "output_type": "stream",
     "text": [
      "['<p>This is the first paragraph.</p><p>This is the second paragraph.</p>']\n"
     ]
    }
   ],
   "source": [
    "import re\n",
    "p = re.compile(r'<p>.*</p>')\n",
    "t = r\"<p>This is the first paragraph.</p><p>This is the second paragraph.</p>\"\n",
    "\n",
    "print(p.findall(t))"
   ]
  },
  {
   "cell_type": "markdown",
   "id": "32759491",
   "metadata": {},
   "source": [
    "문제8_1114: 같은 HTML 텍스트에서 각 <p> 태그로 둘러싸인 부분을 별도로 찾으세요 (Non-Greedy 방식 사용)."
   ]
  },
  {
   "cell_type": "code",
   "execution_count": 23,
   "id": "15904328",
   "metadata": {},
   "outputs": [
    {
     "name": "stdout",
     "output_type": "stream",
     "text": [
      "['<p>This is the first paragraph.</p>', '<p>This is the second paragraph.</p>']\n"
     ]
    }
   ],
   "source": [
    "import re\n",
    "p = re.compile(r'<p>.*?</p>')\n",
    "t = r\"<p>This is the first paragraph.</p><p>This is the second paragraph.</p>\"\n",
    "\n",
    "print(p.findall(t))"
   ]
  },
  {
   "cell_type": "code",
   "execution_count": null,
   "id": "e8014f0e",
   "metadata": {},
   "outputs": [],
   "source": []
  },
  {
   "cell_type": "code",
   "execution_count": null,
   "id": "e96d5f40",
   "metadata": {},
   "outputs": [],
   "source": []
  },
  {
   "cell_type": "code",
   "execution_count": null,
   "id": "a8cb7731",
   "metadata": {},
   "outputs": [],
   "source": []
  },
  {
   "cell_type": "code",
   "execution_count": null,
   "id": "dabd5b4b",
   "metadata": {},
   "outputs": [],
   "source": []
  },
  {
   "cell_type": "code",
   "execution_count": null,
   "id": "642795f1",
   "metadata": {},
   "outputs": [],
   "source": []
  },
  {
   "cell_type": "code",
   "execution_count": null,
   "id": "a1019b8e",
   "metadata": {},
   "outputs": [],
   "source": []
  },
  {
   "cell_type": "code",
   "execution_count": null,
   "id": "6dcbd25e",
   "metadata": {},
   "outputs": [],
   "source": []
  },
  {
   "cell_type": "code",
   "execution_count": null,
   "id": "a78c8ebc",
   "metadata": {},
   "outputs": [],
   "source": []
  },
  {
   "cell_type": "code",
   "execution_count": null,
   "id": "05985ec5",
   "metadata": {},
   "outputs": [],
   "source": []
  },
  {
   "cell_type": "code",
   "execution_count": null,
   "id": "4a500ae4",
   "metadata": {},
   "outputs": [],
   "source": []
  },
  {
   "cell_type": "code",
   "execution_count": null,
   "id": "5019184b",
   "metadata": {},
   "outputs": [],
   "source": []
  },
  {
   "cell_type": "code",
   "execution_count": null,
   "id": "1d06b50d",
   "metadata": {},
   "outputs": [],
   "source": []
  },
  {
   "cell_type": "code",
   "execution_count": null,
   "id": "2b977580",
   "metadata": {},
   "outputs": [],
   "source": []
  },
  {
   "cell_type": "code",
   "execution_count": null,
   "id": "290da4af",
   "metadata": {},
   "outputs": [],
   "source": []
  }
 ],
 "metadata": {
  "kernelspec": {
   "display_name": "Python 3 (ipykernel)",
   "language": "python",
   "name": "python3"
  },
  "language_info": {
   "codemirror_mode": {
    "name": "ipython",
    "version": 3
   },
   "file_extension": ".py",
   "mimetype": "text/x-python",
   "name": "python",
   "nbconvert_exporter": "python",
   "pygments_lexer": "ipython3",
   "version": "3.10.13"
  }
 },
 "nbformat": 4,
 "nbformat_minor": 5
}
