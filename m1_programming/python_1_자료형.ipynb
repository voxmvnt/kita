{
 "cells": [
  {
   "cell_type": "markdown",
   "id": "7fee3ff4",
   "metadata": {},
   "source": [
    "#### 파이썬 이란\n",
    "- 1990년 암스테르담의 귀도 반 로섬(Guido Van Rossum)이 개발한 인터프리터 언어\n",
    "- 컴퓨터 프로그래밍 교육을 위해 많이 사용하지만, 기업의 실무를 위해서도 많이 사용하는 언어. 구글에서 만든 소프트웨어의 50%이상이 파이썬으로 작성\n",
    "\n",
    "#### 파이썬의 특징\n",
    "- 파이썬은 인간다운 언어이다\n",
    "- 파이썬은 문법이 쉬워 빠르게 배울 수 있다\n",
    "- 파이썬은 무료이지만 강력하다\n",
    "- 파이썬은 간결하다\n",
    "- 파이썬은 프로그래밍을 즐기게 해준다\n",
    "- 파이썬은 개발 속도가 빠르다\n",
    "\n",
    "#### 파이썬으로 할 수 있는 일\n",
    "- 웹 개발: Django, Flask 등의 프레임워크를 사용하여 웹 애플리케이션을 개발할 수 있습니다.\n",
    "- 데이터 분석: Pandas, NumPy, SciPy와 같은 라이브러리를 사용하여 데이터를 분석하고 처리할 수 있습니다.\n",
    "- 머신 러닝과 인공지능: TensorFlow, PyTorch, Scikit-learn 등의 라이브러리를 활용하여 머신 러닝 모델을 구축하고 훈련시킬 수 있습니다.\n",
    "- 자동화: 파이썬 스크립트를 작성하여 일상적인 작업을 자동화하고, 시스템 관리 작업을 수행할 수 있습니다.\n",
    "- 게임 개발: Pygame과 같은 라이브러리를 사용하여 간단한 게임을 개발할 수 있습니다.\n",
    "- 모바일 애플리케이션 개발: Kivy 또는 BeeWare와 같은 라이브러리를 사용하여 모바일 애플리케이션을 개발할 수 있습니다.\n",
    "- 데스크탑 애플리케이션 개발: PyQt, Tkinter 등의 라이브러리를 활용하여 데스크탑 애플리케이션을 개발할 수 있습니다.\n",
    "- 시스템 스크립팅과 네트워킹: 시스템 유틸리티를 개발하거나 네트워크 프로토콜을 구현할 수 있습니다.\n",
    "- 임베디드 시스템과 하드웨어 제어: 라즈베리 파이와 같은 임베디드 시스템을 제어하고 하드웨어를 프로그래밍할 수 있습니다.\n",
    "- 사이언티픽 컴퓨팅: 과학적 연산과 시뮬레이션을 위해 파이썬을 활용할 수 있습니다.\n",
    "- 교육: 파이썬은 초보자에게 프로그래밍을 가르치는 데 이상적인 언어로 평가받고 있습니다.\n",
    "- 파이썬의 다양한 라이브러리와 프레임워크 덕분에, 이러한 분야에서의 작업이 더욱 쉽고 효율적으로 수행될 수 있습니다.\n",
    "\n",
    "#### 참조\n",
    "- 표현식 : 어떠한 값을 만들어 내는 간단한 코드. 273, 10 + 20 + 30, \"Python Programming\"\n",
    "- 문장 : 표현식이 하나 이상 모이면 문장. print(\"Hello\")\n",
    "- 프로그램 : 문장이 모여서 프로그램\n",
    "- 식별자 : 프로그램밍 언어에서 이름을 붙일 때 사용하는 단어. 주로 변수 또는 함수 이름 등으로 사용\n",
    "- 주석 : 프로그램을 설명하기 위해 사용. # 기호로 주석 처리\n",
    "- 연산자 : 스스로 값이 되는 것이 아니고 값과 값 사이에 무언가 기능을 적용할 때 사용\n",
    "- 자료 : 리터럴이라고 하는데 숫자이든 문자이든 어떠한 값 자체를 의미. 1, 10, \"Hello\"\n",
    "- 키워드 : 파이썬이 만들어질 때 이미 사용하겠다고 예약해 놓는 것. False, None, True, ...\n",
    "- 프로그램밍 언어에서 사용자가 이름을 정할 때 키워드는 사용할 수 없음"
   ]
  },
  {
   "cell_type": "code",
   "execution_count": 7,
   "id": "86473353",
   "metadata": {},
   "outputs": [],
   "source": [
    "# 식별자 : 변수와 함수\n",
    "my_variable = 10 # 변수 식별자\n",
    "def my_function(): # 함수 식별자\n",
    "    pass"
   ]
  },
  {
   "cell_type": "code",
   "execution_count": 8,
   "id": "28380484",
   "metadata": {},
   "outputs": [
    {
     "name": "stdout",
     "output_type": "stream",
     "text": [
      "['False', 'None', 'True', 'and', 'as', 'assert', 'async', 'await', 'break', 'class', 'continue', 'def', 'del', 'elif', 'else', 'except', 'finally', 'for', 'from', 'global', 'if', 'import', 'in', 'is', 'lambda', 'nonlocal', 'not', 'or', 'pass', 'raise', 'return', 'try', 'while', 'with', 'yield']\n"
     ]
    },
    {
     "data": {
      "text/plain": [
       "35"
      ]
     },
     "execution_count": 8,
     "metadata": {},
     "output_type": "execute_result"
    }
   ],
   "source": [
    "# 키워드 변수나 함수명 사용불가\n",
    "import keyword\n",
    "print(keyword.kwlist)\n",
    "len(keyword.kwlist)"
   ]
  },
  {
   "cell_type": "code",
   "execution_count": 10,
   "id": "c32e9c91",
   "metadata": {},
   "outputs": [
    {
     "name": "stdout",
     "output_type": "stream",
     "text": [
      "Python 3.10.13\n",
      "Python 3.10.13\n"
     ]
    }
   ],
   "source": [
    "!python -V\n",
    "!python --version"
   ]
  },
  {
   "cell_type": "code",
   "execution_count": 11,
   "id": "4b65e750",
   "metadata": {},
   "outputs": [
    {
     "data": {
      "text/plain": [
       "'D:\\\\kdt_jyk\\\\workspace\\\\m1_programming'"
      ]
     },
     "execution_count": 11,
     "metadata": {},
     "output_type": "execute_result"
    }
   ],
   "source": [
    "# 현재 작업폴더 확인\n",
    "%pwd"
   ]
  },
  {
   "cell_type": "code",
   "execution_count": 17,
   "id": "98d14678",
   "metadata": {},
   "outputs": [
    {
     "name": "stdout",
     "output_type": "stream",
     "text": [
      "Hello\n",
      "0\n",
      "1\n",
      "2\n",
      "3\n",
      "4\n",
      "5\n",
      "6\n",
      "7\n",
      "8\n",
      "9\n"
     ]
    }
   ],
   "source": [
    "# 표현식\n",
    "35\n",
    "10+11\n",
    "\n",
    "# 문장\n",
    "print(\"Hello\")\n",
    "\n",
    "# 프로그램\n",
    "for i in range(10):\n",
    "    print(i)"
   ]
  },
  {
   "cell_type": "code",
   "execution_count": 20,
   "id": "387743ac",
   "metadata": {},
   "outputs": [
    {
     "name": "stdout",
     "output_type": "stream",
     "text": [
      "python\n"
     ]
    }
   ],
   "source": [
    "# 하나의 문장\n",
    "word = \"python\"\n",
    "a = 100 + 200\n",
    "\n",
    "# 블록을 이루는 하나의 문장\n",
    "if a < 500:\n",
    "    print(word)\n",
    "\n",
    "# 문장은 하나 이상의 표현식이 모인 것으로 프로그래밍에서는 실행 가능한 최소의 독립적인 코드 조각\n",
    "# 파이썬 코드의 한 줄 또는 블록으로 된 것들을 하나의 문장이라고 할 수 있음"
   ]
  },
  {
   "cell_type": "markdown",
   "id": "12e95f19",
   "metadata": {},
   "source": [
    "식별자 기본규칙\n",
    "- 키워드를 사용하면 안된다\n",
    "- 특수문자는 언더바(_)만 사용\n",
    "- 숫자로 시작하면 안된다\n",
    "- 공백을 포함할 수 없다"
   ]
  },
  {
   "cell_type": "code",
   "execution_count": null,
   "id": "92dcde72",
   "metadata": {},
   "outputs": [],
   "source": [
    "alpha \n",
    "break #키워드\n",
    "alpha10\n",
    "_alpha\n",
    "273alpha #숫자\n",
    "AlpHa\n",
    "ALPHA\n",
    "has spase #공백"
   ]
  },
  {
   "cell_type": "markdown",
   "id": "1cf7ab16",
   "metadata": {},
   "source": [
    "파이썬은 snake_case와 CamelCase를 모두 사용\n",
    "\n",
    "- itemlist : item_list itemList\n",
    "- loginstatus : login_status loginStatus\n",
    "- 캐멀 케이스(대문자로 시작) 클래스\n",
    "- 스네이크 케이스(소문자로 시작) 뒤에 ()가 있다 - 함수\n",
    "- 스네이크 케이스(소문자로 시작) 뒤에 ()가 없다 - 변수"
   ]
  },
  {
   "cell_type": "code",
   "execution_count": 34,
   "id": "6a757525",
   "metadata": {},
   "outputs": [
    {
     "name": "stdout",
     "output_type": "stream",
     "text": [
      "8\n",
      "3\n",
      "0\n",
      "0.6\n",
      "1.23\n"
     ]
    }
   ],
   "source": [
    "a = 5\n",
    "b = 3\n",
    "c = b % a\n",
    "d = b // a\n",
    "e = b / a\n",
    "f = round(1.2345, 2)\n",
    "\n",
    "def add(x, y):\n",
    "    return x+y\n",
    "\n",
    "print(add(a,b))\n",
    "print(c)\n",
    "print(d)\n",
    "print(e)\n",
    "print(f)"
   ]
  },
  {
   "cell_type": "markdown",
   "id": "a3413b08",
   "metadata": {},
   "source": [
    "#### 자료형\n",
    "- 자료형 또는 데이터 타입이란 숫자, 문자 등과 같이 여러 종류의 데이터를 구분하기 위한 분류\n",
    "- 파이썬의 자료형은 크게 숫자(numbers), 시퀀스(sequence), 매핑(mapping) 등으로 나눌 수 있다.\n",
    "- 파이썬의 기본 자료형\n",
    "  - 수치형\n",
    "    - 정수형 : int는 정수(integer)를 나타낸다. 양의 정수와 음의 정수, 숫자 0\n",
    "    - 실수형 : float는 원래 부동소수점수(floating-point number)를 가리키는데, 지금은 단순히 소수점 이하를 표현할 수 있는 수이다.\n",
    "    - 복소수형 : 복소수를 complex로 나타내고 제곱하면 -1이 되는 수 i를 ‘허수(imaginary number)’라고 하는데 허수 i를 j로 표현\n",
    "  - 시퀀스 : 문자열(str), 리스트(list), 튜플(tuple), 사용자 정의 클래스가 시퀀스에 속한다. for 문에서 사용할 수 있는 것들이 바로 시퀀스\n",
    "    - 문자열 : 문자를 한 줄로 표현하며 문자열 인덱스를 이용해 문자열의 일부를 복사\n",
    "    - 리스트 : 대괄호([ ])로 감싸 주고 각 요솟값은 쉼표(,)로 구분\n",
    "    - 튜플 : 튜플은 ( )으로 둘러싸고 각 요솟값은 쉼표(,)로 구분\n",
    "  - 매핑\n",
    "    - 사전 : 딕셔너리(dict)는 키(key)와 값(value)의 짝으로 이뤄지는데 이런 것을 매핑\n",
    "  - 집합 : 집합을 표현하는 세트(set)\n",
    "  - 블린 : 참, 거짓을 표현"
   ]
  },
  {
   "cell_type": "code",
   "execution_count": 1,
   "id": "6480e11d",
   "metadata": {
    "scrolled": true
   },
   "outputs": [
    {
     "name": "stdout",
     "output_type": "stream",
     "text": [
      "3\n",
      "3.5\n"
     ]
    }
   ],
   "source": [
    "# 정수형, 실수형\n",
    "i1 = 3\n",
    "f1 = 3.5\n",
    "print(i1)\n",
    "print(f1)"
   ]
  },
  {
   "cell_type": "code",
   "execution_count": 81,
   "id": "07e8e25a",
   "metadata": {
    "scrolled": true
   },
   "outputs": [
    {
     "name": "stdout",
     "output_type": "stream",
     "text": [
      "1\n",
      "0\n",
      "100\n",
      "3\n"
     ]
    }
   ],
   "source": [
    "# 정수 (int)\n",
    "print(int(True))\n",
    "print(int(False))\n",
    "print(int('100'))\n",
    "print(int(3.14))"
   ]
  },
  {
   "cell_type": "code",
   "execution_count": 83,
   "id": "66f0b21d",
   "metadata": {},
   "outputs": [
    {
     "name": "stdout",
     "output_type": "stream",
     "text": [
      "1.0\n",
      "0.0\n",
      "100.0\n",
      "3.14\n"
     ]
    }
   ],
   "source": [
    "# 실수 (float)\n",
    "print(float(True))\n",
    "print(float(False))\n",
    "print(float(100))\n",
    "print(float(3.14))"
   ]
  },
  {
   "cell_type": "code",
   "execution_count": 4,
   "id": "4ff7ced3",
   "metadata": {},
   "outputs": [
    {
     "name": "stdout",
     "output_type": "stream",
     "text": [
      "12.3\n",
      "23.0\n",
      "0.22999999999999998\n",
      "3\n",
      "1\n",
      "12.166999999999998\n"
     ]
    }
   ],
   "source": [
    "# 사칙연산 : +, *, /, //, %, **(제곱)\n",
    "a = 10\n",
    "b = 2.3\n",
    "c = 3\n",
    "\n",
    "print(a+b)\n",
    "print(a*b)\n",
    "print(b/a)\n",
    "print(a//c)\n",
    "print(a%c)\n",
    "print(b**c)"
   ]
  },
  {
   "cell_type": "code",
   "execution_count": 6,
   "id": "7cd48769",
   "metadata": {},
   "outputs": [
    {
     "name": "stdout",
     "output_type": "stream",
     "text": [
      "문자열100\n"
     ]
    }
   ],
   "source": [
    "# 문자열\n",
    "string = '문자열'\n",
    "a = 100\n",
    "print(string+str(a))"
   ]
  },
  {
   "cell_type": "code",
   "execution_count": 9,
   "id": "49d6f68f",
   "metadata": {},
   "outputs": [
    {
     "name": "stdout",
     "output_type": "stream",
     "text": [
      "150\n",
      "10050\n"
     ]
    }
   ],
   "source": [
    "a = 100\n",
    "b = 50\n",
    "print(a+b)\n",
    "print(str(a)+str(b))"
   ]
  },
  {
   "cell_type": "code",
   "execution_count": 10,
   "id": "45d3362b",
   "metadata": {},
   "outputs": [
    {
     "name": "stdout",
     "output_type": "stream",
     "text": [
      "이름을 입력하세요주용규\n",
      "주용규님 반갑습니단\n"
     ]
    }
   ],
   "source": [
    "# 사용자 입력\n",
    "a = input('이름을 입력하세요 : ')\n",
    "print(str(a)+'님 반갑습니다')"
   ]
  },
  {
   "cell_type": "code",
   "execution_count": 16,
   "id": "692b5c22",
   "metadata": {},
   "outputs": [
    {
     "name": "stdout",
     "output_type": "stream",
     "text": [
      "첫 번째 정수를 입력하세요 : 2\n",
      "두 번째 정수를 입력하세요 : 8\n",
      "10\n"
     ]
    }
   ],
   "source": [
    "# 두 개의 정수를 입력해서 더한 결과를 출력하세요\n",
    "a = int(input('첫 번째 정수를 입력하세요 : '))\n",
    "b = int(input('두 번째 정수를 입력하세요 : '))\n",
    "print(a+b)"
   ]
  },
  {
   "cell_type": "code",
   "execution_count": 17,
   "id": "94923cf7",
   "metadata": {},
   "outputs": [
    {
     "name": "stdout",
     "output_type": "stream",
     "text": [
      "3을 입력하세요 : 3\n",
      "3.3을 입력하세요 : 3.3\n",
      "6.3\n"
     ]
    }
   ],
   "source": [
    "# Q. 3과 3.3을 입력하고 숫자 연산을 수행하여 6.3을 출력하세요.\n",
    "a = int(input('3을 입력하세요 : '))\n",
    "b = float(input('3.3을 입력하세요 : '))\n",
    "print(a+b)"
   ]
  },
  {
   "cell_type": "code",
   "execution_count": 18,
   "id": "763c72b8",
   "metadata": {},
   "outputs": [
    {
     "name": "stdout",
     "output_type": "stream",
     "text": [
      "5252.273\n"
     ]
    }
   ],
   "source": [
    "# Q. a = 52와 b = 52.273일때 a+b는 5252.273으로 출력되도록 a와 b를 문자열 자료형으로 변환하세요\n",
    "a = 52\n",
    "b = 52.273\n",
    "a = str(a)\n",
    "b = str(b)\n",
    "print(a+b)"
   ]
  },
  {
   "cell_type": "code",
   "execution_count": 26,
   "id": "edf83587",
   "metadata": {},
   "outputs": [
    {
     "name": "stdout",
     "output_type": "stream",
     "text": [
      "python's value is great\n",
      "python's value is great\n",
      "python's value is great\n"
     ]
    }
   ],
   "source": [
    "# 문자열 : \" \", ' ', \"\"\" \"\"\", ''' ''' (트리플)\n",
    "# 사용 예시\n",
    "p1 = '''python's value is great'''\n",
    "print(p1)\n",
    "p2 = \"python's value is great\"\n",
    "print(p2)\n",
    "# 이스케이프 처리 (역슬레시 \\)\n",
    "p3 = 'python\\'s value is great'\n",
    "print(p3)"
   ]
  },
  {
   "cell_type": "code",
   "execution_count": 24,
   "id": "a90d38f5",
   "metadata": {},
   "outputs": [
    {
     "name": "stdout",
     "output_type": "stream",
     "text": [
      "Once you study data analysis \n",
      "You need python\n"
     ]
    }
   ],
   "source": [
    "# \\n 은 행바꿈 처리\n",
    "y1 = \"Once you study data analysis \\nYou need python\"\n",
    "print(y1)"
   ]
  },
  {
   "cell_type": "code",
   "execution_count": 28,
   "id": "1045f2ee",
   "metadata": {},
   "outputs": [
    {
     "name": "stdout",
     "output_type": "stream",
     "text": [
      "Once you study data analysis\n",
      "You need python\n"
     ]
    }
   ],
   "source": [
    "# 트리플 내의 행바뀜은 자동처리됨\n",
    "y2 = \"\"\"Once you study data analysis\n",
    "You need python\"\"\"\n",
    "print(y2)"
   ]
  },
  {
   "cell_type": "code",
   "execution_count": 32,
   "id": "8e6f692a",
   "metadata": {},
   "outputs": [
    {
     "name": "stdout",
     "output_type": "stream",
     "text": [
      "Pythonis easy to learn\n",
      "=========================\n"
     ]
    }
   ],
   "source": [
    "a1 = 'Python'\n",
    "a2 = 'is easy to learn'\n",
    "print(a1+a2)\n",
    "print(\"=\"*25)"
   ]
  },
  {
   "cell_type": "markdown",
   "id": "c3103ab4",
   "metadata": {},
   "source": [
    "과제1. 다른 타입의 숫자 2개를 입력받아 큰 수를 출력하세요."
   ]
  },
  {
   "cell_type": "code",
   "execution_count": 78,
   "id": "476b027f",
   "metadata": {
    "scrolled": true
   },
   "outputs": [
    {
     "name": "stdout",
     "output_type": "stream",
     "text": [
      "숫자 1 입력: 7\n",
      "숫자 2 입력: 7\n",
      "큰 수가 없다.\n"
     ]
    }
   ],
   "source": [
    "x1 = input('숫자 1 입력: ')\n",
    "x2 = input('숫자 2 입력: ')\n",
    "ans = ''\n",
    "\n",
    "if x1 > x2 : \n",
    "    ans = x1\n",
    "elif x2 > x1 :\n",
    "    ans = x2\n",
    "else :\n",
    "    ans = \"큰 수가 없다.\"\n",
    "\n",
    "print(ans)"
   ]
  },
  {
   "cell_type": "markdown",
   "id": "40d1d868",
   "metadata": {},
   "source": [
    "과제2. 아래와 같이 출력할 수 있는 string을 만드세요.\n",
    "string = \n",
    "print(string)\n",
    "[출력문]\n",
    "\"What a wonderful world!\"\n",
    "he said loudly"
   ]
  },
  {
   "cell_type": "code",
   "execution_count": 34,
   "id": "9b746ae0",
   "metadata": {},
   "outputs": [
    {
     "name": "stdout",
     "output_type": "stream",
     "text": [
      "\"What a wonderful world!\"\n",
      "he said loudly\n"
     ]
    }
   ],
   "source": [
    "string='''\"What a wonderful world!\"\n",
    "he said loudly'''\n",
    "print(string)"
   ]
  },
  {
   "cell_type": "code",
   "execution_count": 35,
   "id": "9187ed12",
   "metadata": {},
   "outputs": [
    {
     "name": "stdout",
     "output_type": "stream",
     "text": [
      "[1, 2, 3, 4, 5]\n",
      "['a', 'b', 'c']\n",
      "[1, 'a', 'abc', [1, 2, 3, 4, 5], ['a', 'b', 'c']]\n"
     ]
    }
   ],
   "source": [
    "# 자료형 - List\n",
    "# 리스트는 []로 표시하면 []안의 요소를 콤마로 구분하여 순서있게 나열\n",
    "list1 = [1,2,3,4,5]\n",
    "list2 = ['a','b','c']\n",
    "list3 = [1, 'a', 'abc', [1,2,3,4,5], ['a','b','c']]\n",
    "print(list1)\n",
    "print(list2)\n",
    "print(list3)"
   ]
  },
  {
   "cell_type": "code",
   "execution_count": 44,
   "id": "8f33da77",
   "metadata": {},
   "outputs": [
    {
     "name": "stdout",
     "output_type": "stream",
     "text": [
      "3\n",
      "[1, 2]\n",
      "[1, 2, 3, 4]\n"
     ]
    }
   ],
   "source": [
    "# 인덱싱\n",
    "list1 = [1,2,3,4,5]\n",
    "print(list1[2])\n",
    "print(list1[0:2])\n",
    "print(list1[:4])"
   ]
  },
  {
   "cell_type": "code",
   "execution_count": 39,
   "id": "1b237626",
   "metadata": {},
   "outputs": [
    {
     "name": "stdout",
     "output_type": "stream",
     "text": [
      "[50, 51, 52, 53, 54, 55, 56, 57, 58, 59, 60, 61, 62, 63, 64, 65, 66, 67, 68, 69, 70, 71, 72, 73, 74, 75, 76, 77, 78, 79, 80, 81, 82, 83, 84, 85, 86, 87, 88, 89, 90, 91, 92, 93, 94, 95, 96, 97, 98, 99, 100]\n"
     ]
    }
   ],
   "source": [
    "list1 = list(range(50,101,1))\n",
    "print(list1)"
   ]
  },
  {
   "cell_type": "code",
   "execution_count": 47,
   "id": "90fdd4a3",
   "metadata": {
    "scrolled": true
   },
   "outputs": [
    {
     "name": "stdout",
     "output_type": "stream",
     "text": [
      "3\n",
      "b\n"
     ]
    }
   ],
   "source": [
    "list3 = [1, 'a', 'abc', [1,2,3,4,5], ['a','b','c']]\n",
    "print(list3[3][2])\n",
    "print(list3[4][1])"
   ]
  },
  {
   "cell_type": "code",
   "execution_count": 57,
   "id": "65a34f41",
   "metadata": {
    "scrolled": true
   },
   "outputs": [
    {
     "name": "stdout",
     "output_type": "stream",
     "text": [
      "[1, 1, 2, 3, 4, 5, 6, 7, 8, 9]\n",
      "['a', 'a', 'c']\n",
      "[1, 2, 3, 4, 5, 6, 7, 8, 9]\n",
      "[1, 2, 3, 5, 6, 7, 8, 9]\n",
      "['a', 'c']\n",
      "[6, 7, 8, 9]\n"
     ]
    }
   ],
   "source": [
    "a = [0,1,2,3,4,5,6,7,8,9]\n",
    "b = ['a','b','c']\n",
    "a[0] = 1\n",
    "print(a)\n",
    "b[1] = 'a'\n",
    "print(b)\n",
    "\n",
    "del a[0]\n",
    "print(a)\n",
    "\n",
    "a.remove(4)\n",
    "print(a)\n",
    "\n",
    "del b[1]\n",
    "print(b)\n",
    "\n",
    "print(a[-4:])"
   ]
  },
  {
   "cell_type": "code",
   "execution_count": 69,
   "id": "00cbffe7",
   "metadata": {
    "scrolled": true
   },
   "outputs": [
    {
     "name": "stdout",
     "output_type": "stream",
     "text": [
      "[1, 2, 3, 4, 5]\n",
      "[1, 2, 3, 4, 5, 6]\n",
      "[5, 1, 2, 3, 4, 5, 6]\n",
      "[5, 1, 2, 3, 4, 5, 6, 7]\n",
      "[5, 1, 2, 3, 4, 5, 6, 7, 8]\n",
      "[5, 1, 2, 3, 4, 5, 6, 7, 8, 9]\n",
      "[5, 1, 2, 3, 4, 5, 6, 7, 8, 9, 10]\n"
     ]
    }
   ],
   "source": [
    "# 리스트 확장\n",
    "h = [1, 2, 3]\n",
    "h.extend([4,5])\n",
    "print(h)\n",
    "h.append(6)\n",
    "print(h)\n",
    "h.insert(0,5)\n",
    "print(h)\n",
    "\n",
    "# 뒷자리 추가 방법 4가지\n",
    "#1\n",
    "h = h + [7]\n",
    "print(h)\n",
    "#2\n",
    "h.insert(8,8)\n",
    "print(h)\n",
    "#3\n",
    "h.extend([9])\n",
    "print(h)\n",
    "#4\n",
    "h.append(10)\n",
    "print(h)"
   ]
  },
  {
   "cell_type": "markdown",
   "id": "4bbfd599",
   "metadata": {},
   "source": [
    "[과제3] list1에서 다음을 수행하세요\n",
    "- 33을 출력\n",
    "- 82를 리스트에 추가\n",
    "- 87의 인덱스 구하기\n",
    "- 인덱스 3에서 10까지의 값을 출력하고 list2에 저장한 후 내림차순 정렬하기 - 도전\n",
    "- 39를 11로 변경\n",
    "- [69,45,58] 출력\n",
    "- 짝수 인덱스의 값으로 구성된 리스트 출력하기\n",
    "- 인덱스가 가장 큰수를 삭제하기\n",
    "- 인덱스 3, 5인 값으로 4칙 연산하기\n",
    "\n",
    "list1 = [58, 45, 69, 19,  4, 87, 29, 13, 39, 15, 54, [8, 33, 11], 27, 49, 63, 98, 22, 82]"
   ]
  },
  {
   "cell_type": "markdown",
   "id": "1fcbc4c9",
   "metadata": {},
   "source": [
    "#### sort 와 sorted 차이점\n",
    "\n",
    "1. 메서드 vs 함수:\n",
    "- sort(): 리스트 객체의 내장 메서드입니다. 즉, 리스트에서만 사용할 수 있습니다.\n",
    "- sorted(): 내장 함수로, 어떤 반복 가능한(iterable) 객체에도 사용될 수 있습니다. 예를 들면 리스트, 튜플, 딕셔너리, 문자열 등에 사용할 수 있습니다.\n",
    "\n",
    "2. 반환 값:\n",
    "- sort(): 리스트를 원 위치에서(in-place) 정렬하고 None을 반환합니다. 따라서 원래의 리스트 자체가 변경됩니다.\n",
    "- sorted(): 정렬된 새로운 리스트를 반환합니다. 원래의 객체는 변경되지 않습니다.\n",
    "\n",
    "3. 유용성:\n",
    "- sort(): 리스트에서만 작동하기 때문에 리스트만 정렬할 수 있습니다.\n",
    "- sorted(): 다양한 객체를 정렬할 수 있으며 결과는 항상 리스트로 반환됩니다."
   ]
  },
  {
   "cell_type": "markdown",
   "id": "ca4c417c",
   "metadata": {},
   "source": [
    "[과제4] 아래 list를 sort, sorted를 이용해서 오름차순, 내림차순으로 각각 출력하세요.\n",
    "\n",
    "list = [5, 8, 11, 14, 17, 20, 23, 26, 29, 32, 35, 38, 41, 44, 47, 3, 5, 7, 9, 11, 13, 15, 17]"
   ]
  },
  {
   "cell_type": "code",
   "execution_count": null,
   "id": "6f229c63",
   "metadata": {},
   "outputs": [],
   "source": [
    "# 자료형 - Tuple\n",
    "# 튜플의 요소 값은 변경할 수 없음 - 프로그램에서 그 값이 항상 변하지 않아야 되는 경우 사용"
   ]
  },
  {
   "cell_type": "code",
   "execution_count": 84,
   "id": "0d6b2d14",
   "metadata": {},
   "outputs": [
    {
     "name": "stdout",
     "output_type": "stream",
     "text": [
      "3\n"
     ]
    }
   ],
   "source": [
    "tuple1 = (1,2,3,4,5)\n",
    "tuple2 = ('a', 'b', 'c')\n",
    "tuple3 = (1, 'a', 'abc', [1,2,3,4,5], ['a','b','c'])\n",
    "\n",
    "print(tuple3[3][2])"
   ]
  },
  {
   "cell_type": "code",
   "execution_count": 85,
   "id": "a41841be",
   "metadata": {},
   "outputs": [
    {
     "ename": "TypeError",
     "evalue": "'tuple' object does not support item assignment",
     "output_type": "error",
     "traceback": [
      "\u001b[1;31m---------------------------------------------------------------------------\u001b[0m",
      "\u001b[1;31mTypeError\u001b[0m                                 Traceback (most recent call last)",
      "Cell \u001b[1;32mIn[85], line 2\u001b[0m\n\u001b[0;32m      1\u001b[0m tuple01 \u001b[38;5;241m=\u001b[39m (\u001b[38;5;241m1\u001b[39m,\u001b[38;5;241m2\u001b[39m,\u001b[38;5;241m3\u001b[39m,\u001b[38;5;241m4\u001b[39m,\u001b[38;5;241m5\u001b[39m)\n\u001b[1;32m----> 2\u001b[0m tuple01[\u001b[38;5;241m2\u001b[39m] \u001b[38;5;241m=\u001b[39m \u001b[38;5;241m7\u001b[39m\n",
      "\u001b[1;31mTypeError\u001b[0m: 'tuple' object does not support item assignment"
     ]
    }
   ],
   "source": [
    "tuple01 = (1,2,3,4,5)\n",
    "tuple01[2] = 7\n",
    "# 튜플 값은 변경이 불가능하여 에러 발생."
   ]
  },
  {
   "cell_type": "code",
   "execution_count": 91,
   "id": "ee73d661",
   "metadata": {},
   "outputs": [
    {
     "name": "stdout",
     "output_type": "stream",
     "text": [
      "(1,)\n",
      "1\n",
      "<class 'int'>\n",
      "(1, 2, 3)\n",
      "(1, 2, 3, 1, 2, 3, 1, 2, 3)\n",
      "(1, 1, 2, 3)\n"
     ]
    }
   ],
   "source": [
    "t1 = (1,) # 1개의 요소를 가질 때는 요소뒤에 콤마를 붙여야 함\n",
    "print(t1)\n",
    "\n",
    "t1_ex = (1) \n",
    "print(t1_ex)\n",
    "print(type(t1_ex)) # 콤마값을 사용안 할 경우 int 값으로 저장됨.\n",
    "\n",
    "t2 = 1,2,3 #괄호 사용 안할 경우 기본값 튜플\n",
    "print(t2)\n",
    "print(t2 * 3)\n",
    "print(t1 + t2)"
   ]
  },
  {
   "cell_type": "code",
   "execution_count": null,
   "id": "5ef4f244",
   "metadata": {},
   "outputs": [],
   "source": [
    "# 자료형 - 사전 (키와 값을 하나의 요소로 하는 순서가 없는 집합)"
   ]
  },
  {
   "cell_type": "code",
   "execution_count": 32,
   "id": "3db9d664",
   "metadata": {},
   "outputs": [
    {
     "name": "stdout",
     "output_type": "stream",
     "text": [
      "{'a': 22}\n"
     ]
    }
   ],
   "source": [
    "d0055 = {}\n",
    "d0055['a'] = 22\n",
    "print(d0055)"
   ]
  },
  {
   "cell_type": "code",
   "execution_count": 100,
   "id": "e8ee2b75",
   "metadata": {},
   "outputs": [
    {
     "name": "stdout",
     "output_type": "stream",
     "text": [
      "3\n",
      "dict_keys(['a', 'b', 'c'])\n",
      "dict_values([1, 2, 3])\n",
      "dict_items([('a', 1), ('b', 2), ('c', 3)])\n"
     ]
    }
   ],
   "source": [
    "d1 = {'a':1, 'b':2, 'c':3}\n",
    "print(d1['c'])\n",
    "print(d1.keys())\n",
    "print(d1.values())\n",
    "print(d1.items())"
   ]
  },
  {
   "cell_type": "code",
   "execution_count": 101,
   "id": "4ec5c57f",
   "metadata": {},
   "outputs": [
    {
     "name": "stdout",
     "output_type": "stream",
     "text": [
      "{'a': 1, 'b': 2, 'c': 3, 'd': 4}\n"
     ]
    }
   ],
   "source": [
    "d1['d'] = 4\n",
    "print(d1)"
   ]
  },
  {
   "cell_type": "code",
   "execution_count": 102,
   "id": "29f51439",
   "metadata": {
    "scrolled": true
   },
   "outputs": [
    {
     "name": "stdout",
     "output_type": "stream",
     "text": [
      "{'a': 1, 'b': 7, 'c': 3, 'd': 4}\n"
     ]
    }
   ],
   "source": [
    "d1['b'] = 7\n",
    "print(d1)"
   ]
  },
  {
   "cell_type": "code",
   "execution_count": 118,
   "id": "73aa7d01",
   "metadata": {},
   "outputs": [
    {
     "name": "stdout",
     "output_type": "stream",
     "text": [
      "{1: 'a', 7: 'b', '3': 'c', 4: 'd'}\n",
      "b\n"
     ]
    }
   ],
   "source": [
    "d5 = {'a': 1, 'b': 7, 'c': '3', 'd': 4}\n",
    "# 값이 7인 경우의 key 출력 (딕셔너리 뒤집기)\n",
    "d5_re = {v:k for k,v in d5.items()}\n",
    "print(d5_re)\n",
    "print(d5_re.get(7))"
   ]
  },
  {
   "cell_type": "code",
   "execution_count": 29,
   "id": "83794caf",
   "metadata": {},
   "outputs": [
    {
     "name": "stdout",
     "output_type": "stream",
     "text": [
      "The count of 'o' is 2\n"
     ]
    }
   ],
   "source": [
    "# 과제 힌트. 사용할 메서드\n",
    "# 문자열 갯수 샌 뒤 키: 값으로 딕셔너리 생성.\n",
    "str1 = \"Hello World\"\n",
    "str_count1 = str1.count('o')  # 주어진 문자열에서 \"o\" 문자 세기\n",
    "print(\"The count of 'o' is\", str_count1)"
   ]
  },
  {
   "cell_type": "code",
   "execution_count": 36,
   "id": "b87d8035",
   "metadata": {},
   "outputs": [
    {
     "name": "stdout",
     "output_type": "stream",
     "text": [
      "The count of 'ello' is 4\n"
     ]
    }
   ],
   "source": [
    "#  테스트\n",
    "str2 = \"Hello World ello ello ello\"\n",
    "str_count2 = str2.count('ello')  # 주어진 문자열에서 \"o\" 문자 세기\n",
    "print(\"The count of 'ello' is\", str_count2)"
   ]
  },
  {
   "cell_type": "code",
   "execution_count": null,
   "id": "f92fe5a5",
   "metadata": {},
   "outputs": [],
   "source": [
    "# 자료형 - 집합, set (중복을 허용하지 않으며 순서가 없다.)"
   ]
  },
  {
   "cell_type": "code",
   "execution_count": 2,
   "id": "d740d544",
   "metadata": {},
   "outputs": [
    {
     "name": "stdout",
     "output_type": "stream",
     "text": [
      "{1, 2, 3, 4, 5}\n",
      "{'o', 'e', 'H', 'l'}\n"
     ]
    }
   ],
   "source": [
    "s1 = set([1,2,3,4,5])\n",
    "s2 = set('Hello')\n",
    "print(s1)\n",
    "print(s2)"
   ]
  },
  {
   "cell_type": "code",
   "execution_count": 3,
   "id": "e240350e",
   "metadata": {},
   "outputs": [
    {
     "name": "stdout",
     "output_type": "stream",
     "text": [
      "2\n",
      "H\n"
     ]
    }
   ],
   "source": [
    "li = list(s1)\n",
    "print(li[1])\n",
    "\n",
    "li2 = list(s2)\n",
    "print(li2[2])"
   ]
  },
  {
   "cell_type": "code",
   "execution_count": 4,
   "id": "60b12da0",
   "metadata": {},
   "outputs": [
    {
     "name": "stdout",
     "output_type": "stream",
     "text": [
      "[1, 2, 3, 4, 5, 6, 7, 8, 9]\n",
      "[4, 5, 6]\n"
     ]
    }
   ],
   "source": [
    "# Q. s1, s2의 합집합과 교집합을 각각 리스트로 출력하세요.\n",
    "s1 = set([1,2,3,4,5,6])\n",
    "s2 = set([4,5,6,7,8,9])\n",
    "print(list(s1|s2))\n",
    "print(list(s1&s2))"
   ]
  },
  {
   "cell_type": "markdown",
   "id": "300f3da0",
   "metadata": {},
   "source": [
    "#### True와 False\n",
    "- 파이썬에서 참과 거짓을 나타내는 상수. True는 1, False는 0의 값을 가짐\n",
    "- 조건을 판단해서 그 조건이 참이면 True, 거짓이면 False를 return"
   ]
  },
  {
   "cell_type": "code",
   "execution_count": 11,
   "id": "9b3b6e1e",
   "metadata": {},
   "outputs": [
    {
     "name": "stdout",
     "output_type": "stream",
     "text": [
      "False\n",
      "False\n",
      "True = 값이 있으면 트루\n",
      "False\n",
      "True = 값이 있으면 트루\n",
      "True\n",
      "True\n"
     ]
    }
   ],
   "source": [
    "# 자료형 - 논리 (Bool)\n",
    "print(bool(0))\n",
    "print(bool(''))\n",
    "print(str(bool('sss'))+\" = 값이 있으면 트루\")\n",
    "print(bool([]))\n",
    "print(str(bool([1,2,3]))+\" = 값이 있으면 트루\")\n",
    "print(bool(1))\n",
    "print(bool(100))"
   ]
  },
  {
   "cell_type": "code",
   "execution_count": 28,
   "id": "4852c38a",
   "metadata": {},
   "outputs": [
    {
     "name": "stdout",
     "output_type": "stream",
     "text": [
      "False\n",
      "True\n",
      "False\n",
      "True\n",
      "True\n",
      "True\n",
      "False\n"
     ]
    }
   ],
   "source": [
    "# 관계 연산자\n",
    "x = 1; y = 2\n",
    "str1 = 'abc'; str2 = 'python'\n",
    "print(x == y)\n",
    "print(x != y)\n",
    "print(str1 == str2)\n",
    "print(str2 == 'python')\n",
    "print(str1 < str2)\n",
    "print('th' in str2)\n",
    "print(str2.find('z') > 0)"
   ]
  },
  {
   "cell_type": "code",
   "execution_count": 23,
   "id": "b0cc748a",
   "metadata": {},
   "outputs": [
    {
     "name": "stdout",
     "output_type": "stream",
     "text": [
      "False\n",
      "True\n",
      "False\n",
      "True\n"
     ]
    }
   ],
   "source": [
    "# 논리 연산자\n",
    "bool1 = True; bool2 = False; bool3 = True; bool4 = False\n",
    "print(bool1 and bool2)\n",
    "print(bool1 or bool2)\n",
    "print(not bool3)\n",
    "print(not bool4)"
   ]
  },
  {
   "cell_type": "markdown",
   "id": "18e23435",
   "metadata": {},
   "source": [
    "#### 파이썬에서 들여쓰기\n",
    "- 파이썬에는 실행 코드 부분을 묶어주는 {} 괄호가 없다.\n",
    "- 대신 들여쓰기(indentation)로 {}를 대신한다.\n",
    "- 제어문이나 함수이름, 클래스 이름 뒤에 콜론(':')으로 제어문, 함수이름, 클래스 이름의 끝을 표시하며 ':' 다음에 실행 코드를 작성"
   ]
  },
  {
   "cell_type": "code",
   "execution_count": 33,
   "id": "3c3f461b",
   "metadata": {},
   "outputs": [
    {
     "name": "stdout",
     "output_type": "stream",
     "text": [
      "a가 있습니다\n"
     ]
    }
   ],
   "source": [
    "li = ['a', 'b', 'c']\n",
    "\n",
    "if 'a' in li:\n",
    "    print('a가 있습니다')\n",
    "else:\n",
    "    print('a가 없습니다')"
   ]
  },
  {
   "cell_type": "code",
   "execution_count": 37,
   "id": "1308e744",
   "metadata": {},
   "outputs": [
    {
     "name": "stdout",
     "output_type": "stream",
     "text": [
      "65\n"
     ]
    }
   ],
   "source": [
    "# 내장 함수 (예시)\n",
    "list_sum = [10, 22, 19, 2, 9, 3]\n",
    "print(sum(list_sum))"
   ]
  },
  {
   "cell_type": "code",
   "execution_count": 38,
   "id": "764f6398",
   "metadata": {},
   "outputs": [
    {
     "data": {
      "text/plain": [
       "6"
      ]
     },
     "execution_count": 38,
     "metadata": {},
     "output_type": "execute_result"
    }
   ],
   "source": [
    "# 사용자 함수\n",
    "def add(a,b,c):\n",
    "    return a+b+c\n",
    "\n",
    "add(1,2,3)"
   ]
  },
  {
   "cell_type": "code",
   "execution_count": 42,
   "id": "1a0c159d",
   "metadata": {},
   "outputs": [
    {
     "name": "stdout",
     "output_type": "stream",
     "text": [
      "7\n",
      "12\n",
      "20\n"
     ]
    }
   ],
   "source": [
    "class SumMul:\n",
    "    def sum(self, n1, n2):\n",
    "        return n1 + n2\n",
    "    def mul(self, n1, n2):\n",
    "        return n1 * n2\n",
    "\n",
    "obj1 = SumMul()\n",
    "print(obj1.sum(3,4))\n",
    "print(obj1.mul(3,4))\n",
    "obj2 = SumMul()\n",
    "print(obj2.mul(4,5))"
   ]
  },
  {
   "cell_type": "code",
   "execution_count": 43,
   "id": "ebf6f2ad",
   "metadata": {},
   "outputs": [
    {
     "data": {
      "text/plain": [
       "['나는', '오늘', '기분이', '좋아요']"
      ]
     },
     "execution_count": 43,
     "metadata": {},
     "output_type": "execute_result"
    }
   ],
   "source": [
    "# split() 함수\n",
    "text = '나는 오늘 기분이 좋아요'\n",
    "words = text.split() #문자열을 공백 기준으로 나눠준다. 기본값이 공백\n",
    "words"
   ]
  },
  {
   "cell_type": "code",
   "execution_count": 54,
   "id": "d179c3b8",
   "metadata": {},
   "outputs": [
    {
     "name": "stdout",
     "output_type": "stream",
     "text": [
      "수박,참외,딸기,포도,바나나\n",
      "['수박', '참외', '딸기', '포도', '바나나']\n"
     ]
    }
   ],
   "source": [
    "# replace 함수\n",
    "# split 함수 구분자 사용\n",
    "text2='수박, 참외, 딸기, 포도, 바나나'\n",
    "re_text2 = text2.replace(' ', '')\n",
    "print(re_text2)\n",
    "text2_li = re_text2.split(',')\n",
    "print(text2_li)"
   ]
  },
  {
   "cell_type": "code",
   "execution_count": 44,
   "id": "957c36c3",
   "metadata": {
    "scrolled": true
   },
   "outputs": [
    {
     "name": "stdout",
     "output_type": "stream",
     "text": [
      "25\n"
     ]
    }
   ],
   "source": [
    "# 복합 대입 연산자\n",
    "num = 10\n",
    "num += 15  # num = num + 15 와 같다.\n",
    "print(num)"
   ]
  },
  {
   "cell_type": "markdown",
   "id": "4ec9b45b",
   "metadata": {},
   "source": [
    "[과제5] 복합 대입 연산자를 이용해서 4칙연산을 수행하세요"
   ]
  },
  {
   "cell_type": "code",
   "execution_count": 48,
   "id": "4ba81e46",
   "metadata": {},
   "outputs": [
    {
     "name": "stdout",
     "output_type": "stream",
     "text": [
      "abc\n",
      "CDE\n"
     ]
    }
   ],
   "source": [
    "# 소문자, 대문자 변환\n",
    "word1 = 'ABC'\n",
    "word2 = 'cde'\n",
    "w1 = word1.lower()\n",
    "w2 = word2.upper()\n",
    "\n",
    "print(w1)\n",
    "print(w2)"
   ]
  },
  {
   "cell_type": "markdown",
   "id": "f15037fc",
   "metadata": {},
   "source": [
    "#### 과제6 다음 과제를 수행하세요.\n",
    "- 사용자로 부터 텍스트를 입력 받는다.\n",
    "- 문장을 단어 단위로 분리\n",
    "- 단어의 빈도수를 저장할 딕셔너리를 생성\n",
    "- 각 단어의 빈도 수를 계산(for 문 / if else문)\n",
    "- 결과 출력"
   ]
  },
  {
   "cell_type": "markdown",
   "id": "cfa5c069",
   "metadata": {},
   "source": [
    "#### 이스케이프 문자\n",
    "- 키보드로 입력하기 어려운 기호 등을 나타낸다.\n",
    "- \\로 시작, \\n 줄바꾸기, \\t 탭,"
   ]
  },
  {
   "cell_type": "code",
   "execution_count": 49,
   "id": "0a811bce",
   "metadata": {},
   "outputs": [
    {
     "name": "stdout",
     "output_type": "stream",
     "text": [
      "나는 파이썬을 사랑합니다. \n",
      "파이썬은 자바보다 훨씬 쉽습니다.\n",
      "나는 파이썬을 사랑합니다. \t파이썬은 자바보다 훨씬 쉽습니다.\n"
     ]
    }
   ],
   "source": [
    "print('나는 파이썬을 사랑합니다. \\n파이썬은 자바보다 훨씬 쉽습니다.')\n",
    "print('나는 파이썬을 사랑합니다. \\t파이썬은 자바보다 훨씬 쉽습니다.')"
   ]
  },
  {
   "cell_type": "code",
   "execution_count": 52,
   "id": "bd5fa86f",
   "metadata": {},
   "outputs": [
    {
     "name": "stdout",
     "output_type": "stream",
     "text": [
      "Hello\tWorld!\n",
      "Hello\n",
      "World!\n",
      "She said, \"Hi!\"\n",
      "It's raining\n",
      "Backslash: \\\n"
     ]
    }
   ],
   "source": [
    "print(\"Hello\\tWorld!\")  # 탭 간격 주기\n",
    "print(\"Hello\\nWorld!\")  # 줄바꿈 하기\n",
    "print(\"She said, \\\"Hi!\\\"\")  # 큰따옴표를 문자열 내부에 넣기 \n",
    "print('It\\'s raining')  # 작은 따옴표를 문자열 내부에 넣기\n",
    "print(\"Backslash: \\\\\")  # 백슬래시 출력"
   ]
  },
  {
   "cell_type": "markdown",
   "id": "a75edc23",
   "metadata": {},
   "source": [
    "#### 문자열 포멧\n",
    "- % operator 사용 : % 연산자를 사용하려면 %(VAR_NAME)TYPE 형식으로 적어주며 VAR_NAME 은 바인딩할 변수명을 TYPE 은 변수의 유형을 적어준다.\n",
    "- str.format : str.format() 은 파이썬 표현식 값을 바인딩할 부분을 중괄호 {} 로 표시하고 .format() 뒤에 바인딩할 값을 기술해 준다.\n",
    "- f-string : 문자열에 f 나 F 접두사를 붙이고 표현식을 {expr} 형식으로 작성하면 출력 문자열이 파이썬 표현식의 값으로 바뀐다."
   ]
  },
  {
   "cell_type": "code",
   "execution_count": 12,
   "id": "3761aa54",
   "metadata": {},
   "outputs": [
    {
     "name": "stdout",
     "output_type": "stream",
     "text": [
      "3, 3.000000, 3.0, hello\n"
     ]
    }
   ],
   "source": [
    "print('%(num)d, %(float1)f, %(float2)0.1f, %(string)s' %{\"num\": 3, \"float1\": 3, \"float2\": 3, \"string\": 'hello'})"
   ]
  },
  {
   "cell_type": "code",
   "execution_count": 5,
   "id": "4d642d7e",
   "metadata": {},
   "outputs": [
    {
     "name": "stdout",
     "output_type": "stream",
     "text": [
      "나는 자바보다 파이썬에 더 익숙합니다.\n",
      "파이썬은 자바보다 5배 더 쉽습니다.\n",
      "5 + 10 = 15\n",
      "작년 세계 경제 성장률은 전년에 비해 %d%% 포인트 증가했다.\n"
     ]
    }
   ],
   "source": [
    "txt1 = '자바'; txt2 = '파이썬'\n",
    "num1 = 5; num2 = 10\n",
    "print('나는 %s보다 %s에 더 익숙합니다.' %(txt1, txt2))\n",
    "print('%s은 %s보다 %d배 더 쉽습니다.' %(txt2, txt1, num1))\n",
    "print('%d + %d = %d' %(num1, num2, num1+num2))\n",
    "print('작년 세계 경제 성장률은 전년에 비해 %d%% 포인트 증가했다.' %num1)  # 문자열 포멧형식 쓸 때 % 표현하려면 %%로 2번 써야함."
   ]
  },
  {
   "cell_type": "code",
   "execution_count": 15,
   "id": "be813ea2",
   "metadata": {},
   "outputs": [
    {
     "name": "stdout",
     "output_type": "stream",
     "text": [
      "We are the knight who say \"Ni!\"\n"
     ]
    }
   ],
   "source": [
    "# str.format\n",
    "print('We are the {} who say \"{}!\"'.format('knight', 'Ni'))"
   ]
  },
  {
   "cell_type": "code",
   "execution_count": 17,
   "id": "cb7414ab",
   "metadata": {},
   "outputs": [
    {
     "name": "stdout",
     "output_type": "stream",
     "text": [
      "나의 이름은 홍길순입니다. 나이는 20입니다.\n"
     ]
    }
   ],
   "source": [
    "# 문자열 포멧\n",
    "name = '홍길순'\n",
    "age = 20\n",
    "print(f'나의 이름은 {name}입니다. 나이는 {age}입니다.')"
   ]
  },
  {
   "cell_type": "code",
   "execution_count": 21,
   "id": "b5958bfa",
   "metadata": {
    "scrolled": true
   },
   "outputs": [
    {
     "name": "stdout",
     "output_type": "stream",
     "text": [
      "Tom    ==>       1234\n",
      "Jack   ==>       4518\n",
      "Eddie  ==>       9638\n"
     ]
    }
   ],
   "source": [
    "table = {'Tom': 1234, 'Jack': 4518, 'Eddie': 9638}\n",
    "# 딕셔너리를 꺼내는 for문\n",
    "for name, phone in table.items():\n",
    "    print(f'{name:6} ==> {phone:10d}')  # 콜론 뒤의 숫자 ==> 해당 항이 차지할 자릿수"
   ]
  },
  {
   "cell_type": "code",
   "execution_count": 24,
   "id": "96658bb1",
   "metadata": {},
   "outputs": [
    {
     "data": {
      "text/plain": [
       "'3.4213'"
      ]
     },
     "execution_count": 24,
     "metadata": {},
     "output_type": "execute_result"
    }
   ],
   "source": [
    "# 소수점 4자리까지만 표현\n",
    "y = 3.42134234\n",
    "f'{y:0.4f}'"
   ]
  },
  {
   "cell_type": "markdown",
   "id": "1eb2f4d9",
   "metadata": {},
   "source": [
    "#### [과제1_1030] num1 = 12345을 아래와 같이 출력하세요.\n",
    "12345\n",
    "     12345\n",
    "12.345679\n",
    "          12.346"
   ]
  },
  {
   "cell_type": "markdown",
   "id": "5f7964dd",
   "metadata": {},
   "source": [
    "#### 2진수, 8진수, 16진수의 데이터 표현 방법\n",
    "\n",
    "- 우리가 프로그래밍을 하면서 변수에 어떤 값을 저장할 때 10진수는 일상적 표현을 그대로 대입한다.\n",
    "- 예를들어 15를 저장하고 싶다면 int a= 15; 와 같이 15라는 숫자를 그대로 대입하면 된다.\n",
    "- 하지만 2진수, 8진수, 16진수는 표현법이 따로 정해져있다.<br><br>  \n",
    "\n",
    "- 2진수는 대입하고자 하는 값 앞에 0b를 붙인다. (숫자0과 영문자b)\n",
    "- 8진수는 대입하고자 하는 값 앞에 0o 을 붙인다. (숫자0 영문자o)\n",
    "- 16진수는 대입하고자 하는 값 앞에 0x 를 붙인다. (숫자0과 영문자x)\n",
    "\n",
    "아래의 예시를 보자.\n",
    "변수 a,b,c,d 는 모두 10진수 122 이라는 값을 저장하는 코드이다.\n",
    "\n",
    "122는\n",
    "- 2진수로 1111010\n",
    "- 8진수로 172\n",
    "- 16진수로 7A 이다."
   ]
  },
  {
   "cell_type": "code",
   "execution_count": 32,
   "id": "65c5aa76",
   "metadata": {},
   "outputs": [
    {
     "name": "stdout",
     "output_type": "stream",
     "text": [
      "122\n",
      "0b1111010\n",
      "122\n",
      "0o172\n",
      "122\n",
      "0x7a\n"
     ]
    }
   ],
   "source": [
    "# 숫자 표현 예\n",
    "a = 0b1111010\n",
    "b = 0o172\n",
    "c = 0x7A\n",
    "print(a)\n",
    "print(str(bin(122)))\n",
    "print(b)\n",
    "print(str(oct(122)))\n",
    "print(c)\n",
    "print(str(hex(122)))"
   ]
  },
  {
   "cell_type": "code",
   "execution_count": 36,
   "id": "a08ce10a",
   "metadata": {},
   "outputs": [
    {
     "name": "stdout",
     "output_type": "stream",
     "text": [
      "123\n",
      "-123\n",
      "0\n",
      "1.23\n",
      "127\n",
      "2748\n",
      "42\n"
     ]
    }
   ],
   "source": [
    "# 파이썬 자료형 - 숫자형(정수, 실수, 8진수, 16진수)\n",
    "# 16진수 10 - 16 : A - F\n",
    "a = 123\n",
    "b = -123\n",
    "c = 0\n",
    "d = 1.23\n",
    "e = 0o177\n",
    "f = 0xabc\n",
    "g = 0b101010\n",
    "print(a)\n",
    "print(b)\n",
    "print(c)\n",
    "print(d)\n",
    "print(e)\n",
    "print(f)\n",
    "print(g)"
   ]
  },
  {
   "cell_type": "code",
   "execution_count": 37,
   "id": "86eb1f08",
   "metadata": {},
   "outputs": [
    {
     "name": "stdout",
     "output_type": "stream",
     "text": [
      "32\n",
      "8\n",
      "2\n"
     ]
    }
   ],
   "source": [
    "# 2진수를 10진수로 표현\n",
    "g1 = 0b100000\n",
    "g2 = 0b1000\n",
    "g3 = 0b10\n",
    "print(g1)\n",
    "print(g2)\n",
    "print(g3)"
   ]
  },
  {
   "cell_type": "code",
   "execution_count": 39,
   "id": "da7a1b39",
   "metadata": {},
   "outputs": [
    {
     "name": "stdout",
     "output_type": "stream",
     "text": [
      "10\n",
      "11\n",
      "171\n",
      "171\n"
     ]
    }
   ],
   "source": [
    "# 16진수를 10진수로 표현\n",
    "f1 = 0xa\n",
    "f2 = 0xb\n",
    "f3 = 0xab\n",
    "print(f1)\n",
    "print(f2)\n",
    "print(f3)\n",
    "print(16*10+1*11)"
   ]
  }
 ],
 "metadata": {
  "kernelspec": {
   "display_name": "Python 3 (ipykernel)",
   "language": "python",
   "name": "python3"
  },
  "language_info": {
   "codemirror_mode": {
    "name": "ipython",
    "version": 3
   },
   "file_extension": ".py",
   "mimetype": "text/x-python",
   "name": "python",
   "nbconvert_exporter": "python",
   "pygments_lexer": "ipython3",
   "version": "3.10.13"
  }
 },
 "nbformat": 4,
 "nbformat_minor": 5
}
