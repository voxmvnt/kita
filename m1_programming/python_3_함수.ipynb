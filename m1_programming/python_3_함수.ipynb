{
 "cells": [
  {
   "cell_type": "markdown",
   "id": "40ec219f",
   "metadata": {},
   "source": [
    "#### 함수 vs 메소드 \n",
    "- 함수 (Function)\n",
    "    - 함수는 특정 작업을 수행하거나 값을 계산하기 위해 정의된 코드의 블록\n",
    "    - 함수는 def 키워드를 사용하여 정의\n",
    "    - 함수는 전역적으로 호출할 수 있거나 다른 함수 내부에서 호출할 수 있다.\n",
    "    - 예: print(), len(), max()\n",
    "- 메소드 (Method)\n",
    "    - 메소드는 객체에 속한 함수즉, 메소드는 특정 객체의 속성이거나 기능으로 정의\n",
    "    - 메소드는 객체와 연결되어 있으며, . (점) 표기법을 사용하여 해당 객체에 대한 메소드를 호출\n",
    "    - 메소드는 첫 번째 매개변수로 self를 사용하여 객체 자체를 참조 (클래스 내부에서 메소드를 정의할 때)\n",
    "- 주요 차이점\n",
    "    - 정의: 함수는 독립적으로 정의되지만, 메소드는 클래스 내부에서 정의\n",
    "    - 호출: 함수는 이름만으로 호출될 수 있지만, 메소드는 객체를 통해 호출\n",
    "    - 참조: 메소드는 첫 번째 매개변수로 객체 자신을 참조(self), 반면 함수는 이런 자체 참조 매개변수를 갖지 않는다."
   ]
  },
  {
   "cell_type": "code",
   "execution_count": 7,
   "id": "8481bad7",
   "metadata": {},
   "outputs": [
    {
     "name": "stdout",
     "output_type": "stream",
     "text": [
      "Hello from a function\n"
     ]
    }
   ],
   "source": [
    "def my_function():\n",
    "    print(\"Hello from a function\")\n",
    "    \n",
    "my_function()  # 함수 호출"
   ]
  },
  {
   "cell_type": "code",
   "execution_count": 10,
   "id": "b86e662a",
   "metadata": {},
   "outputs": [
    {
     "name": "stdout",
     "output_type": "stream",
     "text": [
      "Hello from a method\n"
     ]
    }
   ],
   "source": [
    "class MyClass:\n",
    "    def my_method(self):\n",
    "        print(\"Hello from a method\")\n",
    "        \n",
    "obj = MyClass()\n",
    "obj.my_method()  # 메소드 호출"
   ]
  },
  {
   "cell_type": "code",
   "execution_count": 11,
   "id": "4fd84c5e",
   "metadata": {},
   "outputs": [
    {
     "data": {
      "text/plain": [
       "[1, 2, 3, 4, 5, 6]"
      ]
     },
     "execution_count": 11,
     "metadata": {},
     "output_type": "execute_result"
    }
   ],
   "source": [
    "# 메소드 사례\n",
    "my_list = [1, 2, 3, 4, 5]\n",
    "\n",
    "my_list.append(6)   # 리스트 요소 추가\n",
    "my_list"
   ]
  },
  {
   "cell_type": "code",
   "execution_count": 2,
   "id": "28682aee",
   "metadata": {},
   "outputs": [
    {
     "name": "stdout",
     "output_type": "stream",
     "text": [
      "HELLO\n"
     ]
    }
   ],
   "source": [
    "my_string = \"hello\"\n",
    "\n",
    "upper_string = my_string.upper()  # 문자열을 대문자로 변환\n",
    "\n",
    "print(upper_string)"
   ]
  },
  {
   "cell_type": "code",
   "execution_count": 4,
   "id": "070679e6",
   "metadata": {},
   "outputs": [
    {
     "name": "stdout",
     "output_type": "stream",
     "text": [
      "value2\n"
     ]
    }
   ],
   "source": [
    "my_dict = {'key1':'value1','key2':'value2','key3':'value3'}\n",
    "\n",
    "value = my_dict.get('key2')\n",
    "\n",
    "print(value)"
   ]
  },
  {
   "cell_type": "code",
   "execution_count": 5,
   "id": "831c4e6c",
   "metadata": {},
   "outputs": [
    {
     "name": "stdout",
     "output_type": "stream",
     "text": [
      "{1, 2, 3, 4}\n"
     ]
    }
   ],
   "source": [
    "my_set = {1, 2, 3}\n",
    "\n",
    "my_set.add(4)  # 집합에 요소 추가\n",
    "\n",
    "print(my_set)"
   ]
  },
  {
   "cell_type": "code",
   "execution_count": 6,
   "id": "359b48c1",
   "metadata": {
    "scrolled": false
   },
   "outputs": [
    {
     "name": "stdout",
     "output_type": "stream",
     "text": [
      "2\n"
     ]
    }
   ],
   "source": [
    "my_list = [1, 2, 3, 4, 5]\n",
    "\n",
    "index = my_list.index(3)   # 리스트의 값이 3인 것의 인덱스값을 반환\n",
    "print(index)"
   ]
  },
  {
   "cell_type": "markdown",
   "id": "c6ef483c",
   "metadata": {},
   "source": [
    "파이썬에서 함수는 크게 내장 함수(Built-in Functions)와 외장 함수(External Functions)로 나뉩니다.\n",
    "\n",
    "1. 내장 함수 (Built-in Functions):\n",
    "- 내장 함수는 파이썬 인터프리터에 포함되어 있어, 별도의 모듈을 임포트(import)하지 않고도 사용 예를 들어, print(), len(), type(), range(), zip() 등이 내장 함수입니다.\n",
    "- 이러한 함수들은 기본적인 작업을 수행하며, 파이썬 프로그래밍의 기본적인 빌딩 블록(building blocks)으로 작동\n",
    "\n",
    "2. 외장 함수 (External Functions):\n",
    "- 표준 라이브러리에 포함된 모듈과 함수를 가리키는 것으로 모듈을 임포트하여 사용\n",
    "- 파이썬 표준 라이브러리의 os, sys, math, random, datetime 등의 모듈에는 다양한 외장 함수가 포함\n",
    "\n",
    "3. 외부 라이브러리나 패키지\n",
    "- 표준 라이브러리에 포함되지 않아 기본 설치에는 포함되지 않는다. \n",
    "- 이를 사용하려면 먼저 해당 라이브러리나 패키지를 설치\n",
    "- 외부 라이브러리는 통상적으로 파이썬의 패키지 관리자인 pip를 사용하여 설치\n",
    "- 설치 후에는 외장 함수와 마찬가지로 필요한 모듈을 임포트하여 사용\n",
    "- 예: numpy, pandas, requests 등의 외부 라이브러리에 포함된 함수들.\n",
    "\n",
    "3. 사용자 정의 함수(User-Defined Functions):\n",
    "- 사용자가 직접 정의하여 사용하는 함수\n",
    "- def 키워드를 사용하여 함수를 정의하며, 필요에 따라 매개변수와 반환 값을 지정\n",
    "\n",
    "4. 람다 함수(Lambda Functions):\n",
    "- 이름 없는 간단한 함수를 정의할 때 사용하는 익명 함수\n",
    "- lambda 키워드를 사용하여 한 줄로 함수를 정의하며, 주로 간단한 연산이 필요할 때 사용"
   ]
  },
  {
   "cell_type": "code",
   "execution_count": 1,
   "id": "af2eb89a",
   "metadata": {},
   "outputs": [
    {
     "name": "stdout",
     "output_type": "stream",
     "text": [
      "Hello, World!\n",
      "4\n",
      "<class 'int'>\n"
     ]
    }
   ],
   "source": [
    "# 내장 함수 예제\n",
    "print(\"Hello, World!\")  # 출력 함수\n",
    "print(len([1,2,3,4]))  # 길이 계산 함수\n",
    "print(type(10))  # 타입 확인 함수"
   ]
  },
  {
   "cell_type": "code",
   "execution_count": 18,
   "id": "01fab306",
   "metadata": {},
   "outputs": [
    {
     "name": "stdout",
     "output_type": "stream",
     "text": [
      "4.0\n",
      "3\n",
      "2023-10-31 15:16:10.239190\n"
     ]
    }
   ],
   "source": [
    "# 외장 함수 예제\n",
    "import math  # 수학 모듈 임포트\n",
    "print(math.sqrt(16))  # 제곱근 계산 함수\n",
    "\n",
    "import random  # 랜덤 모듈 임포트\n",
    "print(random.randint(1,10))  # 랜덤 정수 생성 함수. 양끝 포함.\n",
    "\n",
    "import datetime  # 날짜와 시간 모듈 임포트\n",
    "print(datetime.datetime.now())\n"
   ]
  },
  {
   "cell_type": "code",
   "execution_count": 7,
   "id": "64fcde6e",
   "metadata": {},
   "outputs": [
    {
     "name": "stdout",
     "output_type": "stream",
     "text": [
      "2023-12-31 00:00:00\n",
      "60 days, 6:00:50.370770\n",
      "60\n"
     ]
    }
   ],
   "source": [
    "# 참고 : 날짜 계산하기\n",
    "\n",
    "import datetime\n",
    "\n",
    "today = datetime.datetime.now()\n",
    "\n",
    "eYear = \"2023-12-31\"\n",
    "eYear_dType = datetime.datetime.strptime(eYear, '%Y-%m-%d') \n",
    "print(eYear_dType)\n",
    "\n",
    "calDate = eYear_dType - today\n",
    "print(calDate)\n",
    "\n",
    "print(calDate.days)"
   ]
  },
  {
   "cell_type": "code",
   "execution_count": 20,
   "id": "d682aa68",
   "metadata": {
    "scrolled": true
   },
   "outputs": [
    {
     "name": "stdout",
     "output_type": "stream",
     "text": [
      "      Name  Age\n",
      "0    Alice   25\n",
      "1      Bob   30\n",
      "2  Charlie   35\n",
      "\n",
      "    Name  Age\n",
      "0  Alice   25\n",
      "1    Bob   30\n"
     ]
    }
   ],
   "source": [
    "# 외부 라이브러리 예제\n",
    "# 먼저 pip를 사용하여 requests 라이브러리를 설치합니다.\n",
    "# !pip install pandas\n",
    "\n",
    "import pandas as pd\n",
    "\n",
    "# pandas의 DataFrame 객체 생성\n",
    "data = {'Name': ['Alice', 'Bob', 'Charlie'], 'Age': [25, 30, 35]}\n",
    "df = pd.DataFrame(data)\n",
    "\n",
    "# pandas의 head() 함수 사용하여 DataFrame의 처음 5행 출력 (여기서는 3행만 존재)\n",
    "# head() 괄호 안에 숫자 입력시 입력된 숫자 만큼 출력\n",
    "print(df)\n",
    "print()\n",
    "print(df.head(2))"
   ]
  },
  {
   "cell_type": "code",
   "execution_count": 6,
   "id": "67f2e1fb",
   "metadata": {
    "scrolled": true
   },
   "outputs": [
    {
     "data": {
      "text/html": [
       "<div>\n",
       "<style scoped>\n",
       "    .dataframe tbody tr th:only-of-type {\n",
       "        vertical-align: middle;\n",
       "    }\n",
       "\n",
       "    .dataframe tbody tr th {\n",
       "        vertical-align: top;\n",
       "    }\n",
       "\n",
       "    .dataframe thead th {\n",
       "        text-align: right;\n",
       "    }\n",
       "</style>\n",
       "<table border=\"1\" class=\"dataframe\">\n",
       "  <thead>\n",
       "    <tr style=\"text-align: right;\">\n",
       "      <th></th>\n",
       "      <th>survived</th>\n",
       "      <th>pclass</th>\n",
       "      <th>sex</th>\n",
       "      <th>age</th>\n",
       "      <th>sibsp</th>\n",
       "      <th>parch</th>\n",
       "      <th>fare</th>\n",
       "      <th>embarked</th>\n",
       "      <th>class</th>\n",
       "      <th>who</th>\n",
       "      <th>adult_male</th>\n",
       "      <th>deck</th>\n",
       "      <th>embark_town</th>\n",
       "      <th>alive</th>\n",
       "      <th>alone</th>\n",
       "    </tr>\n",
       "  </thead>\n",
       "  <tbody>\n",
       "    <tr>\n",
       "      <th>0</th>\n",
       "      <td>0</td>\n",
       "      <td>3</td>\n",
       "      <td>male</td>\n",
       "      <td>22.0</td>\n",
       "      <td>1</td>\n",
       "      <td>0</td>\n",
       "      <td>7.2500</td>\n",
       "      <td>S</td>\n",
       "      <td>Third</td>\n",
       "      <td>man</td>\n",
       "      <td>True</td>\n",
       "      <td>NaN</td>\n",
       "      <td>Southampton</td>\n",
       "      <td>no</td>\n",
       "      <td>False</td>\n",
       "    </tr>\n",
       "    <tr>\n",
       "      <th>1</th>\n",
       "      <td>1</td>\n",
       "      <td>1</td>\n",
       "      <td>female</td>\n",
       "      <td>38.0</td>\n",
       "      <td>1</td>\n",
       "      <td>0</td>\n",
       "      <td>71.2833</td>\n",
       "      <td>C</td>\n",
       "      <td>First</td>\n",
       "      <td>woman</td>\n",
       "      <td>False</td>\n",
       "      <td>C</td>\n",
       "      <td>Cherbourg</td>\n",
       "      <td>yes</td>\n",
       "      <td>False</td>\n",
       "    </tr>\n",
       "    <tr>\n",
       "      <th>2</th>\n",
       "      <td>1</td>\n",
       "      <td>3</td>\n",
       "      <td>female</td>\n",
       "      <td>26.0</td>\n",
       "      <td>0</td>\n",
       "      <td>0</td>\n",
       "      <td>7.9250</td>\n",
       "      <td>S</td>\n",
       "      <td>Third</td>\n",
       "      <td>woman</td>\n",
       "      <td>False</td>\n",
       "      <td>NaN</td>\n",
       "      <td>Southampton</td>\n",
       "      <td>yes</td>\n",
       "      <td>True</td>\n",
       "    </tr>\n",
       "    <tr>\n",
       "      <th>3</th>\n",
       "      <td>1</td>\n",
       "      <td>1</td>\n",
       "      <td>female</td>\n",
       "      <td>35.0</td>\n",
       "      <td>1</td>\n",
       "      <td>0</td>\n",
       "      <td>53.1000</td>\n",
       "      <td>S</td>\n",
       "      <td>First</td>\n",
       "      <td>woman</td>\n",
       "      <td>False</td>\n",
       "      <td>C</td>\n",
       "      <td>Southampton</td>\n",
       "      <td>yes</td>\n",
       "      <td>False</td>\n",
       "    </tr>\n",
       "    <tr>\n",
       "      <th>4</th>\n",
       "      <td>0</td>\n",
       "      <td>3</td>\n",
       "      <td>male</td>\n",
       "      <td>35.0</td>\n",
       "      <td>0</td>\n",
       "      <td>0</td>\n",
       "      <td>8.0500</td>\n",
       "      <td>S</td>\n",
       "      <td>Third</td>\n",
       "      <td>man</td>\n",
       "      <td>True</td>\n",
       "      <td>NaN</td>\n",
       "      <td>Southampton</td>\n",
       "      <td>no</td>\n",
       "      <td>True</td>\n",
       "    </tr>\n",
       "    <tr>\n",
       "      <th>5</th>\n",
       "      <td>0</td>\n",
       "      <td>3</td>\n",
       "      <td>male</td>\n",
       "      <td>NaN</td>\n",
       "      <td>0</td>\n",
       "      <td>0</td>\n",
       "      <td>8.4583</td>\n",
       "      <td>Q</td>\n",
       "      <td>Third</td>\n",
       "      <td>man</td>\n",
       "      <td>True</td>\n",
       "      <td>NaN</td>\n",
       "      <td>Queenstown</td>\n",
       "      <td>no</td>\n",
       "      <td>True</td>\n",
       "    </tr>\n",
       "    <tr>\n",
       "      <th>6</th>\n",
       "      <td>0</td>\n",
       "      <td>1</td>\n",
       "      <td>male</td>\n",
       "      <td>54.0</td>\n",
       "      <td>0</td>\n",
       "      <td>0</td>\n",
       "      <td>51.8625</td>\n",
       "      <td>S</td>\n",
       "      <td>First</td>\n",
       "      <td>man</td>\n",
       "      <td>True</td>\n",
       "      <td>E</td>\n",
       "      <td>Southampton</td>\n",
       "      <td>no</td>\n",
       "      <td>True</td>\n",
       "    </tr>\n",
       "    <tr>\n",
       "      <th>7</th>\n",
       "      <td>0</td>\n",
       "      <td>3</td>\n",
       "      <td>male</td>\n",
       "      <td>2.0</td>\n",
       "      <td>3</td>\n",
       "      <td>1</td>\n",
       "      <td>21.0750</td>\n",
       "      <td>S</td>\n",
       "      <td>Third</td>\n",
       "      <td>child</td>\n",
       "      <td>False</td>\n",
       "      <td>NaN</td>\n",
       "      <td>Southampton</td>\n",
       "      <td>no</td>\n",
       "      <td>False</td>\n",
       "    </tr>\n",
       "    <tr>\n",
       "      <th>8</th>\n",
       "      <td>1</td>\n",
       "      <td>3</td>\n",
       "      <td>female</td>\n",
       "      <td>27.0</td>\n",
       "      <td>0</td>\n",
       "      <td>2</td>\n",
       "      <td>11.1333</td>\n",
       "      <td>S</td>\n",
       "      <td>Third</td>\n",
       "      <td>woman</td>\n",
       "      <td>False</td>\n",
       "      <td>NaN</td>\n",
       "      <td>Southampton</td>\n",
       "      <td>yes</td>\n",
       "      <td>False</td>\n",
       "    </tr>\n",
       "    <tr>\n",
       "      <th>9</th>\n",
       "      <td>1</td>\n",
       "      <td>2</td>\n",
       "      <td>female</td>\n",
       "      <td>14.0</td>\n",
       "      <td>1</td>\n",
       "      <td>0</td>\n",
       "      <td>30.0708</td>\n",
       "      <td>C</td>\n",
       "      <td>Second</td>\n",
       "      <td>child</td>\n",
       "      <td>False</td>\n",
       "      <td>NaN</td>\n",
       "      <td>Cherbourg</td>\n",
       "      <td>yes</td>\n",
       "      <td>False</td>\n",
       "    </tr>\n",
       "  </tbody>\n",
       "</table>\n",
       "</div>"
      ],
      "text/plain": [
       "   survived  pclass     sex   age  sibsp  parch     fare embarked   class  \\\n",
       "0         0       3    male  22.0      1      0   7.2500        S   Third   \n",
       "1         1       1  female  38.0      1      0  71.2833        C   First   \n",
       "2         1       3  female  26.0      0      0   7.9250        S   Third   \n",
       "3         1       1  female  35.0      1      0  53.1000        S   First   \n",
       "4         0       3    male  35.0      0      0   8.0500        S   Third   \n",
       "5         0       3    male   NaN      0      0   8.4583        Q   Third   \n",
       "6         0       1    male  54.0      0      0  51.8625        S   First   \n",
       "7         0       3    male   2.0      3      1  21.0750        S   Third   \n",
       "8         1       3  female  27.0      0      2  11.1333        S   Third   \n",
       "9         1       2  female  14.0      1      0  30.0708        C  Second   \n",
       "\n",
       "     who  adult_male deck  embark_town alive  alone  \n",
       "0    man        True  NaN  Southampton    no  False  \n",
       "1  woman       False    C    Cherbourg   yes  False  \n",
       "2  woman       False  NaN  Southampton   yes   True  \n",
       "3  woman       False    C  Southampton   yes  False  \n",
       "4    man        True  NaN  Southampton    no   True  \n",
       "5    man        True  NaN   Queenstown    no   True  \n",
       "6    man        True    E  Southampton    no   True  \n",
       "7  child       False  NaN  Southampton    no  False  \n",
       "8  woman       False  NaN  Southampton   yes  False  \n",
       "9  child       False  NaN    Cherbourg   yes  False  "
      ]
     },
     "execution_count": 6,
     "metadata": {},
     "output_type": "execute_result"
    }
   ],
   "source": [
    "# pandas 사용 예시\n",
    "import pandas as pd\n",
    "import seaborn as sns\n",
    "\n",
    "titanic = sns.load_dataset('titanic')\n",
    "\n",
    "titanic.head(10)\n",
    "\n",
    "# 해당 데이터로 인자별 생존에 미치는 확률 분석\n"
   ]
  },
  {
   "cell_type": "code",
   "execution_count": 26,
   "id": "ba45f9b3",
   "metadata": {},
   "outputs": [
    {
     "name": "stdout",
     "output_type": "stream",
     "text": [
      "Hello, Alice!\n"
     ]
    }
   ],
   "source": [
    "# 사용자 함수 예제\n",
    "def greet(name):\n",
    "    return f'Hello, {name}!'\n",
    "\n",
    "print(greet(\"Alice\"))"
   ]
  },
  {
   "cell_type": "markdown",
   "id": "01479873",
   "metadata": {},
   "source": [
    "### 람다 함수"
   ]
  },
  {
   "cell_type": "code",
   "execution_count": 28,
   "id": "b6ce27aa",
   "metadata": {},
   "outputs": [
    {
     "name": "stdout",
     "output_type": "stream",
     "text": [
      "12\n"
     ]
    }
   ],
   "source": [
    "# 람다 함수는 간단한 한 줄의 함수를 작성할 때 유용\n",
    "multiply = lambda x, y: x * y\n",
    "print(multiply(3, 4)) "
   ]
  },
  {
   "cell_type": "code",
   "execution_count": 29,
   "id": "b6e46c1b",
   "metadata": {},
   "outputs": [
    {
     "name": "stdout",
     "output_type": "stream",
     "text": [
      "True\n",
      "False\n"
     ]
    }
   ],
   "source": [
    "# 조건 사용\n",
    "is_even = lambda x: True if x % 2 == 0 else False\n",
    "print(is_even(4))\n",
    "print(is_even(5))"
   ]
  },
  {
   "cell_type": "code",
   "execution_count": 31,
   "id": "7d74079c",
   "metadata": {},
   "outputs": [
    {
     "name": "stdout",
     "output_type": "stream",
     "text": [
      "[1, 4, 9, 16, 25]\n"
     ]
    }
   ],
   "source": [
    "# map() 함수와 함께 사용\n",
    "numbers = [1,2,3,4,5]\n",
    "squared_numbers = map(lambda x: x * x, numbers)  # 인자별 계산값을 맵핑\n",
    "print(list(squared_numbers))"
   ]
  },
  {
   "cell_type": "code",
   "execution_count": 4,
   "id": "79fa2d77",
   "metadata": {},
   "outputs": [
    {
     "name": "stdout",
     "output_type": "stream",
     "text": [
      "[2, 4]\n"
     ]
    }
   ],
   "source": [
    "# filter() 함수와 함꼐 사용\n",
    "numbers = [1,2,3,4,5]\n",
    "even_numbers = filter(lambda x: x % 2 == 0, numbers)  # True 값만 반영\n",
    "print(list(even_numbers))"
   ]
  },
  {
   "cell_type": "code",
   "execution_count": 2,
   "id": "c1233a44",
   "metadata": {},
   "outputs": [
    {
     "name": "stdout",
     "output_type": "stream",
     "text": [
      "[('Bob', 85), ('Charlie', 88), ('Alice', 90)]\n"
     ]
    }
   ],
   "source": [
    "# sorted() 함수와 함꼐 사용\n",
    "s1 = ['Alice', 'Bob', 'Charlie']\n",
    "s2 = [90, 85, 88]\n",
    "students = list(zip(s1,s2))\n",
    "sorted_students = sorted(students, key=lambda x: x[1])\n",
    "# sorted_students = sorted(students, key=lambda x: x[1], reverse=True)\n",
    "print(sorted_students)"
   ]
  },
  {
   "cell_type": "markdown",
   "id": "5d2f3412",
   "metadata": {},
   "source": [
    "### 사용자 함수"
   ]
  },
  {
   "cell_type": "code",
   "execution_count": 6,
   "id": "45057d26",
   "metadata": {
    "scrolled": true
   },
   "outputs": [
    {
     "name": "stdout",
     "output_type": "stream",
     "text": [
      "25\n",
      "45\n",
      "대한민국~만세!!\n"
     ]
    }
   ],
   "source": [
    "def add_number(n1, n2):\n",
    "    ret = n1 + n2\n",
    "    return ret\n",
    "\n",
    "# output값이 없는 형태\n",
    "def add_txt(t1, t2):\n",
    "    print(t1 + t2)\n",
    "    \n",
    "ans1 = add_number(10, 15)\n",
    "print(ans1)\n",
    "ans2 = add_number(20, 25)\n",
    "print(ans2)\n",
    "text1 = '대한민국~'\n",
    "text2 = '만세!!'\n",
    "add_txt(text1, text2)"
   ]
  },
  {
   "cell_type": "code",
   "execution_count": 16,
   "id": "af832f3d",
   "metadata": {},
   "outputs": [
    {
     "name": "stdout",
     "output_type": "stream",
     "text": [
      "베스트 : 파이썬\n",
      "1등 : 대한민국\n",
      "()\n",
      "(3, 5, 8, 12)\n",
      "{}\n",
      "{'depth': 50, 'color': 'blue'}\n"
     ]
    }
   ],
   "source": [
    "# 함수 인자 : 기본적으로 인자 순서에 대응되는 값을 함수코드에 대입\n",
    "def add_txt(t1, t2='파이썬'):  # t2 기본값을 대입한 기본 인자는 마지막에 위치해야 함.\n",
    "    print(t1+' : '+t2)\n",
    "\n",
    "add_txt('베스트')\n",
    "add_txt(t2='대한민국',t1= '1등')\n",
    "\n",
    "def func1(*args):  # 인자의 개수가 불명확한 경우. args는 함수 내부에서 튜플로 처리\n",
    "    print(args)\n",
    "\n",
    "def func2(width, height, **kwargs):  # 키워드 인자가 불명확한 경우. **kwargs는 함수 내부에서 사전으로 처리\n",
    "    print(kwargs)\n",
    "\n",
    "# 사용 예시\n",
    "func1()\n",
    "func1(3,5,8,12)\n",
    "func2(10,20)\n",
    "func2(10,20, depth=50, color='blue')"
   ]
  },
  {
   "cell_type": "code",
   "execution_count": 2,
   "id": "870dfee8",
   "metadata": {},
   "outputs": [
    {
     "name": "stdout",
     "output_type": "stream",
     "text": [
      "85\n",
      "155\n"
     ]
    }
   ],
   "source": [
    "# Q. 1~10까지 가변적으로 연산을 할 수 있는 사용자 함수를 작성\n",
    "\n",
    "def all_add(*args):\n",
    "    result = 0\n",
    "    for i in args:\n",
    "        result += i\n",
    "    print(result)\n",
    "\n",
    "all_add(4,22,59)\n",
    "test_args = 11, 44, 100\n",
    "all_add(*test_args)"
   ]
  },
  {
   "cell_type": "code",
   "execution_count": 33,
   "id": "054f6a96",
   "metadata": {
    "scrolled": true
   },
   "outputs": [
    {
     "name": "stdout",
     "output_type": "stream",
     "text": [
      "Width: 100\n",
      "Height: 200\n",
      "Other arguments: {'color': 'red', 'thickness': 5}\n"
     ]
    }
   ],
   "source": [
    "# Q. **args를 이용하여 아래와 같이 출력할 수 있는 사용자 함수 func2를 작성하세요\n",
    "# 출력:\n",
    "# Width: 100\n",
    "# Height: 200\n",
    "# Other arguments: {'color': 'red', 'thickness': 5}\n",
    "\n",
    "def func2(width, height, **kwargs):\n",
    "    text2=f'''Width: {width}\n",
    "Height: {height}\n",
    "Other arguments: {kwargs}'''\n",
    "    print(text2)\n",
    "\n",
    "func2(100,200, color='red', thickness=5)"
   ]
  },
  {
   "cell_type": "markdown",
   "id": "8ebd6a58",
   "metadata": {},
   "source": [
    "### 기타 예시 "
   ]
  },
  {
   "cell_type": "code",
   "execution_count": 17,
   "id": "98dcf883",
   "metadata": {},
   "outputs": [
    {
     "name": "stdout",
     "output_type": "stream",
     "text": [
      "[3, 9, 15, 21, 27]\n"
     ]
    }
   ],
   "source": [
    "list = [ 1, 2, 3, 4, 5, 6, 7, 8, 9, 10 ]\n",
    "\n",
    "# 리스트 안에서 for 문 사용하기 2: if 문 사용 \n",
    "list = [ num * 3 for num in list if num % 2 == 1 ]\n",
    "print(list)"
   ]
  },
  {
   "cell_type": "markdown",
   "id": "d0da78c4",
   "metadata": {},
   "source": [
    "### 인자와 리턴값 여부에 따른 함수 유형"
   ]
  },
  {
   "cell_type": "code",
   "execution_count": 34,
   "id": "e0dfe7d4",
   "metadata": {},
   "outputs": [
    {
     "name": "stdout",
     "output_type": "stream",
     "text": [
      "HI\n"
     ]
    }
   ],
   "source": [
    "# 입력값이 없고 결과값만 있는 함수\n",
    "def say():\n",
    "    return 'HI'\n",
    "\n",
    "a = say()\n",
    "print(a)"
   ]
  },
  {
   "cell_type": "code",
   "execution_count": 37,
   "id": "d6e0768d",
   "metadata": {},
   "outputs": [
    {
     "name": "stdout",
     "output_type": "stream",
     "text": [
      "HI\n",
      "None\n"
     ]
    }
   ],
   "source": [
    "# 입력값이 없고 결과값도 없는 함수\n",
    "def say():\n",
    "    print('HI')\n",
    "\n",
    "a = say()\n",
    "print(a)"
   ]
  },
  {
   "cell_type": "code",
   "execution_count": 35,
   "id": "c36f6d38",
   "metadata": {},
   "outputs": [
    {
     "name": "stdout",
     "output_type": "stream",
     "text": [
      "3, 4의 합은 7입니다.\n",
      "None\n"
     ]
    }
   ],
   "source": [
    "# 입력값이 있고 결과값이 없는 함수\n",
    "# 결과값은 오직 return 명령어로만 돌려 받을 수 있음\n",
    "def add(a,b):\n",
    "    print('%d, %d의 합은 %d입니다.' %(a, b, a+b))\n",
    "\n",
    "a = add(3,4)\n",
    "print(a)"
   ]
  },
  {
   "cell_type": "code",
   "execution_count": 36,
   "id": "160cfbc8",
   "metadata": {},
   "outputs": [
    {
     "name": "stdout",
     "output_type": "stream",
     "text": [
      "7\n"
     ]
    }
   ],
   "source": [
    "# 입력값이 있고 결과값이 있는 함수1\n",
    "def add(a,b):\n",
    "    return a+b\n",
    "\n",
    "a = add(3,4)\n",
    "print(a)"
   ]
  },
  {
   "cell_type": "code",
   "execution_count": 41,
   "id": "1e9402bf",
   "metadata": {},
   "outputs": [
    {
     "name": "stdout",
     "output_type": "stream",
     "text": [
      "가장 큰 수는 30입니다.\n"
     ]
    }
   ],
   "source": [
    "# 입력값이 있고 결과값이 있는 함수2\n",
    "def max(a,b,c):\n",
    "    if a > b:\n",
    "        if a > c:\n",
    "            return a\n",
    "        else: \n",
    "            return c\n",
    "    if a < b:\n",
    "        if b > c:\n",
    "            return b\n",
    "        else:\n",
    "            return c\n",
    "        \n",
    "print(f'가장 큰 수는 {max(20, 10, 30)}입니다.')"
   ]
  },
  {
   "cell_type": "code",
   "execution_count": 45,
   "id": "bfb85858",
   "metadata": {},
   "outputs": [
    {
     "name": "stdout",
     "output_type": "stream",
     "text": [
      "5\n"
     ]
    }
   ],
   "source": [
    "# 수식 기호를 받아서 연산하는 메소드\n",
    "def math(x, y, z):\n",
    "    text = str(x)+z+str(y)\n",
    "    return eval(text)\n",
    "\n",
    "print(math(10,2,'//'))"
   ]
  },
  {
   "cell_type": "code",
   "execution_count": 1,
   "id": "e186b9b3",
   "metadata": {},
   "outputs": [
    {
     "data": {
      "text/plain": [
       "'3 equal 3'"
      ]
     },
     "execution_count": 1,
     "metadata": {},
     "output_type": "execute_result"
    }
   ],
   "source": [
    "def com(a,b):\n",
    "    if a > b:\n",
    "        return f'{a} bigger than {b}'\n",
    "    elif a < b:\n",
    "        return f'{a} smaller than {b}'\n",
    "    else:\n",
    "        return f'{a} equal {b}'\n",
    "\n",
    "com(3,3)"
   ]
  },
  {
   "cell_type": "code",
   "execution_count": 2,
   "id": "92fc7ec3",
   "metadata": {},
   "outputs": [
    {
     "name": "stdout",
     "output_type": "stream",
     "text": [
      "(7, 12)\n"
     ]
    }
   ],
   "source": [
    "# 함수의 반환 값은 언제나 하나임\n",
    "# 쉼표로 여러개 만들경우 결과 값으로 튜플 값 하나를 갖게 됨\n",
    "def add_and_mul(a,b):\n",
    "    return a+b, a*b\n",
    "\n",
    "result = add_and_mul(3,4)\n",
    "print(result)"
   ]
  },
  {
   "cell_type": "code",
   "execution_count": null,
   "id": "8678e586",
   "metadata": {},
   "outputs": [],
   "source": [
    "# add_mul() 함수를 정의하여 1,2,3,4,5를 입력값으로 적용한 덧샘, 곱샘 연산을 수행하세요"
   ]
  },
  {
   "cell_type": "code",
   "execution_count": 7,
   "id": "b135d903",
   "metadata": {},
   "outputs": [
    {
     "name": "stdout",
     "output_type": "stream",
     "text": [
      "15\n",
      "120\n"
     ]
    }
   ],
   "source": [
    "import math\n",
    "\n",
    "def add_mul(choice, *args):\n",
    "    mul_list = args\n",
    "    if choice == '+':\n",
    "        return sum(mul_list)\n",
    "    elif choice == '*':\n",
    "        return math.prod(mul_list)\n",
    "    else:\n",
    "        print('수행할 수 없는 연산입니다')\n",
    "\n",
    "print(add_mul('+',1,2,3,4,5))\n",
    "print(add_mul('*',1,2,3,4,5))"
   ]
  },
  {
   "cell_type": "markdown",
   "id": "8e5fadcb",
   "metadata": {},
   "source": [
    "#### 지역변수와 전역변수\n",
    "- 지역변수는 함수 내부에서만 유효하고 \n",
    "- 전역변수는 코드 전반에 걸쳐 유효\n",
    "- 함수의 인자는 지역변수"
   ]
  },
  {
   "cell_type": "code",
   "execution_count": 10,
   "id": "82979bcf",
   "metadata": {},
   "outputs": [
    {
     "name": "stdout",
     "output_type": "stream",
     "text": [
      "지역변수\n",
      "전역변수\n"
     ]
    }
   ],
   "source": [
    "strdata = '전역변수'\n",
    "\n",
    "def func1():\n",
    "    strdata = '지역변수'\n",
    "    print(strdata)\n",
    "    \n",
    "func1()\n",
    "print(strdata)"
   ]
  },
  {
   "cell_type": "code",
   "execution_count": 16,
   "id": "bf1978cd",
   "metadata": {},
   "outputs": [
    {
     "name": "stdout",
     "output_type": "stream",
     "text": [
      "10\n"
     ]
    }
   ],
   "source": [
    "param = 10\n",
    "def func2(param):\n",
    "    param = 1\n",
    "\n",
    "func2(param)  # 전역변수를 함수 안에서 사용\n",
    "print(param)"
   ]
  },
  {
   "cell_type": "code",
   "execution_count": 13,
   "id": "cd1afe0c",
   "metadata": {},
   "outputs": [
    {
     "name": "stdout",
     "output_type": "stream",
     "text": [
      "50\n"
     ]
    }
   ],
   "source": [
    "param = 10\n",
    "def func3():\n",
    "    global param\n",
    "    param = 50\n",
    "\n",
    "func3()\n",
    "print(param)"
   ]
  },
  {
   "cell_type": "code",
   "execution_count": 18,
   "id": "32f0d9b1",
   "metadata": {},
   "outputs": [
    {
     "name": "stdout",
     "output_type": "stream",
     "text": [
      "None\n",
      "1\n"
     ]
    }
   ],
   "source": [
    "# 함수 안에서 선언된 변수의 효력 범위\n",
    "a = 1 \n",
    "def vartest(a):\n",
    "    a = a + 1\n",
    "    \n",
    "print(vartest(a))\n",
    "print(a)"
   ]
  },
  {
   "cell_type": "code",
   "execution_count": 19,
   "id": "52c4a320",
   "metadata": {},
   "outputs": [
    {
     "name": "stdout",
     "output_type": "stream",
     "text": [
      "2\n"
     ]
    }
   ],
   "source": [
    "# 함수 안에서 함수 밖의 변수를 변경하는 방법 - return 이용\n",
    "a = 1 \n",
    "def vartest(a):\n",
    "    a = a + 1\n",
    "    return a\n",
    "\n",
    "a = vartest(a)\n",
    "print(a)"
   ]
  },
  {
   "cell_type": "code",
   "execution_count": 20,
   "id": "508372dd",
   "metadata": {},
   "outputs": [
    {
     "name": "stdout",
     "output_type": "stream",
     "text": [
      "2\n"
     ]
    }
   ],
   "source": [
    "# global 명령을 이용하는 방법\n",
    "a = 1 \n",
    "def vartest():\n",
    "    global a\n",
    "    a = a + 1\n",
    "\n",
    "vartest()\n",
    "print(a)"
   ]
  },
  {
   "cell_type": "markdown",
   "id": "d97c3164",
   "metadata": {},
   "source": [
    "#### 함수 리턴값 : return\n",
    "- 함수는 한 개 이상의 값을 리턴할 수 있으며 리턴값이 없을 수도 있다.\n",
    "- 리턴 값이 여러 개인 경우에는 튜플로 리턴값을 만들어 리턴"
   ]
  },
  {
   "cell_type": "code",
   "execution_count": 22,
   "id": "deb55efc",
   "metadata": {
    "scrolled": true
   },
   "outputs": [
    {
     "name": "stdout",
     "output_type": "stream",
     "text": [
      "(3, 2, 1)\n",
      "c\n",
      "b\n",
      "a\n"
     ]
    }
   ],
   "source": [
    "def reverse(x, y, z):\n",
    "    return z, y, x\n",
    "\n",
    "ret = reverse(1, 2, 3)\n",
    "print(ret)\n",
    "\n",
    "r1, r2, r3 = reverse('a', 'b', 'c')\n",
    "print(r1)\n",
    "print(r2)\n",
    "print(r3)  # 튜플의 요소 개수만큼 나누어서 리턴값을 개별적으로 받을 수 있음"
   ]
  },
  {
   "cell_type": "markdown",
   "id": "72918e8d",
   "metadata": {},
   "source": [
    "### 파일 입출력"
   ]
  },
  {
   "cell_type": "code",
   "execution_count": 32,
   "id": "b3819745",
   "metadata": {
    "scrolled": true
   },
   "outputs": [
    {
     "data": {
      "text/plain": [
       "'D:\\\\kdt_jyk\\\\workspace\\\\m1_programming\\\\ex'"
      ]
     },
     "execution_count": 32,
     "metadata": {},
     "output_type": "execute_result"
    }
   ],
   "source": [
    "# 경로 확인\n",
    "%pwd"
   ]
  },
  {
   "cell_type": "code",
   "execution_count": 30,
   "id": "675d356f",
   "metadata": {},
   "outputs": [
    {
     "name": "stdout",
     "output_type": "stream",
     "text": [
      " D 드라이브의 볼륨: 새 볼륨\n",
      " 볼륨 일련 번호: 02B1-19A2\n",
      "\n",
      " D:\\kdt_jyk\\workspace\\m1_programming 디렉터리\n",
      "\n",
      "2023-11-01  오후 02:25    <DIR>          .\n",
      "2023-11-01  오후 02:25    <DIR>          ..\n",
      "2023-11-01  오전 11:38    <DIR>          .ipynb_checkpoints\n",
      "2023-11-01  오후 02:24    <DIR>          ex\n",
      "2023-10-30  오전 10:25            47,243 python_1_자료형.ipynb\n",
      "2023-10-31  오후 02:44            21,703 python_2_제어문.ipynb\n",
      "2023-11-01  오후 02:25            38,339 python_3_함수.ipynb\n",
      "2023-10-27  오후 05:51            15,698 과제_20231027.ipynb\n",
      "2023-10-30  오전 08:36            16,905 과제_20231028.ipynb\n",
      "2023-11-01  오전 09:41            37,376 과제_20231030.ipynb\n",
      "2023-11-01  오전 10:15            27,734 과제_20231031.ipynb\n",
      "2023-11-01  오후 02:10             5,344 과제_20231101.ipynb\n",
      "               8개 파일             210,342 바이트\n",
      "               4개 디렉터리  465,991,700,480 바이트 남음\n"
     ]
    }
   ],
   "source": [
    "ls"
   ]
  },
  {
   "cell_type": "code",
   "execution_count": 40,
   "id": "3082c300",
   "metadata": {},
   "outputs": [
    {
     "name": "stdout",
     "output_type": "stream",
     "text": [
      " D 드라이브의 볼륨: 새 볼륨\n",
      " 볼륨 일련 번호: 02B1-19A2\n",
      "\n",
      " D:\\kdt_jyk\\workspace\\m1_programming 디렉터리\n",
      "\n",
      "2023-11-01  오후 02:28    <DIR>          .\n",
      "2023-11-01  오후 02:28    <DIR>          ..\n",
      "2023-11-01  오전 11:38    <DIR>          .ipynb_checkpoints\n",
      "2023-11-01  오후 02:24    <DIR>          ex\n",
      "2023-10-30  오전 10:25            47,243 python_1_자료형.ipynb\n",
      "2023-10-31  오후 02:44            21,703 python_2_제어문.ipynb\n",
      "2023-11-01  오후 02:27            39,243 python_3_함수.ipynb\n",
      "2023-11-01  오후 02:28                 0 text1.txt\n",
      "2023-10-27  오후 05:51            15,698 과제_20231027.ipynb\n",
      "2023-10-30  오전 08:36            16,905 과제_20231028.ipynb\n",
      "2023-11-01  오전 09:41            37,376 과제_20231030.ipynb\n",
      "2023-11-01  오전 10:15            27,734 과제_20231031.ipynb\n",
      "2023-11-01  오후 02:10             5,344 과제_20231101.ipynb\n",
      "               9개 파일             211,246 바이트\n",
      "               4개 디렉터리  465,991,700,480 바이트 남음\n"
     ]
    }
   ],
   "source": [
    "# 작업 폴더 확인2\n",
    "!dir"
   ]
  },
  {
   "cell_type": "code",
   "execution_count": 26,
   "id": "03e2db92",
   "metadata": {},
   "outputs": [],
   "source": [
    "# 파일 만들기\n",
    "!echo. > test.txt"
   ]
  },
  {
   "cell_type": "code",
   "execution_count": 27,
   "id": "11db0f63",
   "metadata": {},
   "outputs": [],
   "source": [
    "# 파일 삭제\n",
    "!del test.txt"
   ]
  },
  {
   "cell_type": "code",
   "execution_count": 37,
   "id": "11b71518",
   "metadata": {},
   "outputs": [],
   "source": [
    "# 폴더 경로 이동\n",
    "import os\n",
    "os.chdir('D:\\kdt_jyk\\workspace\\m1_programming\\ex')"
   ]
  },
  {
   "cell_type": "code",
   "execution_count": 38,
   "id": "a310845d",
   "metadata": {},
   "outputs": [
    {
     "data": {
      "text/plain": [
       "'D:\\\\kdt_jyk\\\\workspace\\\\m1_programming'"
      ]
     },
     "execution_count": 38,
     "metadata": {},
     "output_type": "execute_result"
    }
   ],
   "source": [
    "%pwd"
   ]
  },
  {
   "cell_type": "code",
   "execution_count": 53,
   "id": "7029e111",
   "metadata": {},
   "outputs": [],
   "source": [
    "# 파일 읽고 쓰기 _ 없으면 파일 만듦\n",
    "f = open('test1.txt','w')\n",
    "for i in range(1,11):\n",
    "    data = '%d번째 줄입니다.\\n' %i\n",
    "    f.write(data)\n",
    "f.close()"
   ]
  },
  {
   "cell_type": "code",
   "execution_count": 54,
   "id": "507d8530",
   "metadata": {},
   "outputs": [
    {
     "name": "stdout",
     "output_type": "stream",
     "text": [
      "1번째 줄입니다.\n",
      "\n"
     ]
    }
   ],
   "source": [
    "# 파일 읽기\n",
    "f = open('test1.txt','r')\n",
    "line = f.readline()\n",
    "print(line)\n",
    "f.close()"
   ]
  },
  {
   "cell_type": "code",
   "execution_count": 55,
   "id": "1604ec54",
   "metadata": {},
   "outputs": [
    {
     "name": "stdout",
     "output_type": "stream",
     "text": [
      "1번째 줄입니다.\n",
      "\n"
     ]
    }
   ],
   "source": [
    "# 파일 읽기\n",
    "f = open('test1.txt','r')\n",
    "line = f.readline()\n",
    "print(line)\n",
    "f.close()"
   ]
  },
  {
   "cell_type": "code",
   "execution_count": 56,
   "id": "d0d09665",
   "metadata": {},
   "outputs": [
    {
     "name": "stdout",
     "output_type": "stream",
     "text": [
      "5번째 줄입니다.\n",
      "\n"
     ]
    }
   ],
   "source": [
    "f = open('test1.txt','r')\n",
    "for i in range(10):\n",
    "    line = f.readline()\n",
    "    if i == 4:\n",
    "        print(line)\n",
    "f.close()"
   ]
  },
  {
   "cell_type": "code",
   "execution_count": 57,
   "id": "94a380d3",
   "metadata": {},
   "outputs": [
    {
     "name": "stdout",
     "output_type": "stream",
     "text": [
      "5번째 줄입니다.\n",
      "\n"
     ]
    }
   ],
   "source": [
    "f = open('test1.txt','r')\n",
    "line = f.readlines()[4]\n",
    "print(line)\n",
    "f.close()"
   ]
  },
  {
   "cell_type": "code",
   "execution_count": 58,
   "id": "54d666fe",
   "metadata": {},
   "outputs": [
    {
     "name": "stdout",
     "output_type": "stream",
     "text": [
      "1번째 줄입니다.\n",
      "\n",
      "2번째 줄입니다.\n",
      "\n",
      "3번째 줄입니다.\n",
      "\n",
      "4번째 줄입니다.\n",
      "\n",
      "5번째 줄입니다.\n",
      "\n",
      "6번째 줄입니다.\n",
      "\n",
      "7번째 줄입니다.\n",
      "\n",
      "8번째 줄입니다.\n",
      "\n",
      "9번째 줄입니다.\n",
      "\n",
      "10번째 줄입니다.\n",
      "\n"
     ]
    }
   ],
   "source": [
    "f = open('test1.txt','r')\n",
    "while True:\n",
    "    line = f.readline()\n",
    "    if not line: break\n",
    "    print(line)\n",
    "f.close()"
   ]
  },
  {
   "cell_type": "code",
   "execution_count": 59,
   "id": "9ec16d00",
   "metadata": {},
   "outputs": [
    {
     "name": "stdout",
     "output_type": "stream",
     "text": [
      "1번째 줄입니다.\n",
      "2번째 줄입니다.\n",
      "3번째 줄입니다.\n",
      "4번째 줄입니다.\n",
      "5번째 줄입니다.\n",
      "6번째 줄입니다.\n",
      "7번째 줄입니다.\n",
      "8번째 줄입니다.\n",
      "9번째 줄입니다.\n",
      "10번째 줄입니다.\n",
      "\n"
     ]
    }
   ],
   "source": [
    "f = open('test1.txt','r')\n",
    "data = f.read()\n",
    "print(data)\n",
    "f.close()"
   ]
  },
  {
   "cell_type": "code",
   "execution_count": 60,
   "id": "4f7e3c85",
   "metadata": {},
   "outputs": [],
   "source": [
    "# 데이터 추가하기 add 모드\n",
    "f = open('test1.txt','a')\n",
    "for i in range(11,16):\n",
    "    data = '%d번째 줄입니다.\\n' %i\n",
    "    f.write(data)\n",
    "f.close()"
   ]
  },
  {
   "cell_type": "markdown",
   "id": "75ea0f8b",
   "metadata": {},
   "source": [
    "#### close 없이 파일 읽고 쓰기 -> with문 사용"
   ]
  },
  {
   "cell_type": "code",
   "execution_count": 61,
   "id": "1d8760d3",
   "metadata": {},
   "outputs": [],
   "source": [
    "with open('foo.txt','w') as f:\n",
    "    f.write('파이썬을 배웁니다')"
   ]
  },
  {
   "cell_type": "code",
   "execution_count": 62,
   "id": "c47268b4",
   "metadata": {},
   "outputs": [
    {
     "name": "stdout",
     "output_type": "stream",
     "text": [
      "파이썬을 배웁니다\n"
     ]
    }
   ],
   "source": [
    "with open('foo.txt','r') as f:\n",
    "    data = f.read()\n",
    "    print(data)"
   ]
  },
  {
   "cell_type": "code",
   "execution_count": 63,
   "id": "3dc634f8",
   "metadata": {},
   "outputs": [],
   "source": [
    "with open('test2.txt','w') as f:\n",
    "    for i in range(1,11):\n",
    "        data = f'{i}번째 줄입니다.\\n'\n",
    "        f.write(data)"
   ]
  },
  {
   "cell_type": "code",
   "execution_count": 64,
   "id": "1f409851",
   "metadata": {},
   "outputs": [],
   "source": [
    "with open('test2.txt','a') as f:\n",
    "    for i in range(11,16):\n",
    "        data = f'{i}번째 줄입니다.\\n'\n",
    "        f.write(data)"
   ]
  },
  {
   "cell_type": "code",
   "execution_count": 68,
   "id": "c4050d87",
   "metadata": {
    "scrolled": true
   },
   "outputs": [
    {
     "name": "stdout",
     "output_type": "stream",
     "text": [
      "['1번째 줄입니다.\\n', '2번째 줄입니다.\\n', '3번째 줄입니다.\\n', '4번째 줄입니다.\\n', '5번째 줄입니다.\\n', '6번째 줄입니다.\\n', '7번째 줄입니다.\\n', '8번째 줄입니다.\\n', '9번째 줄입니다.\\n', '10번째 줄입니다.\\n', '11번째 줄입니다.\\n', '12번째 줄입니다.\\n', '13번째 줄입니다.\\n', '14번째 줄입니다.\\n', '15번째 줄입니다.\\n']\n",
      "4번째 줄입니다.\n",
      "\n"
     ]
    }
   ],
   "source": [
    "with open('test2.txt','r') as f:\n",
    "    s2 = f.readlines()\n",
    "    print(s2)\n",
    "    print(s2[3])\n"
   ]
  },
  {
   "cell_type": "markdown",
   "id": "18d009ef",
   "metadata": {},
   "source": [
    "#### 파이썬 패키지,  모듈, 함수, 클래스\n",
    "- 코드 작성 시 이미 만들어져 있는 함수들을 활용하면 보다 효율적이고 빠르게 개발 가능\n",
    "- 이미 만들어져 있고 안정성이 검증된 함수들을 성격에 맞게 하나의 파이썬 파일에 묶어 만들어 놓을 것을 모듈이라 함\n",
    "- 외부 모듈에 있는 함수들을 활용하려면 이 모듈을 먼저 가져와서 사용해야 하는데 이것을 모듈을 임포트한다고 한다.\n",
    "- 파이썬 모듈이 하나의 파이썬 파일이라면 패키지는 디렉토리로 볼 수 있다.\n",
    "\n",
    "패키지\n",
    "1. 라이브러리라고도 부름\n",
    "2. 특정 기능과 관련된 여러 모듈을 한 그룹으로 묶은 것\n",
    "3. 패키지 안에 서브패키지가 있을 수도 있다.\n",
    "4. import 패키지/모듈, from 패키지/모듈 import 서브패키지/모듈 \n",
    "  \n",
    "   \n",
    "모듈\n",
    "1. 여러 기능들이 뭉쳐진 하나의. py파일\n",
    "2. 함수, 클래스, 변수 등 포함\n",
    "3. import 모듈\n",
    "\n",
    "함수\n",
    "1. 하나의 기능을 가진 코드의 집합\n",
    "2. 함수를 사용한다 = 함수를 호출한다\n",
    "3. 함수 사용 형태: 함수( )\n",
    "   - 필요한 경우 () 안에 매개변수 또는 옵션\n",
    "4. 종류\n",
    "   - 내장 함수(built in function)\n",
    "   - 외장 함수: import 해주어야 함\n",
    "   \n",
    "클래스   \n",
    "- 파이썬은 객체 지향 언어로클래스를 기반으로 객체를 만들어 사용한다.\n",
    "- 한 파이썬 파일(. py) 내에서 \"class class명():\"을 통해 클래스 선언"
   ]
  },
  {
   "cell_type": "code",
   "execution_count": 69,
   "id": "54d0c597",
   "metadata": {},
   "outputs": [
    {
     "name": "stdout",
     "output_type": "stream",
     "text": [
      "5초간 프로그램을 정지합니다\n",
      "5초가 지났습니다\n"
     ]
    }
   ],
   "source": [
    "# time 모듈\n",
    "import time\n",
    "\n",
    "print('5초간 프로그램을 정지합니다')\n",
    "time.sleep(5)\n",
    "print('5초가 지났습니다')"
   ]
  },
  {
   "cell_type": "code",
   "execution_count": 70,
   "id": "ef94032a",
   "metadata": {},
   "outputs": [],
   "source": [
    "# 사용자 작성 모듈\n",
    "with open('mymodule.py', 'w') as f:\n",
    "    f.write(\n",
    "'''\n",
    "def add_txt(t1, t2):\n",
    "    return t1 + ':' + t2\n",
    "def reverse(x, y, z):\n",
    "    return z, y, x\n",
    "''')"
   ]
  },
  {
   "cell_type": "code",
   "execution_count": 71,
   "id": "6cc8510f",
   "metadata": {},
   "outputs": [
    {
     "name": "stdout",
     "output_type": "stream",
     "text": [
      "\n",
      "def add_txt(t1, t2):\n",
      "    return t1 + ':' + t2\n",
      "def reverse(x, y, z):\n",
      "    return z, y, x\n",
      "\n"
     ]
    }
   ],
   "source": [
    "with open('mymodule.py', 'r') as f:\n",
    "    data = f.read()\n",
    "    print(data)"
   ]
  },
  {
   "cell_type": "code",
   "execution_count": 73,
   "id": "5decdb51",
   "metadata": {},
   "outputs": [
    {
     "name": "stdout",
     "output_type": "stream",
     "text": [
      "대한민국:1등\n",
      "(3, 2, 1)\n"
     ]
    }
   ],
   "source": [
    "import mymodule\n",
    "\n",
    "ret1 = mymodule.add_txt('대한민국', '1등')\n",
    "print(ret1)\n",
    "ret2 = mymodule.reverse(1,2,3)\n",
    "print(ret2)"
   ]
  },
  {
   "cell_type": "code",
   "execution_count": 74,
   "id": "a6600430",
   "metadata": {},
   "outputs": [
    {
     "name": "stdout",
     "output_type": "stream",
     "text": [
      "안녕하세요\n",
      "안녕하세요 == 메소드 실행 확인\n"
     ]
    }
   ],
   "source": [
    "# 클래스\n",
    "class MyClass:\n",
    "    var = '안녕하세요'\n",
    "    def sayHello(self):\n",
    "        print(self.var+' == 메소드 실행 확인')\n",
    "\n",
    "obj = MyClass()\n",
    "print(obj.var)\n",
    "obj.sayHello()"
   ]
  },
  {
   "cell_type": "code",
   "execution_count": 79,
   "id": "4dc8c912",
   "metadata": {},
   "outputs": [
    {
     "data": {
      "text/html": [
       "<div>\n",
       "<style scoped>\n",
       "    .dataframe tbody tr th:only-of-type {\n",
       "        vertical-align: middle;\n",
       "    }\n",
       "\n",
       "    .dataframe tbody tr th {\n",
       "        vertical-align: top;\n",
       "    }\n",
       "\n",
       "    .dataframe thead th {\n",
       "        text-align: right;\n",
       "    }\n",
       "</style>\n",
       "<table border=\"1\" class=\"dataframe\">\n",
       "  <thead>\n",
       "    <tr style=\"text-align: right;\">\n",
       "      <th></th>\n",
       "      <th>a</th>\n",
       "      <th>b</th>\n",
       "      <th>c</th>\n",
       "    </tr>\n",
       "  </thead>\n",
       "  <tbody>\n",
       "    <tr>\n",
       "      <th>0</th>\n",
       "      <td>1</td>\n",
       "      <td>4.0</td>\n",
       "      <td>7</td>\n",
       "    </tr>\n",
       "    <tr>\n",
       "      <th>1</th>\n",
       "      <td>2</td>\n",
       "      <td>NaN</td>\n",
       "      <td>8</td>\n",
       "    </tr>\n",
       "    <tr>\n",
       "      <th>2</th>\n",
       "      <td>3</td>\n",
       "      <td>6.0</td>\n",
       "      <td>9</td>\n",
       "    </tr>\n",
       "  </tbody>\n",
       "</table>\n",
       "</div>"
      ],
      "text/plain": [
       "   a    b  c\n",
       "0  1  4.0  7\n",
       "1  2  NaN  8\n",
       "2  3  6.0  9"
      ]
     },
     "execution_count": 79,
     "metadata": {},
     "output_type": "execute_result"
    }
   ],
   "source": [
    "# 외부 라이브러리\n",
    "import pandas as pd\n",
    "\n",
    "df1 = pd.DataFrame({'a':[1,2,3], 'b':[4,None,6], 'c':[7,8,9]})\n",
    "df1"
   ]
  },
  {
   "cell_type": "code",
   "execution_count": 80,
   "id": "1245d742",
   "metadata": {},
   "outputs": [
    {
     "name": "stdout",
     "output_type": "stream",
     "text": [
      "<class 'pandas.core.frame.DataFrame'>\n",
      "RangeIndex: 3 entries, 0 to 2\n",
      "Data columns (total 3 columns):\n",
      " #   Column  Non-Null Count  Dtype  \n",
      "---  ------  --------------  -----  \n",
      " 0   a       3 non-null      int64  \n",
      " 1   b       2 non-null      float64\n",
      " 2   c       3 non-null      int64  \n",
      "dtypes: float64(1), int64(2)\n",
      "memory usage: 200.0 bytes\n"
     ]
    }
   ],
   "source": [
    "df1.info()"
   ]
  },
  {
   "cell_type": "code",
   "execution_count": 82,
   "id": "1d6268b3",
   "metadata": {},
   "outputs": [
    {
     "data": {
      "text/html": [
       "<div>\n",
       "<style scoped>\n",
       "    .dataframe tbody tr th:only-of-type {\n",
       "        vertical-align: middle;\n",
       "    }\n",
       "\n",
       "    .dataframe tbody tr th {\n",
       "        vertical-align: top;\n",
       "    }\n",
       "\n",
       "    .dataframe thead th {\n",
       "        text-align: right;\n",
       "    }\n",
       "</style>\n",
       "<table border=\"1\" class=\"dataframe\">\n",
       "  <thead>\n",
       "    <tr style=\"text-align: right;\">\n",
       "      <th></th>\n",
       "      <th>a</th>\n",
       "      <th>b</th>\n",
       "      <th>c</th>\n",
       "    </tr>\n",
       "  </thead>\n",
       "  <tbody>\n",
       "    <tr>\n",
       "      <th>0</th>\n",
       "      <td>1</td>\n",
       "      <td>2</td>\n",
       "      <td>3</td>\n",
       "    </tr>\n",
       "    <tr>\n",
       "      <th>1</th>\n",
       "      <td>4</td>\n",
       "      <td>5</td>\n",
       "      <td>6</td>\n",
       "    </tr>\n",
       "    <tr>\n",
       "      <th>2</th>\n",
       "      <td>7</td>\n",
       "      <td>8</td>\n",
       "      <td>9</td>\n",
       "    </tr>\n",
       "  </tbody>\n",
       "</table>\n",
       "</div>"
      ],
      "text/plain": [
       "   a  b  c\n",
       "0  1  2  3\n",
       "1  4  5  6\n",
       "2  7  8  9"
      ]
     },
     "execution_count": 82,
     "metadata": {},
     "output_type": "execute_result"
    }
   ],
   "source": [
    "import numpy as np\n",
    "df2 = pd.DataFrame(np.array([[1,2,3],[4,5,6],[7,8,9]]), columns = ['a', 'b', 'c'])\n",
    "df2"
   ]
  },
  {
   "cell_type": "code",
   "execution_count": 83,
   "id": "d8a1b764",
   "metadata": {},
   "outputs": [
    {
     "data": {
      "text/html": [
       "<div>\n",
       "<style scoped>\n",
       "    .dataframe tbody tr th:only-of-type {\n",
       "        vertical-align: middle;\n",
       "    }\n",
       "\n",
       "    .dataframe tbody tr th {\n",
       "        vertical-align: top;\n",
       "    }\n",
       "\n",
       "    .dataframe thead th {\n",
       "        text-align: right;\n",
       "    }\n",
       "</style>\n",
       "<table border=\"1\" class=\"dataframe\">\n",
       "  <thead>\n",
       "    <tr style=\"text-align: right;\">\n",
       "      <th></th>\n",
       "      <th>a</th>\n",
       "      <th>b</th>\n",
       "      <th>c</th>\n",
       "    </tr>\n",
       "  </thead>\n",
       "  <tbody>\n",
       "    <tr>\n",
       "      <th>0</th>\n",
       "      <td>1</td>\n",
       "      <td>2</td>\n",
       "      <td>3</td>\n",
       "    </tr>\n",
       "    <tr>\n",
       "      <th>1</th>\n",
       "      <td>4</td>\n",
       "      <td>5</td>\n",
       "      <td>6</td>\n",
       "    </tr>\n",
       "    <tr>\n",
       "      <th>2</th>\n",
       "      <td>7</td>\n",
       "      <td>8</td>\n",
       "      <td>9</td>\n",
       "    </tr>\n",
       "  </tbody>\n",
       "</table>\n",
       "</div>"
      ],
      "text/plain": [
       "   a  b  c\n",
       "0  1  2  3\n",
       "1  4  5  6\n",
       "2  7  8  9"
      ]
     },
     "execution_count": 83,
     "metadata": {},
     "output_type": "execute_result"
    }
   ],
   "source": [
    "data3 = np.array([(1,2,3),(4,5,6),(7,8,9)])\n",
    "df3 = pd.DataFrame(data3, columns = ['a', 'b', 'c'])\n",
    "df3"
   ]
  },
  {
   "cell_type": "code",
   "execution_count": 84,
   "id": "3edc6059",
   "metadata": {},
   "outputs": [
    {
     "data": {
      "text/plain": [
       "<bound method NDFrame.keys of    a  b  c\n",
       "0  1  2  3\n",
       "1  4  5  6\n",
       "2  7  8  9>"
      ]
     },
     "execution_count": 84,
     "metadata": {},
     "output_type": "execute_result"
    }
   ],
   "source": [
    "df3.keys"
   ]
  },
  {
   "cell_type": "code",
   "execution_count": 86,
   "id": "cf66a4d3",
   "metadata": {
    "scrolled": false
   },
   "outputs": [
    {
     "data": {
      "text/html": [
       "<div>\n",
       "<style scoped>\n",
       "    .dataframe tbody tr th:only-of-type {\n",
       "        vertical-align: middle;\n",
       "    }\n",
       "\n",
       "    .dataframe tbody tr th {\n",
       "        vertical-align: top;\n",
       "    }\n",
       "\n",
       "    .dataframe thead th {\n",
       "        text-align: right;\n",
       "    }\n",
       "</style>\n",
       "<table border=\"1\" class=\"dataframe\">\n",
       "  <thead>\n",
       "    <tr style=\"text-align: right;\">\n",
       "      <th></th>\n",
       "      <th>a</th>\n",
       "      <th>b</th>\n",
       "      <th>c</th>\n",
       "    </tr>\n",
       "  </thead>\n",
       "  <tbody>\n",
       "    <tr>\n",
       "      <th>count</th>\n",
       "      <td>3.0</td>\n",
       "      <td>3.0</td>\n",
       "      <td>3.0</td>\n",
       "    </tr>\n",
       "    <tr>\n",
       "      <th>mean</th>\n",
       "      <td>4.0</td>\n",
       "      <td>5.0</td>\n",
       "      <td>6.0</td>\n",
       "    </tr>\n",
       "    <tr>\n",
       "      <th>std</th>\n",
       "      <td>3.0</td>\n",
       "      <td>3.0</td>\n",
       "      <td>3.0</td>\n",
       "    </tr>\n",
       "    <tr>\n",
       "      <th>min</th>\n",
       "      <td>1.0</td>\n",
       "      <td>2.0</td>\n",
       "      <td>3.0</td>\n",
       "    </tr>\n",
       "    <tr>\n",
       "      <th>25%</th>\n",
       "      <td>2.5</td>\n",
       "      <td>3.5</td>\n",
       "      <td>4.5</td>\n",
       "    </tr>\n",
       "    <tr>\n",
       "      <th>50%</th>\n",
       "      <td>4.0</td>\n",
       "      <td>5.0</td>\n",
       "      <td>6.0</td>\n",
       "    </tr>\n",
       "    <tr>\n",
       "      <th>75%</th>\n",
       "      <td>5.5</td>\n",
       "      <td>6.5</td>\n",
       "      <td>7.5</td>\n",
       "    </tr>\n",
       "    <tr>\n",
       "      <th>max</th>\n",
       "      <td>7.0</td>\n",
       "      <td>8.0</td>\n",
       "      <td>9.0</td>\n",
       "    </tr>\n",
       "  </tbody>\n",
       "</table>\n",
       "</div>"
      ],
      "text/plain": [
       "         a    b    c\n",
       "count  3.0  3.0  3.0\n",
       "mean   4.0  5.0  6.0\n",
       "std    3.0  3.0  3.0\n",
       "min    1.0  2.0  3.0\n",
       "25%    2.5  3.5  4.5\n",
       "50%    4.0  5.0  6.0\n",
       "75%    5.5  6.5  7.5\n",
       "max    7.0  8.0  9.0"
      ]
     },
     "execution_count": 86,
     "metadata": {},
     "output_type": "execute_result"
    }
   ],
   "source": [
    "# 통계값\n",
    "df3.describe()"
   ]
  },
  {
   "cell_type": "markdown",
   "id": "e63237f5",
   "metadata": {},
   "source": [
    "### 내장함수, 외장함수\n",
    "\n",
    "https://codedrive.tistory.com/91"
   ]
  },
  {
   "cell_type": "code",
   "execution_count": 91,
   "id": "4266412e",
   "metadata": {
    "scrolled": true
   },
   "outputs": [
    {
     "name": "stdout",
     "output_type": "stream",
     "text": [
      "3\n",
      "False\n",
      "True\n",
      "A\n"
     ]
    }
   ],
   "source": [
    "# 내장함수\n",
    "print(abs(-3))\n",
    "print(all([1,2,3,0]))  # 모두 참이면 True, 거짓 하나라도 있으면 False\n",
    "print(any([1,2,3,0]))  # 하나라도 참이면 True, 모두 거짓이면 False\n",
    "print(chr(65))  # 아스키코드"
   ]
  },
  {
   "cell_type": "code",
   "execution_count": 93,
   "id": "0352c9b2",
   "metadata": {},
   "outputs": [
    {
     "name": "stdout",
     "output_type": "stream",
     "text": [
      "3.0\n",
      "3\n",
      "10\n",
      "1\n",
      "1000\n",
      "3\n",
      "2.7\n"
     ]
    }
   ],
   "source": [
    "print(float(3))\n",
    "print(int(3.9))\n",
    "print(max(1,10))\n",
    "print(min(1,10))\n",
    "print(pow(10,3))  # 거듭제곱\n",
    "print(round(2.678))  # 반올림\n",
    "print(round(2.678, 1))"
   ]
  },
  {
   "cell_type": "code",
   "execution_count": 94,
   "id": "acd790c6",
   "metadata": {},
   "outputs": [
    {
     "data": {
      "text/plain": [
       "6"
      ]
     },
     "execution_count": 94,
     "metadata": {},
     "output_type": "execute_result"
    }
   ],
   "source": [
    "li = [1,2,3]\n",
    "sum(li)"
   ]
  },
  {
   "cell_type": "code",
   "execution_count": 95,
   "id": "9d4915f1",
   "metadata": {},
   "outputs": [
    {
     "name": "stdout",
     "output_type": "stream",
     "text": [
      "5\n"
     ]
    }
   ],
   "source": [
    "my_list = [1,2,3,4,5]\n",
    "print(len(my_list))"
   ]
  },
  {
   "cell_type": "code",
   "execution_count": 96,
   "id": "28573c94",
   "metadata": {},
   "outputs": [
    {
     "name": "stdout",
     "output_type": "stream",
     "text": [
      "I am 30 years old.\n"
     ]
    }
   ],
   "source": [
    "age = 30\n",
    "print(\"I am \"+str(age)+\" years old.\")"
   ]
  },
  {
   "cell_type": "code",
   "execution_count": 97,
   "id": "1516a8bb",
   "metadata": {},
   "outputs": [
    {
     "name": "stdout",
     "output_type": "stream",
     "text": [
      "[1, 2, 3]\n"
     ]
    }
   ],
   "source": [
    "my_tuple = (1,2,3)\n",
    "print(list(my_tuple))"
   ]
  },
  {
   "cell_type": "code",
   "execution_count": 98,
   "id": "9e88af86",
   "metadata": {},
   "outputs": [
    {
     "name": "stdout",
     "output_type": "stream",
     "text": [
      "[1, 2, 3, 4]\n"
     ]
    }
   ],
   "source": [
    "my_list = [3,1,4,2]\n",
    "print(sorted(my_list))"
   ]
  },
  {
   "cell_type": "code",
   "execution_count": 99,
   "id": "94f435bc",
   "metadata": {},
   "outputs": [
    {
     "name": "stdout",
     "output_type": "stream",
     "text": [
      "<class 'str'>\n"
     ]
    }
   ],
   "source": [
    "my_string = \"Python\"\n",
    "print(type(my_string))"
   ]
  },
  {
   "cell_type": "code",
   "execution_count": 101,
   "id": "45e8cc52",
   "metadata": {},
   "outputs": [
    {
     "name": "stdout",
     "output_type": "stream",
     "text": [
      "1 ele1\n",
      "2 ele2\n",
      "3 ele3\n"
     ]
    }
   ],
   "source": [
    "for idx, element in enumerate(['ele1','ele2','ele3']):\n",
    "    print(idx+1, element)"
   ]
  },
  {
   "cell_type": "code",
   "execution_count": 102,
   "id": "214f60c4",
   "metadata": {},
   "outputs": [
    {
     "name": "stdout",
     "output_type": "stream",
     "text": [
      "range(0, 10)\n",
      "[0, 1, 2, 3, 4, 5, 6, 7, 8, 9]\n"
     ]
    }
   ],
   "source": [
    "print(range(10))\n",
    "print(list(range(10)))"
   ]
  },
  {
   "cell_type": "code",
   "execution_count": 103,
   "id": "475577d2",
   "metadata": {},
   "outputs": [
    {
     "name": "stdout",
     "output_type": "stream",
     "text": [
      "(2, 1)\n"
     ]
    }
   ],
   "source": [
    "# 몫과 나머지\n",
    "print(divmod(7,3))"
   ]
  },
  {
   "cell_type": "code",
   "execution_count": 1,
   "id": "cbe9fda6",
   "metadata": {},
   "outputs": [
    {
     "name": "stdout",
     "output_type": "stream",
     "text": [
      "7\n",
      "12\n"
     ]
    }
   ],
   "source": [
    "myList = [lambda a,b: a+b, lambda a,b: a*b]\n",
    "print(myList[0](3,4))\n",
    "print(myList[1](3,4))"
   ]
  },
  {
   "cell_type": "code",
   "execution_count": null,
   "id": "a595bfb4",
   "metadata": {},
   "outputs": [],
   "source": [
    "# Q. lambda를 리스트 형태로 작성하여 4칙연산을 해보세요."
   ]
  },
  {
   "cell_type": "code",
   "execution_count": 3,
   "id": "8ef5faf4",
   "metadata": {},
   "outputs": [
    {
     "name": "stdout",
     "output_type": "stream",
     "text": [
      "7\n",
      "-1\n",
      "12\n",
      "0.75\n"
     ]
    }
   ],
   "source": [
    "myList = [lambda a,b: a+b, lambda a,b: a-b, lambda a,b: a*b, lambda a,b: a/b]\n",
    "\n",
    "for i in range(len(myList)):\n",
    "    print(myList[i](3,4))"
   ]
  },
  {
   "cell_type": "code",
   "execution_count": 8,
   "id": "c3956008",
   "metadata": {},
   "outputs": [
    {
     "name": "stdout",
     "output_type": "stream",
     "text": [
      "[0, 1, 2, 3, 4]\n",
      "[1, 2, 3, 4, 5]\n",
      "[1, 3, 5, 7, 9]\n",
      "[]\n",
      "[0, -2, -4, -6, -8]\n"
     ]
    }
   ],
   "source": [
    "print(list(range(5)))\n",
    "print(list(range(1,6)))\n",
    "print(list(range(1,10,2)))\n",
    "print(list(range(0,-10,-2)))"
   ]
  },
  {
   "cell_type": "code",
   "execution_count": null,
   "id": "376ae73b",
   "metadata": {},
   "outputs": [],
   "source": [
    "# enumerate\n",
    "# 순서가 있는 자료형을 입력으로 받아 인덱스 값을 포함한 객체를 리턴"
   ]
  },
  {
   "cell_type": "code",
   "execution_count": 4,
   "id": "3d3bd381",
   "metadata": {},
   "outputs": [],
   "source": [
    "# 외장함수 : 전 세계 파이썬 이용자들이 만든 유용한 프로그램을 모아놓은 파이썬 라이브러리. 파이썬을 설치할 때 자동으로 설치\n",
    "# pickle은 객체의 형태를 유지하면서 파일에 저장하고 불러올 수 있는 기능\n",
    "\n",
    "# 바이너리: 용량이 작고 처리속도가 빠르다.\n",
    "\n",
    "import pickle\n",
    "f = open('test3.txt', 'wb')  # wb : 바이너리 모드로 쓰기.\n",
    "data = {1:'python', 2:'you need'}\n",
    "pickle.dump(data, f)\n",
    "f.close()"
   ]
  },
  {
   "cell_type": "code",
   "execution_count": 3,
   "id": "c6b80003",
   "metadata": {
    "scrolled": true
   },
   "outputs": [
    {
     "name": "stdout",
     "output_type": "stream",
     "text": [
      "{1: 'python', 2: 'you need'}\n"
     ]
    }
   ],
   "source": [
    "import pickle\n",
    "f = open('test3.txt', 'rb')  # wb : 바이너리 모드로 읽기.\n",
    "data = pickle.load(f)\n",
    "print(data)\n",
    "f.close()"
   ]
  },
  {
   "cell_type": "code",
   "execution_count": 5,
   "id": "0551e9ac",
   "metadata": {},
   "outputs": [
    {
     "data": {
      "text/plain": [
       "'D:\\\\kdt_jyk\\\\workspace\\\\m1_programming'"
      ]
     },
     "execution_count": 5,
     "metadata": {},
     "output_type": "execute_result"
    }
   ],
   "source": [
    "%pwd"
   ]
  },
  {
   "cell_type": "code",
   "execution_count": 6,
   "id": "55a9815c",
   "metadata": {},
   "outputs": [],
   "source": [
    "import os\n",
    "os.chdir('D:\\\\kdt_jyk\\\\workspace\\\\m1_programming\\\\ex')"
   ]
  },
  {
   "cell_type": "code",
   "execution_count": 9,
   "id": "9095e680",
   "metadata": {},
   "outputs": [
    {
     "data": {
      "text/plain": [
       "'D:\\\\kdt_jyk\\\\workspace\\\\m1_programming'"
      ]
     },
     "execution_count": 9,
     "metadata": {},
     "output_type": "execute_result"
    }
   ],
   "source": [
    "os.getcwd()"
   ]
  },
  {
   "cell_type": "code",
   "execution_count": 8,
   "id": "693cf7e8",
   "metadata": {},
   "outputs": [],
   "source": [
    "os.chdir('D:\\\\kdt_jyk\\\\workspace\\\\m1_programming')"
   ]
  },
  {
   "cell_type": "code",
   "execution_count": 13,
   "id": "1000ebe9",
   "metadata": {},
   "outputs": [],
   "source": [
    "# os.rename('test1.txt','test_new.txt')\n",
    "os.rename('test_new.txt','test1.txt')"
   ]
  },
  {
   "cell_type": "code",
   "execution_count": 14,
   "id": "fa141827",
   "metadata": {},
   "outputs": [
    {
     "data": {
      "text/plain": [
       "['D:\\\\kdt_jyk\\\\workspace\\\\m1_programming\\\\foo.txt',\n",
       " 'D:\\\\kdt_jyk\\\\workspace\\\\m1_programming\\\\mydata.txt',\n",
       " 'D:\\\\kdt_jyk\\\\workspace\\\\m1_programming\\\\sample_5_1101.txt',\n",
       " 'D:\\\\kdt_jyk\\\\workspace\\\\m1_programming\\\\test1.txt',\n",
       " 'D:\\\\kdt_jyk\\\\workspace\\\\m1_programming\\\\test2.txt',\n",
       " 'D:\\\\kdt_jyk\\\\workspace\\\\m1_programming\\\\test3.txt']"
      ]
     },
     "execution_count": 14,
     "metadata": {},
     "output_type": "execute_result"
    }
   ],
   "source": [
    "import glob\n",
    "glob.glob('D:\\\\kdt_jyk\\\\workspace\\\\m1_programming/*.txt')"
   ]
  },
  {
   "cell_type": "code",
   "execution_count": 16,
   "id": "08586a52",
   "metadata": {},
   "outputs": [
    {
     "data": {
      "text/plain": [
       "['D:\\\\kdt_jyk\\\\workspace\\\\m1_programming\\\\ex',\n",
       " 'D:\\\\kdt_jyk\\\\workspace\\\\m1_programming\\\\foo.txt',\n",
       " 'D:\\\\kdt_jyk\\\\workspace\\\\m1_programming\\\\mydata.txt',\n",
       " 'D:\\\\kdt_jyk\\\\workspace\\\\m1_programming\\\\mymodule.py',\n",
       " 'D:\\\\kdt_jyk\\\\workspace\\\\m1_programming\\\\python_1_자료형.ipynb',\n",
       " 'D:\\\\kdt_jyk\\\\workspace\\\\m1_programming\\\\python_2_제어문.ipynb',\n",
       " 'D:\\\\kdt_jyk\\\\workspace\\\\m1_programming\\\\python_3_함수.ipynb',\n",
       " 'D:\\\\kdt_jyk\\\\workspace\\\\m1_programming\\\\sample_5_1101.txt',\n",
       " 'D:\\\\kdt_jyk\\\\workspace\\\\m1_programming\\\\test1.txt',\n",
       " 'D:\\\\kdt_jyk\\\\workspace\\\\m1_programming\\\\test2.txt',\n",
       " 'D:\\\\kdt_jyk\\\\workspace\\\\m1_programming\\\\test3.txt',\n",
       " 'D:\\\\kdt_jyk\\\\workspace\\\\m1_programming\\\\__pycache__',\n",
       " 'D:\\\\kdt_jyk\\\\workspace\\\\m1_programming\\\\과제_20231027.ipynb',\n",
       " 'D:\\\\kdt_jyk\\\\workspace\\\\m1_programming\\\\과제_20231028.ipynb',\n",
       " 'D:\\\\kdt_jyk\\\\workspace\\\\m1_programming\\\\과제_20231030.ipynb',\n",
       " 'D:\\\\kdt_jyk\\\\workspace\\\\m1_programming\\\\과제_20231031.ipynb',\n",
       " 'D:\\\\kdt_jyk\\\\workspace\\\\m1_programming\\\\과제_20231101.ipynb',\n",
       " 'D:\\\\kdt_jyk\\\\workspace\\\\m1_programming\\\\과제_20231102.ipynb']"
      ]
     },
     "execution_count": 16,
     "metadata": {},
     "output_type": "execute_result"
    }
   ],
   "source": [
    "glob.glob('D:\\\\kdt_jyk\\\\workspace\\\\m1_programming/*')"
   ]
  },
  {
   "cell_type": "code",
   "execution_count": 18,
   "id": "3b94f359",
   "metadata": {},
   "outputs": [
    {
     "data": {
      "text/plain": [
       "array([200, 201, 202, 203, 204, 205, 206, 207, 208, 209, 210, 211, 212,\n",
       "       213, 214, 215, 216, 217, 218, 219, 220, 221, 222, 223, 224, 225,\n",
       "       226, 227, 228, 229, 230, 231, 232, 233, 234, 235, 236, 237, 238,\n",
       "       239, 240, 241, 242, 243, 244, 245, 246, 247, 248, 249, 250, 251,\n",
       "       252, 253, 254, 255, 256, 257, 258, 259, 260, 261, 262, 263, 264,\n",
       "       265, 266, 267, 268, 269, 270, 271, 272, 273, 274, 275, 276, 277,\n",
       "       278, 279, 280, 281, 282, 283, 284, 285, 286, 287, 288, 289, 290,\n",
       "       291, 292, 293, 294, 295, 296, 297, 298, 299, 300])"
      ]
     },
     "execution_count": 18,
     "metadata": {},
     "output_type": "execute_result"
    }
   ],
   "source": [
    "import numpy as np\n",
    "\n",
    "np.arange(200,301)"
   ]
  },
  {
   "cell_type": "code",
   "execution_count": 3,
   "id": "fea6904a",
   "metadata": {},
   "outputs": [
    {
     "name": "stdout",
     "output_type": "stream",
     "text": [
      "25250\n"
     ]
    }
   ],
   "source": [
    "def sum_cal(*args):\n",
    "    sum = 0\n",
    "    for i in args:\n",
    "        sum += i\n",
    "    return sum\n",
    "\n",
    "sum_test = sum_cal(200, 201, 202, 203, 204, 205, 206, 207, 208, 209, 210, 211, 212,\n",
    "       213, 214, 215, 216, 217, 218, 219, 220, 221, 222, 223, 224, 225,\n",
    "       226, 227, 228, 229, 230, 231, 232, 233, 234, 235, 236, 237, 238,\n",
    "       239, 240, 241, 242, 243, 244, 245, 246, 247, 248, 249, 250, 251,\n",
    "       252, 253, 254, 255, 256, 257, 258, 259, 260, 261, 262, 263, 264,\n",
    "       265, 266, 267, 268, 269, 270, 271, 272, 273, 274, 275, 276, 277,\n",
    "       278, 279, 280, 281, 282, 283, 284, 285, 286, 287, 288, 289, 290,\n",
    "       291, 292, 293, 294, 295, 296, 297, 298, 299, 300)\n",
    "\n",
    "print(sum_test)\n",
    "\n",
    "# 테스트 결과 : 내장함수명에 사용자함수를 덮어쓰면 내장함수 작동 안함.\n"
   ]
  },
  {
   "cell_type": "code",
   "execution_count": 2,
   "id": "2d88bc85",
   "metadata": {},
   "outputs": [
    {
     "name": "stdout",
     "output_type": "stream",
     "text": [
      "15\n"
     ]
    }
   ],
   "source": [
    "print(sum([1,2,3,4,5]))"
   ]
  },
  {
   "cell_type": "markdown",
   "id": "140c534a",
   "metadata": {},
   "source": [
    "#### sort, sorted 모두 key, reverse 매개변수를 갖고 있다.\n",
    "- reverse : 기본값은 reverse=False(오름차순), reverse=True를 매개변수로 입력하면 내림차순으로 정렬\n",
    "- key : 정렬을 목적으로 하는 함수를 값으로 넣는다. lambda를 이용할 수 있고 key 값을 기준으로 정렬되고 기본값은 오름차순"
   ]
  },
  {
   "cell_type": "code",
   "execution_count": 1,
   "id": "71083018",
   "metadata": {},
   "outputs": [
    {
     "data": {
      "text/plain": [
       "['bar', 'ababa', 'ca', 'aaaa', 'a']"
      ]
     },
     "execution_count": 1,
     "metadata": {},
     "output_type": "execute_result"
    }
   ],
   "source": [
    "# string을 다양한 문자가 포함된 순서로 정렬하세요.\n",
    "strings = ['a', 'ca', 'bar', 'aaaa', 'ababa']\n",
    "strings.sort(key = lambda x: len(set(x)))  # 세트의 길이 기준으로 정렬\n",
    "strings[::-1]  # 역순으로 정렬"
   ]
  },
  {
   "cell_type": "code",
   "execution_count": 2,
   "id": "92e861b4",
   "metadata": {
    "scrolled": true
   },
   "outputs": [
    {
     "data": {
      "text/plain": [
       "['bar', 'ca', 'ababa', 'a', 'aaaa']"
      ]
     },
     "execution_count": 2,
     "metadata": {},
     "output_type": "execute_result"
    }
   ],
   "source": [
    "# Q. 튜플 형태인 strings를 다양한 문자가 포함된 순서로 정렬하세요.\n",
    "strings = ('a', 'ca', 'bar', 'aaaa', 'ababa')\n",
    "s_list = sorted(strings, key = lambda x: len(set(x)), reverse=True)  # 세트의 길이 기준으로 정렬\n",
    "s_list  # 역순으로 정렬"
   ]
  },
  {
   "cell_type": "code",
   "execution_count": 3,
   "id": "41f38794",
   "metadata": {},
   "outputs": [
    {
     "data": {
      "text/plain": [
       "'news.naver.com'"
      ]
     },
     "execution_count": 3,
     "metadata": {},
     "output_type": "execute_result"
    }
   ],
   "source": [
    "# url에서 호스트 도메인을 추출하여 출력하세요.\n",
    "\n",
    "url_text = 'http://news.naver.com/main/read.nhn?mode=LSD&mid=shm&sid1=105&oid=028&aid=0002334601'\n",
    "x = url_text.split('/')\n",
    "x[2]"
   ]
  },
  {
   "cell_type": "code",
   "execution_count": 5,
   "id": "e51e84d1",
   "metadata": {},
   "outputs": [
    {
     "name": "stdout",
     "output_type": "stream",
     "text": [
      "True\n",
      "True\n",
      "False\n",
      "False\n"
     ]
    }
   ],
   "source": [
    "# 문자열이 문자인지 검사\n",
    "txt1 = 'A'\n",
    "txt2 = 'Hello'\n",
    "txt3 = 'Warcraft Go'\n",
    "txt4 = '3POdsf'\n",
    "ret1 = txt1.isalpha()\n",
    "ret2 = txt2.isalpha()\n",
    "ret3 = txt3.isalpha()\n",
    "ret4 = txt4.isalpha()\n",
    "\n",
    "print(ret1)\n",
    "print(ret2)\n",
    "print(ret3)  # 공백 있어서 False\n",
    "print(ret4)  # 숫자 있어서 False"
   ]
  },
  {
   "cell_type": "code",
   "execution_count": 4,
   "id": "c0745c2d",
   "metadata": {},
   "outputs": [
    {
     "name": "stdout",
     "output_type": "stream",
     "text": [
      "False\n",
      "False\n",
      "True\n"
     ]
    }
   ],
   "source": [
    "# 문자열이 숫자인지 검사\n",
    "txt1 = '010-4289-1352'\n",
    "txt2 = 'R2D2'\n",
    "txt3 = '1212'\n",
    "\n",
    "ret1 = txt1.isdigit()\n",
    "ret2 = txt2.isdigit()\n",
    "ret3 = txt3.isdigit()\n",
    "\n",
    "print(ret1)  # 기호 있어서 False\n",
    "print(ret2)  # 문자 있어서 False\n",
    "print(ret3)"
   ]
  },
  {
   "cell_type": "code",
   "execution_count": 10,
   "id": "7d026f1d",
   "metadata": {},
   "outputs": [
    {
     "name": "stdout",
     "output_type": "stream",
     "text": [
      "False\n",
      "False\n",
      "True\n"
     ]
    }
   ],
   "source": [
    "# 문자열이 문자 또는 숫자인지 검사\n",
    "txt1 = '안녕하세요?'\n",
    "txt2 = '1. Title-제목을 넣으세요'\n",
    "txt3 = '3POR2D2'\n",
    "\n",
    "ret1 = txt1.isalnum()  \n",
    "ret2 = txt2.isalnum()  \n",
    "ret3 = txt3.isalnum()  \n",
    "\n",
    "print(ret1)  # 기호 있어서 False\n",
    "print(ret2)  # 공백,점 등등 있어서 False (공백, 점, 기호 등등)\n",
    "print(ret3)"
   ]
  },
  {
   "cell_type": "code",
   "execution_count": 12,
   "id": "5971ddac",
   "metadata": {},
   "outputs": [
    {
     "name": "stdout",
     "output_type": "stream",
     "text": [
      "A LOT OF THINGS OCCUR EACH DAY.\n",
      "a lot of things occur each day.\n",
      "A Lot Of Things Occur Each Day.\n",
      "A lot of things occur each day.\n"
     ]
    }
   ],
   "source": [
    "txt = 'A lot of Things occur each day.'\n",
    "ret1 = txt.upper()   # 모두 대문자\n",
    "ret2 = txt.lower()   # 모두 소문자\n",
    "ret3 = txt.title()   # 첫 글자만 대문자\n",
    "ret4 = txt.capitalize() # 문자열의 첫 번째 문자만 대문자\n",
    "print(ret1)\n",
    "print(ret2)\n",
    "print(ret3)\n",
    "print(ret4)"
   ]
  },
  {
   "cell_type": "code",
   "execution_count": null,
   "id": "0cbaeb6c",
   "metadata": {},
   "outputs": [],
   "source": []
  },
  {
   "cell_type": "code",
   "execution_count": null,
   "id": "64863491",
   "metadata": {},
   "outputs": [],
   "source": []
  },
  {
   "cell_type": "code",
   "execution_count": null,
   "id": "72d45a76",
   "metadata": {},
   "outputs": [],
   "source": []
  },
  {
   "cell_type": "code",
   "execution_count": null,
   "id": "b802ed57",
   "metadata": {},
   "outputs": [],
   "source": []
  },
  {
   "cell_type": "code",
   "execution_count": null,
   "id": "9eb04e3b",
   "metadata": {},
   "outputs": [],
   "source": []
  },
  {
   "cell_type": "code",
   "execution_count": null,
   "id": "da0ec378",
   "metadata": {},
   "outputs": [],
   "source": []
  }
 ],
 "metadata": {
  "kernelspec": {
   "display_name": "Python 3 (ipykernel)",
   "language": "python",
   "name": "python3"
  },
  "language_info": {
   "codemirror_mode": {
    "name": "ipython",
    "version": 3
   },
   "file_extension": ".py",
   "mimetype": "text/x-python",
   "name": "python",
   "nbconvert_exporter": "python",
   "pygments_lexer": "ipython3",
   "version": "3.10.13"
  }
 },
 "nbformat": 4,
 "nbformat_minor": 5
}
