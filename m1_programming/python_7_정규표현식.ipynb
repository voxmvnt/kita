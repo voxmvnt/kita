{
 "cells": [
  {
   "cell_type": "markdown",
   "id": "ce25b700",
   "metadata": {},
   "source": [
    "파이썬에서 정규 표현식(Regular Expressions)은 문자열을 처리할 때 매우 강력하고 유연한 도구\n",
    "\n",
    "기본 개념:\n",
    "- 패턴 매칭 (Pattern Matching): 특정 패턴이 문자열에 존재하는지 확인. 예를 들어, 이메일 주소나 전화번호와 같은 특정 형식을 갖는 문자열을 찾을 때 사용\n",
    "\n",
    "- 메타 문자 (Meta Characters): 정규 표현식의 핵심 요소로, 특별한 의미를 가진 문자들. 예를 들어, ^, $, *, +, ?, {}, [], \\, |, () 등이 있습니다.\n",
    "\n",
    "- 리터럴 (Literal): 일반 텍스트 문자. 특별한 의미 없이 문자 그대로를 의미\n",
    "\n",
    "re 모듈 : 파이썬은 정규표현식을 지원하기 위해 기본으로 제공\n",
    "- re.compile의 결과로 리턴되는 객체를 이용하여 그 이후 작업 수행\n",
    "\n",
    "주요 기능:\n",
    "- re.search(pattern, string): 문자열 내에서 시작 부분부터 정규표현식과 일치하는지 확인\n",
    "\n",
    "- re.match(pattern, string): 문자열 전체를 검색하여 주어진 정규표현식과 일치하는 첫번째 위치를 확인\n",
    "\n",
    "- re.findall(pattern, string): 문자열 내에서 주어진 패턴과 일치하는 모든 부분을 찾아 리스트로 반환\n",
    "\n",
    "- re.finditer(): 정규식과 매치되는 모든 문자열을 반복 가능한 객체로 리턴\n",
    "\n",
    "- re.sub(pattern, repl, string): 문자열 내에서 주어진 패턴과 일치하는 부분을 다른 문자열로 대체\n",
    "\n",
    "- re.compile(pattern): 주어진 패턴을 컴파일하여 재사용 가능한 정규 표현식 객체를 생성"
   ]
  },
  {
   "cell_type": "code",
   "execution_count": 8,
   "id": "77ed657b",
   "metadata": {
    "scrolled": true
   },
   "outputs": [
    {
     "name": "stdout",
     "output_type": "stream",
     "text": [
      "Found an apple!\n",
      "['ab', 'ac', 'ad']\n",
      "red sky and red ocean\n",
      "['e', 'd', 'a', 'e']\n"
     ]
    }
   ],
   "source": [
    "import re\n",
    "\n",
    "# 검색하기\n",
    "if re.search('apple', 'apple pie'):\n",
    "    print(\"Found an apple!\")\n",
    "    \n",
    "# 모든 일치 항목 찾기\n",
    "print(re.findall('a.', 'ab ac ad'))  # 어떤 한 문자와 일치 (.) 마침표\n",
    "\n",
    "# 문자열 대체하기\n",
    "print(re.sub('blue', 'red', 'blue sky and blue ocean'))\n",
    "\n",
    "# 패턴 컴파일하기\n",
    "pattern = re.compile('[a-e]')\n",
    "print(pattern.findall(\"Hello world. My name is Son\"))"
   ]
  },
  {
   "cell_type": "markdown",
   "id": "71701a3d",
   "metadata": {},
   "source": [
    "#### 정규 표현식의 기본 구성 요소\n",
    "1. 리터럴(Literals): 일반 텍스트 문자(예: a, b, 1, 2)\n",
    "\n",
    "2. 메타 문자(Meta Characters): 특별한 의미를 지닌 문자들\n",
    "- `.`: 어떤 한 문자와 일치 (newline 제외)\n",
    "- ^: 문자열의 시작과 일치\n",
    "- $: 문자열의 끝과 일치\n",
    "- *: 0번 이상 반복되는 경우와 일치\n",
    "- +: 1번 이상 반복되는 경우와 일치\n",
    "- ?: 0번 또는 1번 등장하는 경우와 일치\n",
    "- {m,n}: 최소 m번, 최대 n번 반복\n",
    "- []: 문자 집합 중 하나와 일치 (예: [abc]는 a, b, c 중 하나와 일치)\n",
    "- |: OR 조건 (예: a|b는 a 또는 b)\n",
    "- (...): 그룹화\n",
    "\n",
    "3. 특수 시퀀스(Special Sequences):\n",
    "- \\d: 숫자와 일치\n",
    "- \\D: 숫자가 아닌 문자와 일치\n",
    "- \\s: 공백 문자와 일치\n",
    "- \\S: 공백이 아닌 문자와 일치\n",
    "- \\w: 단어 문자(문자, 숫자, 밑줄)와 일치\n",
    "- \\W: 단어 문자가 아닌 것과 일치"
   ]
  },
  {
   "cell_type": "markdown",
   "id": "15191b54",
   "metadata": {},
   "source": [
    "### r'[^\\w\\s] 단어문자, 공백문자가 아닌 나머지\n",
    "\n",
    "- 문자 클래스 내에서 ^은 부정(negation)을 의미하며, 해당 문자들을 제외한 모든 문자에 매치됩니다."
   ]
  },
  {
   "cell_type": "code",
   "execution_count": 7,
   "id": "21037318",
   "metadata": {},
   "outputs": [
    {
     "name": "stdout",
     "output_type": "stream",
     "text": [
      "['H', 'e', ' ', 'w', 'r', 'd', '.', ' ', 'y', ' ', 'n', 'a', 'e', ' ', 'i', 's', ' ', 'S', 'n']\n"
     ]
    }
   ],
   "source": [
    "pattern = re.compile('[^olm]')\n",
    "print(pattern.findall(\"Hello world. my name is Son\"))"
   ]
  },
  {
   "cell_type": "markdown",
   "id": "0f177ea2",
   "metadata": {},
   "source": [
    "## \\b: 단어 경계를 나타냅니다."
   ]
  },
  {
   "cell_type": "code",
   "execution_count": 38,
   "id": "26bab4ad",
   "metadata": {},
   "outputs": [
    {
     "name": "stdout",
     "output_type": "stream",
     "text": [
      "['bat', 'cat', 'rat', 'fat']\n"
     ]
    }
   ],
   "source": [
    "import re\n",
    "\n",
    "text = \"bat, cat, rat, fat\"\n",
    "pattern = r'\\b[a-z]+at\\b'\n",
    "\n",
    "matches = re.findall(pattern, text)\n",
    "\n",
    "print(matches)"
   ]
  },
  {
   "cell_type": "markdown",
   "id": "562c31e9",
   "metadata": {},
   "source": [
    "1. `.` (마침표)\n",
    "- 의미: 어떤 한 문자와 일치(줄바꿈 문자 제외)\n",
    "- 예시:\n",
    "  - 패턴: a.b\n",
    "  - 매칭 예시: \"acb\", \"a*b\", \"a3b\"\n",
    "  - 불일치 예시: \"ab\", \"a\\nb\"\n",
    "2. ^ (캐럿)\n",
    "- 의미: 문자열의 시작과 일치\n",
    "- 예시:\n",
    "  - 패턴: ^Hello\n",
    "  - 매칭 예시: \"Hello world\"\n",
    "  - 불일치 예시: \"world, Hello\"\n",
    "3. \\$ (달러 기호)\n",
    "- 의미: 문자열의 끝과 일치\n",
    "- 예시:\n",
    "  - 패턴: end$\n",
    "  - 매칭 예시: \"It's the end\"\n",
    "  - 불일치 예시: \"end of the story\"\n",
    "4. \\* (별표)\n",
    "- 의미: 앞의 문자가 0번 이상 반복\n",
    "- 예시:\n",
    "  - 패턴: a*b\n",
    "  - 매칭 예시: \"b\", \"ab\", \"aaab\"\n",
    "  - 불일치 예시: \"a\"\n",
    "5. \\+ (플러스)\n",
    "- 의미: 앞의 문자가 1번 이상 반복\n",
    "- 예시:\n",
    "  - 패턴: a+b\n",
    "  - 매칭 예시: \"ab\", \"aaab\"\n",
    "  - 불일치 예시: \"b\", \"a\"\n",
    "6. ? (물음표)\n",
    "- 의미: 앞의 문자가 0번 또는 1번 등장\n",
    "- 예시:\n",
    "  - 패턴: a?b\n",
    "  - 매칭 예시: \"ab\", \"b\"\n",
    "  - 불일치 예시: \"aab\"\n",
    "7. {m,n} (중괄호)\n",
    "- 의미: 앞의 문자가 최소 m번, 최대 n번 반복\n",
    "- 예시:\n",
    "  - 패턴: a{2,3}\n",
    "  - 매칭 예시: \"aa\", \"aaa\"\n",
    "  - 불일치 예시: \"a\", \"aaaa\"\n",
    "8. `[]` (대괄호)\n",
    "- 의미: 대괄호 안의 문자 중 하나와 일치\n",
    "- 예시:\n",
    "  - 패턴: [abc]\n",
    "  - 매칭 예시: \"a\", \"b\", \"c\"\n",
    "  - 불일치 예시: \"d\"\n",
    "9. | (파이프)\n",
    "- 의미: OR 조건\n",
    "- 예시:\n",
    "  - 패턴: a|b\n",
    "  - 매칭 예시: \"a\", \"b\"\n",
    "  - 불일치 예시: \"c\"\n",
    "10. (...) (괄호)\n",
    "- 의미: 그룹화, 캡처 그룹\n",
    "- 예시:\n",
    "  - 패턴: (a|b)c\n",
    "  - 매칭 예시: \"ac\", \"bc\""
   ]
  },
  {
   "cell_type": "markdown",
   "id": "30747242",
   "metadata": {},
   "source": [
    "### re.match에서 반환되는 match 객체는 클래스의 인스턴스\n",
    "- Python의 re 모듈에서 match 객체는 re.Match 클래스의 인스턴스로, 정규 표현식과의 일치에 대한 정보를 담고 있다.\n",
    "\n",
    "- re.Match 클래스의 인스턴스는 다음과 같은 중요한 메소드와 속성을 가지고 있다:\n",
    "  - group(): 일치하는 문자열을 반환. group(0) 또는 group()은 전체 일치를 반환하고, group(1), group(2), 등은 괄호로 구분된 하위 패턴들의 일치를 반환.\n",
    "  - start() 및 end(): 일치하는 부분의 시작과 끝 인덱스를 반환.\n",
    "  - span(): 일치하는 부분의 시작과 끝 인덱스를 포함하는 튜플을 반환."
   ]
  },
  {
   "cell_type": "code",
   "execution_count": 33,
   "id": "d0b500fa",
   "metadata": {},
   "outputs": [
    {
     "name": "stdout",
     "output_type": "stream",
     "text": [
      "[<re.Match object; span=(0, 1), match='a'>, <re.Match object; span=(3, 4), match='a'>, <re.Match object; span=(6, 7), match='a'>]\n",
      "[(0, 1), (3, 4), (6, 7)]\n"
     ]
    }
   ],
   "source": [
    "import re\n",
    "\n",
    "# 패턴과 일치하는 부분의 인덱스 찾기 \n",
    "pattern = 'a'\n",
    "string = 'ab ac ad'\n",
    "\n",
    "gggg = re.finditer(pattern, string)\n",
    "matches = [match.span() for match in re.finditer(pattern, string)]\n",
    "\n",
    "print(list(gggg))\n",
    "print(matches)\n"
   ]
  },
  {
   "cell_type": "code",
   "execution_count": 34,
   "id": "0f48932b",
   "metadata": {
    "scrolled": true
   },
   "outputs": [
    {
     "ename": "AttributeError",
     "evalue": "'NoneType' object has no attribute 'group'",
     "output_type": "error",
     "traceback": [
      "\u001b[1;31m---------------------------------------------------------------------------\u001b[0m",
      "\u001b[1;31mAttributeError\u001b[0m                            Traceback (most recent call last)",
      "Cell \u001b[1;32mIn[34], line 5\u001b[0m\n\u001b[0;32m      3\u001b[0m \u001b[38;5;66;03m# match = re.match('apple', \"apple pie apple\")\u001b[39;00m\n\u001b[0;32m      4\u001b[0m match \u001b[38;5;241m=\u001b[39m re\u001b[38;5;241m.\u001b[39mmatch(\u001b[38;5;124m'\u001b[39m\u001b[38;5;124mapple\u001b[39m\u001b[38;5;124m'\u001b[39m, \u001b[38;5;124m\"\u001b[39m\u001b[38;5;124msweet apple pie apple\u001b[39m\u001b[38;5;124m\"\u001b[39m)  \n\u001b[1;32m----> 5\u001b[0m \u001b[38;5;28mprint\u001b[39m(\u001b[43mmatch\u001b[49m\u001b[38;5;241;43m.\u001b[39;49m\u001b[43mgroup\u001b[49m())\n\u001b[0;32m      6\u001b[0m \u001b[38;5;28mprint\u001b[39m(match\u001b[38;5;241m.\u001b[39mgroup(\u001b[38;5;241m0\u001b[39m))\n\u001b[0;32m      7\u001b[0m \u001b[38;5;28mprint\u001b[39m(match\u001b[38;5;241m.\u001b[39mstart())\n",
      "\u001b[1;31mAttributeError\u001b[0m: 'NoneType' object has no attribute 'group'"
     ]
    }
   ],
   "source": [
    "import re\n",
    "\n",
    "match = re.match('apple', \"apple pie apple\")\n",
    "# match = re.match('apple', \"sweet apple pie apple\")   # 첫번째가 apple 이 아니므로 에러남\n",
    "print(match.group())\n",
    "print(match.group(0))\n",
    "print(match.start())\n",
    "print(match.end())\n",
    "print(match.span())"
   ]
  },
  {
   "cell_type": "code",
   "execution_count": 28,
   "id": "834b11c4",
   "metadata": {},
   "outputs": [
    {
     "name": "stdout",
     "output_type": "stream",
     "text": [
      "apple\n"
     ]
    }
   ],
   "source": [
    "p = r'(apple) pie'\n",
    "t = 'apple pie'\n",
    "\n",
    "match = re.match(p,t)\n",
    "print(match.group(1))"
   ]
  },
  {
   "cell_type": "code",
   "execution_count": 30,
   "id": "0587a9b8",
   "metadata": {},
   "outputs": [
    {
     "name": "stdout",
     "output_type": "stream",
     "text": [
      "pie\n"
     ]
    }
   ],
   "source": [
    "# Q. 위의 예제를 수정해서 group(2)를 출력해 보세요\n",
    "\n",
    "p = r'(apple) (pie)'\n",
    "t = 'apple pie'\n",
    "\n",
    "match = re.match(p,t)\n",
    "print(match.group(2))"
   ]
  },
  {
   "cell_type": "code",
   "execution_count": 23,
   "id": "baa907f1",
   "metadata": {},
   "outputs": [
    {
     "name": "stdout",
     "output_type": "stream",
     "text": [
      "apple\n",
      "apple\n",
      "6\n",
      "11\n",
      "(6, 11)\n"
     ]
    }
   ],
   "source": [
    "import re\n",
    "\n",
    "match = re.search('apple', \"sweet apple pie\")\n",
    "print(match.group())\n",
    "print(match.group(0))\n",
    "print(match.start())\n",
    "print(match.end())\n",
    "print(match.span())"
   ]
  },
  {
   "cell_type": "code",
   "execution_count": 37,
   "id": "1f383566",
   "metadata": {
    "scrolled": true
   },
   "outputs": [
    {
     "name": "stdout",
     "output_type": "stream",
     "text": [
      "전체 날짜:  2023-04-30\n",
      "연도:  2023\n",
      "월:  04\n",
      "일:  30\n",
      "매치되는 그룹이 존재하지 않습니다.\n",
      "에러명:  no such group\n"
     ]
    }
   ],
   "source": [
    "import re\n",
    "\n",
    "# 정규 표현식 패턴: YYYY-MM-DD 형식의 날짜 (예: 2023-04-30)\n",
    "pattern = r'(\\d{4})-(\\d{2})-(\\d{2})'   # 괄호로 묶은 이유 > 그룹 추출\n",
    "\n",
    "# 검색할 문자열\n",
    "text = \"오늘의 날짜는 2023-04-30입니다.\"\n",
    "\n",
    "# 패턴 검색\n",
    "match = re.search(pattern, text)\n",
    "\n",
    "# 매치 결과 확인\n",
    "try:\n",
    "    if match:\n",
    "        print(\"전체 날짜: \", match.group())\n",
    "        print(\"연도: \", match.group(1))\n",
    "        print(\"월: \", match.group(2))\n",
    "        print(\"일: \", match.group(3))\n",
    "        print(\"시간: \", match.group(4))\n",
    "    else:\n",
    "        print(\"매치되는 날짜가 없습니다.\")\n",
    "except Exception as e:\n",
    "    print(\"매치되는 그룹이 존재하지 않습니다.\\n에러명: \",e)\n",
    "\n",
    "    \n"
   ]
  },
  {
   "cell_type": "markdown",
   "id": "9e30d099",
   "metadata": {},
   "source": [
    "### python에서 로우 스트링\n",
    "- 문자열 앞에 r이나 R을 붙여 정의\n",
    "- 주요 목적은 문자열 내의 백슬래시(\\)를 이스케이프 시퀀스로 처리하지 않도록 하는 것이다.\n",
    "- 예를 들어:\n",
    "    - 일반 문자열: \"\\\\\\d\" (정규 표현식에서 숫자를 의미하는 \\d를 나타내려면 두 개의 백슬래시가 필요)\n",
    "    - 로우 스트링: r\"\\d\" (한 개의 백슬래시만으로도 정규 표현식에서 \\d를 나타낼 수 있음)"
   ]
  },
  {
   "cell_type": "code",
   "execution_count": 41,
   "id": "a80da437",
   "metadata": {},
   "outputs": [
    {
     "data": {
      "text/plain": [
       "'python '"
      ]
     },
     "execution_count": 41,
     "metadata": {},
     "output_type": "execute_result"
    }
   ],
   "source": [
    "import re\n",
    "\n",
    "p = re.compile('[a-z]+\\s')   # \\s 공백\n",
    "m = p.match('python python')\n",
    "m.group()"
   ]
  },
  {
   "cell_type": "code",
   "execution_count": 42,
   "id": "7a62a55c",
   "metadata": {},
   "outputs": [
    {
     "data": {
      "text/plain": [
       "<re.Match object; span=(0, 7), match='python '>"
      ]
     },
     "execution_count": 42,
     "metadata": {},
     "output_type": "execute_result"
    }
   ],
   "source": [
    "re.match('[a-z]+\\s', 'python python')"
   ]
  },
  {
   "cell_type": "code",
   "execution_count": 44,
   "id": "221ca1b3",
   "metadata": {},
   "outputs": [
    {
     "data": {
      "text/plain": [
       "['python ', 'python ']"
      ]
     },
     "execution_count": 44,
     "metadata": {},
     "output_type": "execute_result"
    }
   ],
   "source": [
    "p.findall('python python ')"
   ]
  },
  {
   "cell_type": "code",
   "execution_count": 45,
   "id": "fb0f92b1",
   "metadata": {},
   "outputs": [
    {
     "data": {
      "text/plain": [
       "['python ']"
      ]
     },
     "execution_count": 45,
     "metadata": {},
     "output_type": "execute_result"
    }
   ],
   "source": [
    "p.findall('python python')"
   ]
  },
  {
   "cell_type": "code",
   "execution_count": 46,
   "id": "894d3db4",
   "metadata": {},
   "outputs": [
    {
     "name": "stdout",
     "output_type": "stream",
     "text": [
      "None\n"
     ]
    }
   ],
   "source": [
    "m = p.match('3python ')\n",
    "print(m)"
   ]
  },
  {
   "cell_type": "code",
   "execution_count": 48,
   "id": "4849d17e",
   "metadata": {},
   "outputs": [
    {
     "name": "stdout",
     "output_type": "stream",
     "text": [
      "<re.Match object; span=(1, 8), match='python '>\n"
     ]
    }
   ],
   "source": [
    "m = p.search('3python ')\n",
    "print(m)"
   ]
  },
  {
   "cell_type": "code",
   "execution_count": 49,
   "id": "8a0eaf71",
   "metadata": {},
   "outputs": [
    {
     "name": "stdout",
     "output_type": "stream",
     "text": [
      "<re.Match object; span=(1, 6), match='anker'>\n",
      "<re.Match object; span=(0, 6), match='banker'>\n"
     ]
    }
   ],
   "source": [
    "# 문자 클래스: []\n",
    "pattern  = re.compile('[a-z]+')\n",
    "p1 = pattern.search(\"Banker\")\n",
    "p2 = pattern.search(\"banker\")\n",
    "print(p1)\n",
    "print(p2)"
   ]
  },
  {
   "cell_type": "code",
   "execution_count": 50,
   "id": "ac75eb3a",
   "metadata": {},
   "outputs": [
    {
     "data": {
      "text/plain": [
       "'a'"
      ]
     },
     "execution_count": 50,
     "metadata": {},
     "output_type": "execute_result"
    }
   ],
   "source": [
    "# group() 매치된 문자열을 리턴\n",
    "# Q. '12345abc' 에서 'a'만 출력하세요\n",
    "import re\n",
    "\n",
    "regex = re.compile('[a]')\n",
    "text = '12345abc'\n",
    "m = regex.search(text)\n",
    "m.group()"
   ]
  },
  {
   "cell_type": "code",
   "execution_count": 51,
   "id": "cc804604",
   "metadata": {},
   "outputs": [
    {
     "data": {
      "text/plain": [
       "'A'"
      ]
     },
     "execution_count": 51,
     "metadata": {},
     "output_type": "execute_result"
    }
   ],
   "source": [
    "# Q. 'abc12345Abc' 에서 'A'만 출력하세요\n",
    "import re\n",
    "\n",
    "regex = re.compile('[A-Z]')\n",
    "text = 'abc12345Abc'\n",
    "m = regex.search(text)\n",
    "m.group()"
   ]
  },
  {
   "cell_type": "code",
   "execution_count": 53,
   "id": "d9582d31",
   "metadata": {},
   "outputs": [
    {
     "data": {
      "text/plain": [
       "'대'"
      ]
     },
     "execution_count": 53,
     "metadata": {},
     "output_type": "execute_result"
    }
   ],
   "source": [
    "# Q. 'KOREA 대한민국' 에서 '대'만 출력하세요\n",
    "import re\n",
    "\n",
    "regex = re.compile('[가-힣]')  # 한글 찾기 패턴\n",
    "text = 'KOREA 대한민국'\n",
    "m = regex.search(text)\n",
    "m.group()"
   ]
  },
  {
   "cell_type": "code",
   "execution_count": 54,
   "id": "bc4532bf",
   "metadata": {},
   "outputs": [
    {
     "data": {
      "text/plain": [
       "'122333c'"
      ]
     },
     "execution_count": 54,
     "metadata": {},
     "output_type": "execute_result"
    }
   ],
   "source": [
    "# a{2}는 a를 2회 반복하여 사용\n",
    "# Q. '122333c'를 모두 출력하세요\n",
    "import re\n",
    "\n",
    "regex = re.compile('12{2}3{3}c')  \n",
    "text = '122333c'\n",
    "m = regex.search(text)\n",
    "m.group()"
   ]
  },
  {
   "cell_type": "code",
   "execution_count": 56,
   "id": "7468ee0e",
   "metadata": {},
   "outputs": [
    {
     "data": {
      "text/plain": [
       "'aaaaBBBcccDDDeee'"
      ]
     },
     "execution_count": 56,
     "metadata": {},
     "output_type": "execute_result"
    }
   ],
   "source": [
    "# Q. 'aaaaBBBcccDDDeee'을 모두 출력하세요\n",
    "import re\n",
    "\n",
    "regex = re.compile('a{4}B{3}c{3}D{3}e{3}')  \n",
    "text = 'aaaaBBBcccDDDeee'\n",
    "m = regex.search(text)\n",
    "m.group()"
   ]
  },
  {
   "cell_type": "code",
   "execution_count": 60,
   "id": "806f8c42",
   "metadata": {},
   "outputs": [
    {
     "name": "stdout",
     "output_type": "stream",
     "text": [
      "C\n",
      "C\n",
      "C\n"
     ]
    }
   ],
   "source": [
    "# Q. BC, CC, ABC 모두 C가 출려되는 정규표현식 작성\n",
    "import re\n",
    "\n",
    "pattern = re.compile('C')  \n",
    "text1 = 'BC'\n",
    "text2 = 'CC'\n",
    "text3 = 'ABC'\n",
    "\n",
    "p1 = pattern.search(text1)\n",
    "p2 = pattern.search(text2)\n",
    "p3 = pattern.search(text3)\n",
    "\n",
    "print(p1.group())\n",
    "print(p2.group())\n",
    "print(p3.group())"
   ]
  },
  {
   "cell_type": "code",
   "execution_count": 63,
   "id": "bda1c8b0",
   "metadata": {},
   "outputs": [
    {
     "name": "stdout",
     "output_type": "stream",
     "text": [
      "life\n",
      "is\n",
      "too\n",
      "short\n"
     ]
    }
   ],
   "source": [
    "# finditer 는 찾은 모든 결과를 반복가능한 객체로 반환한다.\n",
    "# findall >> 찾은 모든 내용을 리스트로 반환\n",
    "\n",
    "regex = re.compile('[a-z]+')  \n",
    "text = 'life is too short'\n",
    "m = regex.finditer(text)\n",
    "\n",
    "for i in m:\n",
    "    print(i.group())\n"
   ]
  },
  {
   "cell_type": "code",
   "execution_count": 65,
   "id": "477eb5a5",
   "metadata": {},
   "outputs": [
    {
     "name": "stdout",
     "output_type": "stream",
     "text": [
      "['1', '2', '3', '4', '1', '2', '3', '4']\n"
     ]
    }
   ],
   "source": [
    "# Q. '1234a1234' 에서 1, 2, 3, 4 를 모두 출력\n",
    "regex = re.compile('[1-4]')  \n",
    "text = '1234a1234'\n",
    "m = regex.findall(text)\n",
    "print(m)"
   ]
  },
  {
   "cell_type": "code",
   "execution_count": 67,
   "id": "491a04d3",
   "metadata": {},
   "outputs": [
    {
     "data": {
      "text/plain": [
       "['Python', 'is', 'very', 'good', 'programming', 'language']"
      ]
     },
     "execution_count": 67,
     "metadata": {},
     "output_type": "execute_result"
    }
   ],
   "source": [
    "# 모든 영문자 단어를 출력\n",
    "regex = re.compile('[a-zA-Z]+')  \n",
    "regex.findall(\"Python3 is very good programming language\")"
   ]
  },
  {
   "cell_type": "code",
   "execution_count": 68,
   "id": "4a7caabf",
   "metadata": {},
   "outputs": [
    {
     "name": "stdout",
     "output_type": "stream",
     "text": [
      "None\n",
      "<re.Match object; span=(0, 3), match='acb'>\n",
      "<re.Match object; span=(0, 6), match='a12?Ab'>\n"
     ]
    }
   ],
   "source": [
    "# Dot(.) 메타 문자는 줄바꿈 문자(\\n)을 제외한 모든 문자와 매치\n",
    "p = re.compile('a.+b')\n",
    "m1 = p.match('a\\nb')\n",
    "m2 = p.match('acb')\n",
    "m3 = p.match('a12?Ab')\n",
    "print(m1)\n",
    "print(m2)\n",
    "print(m3)"
   ]
  },
  {
   "cell_type": "code",
   "execution_count": 70,
   "id": "01614bc6",
   "metadata": {},
   "outputs": [
    {
     "name": "stdout",
     "output_type": "stream",
     "text": [
      "<re.Match object; span=(0, 3), match='a\\nb'>\n"
     ]
    }
   ],
   "source": [
    "# re.DOTALL 옵션은 여러 줄로 이루어진 문자열에서 줄바꿈 문자(\\n)을 제외하고 검색시 사용\n",
    "p = re.compile('a.b', re.DOTALL)\n",
    "m1 = p.match('a\\nb')\n",
    "print(m1)"
   ]
  },
  {
   "cell_type": "code",
   "execution_count": 95,
   "id": "d2e07c6e",
   "metadata": {},
   "outputs": [
    {
     "name": "stdout",
     "output_type": "stream",
     "text": [
      "what are you doing?\n"
     ]
    }
   ],
   "source": [
    "# Q. text에서 what are you doing?만 출력하세요\n",
    "text = 'what are you doing?\\nit is going to be late for school\\\n",
    "\\\\nwe need to hurry up'\n",
    "# p = re.compile(r\"^w[\\S\\s]+\\?\")\n",
    "\n",
    "p = re.compile(r\".*\")  # 마침표는 줄바꿈을 제외한 전체문자를 인지\n",
    "print(p.search(text).group())"
   ]
  },
  {
   "cell_type": "code",
   "execution_count": null,
   "id": "40157ceb",
   "metadata": {},
   "outputs": [],
   "source": [
    "# Q. text에서 전체문장 모두 출력하세요"
   ]
  },
  {
   "cell_type": "code",
   "execution_count": 101,
   "id": "ad176ac9",
   "metadata": {},
   "outputs": [
    {
     "name": "stdout",
     "output_type": "stream",
     "text": [
      "what are you doing?\n",
      "it is going to be late for school\n",
      "we need to hurry up\n"
     ]
    }
   ],
   "source": [
    "# Q. text에서 what are you doing?만 출력하세요\n",
    "text = ('what are you doing?\\nit is going to be late for school'\n",
    "            '\\nwe need to hurry up')  # 괄호로 묶어서 다음줄 까지 출력\n",
    "p = re.compile(r\".*\", re.DOTALL)\n",
    "\n",
    "print(p.search(text).group())"
   ]
  },
  {
   "cell_type": "code",
   "execution_count": null,
   "id": "22e93d47",
   "metadata": {},
   "outputs": [],
   "source": [
    "# re.IGNORECASE 또는 re.I 옵션은 대소문자 구분 없이 매치"
   ]
  },
  {
   "cell_type": "code",
   "execution_count": 102,
   "id": "13696f3f",
   "metadata": {},
   "outputs": [
    {
     "name": "stdout",
     "output_type": "stream",
     "text": [
      "<re.Match object; span=(0, 6), match='pyThOn'>\n"
     ]
    }
   ],
   "source": [
    "p = re.compile('[a-z]+', re.I)\n",
    "print(p.match(\"pyThOn\"))"
   ]
  },
  {
   "cell_type": "code",
   "execution_count": 105,
   "id": "6d8a1bc6",
   "metadata": {},
   "outputs": [
    {
     "name": "stdout",
     "output_type": "stream",
     "text": [
      "<re.Match object; span=(0, 27), match='Friend fRiend friEnd FRIEND'>\n"
     ]
    }
   ],
   "source": [
    "# Q. text에서 대소문자 구분없이 전체문장 모두 출력하세요.\n",
    "text = 'Friend fRiend friEnd FRIEND'\n",
    "p = re.compile('[a-z\\s]+', re.I)\n",
    "print(p.match(text))"
   ]
  },
  {
   "cell_type": "code",
   "execution_count": 107,
   "id": "c540dece",
   "metadata": {},
   "outputs": [
    {
     "name": "stdout",
     "output_type": "stream",
     "text": [
      "['python one']\n"
     ]
    }
   ],
   "source": [
    "# python 이라는 문자열로 시작하고 그 뒤에 whitespace, 그뒤에 단어가 오는 경우\n",
    "import re\n",
    "p = re.compile(\"^python\\s\\w+\")\n",
    "\n",
    "data = '''python one\n",
    "life is too short\n",
    "python two\n",
    "you need python\n",
    "python three'''\n",
    "\n",
    "print(p.findall(data))"
   ]
  },
  {
   "cell_type": "code",
   "execution_count": 108,
   "id": "bd730412",
   "metadata": {},
   "outputs": [
    {
     "name": "stdout",
     "output_type": "stream",
     "text": [
      "['python one', 'python two', 'python three']\n"
     ]
    }
   ],
   "source": [
    "# re.MULTILINE 또는 re.M 옵션으로 ^메타문자를 각 라인의 처음으로 인식시킴\n",
    "import re\n",
    "p = re.compile(\"^python\\s\\w+\", re.M)\n",
    "\n",
    "data = '''python one\n",
    "life is too short\n",
    "python two\n",
    "you need python\n",
    "python three'''\n",
    "\n",
    "print(p.findall(data))"
   ]
  },
  {
   "cell_type": "code",
   "execution_count": 109,
   "id": "7a21a77c",
   "metadata": {},
   "outputs": [
    {
     "name": "stdout",
     "output_type": "stream",
     "text": [
      "<re.Match object; span=(0, 10), match='CrowlServo'>\n",
      "\n",
      "<re.Match object; span=(0, 4), match='Life'>\n",
      "None\n",
      "\n",
      "None\n",
      "<re.Match object; span=(3, 7), match='Life'>\n"
     ]
    }
   ],
   "source": [
    "# 메타 문자\n",
    "# | (or와 동일한 의미), ^ (문자열의 맨처음), $ (문자열의 끝과 매치)\n",
    "import re\n",
    "p = re.compile('CrowlServo')\n",
    "m = p.match('CrowlServo')\n",
    "print(m)\n",
    "print()\n",
    "print(re.search('^Life', 'Life is too short'))\n",
    "print(re.search('^Life', 'My Life'))\n",
    "print()\n",
    "print(re.search('Life$', 'Life is too short'))\n",
    "print(re.search('Life$', 'My Life'))"
   ]
  },
  {
   "cell_type": "code",
   "execution_count": 114,
   "id": "0720243d",
   "metadata": {},
   "outputs": [
    {
     "name": "stdout",
     "output_type": "stream",
     "text": [
      "<re.Match object; span=(0, 7), match='1126534'>\n"
     ]
    }
   ],
   "source": [
    "# Q. '1126534, 12354A, a23575' 에서 '1126534' 만 출력하세요\n",
    "t = '1126534, 12354A, a23575'\n",
    "print(re.search(r'\\d+', t))"
   ]
  },
  {
   "cell_type": "code",
   "execution_count": 116,
   "id": "18f9b1aa",
   "metadata": {},
   "outputs": [
    {
     "data": {
      "text/plain": [
       "['99food234']"
      ]
     },
     "execution_count": 116,
     "metadata": {},
     "output_type": "execute_result"
    }
   ],
   "source": [
    "# Q. '99food234, a942\\n, a23462ba' 에서 99food234 만 출력\n",
    "# \\w : 문자, 숫자, 밑줄\n",
    "\n",
    "regex = re.compile(r'^\\w+\\d')\n",
    "regex.findall('99food234, a942\\n, a23462ba')"
   ]
  },
  {
   "cell_type": "code",
   "execution_count": null,
   "id": "950c4a00",
   "metadata": {},
   "outputs": [],
   "source": [
    "# \\b whitespace에 의해 구분\n",
    "# \\B whitespace로 구분된 단어가 아닌 경우에만 매치\n",
    "\n",
    "p1 = re.compile(r'\\bclass\\b')\n",
    "print(p1.search('no class at all'))\n",
    "print(p1.search('the declassified algorithim'))\n",
    "p2 = re.compile(r'\\Bclass\\B')\n",
    "print(p2.search('no class at all'))\n",
    "print(p2.search('the declassified algorithim'))"
   ]
  },
  {
   "cell_type": "markdown",
   "id": "a8e223f0",
   "metadata": {},
   "source": [
    "괄호 ()는 '그룹화'를 위해 사용 : 주로 여러 문자열 패턴을 하나의 단위로 묶거나, 특정 부분의 문자열을 추출하는 데 사용\n",
    "\n",
    "그룹화의 주요 용도:\n",
    "- 패턴의 일부를 하나의 단위로 묶기 : 괄호는 여러 문자 또는 문자 집합을 하나의 단위로 묶어서, 그 전체에 대해 수량자 (예: *, +, ?, {m,n} 등)를 적용할 수 있게 한다.\n",
    "\n",
    "- 텍스트 캡처 : 괄호로 묶인 부분은 '캡처 그룹'이 되어, 매칭된 텍스트를 나중에 사용하기 위해 저장. 예를 들어, re.search()나 re.match() 등의 함수로 매치 객체를 얻은 후, group() 메서드를 사용하여 이 텍스트를 추출할 수 있다.\n",
    "\n",
    "- 백레퍼런스(backreferences): 정규 표현식 내에서 앞서 정의된 그룹을 다시 참조할 수 있다. 이는 패턴이 이전에 매치된 동일한 텍스트와 일치해야 할 때 유용.\n",
    "\n",
    "- 비캡처 그룹(non-capturing groups): 때로는 괄호를 사용하여 그룹을 만들지만, 매치된 내용을 나중에 사용하고 싶지 않을 때가 있다. 이 경우 (?:...) 형태를 사용하여 그룹을 만든다. 이 그룹은 매칭에는 영향을 주지만, 결과를 저장하지는 않는다."
   ]
  },
  {
   "cell_type": "code",
   "execution_count": 124,
   "id": "784377f2",
   "metadata": {},
   "outputs": [],
   "source": [
    "# \\1은 첫번째 캡처 그룹이  매치한 텍스트와 동일한 텍스트를 다시 찾는다.\n",
    "\n",
    "pattern = r'(\\b\\w+)\\s+\\1'\n",
    "text = \"이것은 중복 중간단어 중복 단어입니다.\"\n",
    "\n",
    "match = re.search(pattern, text)\n",
    "\n",
    "if match:\n",
    "    print(match.group())"
   ]
  },
  {
   "cell_type": "code",
   "execution_count": 139,
   "id": "25ad8e6d",
   "metadata": {},
   "outputs": [
    {
     "name": "stdout",
     "output_type": "stream",
     "text": [
      "11\n",
      "22\n"
     ]
    }
   ],
   "source": [
    "# 첫 번째 숫자 그룹은 비캡쳐 그룹(?:\\d{4})로 설정되어 있어, 매치 결과는 저장되지 않고 '월'과 '일'만 캡쳐된다\n",
    "\n",
    "pattern = r'(?:\\d{4})-(\\d{2})-(\\d{2})'\n",
    "print(re.search(pattern, \"2023-11-22\").group(1))  # 비캡쳐그룹 패스함. \n",
    "print(re.search(pattern, \"2023-11-22\").group(2))"
   ]
  },
  {
   "cell_type": "code",
   "execution_count": 125,
   "id": "ec28af80",
   "metadata": {
    "scrolled": true
   },
   "outputs": [
    {
     "name": "stdout",
     "output_type": "stream",
     "text": [
      "<re.Match object; span=(3, 9), match='ABCDEF'>\n",
      "ABCDEF\n",
      "ABCDEF\n",
      "AB\n",
      "CD\n",
      "EF\n"
     ]
    }
   ],
   "source": [
    "p = re.compile('((AB)(CD)(EF))+')\n",
    "m = p.search(\"DEFABCDEFDEF OK?\")\n",
    "print(m)\n",
    "print(m.group(0))\n",
    "print(m.group(1))\n",
    "print(m.group(2))\n",
    "print(m.group(3))\n",
    "print(m.group(4))"
   ]
  },
  {
   "cell_type": "code",
   "execution_count": null,
   "id": "f730271c",
   "metadata": {},
   "outputs": [],
   "source": [
    "# Q. 정규표현식을 사용하여 text에서 지역코드만 출력하세요.\n",
    "text = \"문의사항이 있으면 032-232-3245 으로 연락주시기 바랍니다.\""
   ]
  },
  {
   "cell_type": "code",
   "execution_count": 134,
   "id": "353b962c",
   "metadata": {},
   "outputs": [
    {
     "name": "stdout",
     "output_type": "stream",
     "text": [
      "032\n"
     ]
    }
   ],
   "source": [
    "text = '문의사항이 있으면 032-232-3245 으로 연락주시기 바랍니다.'\n",
    "p = re.compile('(\\d{3})-(\\d{3}-\\d{4})')\n",
    "print(p.search(text).group(1))"
   ]
  },
  {
   "cell_type": "code",
   "execution_count": 1,
   "id": "d590ca13",
   "metadata": {},
   "outputs": [
    {
     "name": "stdout",
     "output_type": "stream",
     "text": [
      "첫 번째 그룹:  123\n",
      "두 번째 그룹:  6789\n"
     ]
    }
   ],
   "source": [
    "import re\n",
    "\n",
    "pattern = r'(\\d{3})-(?:\\d{2})-(\\d{4})'\n",
    "text = \"123-45-6789\"\n",
    "\n",
    "match = re.match(pattern, text)\n",
    "if match:\n",
    "    print(\"첫 번째 그룹: \", match.group(1))  # 저장된 그룹\n",
    "    print(\"두 번째 그룹: \", match.group(2))  # 저장되지 않은 그룹"
   ]
  },
  {
   "cell_type": "code",
   "execution_count": 10,
   "id": "4b7484ba",
   "metadata": {},
   "outputs": [
    {
     "name": "stdout",
     "output_type": "stream",
     "text": [
      "park\n",
      "===================================\n",
      "park 010-1234-2345\n",
      "park\n",
      "010-1234-2345\n",
      "010\n"
     ]
    }
   ],
   "source": [
    "# 그룹핑된 문자열에 이름 붙이기 : 확장구문  (?P<name>)\n",
    "\n",
    "p = re.compile(r'(?P<name>\\w+)\\s+((\\d+)[-]\\d+[-]\\d+)')\n",
    "m = p.search('park 010-1234-2345')\n",
    "\n",
    "print(m.group('name'))  # 이름붙인 그룹 불러오기\n",
    "print('='*35)\n",
    "for i in range(4):\n",
    "    print(m.group(i))"
   ]
  },
  {
   "cell_type": "code",
   "execution_count": 11,
   "id": "71b08d4e",
   "metadata": {},
   "outputs": [
    {
     "data": {
      "text/plain": [
       "'the the'"
      ]
     },
     "execution_count": 11,
     "metadata": {},
     "output_type": "execute_result"
    }
   ],
   "source": [
    "# 그룹명을 이용하여 그룹 재참조\n",
    "\n",
    "p = re.compile(r'(?P<word>\\w+)\\s+(?P=word)')\n",
    "p.search('Paris in the the spring').group()"
   ]
  },
  {
   "cell_type": "code",
   "execution_count": 12,
   "id": "16ebaafe",
   "metadata": {},
   "outputs": [
    {
     "data": {
      "text/plain": [
       "'Lots'"
      ]
     },
     "execution_count": 12,
     "metadata": {},
     "output_type": "execute_result"
    }
   ],
   "source": [
    "# Q. 이름으로 그룹을 참조하여 'Lots of punctuation'에서 Lots를 출력하세요.\n",
    "\n",
    "m = re.search(r'(?P<x>L\\w+)', 'Lots of punctuation')\n",
    "m.group('x')"
   ]
  },
  {
   "cell_type": "markdown",
   "id": "232a3b62",
   "metadata": {},
   "source": [
    "정규 표현식에서 전방탐색(Lookahead)\n",
    "- 특정 패턴 뒤에 오는 문자열을 확인하는 방법으로, 긍정 전방탐색과 부정 전방탐색 두 가지 형태가 있다. \n",
    "- 이들은 매칭을 결정하는 조건을 설정하지만, 실제로 해당 문자열을 결과에 포함시키지는 않는다. 즉, 문자열을 '소모(consume)'하지 않는다..\n",
    "\n",
    "- 긍정 전방탐색 (Positive Lookahead)\n",
    "    - 형식: (?=...)\n",
    "    - 설명: 긍정 전방탐색은 ...에 해당하는 정규식 패턴이 일치해야 하지만, 해당 부분은 결과에 포함되지 않는다.\n",
    "    - 예시: X(?=Y)는 'Y'가 뒤따르는 'X'에 일치합니다. 'X'는 결과에 포함되지만, 'Y'는 포함되지 않는다.\n",
    "- 부정 전방탐색 (Negative Lookahead)\n",
    "    - 형식: (?!...)\n",
    "    - 설명: 부정 전방탐색은 ...에 해당하는 정규식 패턴이 일치하지 않아야 합니다. 여기서도 일치하는 부분은 결과에 포함되지 않는다.\n",
    "    - 예시: X(?!Y)는 'Y'가 뒤따르지 않는 'X'에 일치합니다. 'X'는 결과에 포함되지만, 'Y'는 검사 대상이지 결과에 포함되지 않는다."
   ]
  },
  {
   "cell_type": "code",
   "execution_count": 13,
   "id": "99cf0153",
   "metadata": {},
   "outputs": [
    {
     "name": "stdout",
     "output_type": "stream",
     "text": [
      "http:\n",
      "\n",
      "http\n"
     ]
    }
   ],
   "source": [
    "import re\n",
    "\n",
    "p = re.compile(r'.+:')\n",
    "m = p.search('http://google.com')\n",
    "print(m.group())\n",
    "print()\n",
    "p = re.compile(r'.+(?=:)')  # 긍정 전방탐색 내 문자열을 출력하지 않음.\n",
    "m = p.search('http://google.com')\n",
    "print(m.group())"
   ]
  },
  {
   "cell_type": "code",
   "execution_count": 14,
   "id": "d208f589",
   "metadata": {},
   "outputs": [
    {
     "name": "stdout",
     "output_type": "stream",
     "text": [
      "sendmail.cf\n"
     ]
    }
   ],
   "source": [
    "# 확장자가 bat 혹은 exe가 아닌경우만 통과. 부정적 전방 탐색\n",
    "p = re.compile('.*[.](?!bat$|exe$).*$')\n",
    "list = ['foo.exe', 'autoexec.bat', 'sendmail.cf']\n",
    "\n",
    "for i in list:\n",
    "    if p.match(i):\n",
    "        print(i)"
   ]
  },
  {
   "cell_type": "code",
   "execution_count": 15,
   "id": "8efc11d8",
   "metadata": {
    "scrolled": true
   },
   "outputs": [
    {
     "name": "stdout",
     "output_type": "stream",
     "text": [
      "color socks and color shoes\n",
      "color socks and red shoes\n",
      "('color socks and color shoes', 2)\n"
     ]
    }
   ],
   "source": [
    "# 문자열 바꾸기\n",
    "# sub 메서드를 사용하면 정규식과 매치되는 부분을 다른 문자로 쉽게 바꿀 수 있음\n",
    "# 바꾸기 횟수를 제어하려면 세번째 매개변수로 count 값을 넘기면 됨.\n",
    "# subn 역시 sub와 동일한 기능을 하지만 반환 결과를 튜플로 돌려줌. 두번째 요소는 바꾸기 발생 횟수\n",
    "p = re.compile('(blue|white|red)')\n",
    "print(p.sub('color', 'blue socks and red shoes'))\n",
    "print(p.sub('color', 'blue socks and red shoes', count=1))\n",
    "print(p.subn('color', 'blue socks and red shoes'))"
   ]
  },
  {
   "cell_type": "code",
   "execution_count": 17,
   "id": "fbd26e60",
   "metadata": {},
   "outputs": [
    {
     "data": {
      "text/plain": [
       "'12345'"
      ]
     },
     "execution_count": 17,
     "metadata": {},
     "output_type": "execute_result"
    }
   ],
   "source": [
    "# Q. '12345abc'에서 '12345'만 출력하세요\n",
    "import re\n",
    "str = \"12345abc\"\n",
    "re.sub('[^0-9]','',str)"
   ]
  },
  {
   "cell_type": "code",
   "execution_count": 19,
   "id": "7734be86",
   "metadata": {},
   "outputs": [
    {
     "name": "stdout",
     "output_type": "stream",
     "text": [
      "010-1234-2345 park\n"
     ]
    }
   ],
   "source": [
    "# sub 메서드를 사용할 때 참조 구문을 사용\n",
    "# 이름 + 전화번호의 문자열을 전화번호 + 이름으로 바꾸는 예\n",
    "# sub의 바꿀 문자열 부분에 \\g<그룹이름>을 사용하면 정규식의 그룹이름을 참조\n",
    "p = re.compile(r'(?P<name>\\w+)\\s+(?P<phone>(\\d+)[-]\\d+[-]\\d+)')\n",
    "print(p.sub('\\g<phone> \\g<name>', 'park 010-1234-2345'))"
   ]
  },
  {
   "cell_type": "code",
   "execution_count": 20,
   "id": "2ffe8895",
   "metadata": {},
   "outputs": [
    {
     "name": "stdout",
     "output_type": "stream",
     "text": [
      "010-1234-2345 park\n"
     ]
    }
   ],
   "source": [
    "# 그룹 이름 대신 참조 번호를 사용할 수 있음\n",
    "p = re.compile(r'(?P<name>\\w+)\\s+(?P<phone>(\\d+)[-]\\d+[-]\\d+)')\n",
    "print(p.sub('\\g<2> \\g<1>', 'park 010-1234-2345'))"
   ]
  },
  {
   "cell_type": "code",
   "execution_count": 21,
   "id": "a6e54723",
   "metadata": {},
   "outputs": [
    {
     "data": {
      "text/plain": [
       "'Call 0xffd2 for printing, 0xc000 for user code'"
      ]
     },
     "execution_count": 21,
     "metadata": {},
     "output_type": "execute_result"
    }
   ],
   "source": [
    "# sub 메서드의 매개변수로 함수 넣기\n",
    "# hexrepl 함수는 match 객체(위에서 숫자에 매치되는)를 입력으로 받아 16진수로 변환하여 돌려주는 함수\n",
    "# sub의 첫번째 매개변수로 함수를 사용할 경우 해당 함수의 첫번째 매개변수에는 정규식과 매치된 match 객체가 입력\n",
    "# 매치되는 문자열은 함수의 반환값으로 변환\n",
    "\n",
    "def hexrepl(match):\n",
    "    value = int(match.group())\n",
    "    return hex(value)\n",
    "\n",
    "p = re.compile(r'\\d+')\n",
    "p.sub(hexrepl, 'Call 65490 for printing, 49152 for user code')"
   ]
  },
  {
   "cell_type": "code",
   "execution_count": 23,
   "id": "57ef2f8d",
   "metadata": {},
   "outputs": [
    {
     "name": "stdout",
     "output_type": "stream",
     "text": [
      "65490\n",
      "49152\n"
     ]
    }
   ],
   "source": [
    "print(int('0xffd2',16))\n",
    "print(int('0xc000',16))"
   ]
  },
  {
   "cell_type": "markdown",
   "id": "25850dde",
   "metadata": {},
   "source": [
    "Greedy (탐욕스러운) 매칭\n",
    "- Greedy 매칭은 가능한 한 많은 문자와 일치하려고 한다. 즉, 주어진 패턴과 일치하는 문자열 중 가장 긴 것을 찾는다.\n",
    "- 예를 들어, 정규 표현식 a.*b는 a로 시작하고 b로 끝나는 가장 긴 문자열 부분과 일치한다.\n",
    "\n",
    "Non-Greedy (비탐욕스러운) 매칭\n",
    "- Non-Greedy 매칭은 가능한 한 적은 문자와 일치하려고 한다. 즉, 주어진 패턴과 일치하는 문자열 중 가장 짧은 것을 찾는다.\n",
    "- 예를 들어, 정규 표현식 a.*?b는 a로 시작하고 b로 끝나는 가장 짧은 문자열 부분과 일치합니다."
   ]
  },
  {
   "cell_type": "code",
   "execution_count": 24,
   "id": "f5429a44",
   "metadata": {},
   "outputs": [
    {
     "name": "stdout",
     "output_type": "stream",
     "text": [
      "<re.Match object; span=(0, 3), match='<p>'>\n"
     ]
    }
   ],
   "source": [
    "import re\n",
    "p10 = re.compile(r'<.*?>')\n",
    "t10 = r'<p>Hello World</p>'\n",
    "\n",
    "print(p10.search(t10))"
   ]
  },
  {
   "cell_type": "code",
   "execution_count": 25,
   "id": "46d22557",
   "metadata": {},
   "outputs": [
    {
     "name": "stdout",
     "output_type": "stream",
     "text": [
      "<re.Match object; span=(0, 18), match='<p>Hello World</p>'>\n"
     ]
    }
   ],
   "source": [
    "import re\n",
    "p10 = re.compile(r'<.*>')\n",
    "t10 = r'<p>Hello World</p>'\n",
    "\n",
    "print(p10.search(t10))"
   ]
  },
  {
   "cell_type": "code",
   "execution_count": 26,
   "id": "a66488cf",
   "metadata": {},
   "outputs": [
    {
     "name": "stdout",
     "output_type": "stream",
     "text": [
      "<re.Match object; span=(0, 22), match='<div>Hello World</div>'>\n"
     ]
    }
   ],
   "source": [
    "# 강사님 예\n",
    "import re\n",
    "p10 = re.compile(r'<div>.*?</div>')\n",
    "t10 = r'<div>Hello World</div><div>I love python</div>'\n",
    "\n",
    "print(p10.search(t10))"
   ]
  },
  {
   "cell_type": "code",
   "execution_count": 27,
   "id": "733d158c",
   "metadata": {},
   "outputs": [
    {
     "name": "stdout",
     "output_type": "stream",
     "text": [
      "<re.Match object; span=(0, 46), match='<div>Hello World</div><div>I love python</div>'>\n"
     ]
    }
   ],
   "source": [
    "# 강사님 예\n",
    "import re\n",
    "p10 = re.compile(r'<div>.*</div>')\n",
    "t10 = r'<div>Hello World</div><div>I love python</div>'\n",
    "\n",
    "print(p10.search(t10))"
   ]
  },
  {
   "cell_type": "markdown",
   "id": "545927ad",
   "metadata": {},
   "source": [
    "1. *? (Non-Greedy Kleene Star)\n",
    "- Greedy: *는 0회 이상 반복하는 가장 긴 문자열을 찾는다.\n",
    "- Non-Greedy: *?는 0회 이상 반복하는 가장 짧은 문자열을 찾는다.\n",
    "2. +? (Non-Greedy Plus)\n",
    "- Greedy: +는 1회 이상 반복하는 가장 긴 문자열을 찾는다.\n",
    "- Non-Greedy: +?는 1회 이상 반복하는 가장 짧은 문자열을 찾는다.\n",
    "3. ?? (Non-Greedy Question Mark)\n",
    "- Greedy: ?는 0회 또는 1회 반복하는 가장 긴 문자열을 찾는다.\n",
    "- Non-Greedy: ??는 0회 또는 1회 반복하는 가장 짧은 문자열을 찾는다.\n",
    "4. {m,n}? (Non-Greedy 범위 반복자)\n",
    "- Greedy: {m,n}은 m회에서 n회까지 반복하는 가장 긴 문자열을 찾는다.\n",
    "- Non-Greedy: {m,n}?은 m회에서 n회까지 반복하는 가장 짧은 문자열을 찾는다."
   ]
  },
  {
   "cell_type": "code",
   "execution_count": 35,
   "id": "209f9a61",
   "metadata": {},
   "outputs": [
    {
     "name": "stdout",
     "output_type": "stream",
     "text": [
      "['<div>First</div><div>Second</div>']\n",
      "========================================\n",
      "['<div>First</div>', '<div>Second</div>']\n",
      "========================================\n",
      "['oooo']\n",
      "========================================\n",
      "['o', 'o', 'o', 'o']\n",
      "========================================\n",
      "['', '', '', '', 'o', '', '']\n",
      "========================================\n",
      "['', '', '', '', '', 'o', '', '']\n",
      "========================================\n",
      "['oooo']\n",
      "========================================\n",
      "['oo', 'oo']\n",
      "========================================\n"
     ]
    }
   ],
   "source": [
    "import re\n",
    "\n",
    "text = \"<div>First</div><div>Second</div>\"\n",
    "# Greedy 매칭\n",
    "print(re.findall(r'<div>.*</div>',text))\n",
    "print('='*40)\n",
    "# Non-Greedy 매칭\n",
    "print(re.findall(r'<div>.*?</div>',text))\n",
    "print('='*40)\n",
    "\n",
    "text = \"Helloooo\"\n",
    "# Greedy 매칭\n",
    "print(re.findall(r'o+',text))\n",
    "print('='*40)\n",
    "# Non-Greedy 매칭\n",
    "print(re.findall(r'o+?',text))\n",
    "print('='*40)\n",
    "\n",
    "text = \"Hello?\"\n",
    "# Greedy 매칭\n",
    "print(re.findall(r'o?',text))\n",
    "print('='*40)\n",
    "# Non-Greedy 매칭\n",
    "print(re.findall(r'o??',text))\n",
    "print('='*40)\n",
    "\n",
    "text = \"Hellooooo?\"\n",
    "# Greedy 매칭\n",
    "print(re.findall(r'o{2,4}',text))\n",
    "print('='*40)\n",
    "# Non-Greedy 매칭\n",
    "print(re.findall(r'o{2,4}?',text))\n",
    "print('='*40)"
   ]
  },
  {
   "cell_type": "code",
   "execution_count": null,
   "id": "80afeb36",
   "metadata": {},
   "outputs": [],
   "source": []
  },
  {
   "cell_type": "code",
   "execution_count": null,
   "id": "faccdcd0",
   "metadata": {},
   "outputs": [],
   "source": []
  },
  {
   "cell_type": "code",
   "execution_count": null,
   "id": "4e9be535",
   "metadata": {},
   "outputs": [],
   "source": []
  },
  {
   "cell_type": "code",
   "execution_count": null,
   "id": "54dfc73a",
   "metadata": {},
   "outputs": [],
   "source": []
  },
  {
   "cell_type": "code",
   "execution_count": null,
   "id": "70c1c443",
   "metadata": {},
   "outputs": [],
   "source": []
  },
  {
   "cell_type": "code",
   "execution_count": null,
   "id": "68d77d4d",
   "metadata": {},
   "outputs": [],
   "source": []
  },
  {
   "cell_type": "code",
   "execution_count": null,
   "id": "9f29c089",
   "metadata": {},
   "outputs": [],
   "source": []
  },
  {
   "cell_type": "code",
   "execution_count": null,
   "id": "86e3ffcc",
   "metadata": {},
   "outputs": [],
   "source": []
  },
  {
   "cell_type": "code",
   "execution_count": null,
   "id": "615907ee",
   "metadata": {},
   "outputs": [],
   "source": []
  },
  {
   "cell_type": "code",
   "execution_count": null,
   "id": "c6a9f541",
   "metadata": {},
   "outputs": [],
   "source": []
  },
  {
   "cell_type": "code",
   "execution_count": null,
   "id": "67db542f",
   "metadata": {},
   "outputs": [],
   "source": []
  },
  {
   "cell_type": "code",
   "execution_count": null,
   "id": "1b355d6b",
   "metadata": {},
   "outputs": [],
   "source": []
  },
  {
   "cell_type": "code",
   "execution_count": null,
   "id": "863dfd94",
   "metadata": {},
   "outputs": [],
   "source": []
  }
 ],
 "metadata": {
  "kernelspec": {
   "display_name": "Python 3 (ipykernel)",
   "language": "python",
   "name": "python3"
  },
  "language_info": {
   "codemirror_mode": {
    "name": "ipython",
    "version": 3
   },
   "file_extension": ".py",
   "mimetype": "text/x-python",
   "name": "python",
   "nbconvert_exporter": "python",
   "pygments_lexer": "ipython3",
   "version": "3.10.13"
  }
 },
 "nbformat": 4,
 "nbformat_minor": 5
}
