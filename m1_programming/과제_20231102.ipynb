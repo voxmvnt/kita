{
 "cells": [
  {
   "cell_type": "code",
   "execution_count": null,
   "id": "5412107f",
   "metadata": {},
   "outputs": [],
   "source": [
    "# 과제1_1102 : 실행 가능한 숫자를 문자열('5+5') 입력으로 받아 문자열을 실행한 결과값을 출력하세요."
   ]
  },
  {
   "cell_type": "code",
   "execution_count": null,
   "id": "e7a0ab9a",
   "metadata": {},
   "outputs": [],
   "source": [
    "def cal_def(car_str):\n",
    "    return eval(car_str)\n",
    "\n",
    "print(cal_def('5+5'))"
   ]
  },
  {
   "cell_type": "code",
   "execution_count": null,
   "id": "816834ec",
   "metadata": {},
   "outputs": [],
   "source": [
    "# 과제2_1102 : enumerate와 f-string을 사용해서 특정 리스트에서 원하는 형태로 출력을 하세요."
   ]
  },
  {
   "cell_type": "code",
   "execution_count": null,
   "id": "854687ba",
   "metadata": {
    "scrolled": true
   },
   "outputs": [],
   "source": [
    "import keyword\n",
    "\n",
    "for i, word in enumerate(keyword.kwlist):\n",
    "    if i == 10: break\n",
    "    print(f'{i+1}번째 키워드는 {word}입니다.')\n",
    "    "
   ]
  },
  {
   "cell_type": "code",
   "execution_count": null,
   "id": "10a2ba8d",
   "metadata": {},
   "outputs": [],
   "source": [
    "# 과제3_1102 : 내장함수를 이용해서 list = [0,1,2,3,4,5,6]에서 2를 삭제 후 출력하세요.(3가지 방법)"
   ]
  },
  {
   "cell_type": "code",
   "execution_count": null,
   "id": "491273fa",
   "metadata": {},
   "outputs": [],
   "source": [
    "# 1\n",
    "print('='*10+' 첫 번째 '+'='*10)\n",
    "list = [0,1,2,3,4,5,6]\n",
    "list.remove(2)\n",
    "print(list)\n",
    "\n",
    "# 2\n",
    "print('='*10+' 두 번째 '+'='*10)\n",
    "list = [0,1,2,3,4,5,6]\n",
    "del list[2]\n",
    "print(list)\n",
    "\n",
    "# 3\n",
    "print('='*10+' 세 번째 '+'='*10)\n",
    "list = [0,1,2,3,4,5,6]\n",
    "list.pop(2)\n",
    "print(list)"
   ]
  },
  {
   "cell_type": "code",
   "execution_count": null,
   "id": "e5915d86",
   "metadata": {},
   "outputs": [],
   "source": [
    "# 과제4_1102 :  내장함수를 이용해서 list = [0,1,2,3,4,5,6]에서 모든 원소를 삭제 후 출력하세요."
   ]
  },
  {
   "cell_type": "code",
   "execution_count": null,
   "id": "4ef166d6",
   "metadata": {},
   "outputs": [],
   "source": [
    "list = [0,1,2,3,4,5,6]\n",
    "while list:\n",
    "    list.pop()\n",
    "print(list)"
   ]
  },
  {
   "cell_type": "code",
   "execution_count": null,
   "id": "167f5832",
   "metadata": {},
   "outputs": [],
   "source": [
    "my_list = [0, 1, 2, 3, 4, 5, 6]\n",
    "del my_list[:]\n",
    "print(my_list)"
   ]
  },
  {
   "cell_type": "code",
   "execution_count": null,
   "id": "3f0a883f",
   "metadata": {},
   "outputs": [],
   "source": [
    "my_list = [0, 1, 2, 3, 4, 5, 6]\n",
    "del my_list[:4]  # 뒷자리 4 쓸 경우 4 자신은 포함되지 않음.\n",
    "print(my_list)"
   ]
  },
  {
   "cell_type": "code",
   "execution_count": null,
   "id": "020b2fd0",
   "metadata": {},
   "outputs": [],
   "source": [
    "# 과제5_1102 :  람다함수와 적합한 내장함수를 사용하여 아래와 같이 출력하세요\n",
    "[1,2,3,4,5] -> [1,4,9,16,25]\n",
    "[1,2,3,4,5] -> [1,2]"
   ]
  },
  {
   "cell_type": "code",
   "execution_count": null,
   "id": "42863ecb",
   "metadata": {},
   "outputs": [],
   "source": [
    "sample5 = [1,2,3,4,5]\n",
    "ans5_1 = list(map(lambda x: x*x, sample5))\n",
    "print(ans5_1)\n",
    "ans5_2 = list(filter(lambda x: x < 3, sample5))\n",
    "print(ans5_2)"
   ]
  },
  {
   "cell_type": "code",
   "execution_count": null,
   "id": "74c5d1ef",
   "metadata": {},
   "outputs": [],
   "source": [
    "# 과제6_1102  [1,-3,2,0,-5,6] 에서 양수만 필터링해서 출력하세요(내장함수, 사용자함수 각각 이용)"
   ]
  },
  {
   "cell_type": "code",
   "execution_count": null,
   "id": "406d04ad",
   "metadata": {},
   "outputs": [],
   "source": [
    "sample6 = [1,-3,2,0,-5,6]\n",
    "# 내장 함수\n",
    "ans6_1 = list(filter(lambda x: x > 0, sample6))\n",
    "print(ans6_1)\n",
    "# 사용자 함수\n",
    "ans6_2 = [i for i in sample6 if i > 0]\n",
    "print(ans6_2)"
   ]
  },
  {
   "cell_type": "code",
   "execution_count": null,
   "id": "44eaff68",
   "metadata": {},
   "outputs": [],
   "source": [
    "# 과제7_1102 : 내장함수를 이용하여 동일한 개수로 이루어진 자료형을 화살표 좌측에서 우측으로 변환하세요\n",
    "[1,2,3],[4,5,6] -> [(1,4),(2,5),(3,6)]\n",
    "[1,2,3],[4,5,6] [7,8,9] -> [(1,4,7),(2,5,8),(3,6,9)]\n",
    "('abc','def') -> [('a','d'),('b','e'),('c','f')]"
   ]
  },
  {
   "cell_type": "code",
   "execution_count": null,
   "id": "70d7f83f",
   "metadata": {
    "scrolled": true
   },
   "outputs": [],
   "source": [
    "#1 \n",
    "q1 = [1,2,3]\n",
    "q2 = [4,5,6]\n",
    "ans7_1 = list(zip(q1, q2))\n",
    "print(ans7_1)\n",
    "\n",
    "#2\n",
    "q3 = [1,2,3]\n",
    "q4 = [4,5,6]\n",
    "q5 = [7,8,9]\n",
    "ans7_2 = list(zip(q3,q4,q5))\n",
    "print(ans7_2)\n",
    "\n",
    "#3\n",
    "q6 = ('abc','def')\n",
    "ans7_3 = list(zip(q6[0],q6[1]))\n",
    "print(ans7_3)"
   ]
  },
  {
   "cell_type": "code",
   "execution_count": null,
   "id": "c0610ba7",
   "metadata": {},
   "outputs": [],
   "source": [
    "# 과제8_1102 : 입력으로 들어오는 모든 수의 평균 값을 계산해 주는 함수를 작성한 후 1,2,3을 입력한 결과를 출력하세요."
   ]
  },
  {
   "cell_type": "code",
   "execution_count": null,
   "id": "100c2ce0",
   "metadata": {},
   "outputs": [],
   "source": [
    "def cal_average(*args):\n",
    "    return sum(args) / len(args)\n",
    "\n",
    "print(cal_average(1,2,3))"
   ]
  },
  {
   "cell_type": "code",
   "execution_count": null,
   "id": "32f4901b",
   "metadata": {
    "scrolled": true
   },
   "outputs": [],
   "source": [
    "import statistics\n",
    "\n",
    "def cal_avg(*args):\n",
    "    return statistics.mean(args)\n",
    "\n",
    "print(cal_avg(1,2,3))"
   ]
  },
  {
   "cell_type": "code",
   "execution_count": 9,
   "id": "5bde15ef",
   "metadata": {},
   "outputs": [
    {
     "name": "stdout",
     "output_type": "stream",
     "text": [
      "평균값을 구할 숫자(콤마로 구분하여 입력): 20,49,177\n",
      "82.0\n"
     ]
    }
   ],
   "source": [
    "# 숫자 입력 받아서 평균 (콤마로 구분)\n",
    "def cal_list_avg(avgList):\n",
    "    y = avgList.split(',')\n",
    "    x = [int(i) for i in y]\n",
    "    return sum(x) / len(x)\n",
    "\n",
    "ans = input('평균값을 구할 숫자(콤마로 구분하여 입력): ')\n",
    "print(cal_list_avg(ans))"
   ]
  },
  {
   "cell_type": "code",
   "execution_count": null,
   "id": "a29e007e",
   "metadata": {},
   "outputs": [],
   "source": [
    "# 과제9_1102 : 동일한 사용자 함수를 만들어서 1~100의 합과 200~300의 합을 구하세요\n",
    "def all_sum(start, end):\n",
    "    sum_list = range(start, end+1)\n",
    "    return sum(sum_list)\n",
    "\n",
    "print(all_sum(1,100))\n",
    "print(all_sum(200,300))"
   ]
  },
  {
   "cell_type": "code",
   "execution_count": 8,
   "id": "7deecbc5",
   "metadata": {},
   "outputs": [
    {
     "name": "stdout",
     "output_type": "stream",
     "text": [
      "['mode=LSD', 'mid=shm', 'sid1=105', 'oid=028', 'aid=0002334601']\n"
     ]
    }
   ],
   "source": [
    "# 과제10_1102 : url에서 쿼리문을 추출하여 출력하세요\n",
    "# ? 뒤의 부분을 추출\n",
    "url_text = 'http://news.naver.com/main/read.nhn?mode=LSD&mid=shm&sid1=105&oid=028&aid=0002334601'\n",
    "sql_list = url_text[url_text.find('?')+1:].split('&')\n",
    "print(sql_list)"
   ]
  },
  {
   "cell_type": "code",
   "execution_count": null,
   "id": "db38f9d6",
   "metadata": {},
   "outputs": [],
   "source": [
    "# 과제11_1102 : 영어 이름을 적으면 앞에 글자를 대문자로 바꾸어 주는 프로그램\n",
    "# 단 중간에 한칸씩 띄어주어야 함 ex)kim dong wan"
   ]
  },
  {
   "cell_type": "code",
   "execution_count": 7,
   "id": "a080e84a",
   "metadata": {
    "scrolled": false
   },
   "outputs": [
    {
     "name": "stdout",
     "output_type": "stream",
     "text": [
      "영어 이름을 적어주세요.\n",
      "ex)kim dong wan\n",
      ">> joo yong kyu\n",
      "Joo Yong Kyu\n"
     ]
    }
   ],
   "source": [
    "ans11 = input('영어 이름을 적어주세요.\\nex)kim dong wan\\n>> ')\n",
    "print(ans11.title())"
   ]
  },
  {
   "cell_type": "code",
   "execution_count": null,
   "id": "5901cc48",
   "metadata": {},
   "outputs": [],
   "source": [
    "# 과제12_1102 : 문자 코드값 구하기(ord)\n",
    "문자를 1개 입력하세요: a\n",
    "문자: a, 코드값: 97"
   ]
  },
  {
   "cell_type": "code",
   "execution_count": 6,
   "id": "3e7edfaa",
   "metadata": {},
   "outputs": [
    {
     "name": "stdout",
     "output_type": "stream",
     "text": [
      "문자를 1개만 입력하세요: a\n",
      "문자: a, 코드값: 97\n",
      "종료하시겠습니까(y/n)n\n",
      "문자를 1개만 입력하세요: t\n",
      "문자: t, 코드값: 116\n",
      "종료하시겠습니까(y/n)y\n"
     ]
    }
   ],
   "source": [
    "while True:\n",
    "    val = input('문자를 1개만 입력하세요: ')\n",
    "    var_ord = ord(val)\n",
    "    print('문자: %s, 코드값: %d' %(val, var_ord))\n",
    "    if input('종료하시겠습니까(y/n)').lower() == 'y':\n",
    "        break"
   ]
  },
  {
   "cell_type": "code",
   "execution_count": null,
   "id": "45961b69",
   "metadata": {},
   "outputs": [],
   "source": [
    "# 과제13_1102 : numbers 내부에 들어 있는 숫자가 몇 번 등장하는지를 출력하는 코드를 작성하세요.\n",
    "numbers = [3,6,3,5,8,2,9,7,4,3,6,3,5,8,2,9,7,4]"
   ]
  },
  {
   "cell_type": "code",
   "execution_count": 5,
   "id": "023bdac7",
   "metadata": {},
   "outputs": [
    {
     "name": "stdout",
     "output_type": "stream",
     "text": [
      "숫자 2은(는) 2회 쓰였습니다.\n",
      "숫자 3은(는) 4회 쓰였습니다.\n",
      "숫자 4은(는) 2회 쓰였습니다.\n",
      "숫자 5은(는) 2회 쓰였습니다.\n",
      "숫자 6은(는) 2회 쓰였습니다.\n",
      "숫자 7은(는) 2회 쓰였습니다.\n",
      "숫자 8은(는) 2회 쓰였습니다.\n",
      "숫자 9은(는) 2회 쓰였습니다.\n"
     ]
    }
   ],
   "source": [
    "numbers = [3,6,3,5,8,2,9,7,4,3,6,3,5,8,2,9,7,4]\n",
    "num_dic = {}\n",
    "\n",
    "for i in numbers:\n",
    "    if i in num_dic.keys():\n",
    "        num_dic[i] += 1\n",
    "    else:\n",
    "        num_dic[i] = 1\n",
    "            \n",
    "num_count = sorted(num_dic.items(), key = lambda x: x[0])\n",
    "\n",
    "for i in num_count:\n",
    "    print(f'숫자 {i[0]}은(는) {i[1]}회 쓰였습니다.')"
   ]
  },
  {
   "cell_type": "code",
   "execution_count": null,
   "id": "fddfeb3f",
   "metadata": {},
   "outputs": [],
   "source": [
    "# 과제14_1102 :코딩을 한줄로 작성해서 동일한 결과를 출력하세요\n",
    "list = []\n",
    "for i in range(0,20,2):\n",
    "    list.append(i*i)\n",
    "print(list)"
   ]
  },
  {
   "cell_type": "code",
   "execution_count": 4,
   "id": "31ed2d9b",
   "metadata": {},
   "outputs": [
    {
     "name": "stdout",
     "output_type": "stream",
     "text": [
      "[0, 4, 16, 36, 64, 100, 144, 196, 256, 324]\n"
     ]
    }
   ],
   "source": [
    "print([i*i for i in range(0,20,2)])"
   ]
  },
  {
   "cell_type": "code",
   "execution_count": null,
   "id": "10374c0f",
   "metadata": {},
   "outputs": [],
   "source": [
    "# 과제15_1102 : 반복문으로 팩토리얼을 구하는 사용자 함수를 작성하고 5!, 10!를 구하세요."
   ]
  },
  {
   "cell_type": "code",
   "execution_count": 3,
   "id": "16625e59",
   "metadata": {},
   "outputs": [
    {
     "name": "stdout",
     "output_type": "stream",
     "text": [
      "120\n",
      "3628800\n"
     ]
    }
   ],
   "source": [
    "import math\n",
    "def cal_factorial(x):\n",
    "    y = range(1, x+1)\n",
    "    return math.prod(y)\n",
    "\n",
    "print(cal_factorial(5))\n",
    "print(cal_factorial(10))"
   ]
  },
  {
   "cell_type": "code",
   "execution_count": null,
   "id": "d29aef51",
   "metadata": {},
   "outputs": [],
   "source": [
    "# 과제16_1102 : list a의 모든 원소를 실수형으로 바꾸어 출력하세요\n",
    "a = [1,2,3,4,5]"
   ]
  },
  {
   "cell_type": "code",
   "execution_count": 2,
   "id": "65e65f11",
   "metadata": {},
   "outputs": [
    {
     "name": "stdout",
     "output_type": "stream",
     "text": [
      "[1.0, 2.0, 3.0, 4.0, 5.0]\n"
     ]
    }
   ],
   "source": [
    "a = [1,2,3,4,5]\n",
    "all_float = lambda x: float(x)\n",
    "print(list(map(all_float, a)))"
   ]
  },
  {
   "cell_type": "code",
   "execution_count": null,
   "id": "0b723ddc",
   "metadata": {},
   "outputs": [],
   "source": [
    "# 도전과제17_1102 : 문자열 리스트 states를 정형화하여 아래와 같이 출력하세요.\n",
    "states = ['   Alabama ', 'Georgia!', 'Georgia', 'georgia', 'FlOrIda',\n",
    "          'south   carolina##', 'West virginia?']\n",
    "[출력]\n",
    "['Alabama',\n",
    " 'Georgia',\n",
    " 'Georgia',\n",
    " 'Georgia',\n",
    " 'Florida',\n",
    " 'South   Carolina',\n",
    " 'West Virginia']"
   ]
  },
  {
   "cell_type": "code",
   "execution_count": 1,
   "id": "45c8c2f5",
   "metadata": {},
   "outputs": [
    {
     "name": "stdout",
     "output_type": "stream",
     "text": [
      "['Alabama',\n",
      " 'Georgia',\n",
      " 'Georgia',\n",
      " 'Georgia',\n",
      " 'Florida',\n",
      " 'South   Carolina',\n",
      " 'West Virginia']\n"
     ]
    }
   ],
   "source": [
    "states = ['   Alabama ', 'Georgia!', 'Georgia', 'georgia', 'FlOrIda',\n",
    "          'south   carolina##', 'West virginia?']\n",
    "\n",
    "def cleaning(text):\n",
    "    cleaned_text = ''.join([x for x in text if x.isalnum() or x.isspace()])\n",
    "    return cleaned_text\n",
    "\n",
    "f_list = [cleaning(i).strip().title() for i in states]\n",
    "\n",
    "str_list = str(f_list).replace(',', ',\\n')\n",
    "\n",
    "print(str_list)\n",
    "    "
   ]
  },
  {
   "cell_type": "code",
   "execution_count": null,
   "id": "23db86f9",
   "metadata": {},
   "outputs": [],
   "source": []
  },
  {
   "cell_type": "code",
   "execution_count": null,
   "id": "d882a4f7",
   "metadata": {},
   "outputs": [],
   "source": []
  },
  {
   "cell_type": "code",
   "execution_count": null,
   "id": "036107f7",
   "metadata": {},
   "outputs": [],
   "source": []
  },
  {
   "cell_type": "code",
   "execution_count": null,
   "id": "5639938b",
   "metadata": {},
   "outputs": [],
   "source": []
  },
  {
   "cell_type": "code",
   "execution_count": null,
   "id": "b5c63f9f",
   "metadata": {},
   "outputs": [],
   "source": []
  },
  {
   "cell_type": "code",
   "execution_count": null,
   "id": "c042050f",
   "metadata": {},
   "outputs": [],
   "source": []
  }
 ],
 "metadata": {
  "kernelspec": {
   "display_name": "Python 3 (ipykernel)",
   "language": "python",
   "name": "python3"
  },
  "language_info": {
   "codemirror_mode": {
    "name": "ipython",
    "version": 3
   },
   "file_extension": ".py",
   "mimetype": "text/x-python",
   "name": "python",
   "nbconvert_exporter": "python",
   "pygments_lexer": "ipython3",
   "version": "3.10.13"
  }
 },
 "nbformat": 4,
 "nbformat_minor": 5
}
