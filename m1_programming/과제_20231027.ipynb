{
 "cells": [
  {
   "cell_type": "markdown",
   "id": "377d0947",
   "metadata": {},
   "source": [
    "과제1. 다른 타입의 숫자 2개를 입력받아 큰 수를 출력하세요."
   ]
  },
  {
   "cell_type": "code",
   "execution_count": 29,
   "id": "e0abc033",
   "metadata": {},
   "outputs": [
    {
     "name": "stdout",
     "output_type": "stream",
     "text": [
      "숫자 1 입력: 7\n",
      "숫자 2 입력: 7\n",
      "큰 수가 없다.\n"
     ]
    }
   ],
   "source": [
    "x1 = input('숫자 1 입력: ')\n",
    "x2 = input('숫자 2 입력: ')\n",
    "ans = ''\n",
    "\n",
    "if x1 > x2 : \n",
    "    ans = x1\n",
    "elif x2 > x1 :\n",
    "    ans = x2\n",
    "else :\n",
    "    ans = \"큰 수가 없다.\"\n",
    "\n",
    "print(ans)"
   ]
  },
  {
   "cell_type": "markdown",
   "id": "1d045f8d",
   "metadata": {},
   "source": [
    "과제2. 아래와 같이 출력할 수 있는 string을 만드세요.\n",
    "string = \n",
    "print(string)\n",
    "[출력문]\n",
    "\"What a wonderful world!\"\n",
    "he said loudly"
   ]
  },
  {
   "cell_type": "code",
   "execution_count": 30,
   "id": "54bcf63c",
   "metadata": {},
   "outputs": [
    {
     "name": "stdout",
     "output_type": "stream",
     "text": [
      "\"What a wonderful world!\"\n",
      "he said loudly\n"
     ]
    }
   ],
   "source": [
    "string='''\"What a wonderful world!\"\n",
    "he said loudly'''\n",
    "print(string)"
   ]
  },
  {
   "cell_type": "markdown",
   "id": "51f18f4c",
   "metadata": {},
   "source": [
    "[과제3] list1에서 다음을 수행하세요\n",
    "- 33을 출력\n",
    "- 82를 리스트에 추가\n",
    "- 87의 인덱스 구하기\n",
    "- 인덱스 3에서 10까지의 값을 출력하고 list2에 저장한 후 내림차순 정렬하기 - 도전\n",
    "- 39를 11로 변경\n",
    "- [69,45,58] 출력\n",
    "- 짝수 인덱스의 값으로 구성된 리스트 출력하기\n",
    "- 인덱스가 가장 큰수를 삭제하기\n",
    "- 인덱스 3, 5인 값으로 4칙 연산하기\n",
    "\n",
    "list1 = [58, 45, 69, 19,  4, 87, 29, 13, 39, 15, 54, [8, 33, 11], 27, 49, 63, 98, 22, 82]"
   ]
  },
  {
   "cell_type": "code",
   "execution_count": 1,
   "id": "687c10a5",
   "metadata": {},
   "outputs": [
    {
     "name": "stdout",
     "output_type": "stream",
     "text": [
      "[58, 45, 69, 19, 4, 87, 29, 13, 39, 15, 54, [8, 33, 11], 27, 49, 63, 98, 22, 82]\n"
     ]
    }
   ],
   "source": [
    "list1 = [58, 45, 69, 19,  4, 87, 29, 13, 39, 15, 54, [8, 33, 11], 27, 49, 63, 98, 22, 82]\n",
    "print(list1)"
   ]
  },
  {
   "cell_type": "code",
   "execution_count": 6,
   "id": "52baf302",
   "metadata": {},
   "outputs": [
    {
     "name": "stdout",
     "output_type": "stream",
     "text": [
      "True\n",
      "False\n",
      "True\n",
      "True\n",
      "True\n",
      "=========================\n",
      "True\n"
     ]
    }
   ],
   "source": [
    "# 리스트 내 리스트 테스트\n",
    "print(45 in list1)\n",
    "print(33 in list1)\n",
    "print([8, 33, 11] in list1)\n",
    "print(isinstance(1, int))\n",
    "print(isinstance([1,3,5], list))\n",
    "print('='*25)\n",
    "# 리스트 내의 리스트까지 값이 있는지 찾는 메서드\n",
    "# isinstance(대상, 타입) : 타입 확인하는 조건문\n",
    "def findList(sample, text):\n",
    "    result = False\n",
    "    if isinstance(sample, list):\n",
    "        result = text in sample\n",
    "        \n",
    "        if not result:\n",
    "            cnt = 0\n",
    "            for i in sample:\n",
    "                if isinstance(i, list):\n",
    "                    result = text in i\n",
    "                    cnt += 1\n",
    "    return result\n",
    "\n",
    "print(findList(list1, 33))"
   ]
  },
  {
   "cell_type": "code",
   "execution_count": 2,
   "id": "37ffa27e",
   "metadata": {
    "scrolled": true
   },
   "outputs": [
    {
     "name": "stdout",
     "output_type": "stream",
     "text": [
      "33\n"
     ]
    }
   ],
   "source": [
    "# 33을 출력\n",
    "print(list1[11][1])"
   ]
  },
  {
   "cell_type": "code",
   "execution_count": 3,
   "id": "394766d0",
   "metadata": {},
   "outputs": [
    {
     "name": "stdout",
     "output_type": "stream",
     "text": [
      "[58, 45, 69, 19, 4, 87, 29, 13, 39, 15, 54, [8, 33, 11], 27, 49, 63, 98, 22, 82, 82]\n"
     ]
    }
   ],
   "source": [
    "# 82를 리스트에 추가\n",
    "list1.append(82)\n",
    "print(list1)"
   ]
  },
  {
   "cell_type": "code",
   "execution_count": 2,
   "id": "d1e3f001",
   "metadata": {},
   "outputs": [
    {
     "name": "stdout",
     "output_type": "stream",
     "text": [
      "5\n"
     ]
    }
   ],
   "source": [
    "# 87의 인덱스 구하기\n",
    "print(list1.index(87))"
   ]
  },
  {
   "cell_type": "code",
   "execution_count": 9,
   "id": "c55e222b",
   "metadata": {},
   "outputs": [
    {
     "name": "stdout",
     "output_type": "stream",
     "text": [
      "[2, 5]\n"
     ]
    }
   ],
   "source": [
    "# 개인 공부 _ 다중 인덱스 찾기\n",
    "test_list = [1,2,3,4,5,3]\n",
    "rest_list = list(filter(lambda x: test_list[x] == 3, range(len(test_list))))\n",
    "\n",
    "print(rest_list)"
   ]
  },
  {
   "cell_type": "code",
   "execution_count": 27,
   "id": "b0d88a65",
   "metadata": {},
   "outputs": [
    {
     "name": "stdout",
     "output_type": "stream",
     "text": [
      "[19, 4, 87, 29, 13, 39, 15, 54]\n",
      "[87, 54, 39, 29, 19, 15, 13, 4]\n"
     ]
    }
   ],
   "source": [
    "# 인덱스 3에서 10까지의 값을 출력하고 list2에 저장한 후 내림차순 정렬하기 - 도전 \n",
    "# sort 함수 사용\n",
    "print(list1[3:11])\n",
    "list2 = list1[3:11]\n",
    "list2.sort(reverse=True)\n",
    "print(list2)"
   ]
  },
  {
   "cell_type": "code",
   "execution_count": 28,
   "id": "ad584251",
   "metadata": {
    "scrolled": true
   },
   "outputs": [
    {
     "name": "stdout",
     "output_type": "stream",
     "text": [
      "[19, 4, 87, 29, 13, 39, 15, 54]\n",
      "[87, 54, 39, 29, 19, 15, 13, 4]\n"
     ]
    }
   ],
   "source": [
    "# 인덱스 3에서 10까지의 값을 출력하고 list2에 저장한 후 내림차순 정렬하기 _ 다른 방법\n",
    "# sort 함수 사용\n",
    "print(list1[3:11])\n",
    "list2 = sorted(list1[3:11], reverse=True)\n",
    "print(list2)"
   ]
  },
  {
   "cell_type": "markdown",
   "id": "7d07a306",
   "metadata": {},
   "source": [
    "#### sort 와 sorted 차이점\n",
    "\n",
    "1. 메서드 vs 함수:\n",
    "- sort(): 리스트 객체의 내장 메서드입니다. 즉, 리스트에서만 사용할 수 있습니다.\n",
    "- sorted(): 내장 함수로, 어떤 반복 가능한(iterable) 객체에도 사용될 수 있습니다. 예를 들면 리스트, 튜플, 딕셔너리, 문자열 등에 사용할 수 있습니다.\n",
    "\n",
    "2. 반환 값:\n",
    "- sort(): 리스트를 원 위치에서(in-place) 정렬하고 None을 반환합니다. 따라서 원래의 리스트 자체가 변경됩니다.\n",
    "- sorted(): 정렬된 새로운 리스트를 반환합니다. 원래의 객체는 변경되지 않습니다.\n",
    "\n",
    "3. 유용성:\n",
    "- sort(): 리스트에서만 작동하기 때문에 리스트만 정렬할 수 있습니다.\n",
    "- sorted(): 다양한 객체를 정렬할 수 있으며 결과는 항상 리스트로 반환됩니다."
   ]
  },
  {
   "cell_type": "code",
   "execution_count": 6,
   "id": "841c0334",
   "metadata": {},
   "outputs": [
    {
     "name": "stdout",
     "output_type": "stream",
     "text": [
      "[58, 45, 69, 19, 4, 87, 29, 13, 11, 15, 54, [8, 33, 11], 27, 49, 63, 98, 22, 82]\n"
     ]
    }
   ],
   "source": [
    "# 39를 11로 변경\n",
    "list1[list1.index(39)] = 11\n",
    "print(list1)"
   ]
  },
  {
   "cell_type": "code",
   "execution_count": 14,
   "id": "fcf34a72",
   "metadata": {},
   "outputs": [
    {
     "name": "stdout",
     "output_type": "stream",
     "text": [
      "[69, 45, 58]\n"
     ]
    }
   ],
   "source": [
    "# [69,45,58] 출력\n",
    "sample1 = list1[:3]\n",
    "sample2 = list(reversed(sample1))\n",
    "print(sample2)"
   ]
  },
  {
   "cell_type": "code",
   "execution_count": 24,
   "id": "b7d98a5c",
   "metadata": {},
   "outputs": [
    {
     "name": "stdout",
     "output_type": "stream",
     "text": [
      "[69, 45, 58]\n"
     ]
    }
   ],
   "source": [
    "# [69,45,58] 출력 _ 다른 방법\n",
    "sample1 = list1[:3]\n",
    "sample1.reverse()\n",
    "print(sample1)"
   ]
  },
  {
   "cell_type": "code",
   "execution_count": 16,
   "id": "63cf52b6",
   "metadata": {},
   "outputs": [
    {
     "name": "stdout",
     "output_type": "stream",
     "text": [
      "[69, 45, 58]\n",
      "[69, 45]\n",
      "[82, 22, 98]\n"
     ]
    }
   ],
   "source": [
    "# [69,45,58] 출력 _ 다른 방법\n",
    "print(list1[2::-1])\n",
    "print(list1[2:0:-1]) #역순이라 범위표시도 반대\n",
    "\n",
    "# 슬라이스 \n",
    "print(list1[:-4:-1])"
   ]
  },
  {
   "cell_type": "code",
   "execution_count": 16,
   "id": "efefbd2e",
   "metadata": {},
   "outputs": [
    {
     "name": "stdout",
     "output_type": "stream",
     "text": [
      "[58, 69, 4, 29, 39, 54, 27, 63, 22]\n"
     ]
    }
   ],
   "source": [
    "# 짝수 인덱스의 값으로 구성된 리스트 출력하기\n",
    "list2 = []\n",
    "for i in range(0,len(list1),2):\n",
    "    list2.append(list1[i])\n",
    "print(list2)"
   ]
  },
  {
   "cell_type": "code",
   "execution_count": 17,
   "id": "fe36964e",
   "metadata": {},
   "outputs": [
    {
     "name": "stdout",
     "output_type": "stream",
     "text": [
      "[58, 69, 4, 29, 39, 54, 27, 63, 22]\n"
     ]
    }
   ],
   "source": [
    "# 짝수 인덱스의 값으로 구성된 리스트 출력하기 _ 다른 방법\n",
    "print(list1[::2])"
   ]
  },
  {
   "cell_type": "code",
   "execution_count": 19,
   "id": "0ea93023",
   "metadata": {},
   "outputs": [
    {
     "name": "stdout",
     "output_type": "stream",
     "text": [
      "[58, 45, 69, 19, 4, 87, 29, 13, 39, 15, 54, [8, 33, 11], 27, 49, 63, 98, 22]\n"
     ]
    }
   ],
   "source": [
    "# 인덱스가 가장 큰수를 삭제하기\n",
    "del list1[-1]\n",
    "print(list1)"
   ]
  },
  {
   "cell_type": "code",
   "execution_count": 20,
   "id": "ff416784",
   "metadata": {},
   "outputs": [
    {
     "name": "stdout",
     "output_type": "stream",
     "text": [
      "19 87\n",
      "106\n",
      "-68\n",
      "1653\n",
      "0.21839080459770116\n"
     ]
    }
   ],
   "source": [
    "# 인덱스 3, 5인 값으로 4칙 연산하기\n",
    "a = list1[3]; b = list1[5]\n",
    "print(a, b)\n",
    "print(a+b)\n",
    "print(a-b)\n",
    "print(a*b)\n",
    "print(a/b)"
   ]
  },
  {
   "cell_type": "markdown",
   "id": "1cb9385f",
   "metadata": {},
   "source": [
    "[과제4] 아래 list를 sort, sorted를 이용해서 오름차순, 내림차순으로 각각 출력하세요.\n",
    "\n",
    "list = [5, 8, 11, 14, 17, 20, 23, 26, 29, 32, 35, 38, 41, 44, 47, 3, 5, 7, 9, 11, 13, 15, 17]"
   ]
  },
  {
   "cell_type": "code",
   "execution_count": 32,
   "id": "51c6d897",
   "metadata": {},
   "outputs": [
    {
     "name": "stdout",
     "output_type": "stream",
     "text": [
      "[3, 5, 5, 7, 8, 9, 11, 11, 13, 14, 15, 17, 17, 20, 23, 26, 29, 32, 35, 38, 41, 44, 47]\n",
      "[47, 44, 41, 38, 35, 32, 29, 26, 23, 20, 17, 17, 15, 14, 13, 11, 11, 9, 8, 7, 5, 5, 3]\n"
     ]
    }
   ],
   "source": [
    "list = [5, 8, 11, 14, 17, 20, 23, 26, 29, 32, 35, 38, 41, 44, 47, 3, 5, 7, 9, 11, 13, 15, 17]\n",
    "print(sorted(list))\n",
    "print(sorted(list, reverse=True))"
   ]
  },
  {
   "cell_type": "markdown",
   "id": "c2e46e2a",
   "metadata": {},
   "source": [
    "[과제5] 복합 대입 연산자를 이용해서 4칙연산을 수행하세요"
   ]
  },
  {
   "cell_type": "code",
   "execution_count": 33,
   "id": "96ffc399",
   "metadata": {},
   "outputs": [
    {
     "name": "stdout",
     "output_type": "stream",
     "text": [
      "2\n",
      "0\n",
      "9\n",
      "1.0\n"
     ]
    }
   ],
   "source": [
    "num1 = 1\n",
    "num2 = 2\n",
    "num3 = 3\n",
    "num4 = 4\n",
    "\n",
    "num1 += 1\n",
    "num2 -= 2\n",
    "num3 *= 3\n",
    "num4 /= 4\n",
    "\n",
    "print(num1)\n",
    "print(num2)\n",
    "print(num3)\n",
    "print(num4)"
   ]
  },
  {
   "cell_type": "markdown",
   "id": "e9f992bf",
   "metadata": {},
   "source": [
    "#### 과제6 다음 과제를 수행하세요.\n",
    "- 사용자로 부터 텍스트를 입력 받는다.\n",
    "- 문장을 단어 단위로 분리\n",
    "- 단어의 빈도수를 저장할 딕셔너리를 생성\n",
    "- 각 단어의 빈도 수를 계산(for 문 / if else문)\n",
    "- 결과 출력"
   ]
  },
  {
   "cell_type": "code",
   "execution_count": 38,
   "id": "df396438",
   "metadata": {},
   "outputs": [
    {
     "name": "stdout",
     "output_type": "stream",
     "text": [
      "체크할 문장을 적어주세요: 나는 밥을 먹었다 나는 학교에 간다 나는 아침에 커피를 마신다 나는 아침에 운동을 한다 나는 점심에도 커피를 마신다\n",
      "{'나는': 5, '밥을': 1, '먹었다': 1, '학교에': 1, '간다': 1, '아침에': 2, '커피를': 2, '마신다': 2, '운동을': 1, '한다': 1, '점심에도': 1}\n"
     ]
    }
   ],
   "source": [
    "# 강사님 정답\n",
    "# 샘플 문장 ▶ 나는 밥을 먹었다 나는 학교에 간다 나는 아침에 커피를 마신다 나는 아침에 운동을 한다 나는 점심에도 커피를 마신다\n",
    "word_frequency = {}\n",
    "input_str = input(\"체크할 문장을 적어주세요: \")\n",
    "words_list = input_str.split()\n",
    "for word in words_list:\n",
    "    if word in word_frequency:\n",
    "        word_frequency[word] += 1\n",
    "    else:\n",
    "        word_frequency[word] = 1\n",
    "\n",
    "print(word_frequency)"
   ]
  },
  {
   "cell_type": "code",
   "execution_count": 42,
   "id": "6c4d407f",
   "metadata": {},
   "outputs": [
    {
     "name": "stdout",
     "output_type": "stream",
     "text": [
      "체크할 문장을 적어주세요: 나는 밥을 먹었다 나는 학교에 간다 나는 아침에 커피를 마신다 나는 아침에 운동을 한다 나는 점심에도 커피를 마신다\n",
      "{'간다': 1, '나는': 5, '마신다': 2, '먹었다': 1, '밥을': 1, '아침에': 2, '운동을': 1, '점심에도': 1, '커피를': 2, '학교에': 1, '한다': 1}\n"
     ]
    }
   ],
   "source": [
    "# 다른 방법\n",
    "word_frequency = {}\n",
    "input_str = input(\"체크할 문장을 적어주세요: \")\n",
    "words_list = input_str.split()\n",
    "words_set = set(words_list)\n",
    "\n",
    "for i in words_set:\n",
    "    word_frequency[i] = input_str.count(i)\n",
    "\n",
    "# 딕셔너리 정렬 추가    \n",
    "word_frequency = dict(sorted(word_frequency.items()))\n",
    "print(word_frequency)"
   ]
  }
 ],
 "metadata": {
  "kernelspec": {
   "display_name": "Python 3 (ipykernel)",
   "language": "python",
   "name": "python3"
  },
  "language_info": {
   "codemirror_mode": {
    "name": "ipython",
    "version": 3
   },
   "file_extension": ".py",
   "mimetype": "text/x-python",
   "name": "python",
   "nbconvert_exporter": "python",
   "pygments_lexer": "ipython3",
   "version": "3.10.13"
  }
 },
 "nbformat": 4,
 "nbformat_minor": 5
}
