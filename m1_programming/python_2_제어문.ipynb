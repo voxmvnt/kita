{
 "cells": [
  {
   "cell_type": "markdown",
   "id": "44249d34",
   "metadata": {},
   "source": [
    "제어문(control statement)은 프로그램의 흐름을 제어하는데 사용\n",
    "\n",
    "#### 조건문 (Conditional Statements):\n",
    "- if: 특정 조건이 참(True)일 때 코드 블록을 실행\n",
    "    - 조건은 비교 연산자(==, !=, <, >, <=, >=)와 논리 연산자(and, or, not)를 사용하여 표현할 수 있다\n",
    "- elif: 이전의 if 또는 elif 조건이 거짓(False)일 때 다른 조건을 검사\n",
    "    - elif는 'else if'의 축약형으로, 이전 if 또는 elif 문의 조건이 거짓(False)일 때 다른 조건을 검사\n",
    "    - 여러 elif 문을 사용하여 다양한 조건을 검사할 수 있다\n",
    "- else: \n",
    "    - 이전의 if 또는 elif 문의 조건이 모두 거짓일 때 실행할 코드 블록을 지정"
   ]
  },
  {
   "cell_type": "code",
   "execution_count": 2,
   "id": "f5ab7da8",
   "metadata": {},
   "outputs": [
    {
     "name": "stdout",
     "output_type": "stream",
     "text": [
      "x는 5보다 큽니다\n"
     ]
    }
   ],
   "source": [
    "x = 10\n",
    "if x > 5:\n",
    "    print('x는 5보다 큽니다')\n",
    "elif x == 5:\n",
    "    print('x는 5입니다.')\n",
    "else:\n",
    "    print('x는 5보다 작습니다.')"
   ]
  },
  {
   "cell_type": "code",
   "execution_count": 4,
   "id": "fe2c1c1c",
   "metadata": {},
   "outputs": [
    {
     "name": "stdout",
     "output_type": "stream",
     "text": [
      "x는 5보다 크거나 같습니다\n"
     ]
    }
   ],
   "source": [
    "x = 10\n",
    "if x >= 5:\n",
    "    print('x는 5보다 크거나 같습니다')\n",
    "else:\n",
    "    print('x는 5보다 작습니다.')"
   ]
  },
  {
   "cell_type": "code",
   "execution_count": 2,
   "id": "eddac024",
   "metadata": {},
   "outputs": [
    {
     "name": "stdout",
     "output_type": "stream",
     "text": [
      "x는 5보다 큽니다\n",
      "y는 10보다 작습니다\n",
      "x는 y보다 큽니다\n"
     ]
    }
   ],
   "source": [
    "# 각 조건이 서로 독립적일때 if문을 연속해서 사용\n",
    "x = 10\n",
    "y = 5\n",
    "\n",
    "if x > 5:\n",
    "    print('x는 5보다 큽니다')\n",
    "\n",
    "if y < 10:\n",
    "    print('y는 10보다 작습니다')\n",
    "    \n",
    "\n",
    "if x > y:\n",
    "    print('x는 y보다 큽니다')"
   ]
  },
  {
   "cell_type": "code",
   "execution_count": 5,
   "id": "561566e6",
   "metadata": {},
   "outputs": [
    {
     "name": "stdout",
     "output_type": "stream",
     "text": [
      "x는 5보다 크고 y는 3보다 크거나 같습니다.\n"
     ]
    }
   ],
   "source": [
    "# 조건문 내에 다른 조건문을 중첩하여 사용\n",
    "x = 10\n",
    "y = 5\n",
    "\n",
    "if x > 5:\n",
    "    if y >= 3:\n",
    "        print('x는 5보다 크고 y는 3보다 크거나 같습니다.')\n",
    "    else:\n",
    "        print('x는 5보다 크고 y는 3보다 작습니다.')\n",
    "else:\n",
    "    print('x는 5보다 작거나 같습니다.')"
   ]
  },
  {
   "cell_type": "code",
   "execution_count": null,
   "id": "c5e48d96",
   "metadata": {},
   "outputs": [],
   "source": [
    "# 과제2_1030 : listdata = ['a', 'b', 'c']에서 조건문을 이용해서 아래와 같이 출력하세요\n",
    "\n",
    "\n",
    "a가 listdata에 있습니다.\n",
    "b가 listdata에 있습니다.\n",
    "c가 listdata에 있습니다."
   ]
  },
  {
   "cell_type": "code",
   "execution_count": null,
   "id": "41a8def3",
   "metadata": {},
   "outputs": [],
   "source": [
    "# 과제3_1030 : 돈이 있으면 택시를 타고, 돈이 없으면 걸어 간다를 만족하는 조건문을 작성하세요"
   ]
  },
  {
   "cell_type": "code",
   "execution_count": null,
   "id": "834d214e",
   "metadata": {},
   "outputs": [],
   "source": [
    "# 과제4_1030 : 조건부 표현식을 한줄의 조건문으로 작성하세요.\n",
    "score = 70\n",
    "if score >= 60:\n",
    "    message = \"success\"\n",
    "else:\n",
    "    message = \"failure\"\n",
    "    \n",
    "print(message)"
   ]
  },
  {
   "cell_type": "code",
   "execution_count": null,
   "id": "22c881f2",
   "metadata": {},
   "outputs": [],
   "source": [
    "# 과제5_1030 : \"수입과 지출금액을 비교해서 수입이 많은면 저축 증가, 반대이면 빚이 증가\" 프로그램 작성"
   ]
  },
  {
   "cell_type": "markdown",
   "id": "91e9ef08",
   "metadata": {},
   "source": [
    "#### 반복문 (Loop Statements):\n",
    "- for: 시퀀스(리스트, 튜플, 문자열 등)의 아이템을 순회하면서 코드 블록을 실행합니다.\n",
    "- while: 특정 조건이 참인 동안 코드 블록을 반복하여 실행합니다."
   ]
  },
  {
   "cell_type": "code",
   "execution_count": 2,
   "id": "2875cd4d",
   "metadata": {},
   "outputs": [
    {
     "name": "stdout",
     "output_type": "stream",
     "text": [
      "0 1 2 3 4 \n",
      "====================\n",
      "0 1 2 3 4 "
     ]
    }
   ],
   "source": [
    "for i in range(5):\n",
    "    print(i, end=' ')\n",
    "\n",
    "print('\\n'+'='*20)\n",
    "    \n",
    "count = 0\n",
    "while count < 5:\n",
    "    print(count, end=' ')\n",
    "    count += 1\n",
    "    "
   ]
  },
  {
   "cell_type": "code",
   "execution_count": 5,
   "id": "e1cf88ba",
   "metadata": {},
   "outputs": [
    {
     "name": "stdout",
     "output_type": "stream",
     "text": [
      "1 2 3 4 5 \n",
      "====================\n",
      "h e l l o "
     ]
    }
   ],
   "source": [
    "# 리스트를 순회하는 예\n",
    "for i in [1,2,3,4,5]:\n",
    "    print(i, end=' ')\n",
    "\n",
    "print('\\n'+'='*20)\n",
    "\n",
    "# 문자열을 순회하는 예\n",
    "for char in 'hello':\n",
    "    print(char, end=' ')"
   ]
  },
  {
   "cell_type": "code",
   "execution_count": 6,
   "id": "9afcfca0",
   "metadata": {},
   "outputs": [
    {
     "name": "stdout",
     "output_type": "stream",
     "text": [
      "0\n",
      "1\n",
      "2\n",
      "3\n",
      "4\n"
     ]
    }
   ],
   "source": [
    "# while 루프는 주어진 조건이 참(True)인 동안 코드 블록을 반복\n",
    "# 조건이 거짓(False)이 되면 루프가 종료\n",
    "count = 0\n",
    "while count < 5:\n",
    "    print(count)\n",
    "    count += 1 # count를 1 증가시킵니다."
   ]
  },
  {
   "cell_type": "code",
   "execution_count": 8,
   "id": "f7f2c167",
   "metadata": {},
   "outputs": [
    {
     "name": "stdout",
     "output_type": "stream",
     "text": [
      "97 98 99 "
     ]
    }
   ],
   "source": [
    "# Q. 97 98 99 을 출력하세요.\n",
    "d = {'a':97, 'b':98, 'c':99}\n",
    "sor_d = sorted(list(d.keys()))\n",
    "for i in sor_d:\n",
    "    print(d[i], end=' ')"
   ]
  },
  {
   "cell_type": "markdown",
   "id": "2f5f1071",
   "metadata": {},
   "source": [
    "#### 제어문 관련 키워드:\n",
    " - break: 현재의 반복문을 중단하고, 반복문 바깥의 코드를 실행\n",
    " - continue: 반복문의 나머지 부분을 건너뛰고, 다음 반복을 시작"
   ]
  },
  {
   "cell_type": "code",
   "execution_count": 9,
   "id": "a4aa045c",
   "metadata": {},
   "outputs": [
    {
     "name": "stdout",
     "output_type": "stream",
     "text": [
      "0 1 2 \n",
      "\n",
      "0 1 2 4 "
     ]
    }
   ],
   "source": [
    "for i in range(5):\n",
    "    if i == 3:\n",
    "        break\n",
    "    print(i, end=' ')\n",
    "print('\\n')\n",
    "\n",
    "for i in range(5):\n",
    "    if i == 3:\n",
    "        continue\n",
    "    print(i, end=' ')"
   ]
  },
  {
   "cell_type": "code",
   "execution_count": 11,
   "id": "a910f90a",
   "metadata": {},
   "outputs": [
    {
     "name": "stdout",
     "output_type": "stream",
     "text": [
      "0 1 2 3 4 \n",
      "\n",
      "1 3 5 7 9 "
     ]
    }
   ],
   "source": [
    "for i in range(10):\n",
    "    if i == 5:\n",
    "        break  # i 가 5일 때 루프를 종료합니다.\n",
    "    print(i, end=' ')\n",
    "\n",
    "print('\\n')\n",
    "\n",
    "for i in range(10):\n",
    "    if i % 2 == 0:\n",
    "        continue  # i 가 짝수일 때 나머지 부분을 건너뛰고 다음 반복을 시작.\n",
    "    print(i, end=' ')"
   ]
  },
  {
   "cell_type": "code",
   "execution_count": 2,
   "id": "4639becd",
   "metadata": {},
   "outputs": [
    {
     "name": "stdout",
     "output_type": "stream",
     "text": [
      "0\n",
      "1\n",
      "2\n",
      "3\n",
      "4\n",
      "루프가 완료되었습니다.\n",
      "\n",
      "0\n",
      "1\n",
      "2\n",
      "3\n",
      "4\n",
      "루프가 완료되었습니다.\n"
     ]
    }
   ],
   "source": [
    "# for 또는 while 루프에 else 절 사용하면, 루프가 정상적으로 완료된 후 실행할 코드를 지정\n",
    "for i in range(5):\n",
    "    print(i)\n",
    "else:\n",
    "    print('루프가 완료되었습니다.')\n",
    "    \n",
    "print()\n",
    "\n",
    "count = 0\n",
    "while count < 5:\n",
    "    print(count)\n",
    "    count += 1\n",
    "else:\n",
    "    print('루프가 완료되었습니다.')"
   ]
  },
  {
   "cell_type": "code",
   "execution_count": 4,
   "id": "29c797d6",
   "metadata": {},
   "outputs": [
    {
     "name": "stdout",
     "output_type": "stream",
     "text": [
      "0\n",
      "1\n",
      "2\n",
      "루프가 3에서 중단되었습니다.\n",
      "\n",
      "0\n",
      "1\n",
      "2\n",
      "루프가 3에서 중단되었습니다.\n"
     ]
    }
   ],
   "source": [
    "# break문 사용시 else 문은 실행되지 않음\n",
    "for i in range(5):\n",
    "    if i == 3:\n",
    "        print(f'루프가 {i}에서 중단되었습니다.')\n",
    "        break\n",
    "    print(i)\n",
    "else:\n",
    "    print('루프가 완료되었습니다.')\n",
    "    \n",
    "print()\n",
    "\n",
    "count = 0\n",
    "while count < 5:\n",
    "    if count == 3:\n",
    "        print(f'루프가 {count}에서 중단되었습니다.')\n",
    "        break\n",
    "    print(count)\n",
    "    count += 1\n",
    "else:\n",
    "    print('루프가 완료되었습니다.')"
   ]
  },
  {
   "cell_type": "markdown",
   "id": "cd56012a",
   "metadata": {},
   "source": [
    "#### 조건과 반복을 결합"
   ]
  },
  {
   "cell_type": "code",
   "execution_count": 7,
   "id": "669e5bf1",
   "metadata": {},
   "outputs": [
    {
     "name": "stdout",
     "output_type": "stream",
     "text": [
      "1 3 5 7 9 "
     ]
    }
   ],
   "source": [
    "# 홀수만 출력\n",
    "for i in range(10):\n",
    "    if i % 2 == 1:\n",
    "        print(i, end=' ')"
   ]
  },
  {
   "cell_type": "code",
   "execution_count": null,
   "id": "3d403ddc",
   "metadata": {},
   "outputs": [],
   "source": [
    "# 과제6_1030 : 1~10 범위의 정수에서 1부터 5까지만 출력하세요"
   ]
  },
  {
   "cell_type": "code",
   "execution_count": null,
   "id": "db20aa2e",
   "metadata": {},
   "outputs": [],
   "source": [
    "# 과제7_1030 : numbers 리스트에서 15, 20, 25를 출력하세요. (for문과 if 조건 사용 필수)\n",
    "numbers = [5, 15, 6, 20, 7, 25]"
   ]
  },
  {
   "cell_type": "code",
   "execution_count": 16,
   "id": "3f8e75a2",
   "metadata": {
    "scrolled": true
   },
   "outputs": [
    {
     "name": "stdout",
     "output_type": "stream",
     "text": [
      "1\n",
      "3\n",
      "5\n",
      "7\n",
      "9\n"
     ]
    }
   ],
   "source": [
    "# Q. 1 ~ 20 사이의 정수에서 10보다 작은 홀수만 출력\n",
    "for i in range(1, 21):\n",
    "    if i < 10 and i % 2 == 1:\n",
    "        print(i)"
   ]
  },
  {
   "cell_type": "code",
   "execution_count": 3,
   "id": "2a197974",
   "metadata": {},
   "outputs": [
    {
     "name": "stdout",
     "output_type": "stream",
     "text": [
      "1 3 5 7 9 "
     ]
    }
   ],
   "source": [
    "# while 사용\n",
    "cnt = 0\n",
    "while cnt < 20:\n",
    "    cnt += 1\n",
    "    if cnt % 2 == 0:\n",
    "        continue\n",
    "    if cnt >= 10:\n",
    "        break\n",
    "    print(cnt, end=' ')"
   ]
  },
  {
   "cell_type": "code",
   "execution_count": 5,
   "id": "206920fd",
   "metadata": {},
   "outputs": [
    {
     "name": "stdout",
     "output_type": "stream",
     "text": [
      "정수 1부터 n까지 더할 때 그 합이 1000보다 커질 때\n",
      "그 때의 n은 46이고 합은 1035이다.\n"
     ]
    }
   ],
   "source": [
    "# Q. 정수 1부터 n까지 더할 때 그 합이 1000보다 커지게 되는 n과 합을 구하세요.\n",
    "count = 1\n",
    "sum_result = 0\n",
    "\n",
    "while sum_result < 1000:\n",
    "    sum_result += count\n",
    "    count += 1\n",
    "\n",
    "print(f'정수 1부터 n까지 더할 때 그 합이 1000보다 커질 때\\n그 때의 n은 {count}이고 합은 {sum_result}이다.')"
   ]
  },
  {
   "cell_type": "code",
   "execution_count": 6,
   "id": "f89eec1b",
   "metadata": {},
   "outputs": [
    {
     "name": "stdout",
     "output_type": "stream",
     "text": [
      "166833\n"
     ]
    }
   ],
   "source": [
    "# Q. while문을 사용해 1부터 1000까지의 정수 중 3의 배수의 합을 구해보세요 _ 다른 방법\n",
    "result = 0\n",
    "count = 1\n",
    "\n",
    "while count <= 1000:\n",
    "    if count % 3 == 0:\n",
    "        result += count\n",
    "    count += 1\n",
    "print(result)"
   ]
  },
  {
   "cell_type": "code",
   "execution_count": 10,
   "id": "37e5101f",
   "metadata": {
    "scrolled": true
   },
   "outputs": [
    {
     "name": "stdout",
     "output_type": "stream",
     "text": [
      "정수 입력 :2\n",
      "짝수입니다.\n"
     ]
    }
   ],
   "source": [
    "# Q. 정수를 입력하면 홀수 짝수를 판별하는 프로그램 작성\n",
    "data = int(input('정수 입력 :'))\n",
    "\n",
    "def show_what(x):\n",
    "    if x % 2 == 0:\n",
    "        print(\"짝수입니다.\")\n",
    "    else:\n",
    "        print(\"홀수입니다\")\n",
    "\n",
    "show_what(data)"
   ]
  },
  {
   "cell_type": "code",
   "execution_count": 17,
   "id": "3c5f414b",
   "metadata": {},
   "outputs": [
    {
     "name": "stdout",
     "output_type": "stream",
     "text": [
      "문자열을 입력 : 주용규\n",
      "용규주\n"
     ]
    }
   ],
   "source": [
    "# Q. 입력받은 문자열의 각 문자를 그 다음 문자로 변경하여 출력하세요. (ABC -> BCA)\n",
    "data = input('문자열을 입력 : ')\n",
    "for i in range(len(data)):\n",
    "    if i == 0:\n",
    "        continue\n",
    "    print(data[i],end='')\n",
    "else:\n",
    "    print(data[0])\n"
   ]
  },
  {
   "cell_type": "code",
   "execution_count": 12,
   "id": "45e9c488",
   "metadata": {},
   "outputs": [
    {
     "name": "stdout",
     "output_type": "stream",
     "text": [
      "[(1, 'a'), (2, 'b'), (3, 'c'), (4, 'd')]\n"
     ]
    }
   ],
   "source": [
    "# zip 함수는 여러 개의 반복 가능한 객체를 인수로 받아, 각 객체의 같은 인덱스에 위치한\n",
    "# 요소들을 묶어 튜플로 반환하는 이터레이터를 생성\n",
    "list1 = [1, 2, 3, 4]\n",
    "list2 = ['a', 'b', 'c', 'd']\n",
    "zipped = zip(list1, list2)\n",
    "print(list(zipped))"
   ]
  },
  {
   "cell_type": "code",
   "execution_count": 22,
   "id": "35b2fd73",
   "metadata": {},
   "outputs": [
    {
     "name": "stdout",
     "output_type": "stream",
     "text": [
      "커플1: 갑돌, 줄리엣\n",
      "커플2: 철수, 성춘향\n",
      "커플3: 온돌, 미미\n",
      "커플4: 로미오, 평강\n",
      "커플5: 이몽룡, 갑순\n"
     ]
    }
   ],
   "source": [
    "# 남녀 파트너 정해주기 프로그램(zip)\n",
    "from random import shuffle\n",
    "male = ['철수', '갑돌', '로미오', '이몽룡', '온돌']\n",
    "femail = ['미미', '갑순', '줄리엣', '성춘향', '평강']\n",
    "shuffle(male)\n",
    "shuffle(femail)\n",
    "cupple_zip = list(zip(male, femail))\n",
    "\n",
    "# 인덱스를 같이 뽑는 for문\n",
    "for i, cupple in enumerate(cupple_zip):\n",
    "    print(f'커플{i+1}: {cupple[0]}, {cupple[1]}')"
   ]
  },
  {
   "cell_type": "code",
   "execution_count": 25,
   "id": "75df2a2e",
   "metadata": {
    "scrolled": false
   },
   "outputs": [
    {
     "name": "stdout",
     "output_type": "stream",
     "text": [
      "[1, 2, 3, 4, 5, 6, 7, 8, 9, 10, 11, 12, 13, 14, 15, 16, 17, 18, 19, 20, 21, 22, 23, 24, 25, 26, 27, 28, 29, 30, 31, 32, 33, 34, 35, 36, 37, 38, 39, 40, 41, 42, 43, 44, 45] \n",
      "\n",
      "[6, 7, 12, 16, 24, 38]\n",
      "[8, 25, 27, 29, 42, 44]\n",
      "[5, 9, 20, 30, 41, 42]\n",
      "[1, 28, 31, 33, 37, 43]\n",
      "[20, 23, 28, 34, 35, 39]\n",
      "[16, 18, 21, 25, 39, 45]\n"
     ]
    }
   ],
   "source": [
    "import random\n",
    "r = list(range(1,46))\n",
    "print(r, '\\n')\n",
    "for i in range(6):\n",
    "    lotto = random.sample(r, 6)  # unique한 원소 6개 (중복되지 않는 값 6개 선택)\n",
    "    print(sorted(lotto))"
   ]
  },
  {
   "cell_type": "code",
   "execution_count": 29,
   "id": "3a3f154b",
   "metadata": {},
   "outputs": [
    {
     "name": "stdout",
     "output_type": "stream",
     "text": [
      "발표자 수 입력 : 7\n",
      "['이민지', '김신미', '전유빈', '최재빈', '서영우', '윤성민', '한정현']\n"
     ]
    }
   ],
   "source": [
    "# Q. 발표자수를 입력시 랜덤하게 출력하는 프로그램을 작성하세요.\n",
    "import random\n",
    "kita = ['김신미','김학준','서영우','심주승','윤성민','이민지','전유빈','주용규','최재빈','한정현','황인서']\n",
    "num = int(input('발표자 수 입력 : '))\n",
    "ans = random.sample(kita, num)\n",
    "print(ans)"
   ]
  },
  {
   "cell_type": "code",
   "execution_count": null,
   "id": "88f8df3f",
   "metadata": {},
   "outputs": [],
   "source": [
    "# 과제8_1030 : 1부터 100까지의 정수 중 5에서 95까지의 합을 구하세요."
   ]
  },
  {
   "cell_type": "code",
   "execution_count": null,
   "id": "3b350ba8",
   "metadata": {},
   "outputs": [],
   "source": [
    "# 과제9_1030 : while문을 사용해 1부터 1000까지의 정수 중 3과 5의 공배수의 합을 구해보세요."
   ]
  },
  {
   "cell_type": "code",
   "execution_count": null,
   "id": "3e097d7b",
   "metadata": {},
   "outputs": [],
   "source": [
    "# 과제10_1030 : 현재 시각을 오전과 오후로 구분하는 프로그램을 작성하세요"
   ]
  },
  {
   "cell_type": "code",
   "execution_count": null,
   "id": "6954669f",
   "metadata": {},
   "outputs": [],
   "source": [
    "# 과제11_1030 : 태어난 연도를 입력받아 띠를 출력하는 프로그램을 작성하세요\n",
    "# 원숭이, 닭, 개, 돼지, 쥐, 소, 범, 토끼, 용, 뱀, 말, 양띠"
   ]
  },
  {
   "cell_type": "code",
   "execution_count": null,
   "id": "29cc6185",
   "metadata": {},
   "outputs": [],
   "source": [
    "# 과제12_1030 : 커피 자판기 프로그램\n",
    "- 시나리오 : 자판기 커피 재고 5잔, 커피 1잔 가격 300원, 재고 범위내에서 300원 이상 돈을 넣으면 거스름돈과 커피를 주고 \n",
    "              그렇지 않으면 반환하며 재고가 소진되면 안내멘트 출력\n",
    "- 각 Case별 멘트 출력은 상황에 맞게 창작\n",
    "- while, if ~ elif ~ else 제어문을 사용하여 작성"
   ]
  },
  {
   "cell_type": "code",
   "execution_count": 7,
   "id": "6f00c02c",
   "metadata": {},
   "outputs": [
    {
     "name": "stdout",
     "output_type": "stream",
     "text": [
      "2\n",
      "1\n",
      "2\n"
     ]
    }
   ],
   "source": [
    "# Q. 짝수와 짝수를 입력하면 곱한 값을 출력하고 홀수와 홀수를 입력하면 덧샘값을 출력하고 \n",
    "# 그 외에는 다시 입력하라는 메세지를 출력하세요.\n",
    "\n",
    "x = 0\n",
    "y = 0\n",
    "\n",
    "while True:\n",
    "    x = int(input())\n",
    "    y = int(input())\n",
    "    if (x % 2 == 0) | (y % 2 == 0):  # 연산자 & > and / | > or\n",
    "        print(x * y)\n",
    "        break\n",
    "    elif (x % 2 == 1) & (y % 2 == 1):\n",
    "        print(x + y)\n",
    "        break\n",
    "    else:\n",
    "        print('다시 입력해주세요')\n"
   ]
  },
  {
   "cell_type": "code",
   "execution_count": 5,
   "id": "02c11f50",
   "metadata": {},
   "outputs": [
    {
     "name": "stdout",
     "output_type": "stream",
     "text": [
      "ee\n",
      "555\n"
     ]
    }
   ],
   "source": [
    "# 트라이 익셉트 에러\n",
    "eee = 0\n",
    "\n",
    "try:\n",
    "    eee = int(input())\n",
    "except (ValueError):   # 해당되는 에러를 제외할 수 있음. 미입력시 모든 에러 무시.\n",
    "    eee = 555\n",
    "print(eee)"
   ]
  }
 ],
 "metadata": {
  "kernelspec": {
   "display_name": "Python 3 (ipykernel)",
   "language": "python",
   "name": "python3"
  },
  "language_info": {
   "codemirror_mode": {
    "name": "ipython",
    "version": 3
   },
   "file_extension": ".py",
   "mimetype": "text/x-python",
   "name": "python",
   "nbconvert_exporter": "python",
   "pygments_lexer": "ipython3",
   "version": "3.10.13"
  }
 },
 "nbformat": 4,
 "nbformat_minor": 5
}
