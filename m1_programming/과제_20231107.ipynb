{
 "cells": [
  {
   "cell_type": "markdown",
   "id": "ceb7d04a",
   "metadata": {},
   "source": [
    "#### 과제1_1107 : 다음 4가지 예외처리가 필요한 경우에 대해서 코딩을 수행하세요.\n",
    "\n",
    "1. try ~ except\n",
    "2. try ~ except ~ else\n",
    "3. try ~ except ~ finally\n",
    "4. try ~ except ~ else ~ finally"
   ]
  },
  {
   "cell_type": "code",
   "execution_count": 3,
   "id": "2a8e49e2",
   "metadata": {},
   "outputs": [
    {
     "name": "stdout",
     "output_type": "stream",
     "text": [
      "숫자만 리스트에 추가됩니다.\n",
      "입력 :5\n",
      "[1, 3, 4, 5]\n"
     ]
    }
   ],
   "source": [
    "# 1.\n",
    "list_num = [1, 3, 4]\n",
    "print('설명: 숫자만 리스트에 추가됩니다.')\n",
    "try:\n",
    "    list_num.append(int(input('입력 :')))\n",
    "except:\n",
    "    pass\n",
    "\n",
    "print(list_num)"
   ]
  },
  {
   "cell_type": "code",
   "execution_count": null,
   "id": "dd3d380a",
   "metadata": {},
   "outputs": [],
   "source": [
    "# 2.\n",
    "list_num = [1, 3, 4]\n",
    "print('설명: 숫자만 리스트에 추가됩니다.\\n리스트에 새 인자 추가시 알림이 출력됩니다.')\n",
    "try:\n",
    "    list_num.append(int(input('입력 :')))\n",
    "except:\n",
    "    pass\n",
    "else:\n",
    "    print('숫자가 추가되었습니다!')\n",
    "\n",
    "print(list_num)"
   ]
  },
  {
   "cell_type": "code",
   "execution_count": null,
   "id": "5d5a7e8a",
   "metadata": {},
   "outputs": [],
   "source": [
    "# 3.\n",
    "list_num = [1, 3, 4]\n",
    "print('설명: 숫자만 리스트에 추가됩니다.\\n총 입력횟수를 보여줍니다.')\n",
    "\n",
    "cnt = 0\n",
    "\n",
    "while True:\n",
    "    try:\n",
    "        list_num.append(int(input('입력 :')))\n",
    "    except:\n",
    "        pass\n",
    "    finally:\n",
    "        cnt += 1\n",
    "        print(f'총 {cnt}회 입력하셨습니다.')\n",
    "    if input('계속하시겠습니까(y/n) >> ').lower() == 'n': break\n",
    "\n",
    "print(list_num)"
   ]
  },
  {
   "cell_type": "code",
   "execution_count": 11,
   "id": "b4f003c9",
   "metadata": {},
   "outputs": [
    {
     "name": "stdout",
     "output_type": "stream",
     "text": [
      "설명: 숫자만 리스트에 추가됩니다.\n",
      "리스트에 새 인자 추가시 알림이 출력됩니다.\n",
      "예외처리시 알람을 보여줍니다.\n",
      "총 입력횟수를 보여줍니다.\n",
      "입력 :ddsa\n",
      "숫자가 아니어서 예외처리 됩니다.\n",
      "총 1회 입력하셨습니다.\n",
      "계속하시겠습니까(y/n) >> N\n",
      "[1, 3, 4]\n"
     ]
    }
   ],
   "source": [
    "# 4.\n",
    "list_num = [1, 3, 4]\n",
    "print('설명: 숫자만 리스트에 추가됩니다.\\n리스트에 새 인자 추가시 알림이 출력됩니다.')\n",
    "print('예외처리시 알람을 보여줍니다.')\n",
    "print('총 입력횟수를 보여줍니다.')\n",
    "\n",
    "\n",
    "cnt = 0\n",
    "\n",
    "while True:\n",
    "    try:\n",
    "        list_num.append(int(input('입력 :')))\n",
    "    except:\n",
    "        print('숫자가 아니어서 예외처리 됩니다.')\n",
    "    else:\n",
    "        print('숫자가 추가되었습니다!')\n",
    "    finally:\n",
    "        cnt += 1\n",
    "        print(f'총 {cnt}회 입력하셨습니다.')\n",
    "    if input('계속하시겠습니까(y/n) >> ').lower() == 'n': break\n",
    "\n",
    "print(list_num)"
   ]
  },
  {
   "cell_type": "markdown",
   "id": "45c54e79",
   "metadata": {},
   "source": [
    "#### 과제2_1107: 두가지 시나리오를 예외처리를 하여 코드 작업을 수행하세요\n",
    "\n",
    "- 정수를 입력하면 '정수 입력' > '예외 발생하지 않음' > '프로그램 종료'\n",
    "- 정수를 입력하지 않으면 '입력 값' > '정수 아님' > '프로그램 종료' "
   ]
  },
  {
   "cell_type": "code",
   "execution_count": 2,
   "id": "0709dea8",
   "metadata": {},
   "outputs": [
    {
     "name": "stdout",
     "output_type": "stream",
     "text": [
      "입력: ㅇㄶㅍ\n",
      "정수 아님\n",
      "프로그램 종료\n"
     ]
    }
   ],
   "source": [
    "try:\n",
    "    int(input('입력: '))\n",
    "    print('정수 입력')\n",
    "except ValueError:\n",
    "    print('정수 아님')\n",
    "else:\n",
    "    print('예외 발생하지 않음')\n",
    "finally:\n",
    "    print('프로그램 종료')"
   ]
  },
  {
   "cell_type": "markdown",
   "id": "21cf9755",
   "metadata": {},
   "source": [
    "#### 문제3_1107 : \n",
    "- 파일 이름을 사용자로부터 입력받아 파일의 내용을 읽고 출력하는 프로그램을 작성하되,<br> 파일이 존재하지 않을 경우 사용자에게 적절한 오류 메시지를 출력하고, 다시 파일 이름을 입력받도록 처리하세요."
   ]
  },
  {
   "cell_type": "code",
   "execution_count": 19,
   "id": "5e013e6b",
   "metadata": {},
   "outputs": [
    {
     "name": "stdout",
     "output_type": "stream",
     "text": [
      "열고자 하는 파일명을 입력하세요: test1.txt\n",
      "1번째 줄입니다.\n",
      "2번째 줄입니다.\n",
      "3번째 줄입니다.\n",
      "4번째 줄입니다.\n",
      "5번째 줄입니다.\n",
      "6번째 줄입니다.\n",
      "7번째 줄입니다.\n",
      "8번째 줄입니다.\n",
      "9번째 줄입니다.\n",
      "10번째 줄입니다.\n",
      "11번째 줄입니다.\n",
      "12번째 줄입니다.\n",
      "13번째 줄입니다.\n",
      "14번째 줄입니다.\n",
      "15번째 줄입니다.\n",
      "\n"
     ]
    }
   ],
   "source": [
    "# test1.txt >> 존재하는 파일명 (테스트용)\n",
    "\n",
    "def file_open(name):\n",
    "    try:\n",
    "        with open(name) as f:\n",
    "            read_data = f.read()\n",
    "            print(read_data)\n",
    "    except OSError as e:\n",
    "        file_name = str(e).split(\"'\")\n",
    "        print(f'파일명 [{file_name[1]}]는 존재하지 않습니다.')\n",
    "        return False\n",
    "    else:\n",
    "        return True\n",
    "    \n",
    "while True:\n",
    "    x = input('열고자 하는 파일명을 입력하세요: ')\n",
    "    if file_open(x): break\n"
   ]
  },
  {
   "cell_type": "markdown",
   "id": "a1b2d06f",
   "metadata": {},
   "source": [
    "#### 문제4_1107 : \n",
    "- 사용자로부터 문자열을 입력받아 정수로 변환하고 출력하는 프로그램을 작성하세요. <br>입력된 문자열이 정수로 변환될 수 없는 경우, 사용자에게 ValueError가 발생했다는 메시지를 출력하고, 다시 입력을 받도록 처리하세요."
   ]
  },
  {
   "cell_type": "code",
   "execution_count": 20,
   "id": "efe42660",
   "metadata": {},
   "outputs": [
    {
     "name": "stdout",
     "output_type": "stream",
     "text": [
      "변환할 정수를 입력하세요: ㄷㅈ\n",
      "ValueError가 발생하였습니다.\n",
      "변환할 정수를 입력하세요: 43\n",
      "변환된 정수값은 43입니다\n"
     ]
    }
   ],
   "source": [
    "def str_to_int(str_num):\n",
    "    try:\n",
    "        num = int(str_num)\n",
    "    except ValueError:\n",
    "        print('ValueError가 발생하였습니다.')\n",
    "        return 0, False\n",
    "    else:\n",
    "        return num, True\n",
    "    \n",
    "while True:\n",
    "    x = input('변환할 정수를 입력하세요: ')\n",
    "    y = str_to_int(x)\n",
    "    if y[1]: \n",
    "        print(f'변환된 정수값은 {y[0]}입니다')\n",
    "        break"
   ]
  },
  {
   "cell_type": "markdown",
   "id": "38bc0202",
   "metadata": {},
   "source": [
    "#### 문제 5_1107: 리스트 인덱스 예외 처리\n",
    "- 사용자로부터 인덱스를 입력받아, 사전에 정의된 리스트의 해당 인덱스의 값을 출력하는 프로그램을 작성하세요.<br> 사용자가 유효하지 않은 인덱스를 입력할 경우 IndexError를 처리하여, 오류 메시지를 출력하고 다시 인덱스를 입력받도록 하세요."
   ]
  },
  {
   "cell_type": "code",
   "execution_count": 23,
   "id": "2c90df3c",
   "metadata": {},
   "outputs": [
    {
     "name": "stdout",
     "output_type": "stream",
     "text": [
      "인덱스값을 입력하세요(0-7): 9\n",
      "IndexError 발생하였습니다.\n",
      "인덱스값을 입력하세요(0-7): 3\n",
      "해당 인덱스의 값은 d 입니다.\n"
     ]
    }
   ],
   "source": [
    "q5_list = list('abcdefgh')\n",
    "\n",
    "def show_index_value(index_num):\n",
    "    global q5_list\n",
    "    try:\n",
    "        val = q5_list[int(index_num)]\n",
    "    except IndexError:\n",
    "        print('IndexError 발생하였습니다.')\n",
    "        return False\n",
    "    else:\n",
    "        print(f'해당 인덱스의 값은 {val} 입니다.')\n",
    "        return True\n",
    "    \n",
    "while True:\n",
    "    x = input('인덱스값을 입력하세요(0-7): ')\n",
    "    if show_index_value(x): break"
   ]
  },
  {
   "cell_type": "markdown",
   "id": "3c40ef6e",
   "metadata": {},
   "source": [
    "#### 문제6_1107: 딕셔너리 키 예외 처리\n",
    "- 사용자로부터 키를 입력받아, 사전에 정의된 딕셔너리에서 해당 키의 값을 출력하는 프로그램을 작성하세요.<br> 입력된 키가 딕셔너리에 존재하지 않을 경우 KeyError를 처리하여 사용자에게 알려주고, 다른 키를 입력받도록 하세요."
   ]
  },
  {
   "cell_type": "code",
   "execution_count": 25,
   "id": "c860cf4b",
   "metadata": {},
   "outputs": [
    {
     "name": "stdout",
     "output_type": "stream",
     "text": [
      "키값을 입력하세요(0-7): 9\n",
      "KeyError 발생하였습니다. 9값은 없습니다.\n",
      "키값을 입력하세요(0-7): 9\n",
      "KeyError 발생하였습니다. 9값은 없습니다.\n",
      "키값을 입력하세요(0-7): 900\n",
      "KeyError 발생하였습니다. 900값은 없습니다.\n",
      "키값을 입력하세요(0-7): 7\n",
      "해당 키에 매칭되는 값은 h 입니다.\n"
     ]
    }
   ],
   "source": [
    "q6_list = list('abcdefgh')\n",
    "q6_dic = {}\n",
    "\n",
    "for i, val in enumerate(q6_list):\n",
    "    q6_dic[i] = q6_list[i]\n",
    "    \n",
    "def show_dic_value(dic_key):\n",
    "    global q6_dic\n",
    "    try:\n",
    "        val = q6_dic[int(dic_key)]\n",
    "    except KeyError as e:\n",
    "        print(f'KeyError 발생하였습니다. {e}값은 없습니다.')\n",
    "        return False\n",
    "    else:\n",
    "        print(f'해당 키에 매칭되는 값은 {val} 입니다.')\n",
    "        return True\n",
    "    \n",
    "while True:\n",
    "    x = input('키값을 입력하세요(0-7): ')\n",
    "    if show_dic_value(x): break"
   ]
  },
  {
   "cell_type": "markdown",
   "id": "76fcbd8f",
   "metadata": {},
   "source": [
    "#### 문제7_1107: \n",
    "- 생성자만으로 구성된 클래스를 작성하고 객체 3개를 만들어서 결과를 출력하세요."
   ]
  },
  {
   "cell_type": "code",
   "execution_count": 7,
   "id": "f972faf0",
   "metadata": {},
   "outputs": [
    {
     "name": "stdout",
     "output_type": "stream",
     "text": [
      "아반떼\n",
      "17000\n",
      "black\n"
     ]
    }
   ],
   "source": [
    "class MyCar:\n",
    "    def __init__(self, name, color='white', price=2000):\n",
    "        self.name = name\n",
    "        self.color = color\n",
    "        self.price = price\n",
    "\n",
    "a = MyCar('아반떼')\n",
    "b = MyCar('페라리','red',17000)\n",
    "c = MyCar('벤츠','black',11000)\n",
    "\n",
    "print(a.name)\n",
    "print(b.price)\n",
    "print(c.color)"
   ]
  },
  {
   "cell_type": "markdown",
   "id": "61a89312",
   "metadata": {},
   "source": [
    "#### 문제8_1107: \n",
    "- 생성자, 메소드를 모두 포함하는 클래스를 작성하고 객체 3개를 작성하여 출력하세요."
   ]
  },
  {
   "cell_type": "code",
   "execution_count": 1,
   "id": "62a39d2e",
   "metadata": {},
   "outputs": [
    {
     "name": "stdout",
     "output_type": "stream",
     "text": [
      "아반떼\n",
      "17000\n",
      "black\n",
      "\n",
      "털털털털\n",
      "부와아아아\n",
      "부웅부웅\n"
     ]
    }
   ],
   "source": [
    "class MyCar:\n",
    "    def __init__(self, name, color='white', price=2000):\n",
    "        self.name = name\n",
    "        self.color = color\n",
    "        self.price = price\n",
    "    \n",
    "    def car_sound(self):\n",
    "        if self.price > 15000:\n",
    "            print('부와아아아')\n",
    "        elif self.price > 10000:\n",
    "            print('부웅부웅')\n",
    "        else:\n",
    "            print('털털털털')\n",
    "\n",
    "a = MyCar('아반떼')\n",
    "b = MyCar('페라리','red',17000)\n",
    "c = MyCar('벤츠','black',11000)\n",
    "\n",
    "# 생성자 저장값 확인\n",
    "print(a.name)\n",
    "print(b.price)\n",
    "print(c.color)\n",
    "\n",
    "print()\n",
    "\n",
    "# 메소드 확인\n",
    "a.car_sound()\n",
    "b.car_sound()\n",
    "c.car_sound()"
   ]
  },
  {
   "cell_type": "code",
   "execution_count": null,
   "id": "c882c4c3",
   "metadata": {},
   "outputs": [],
   "source": []
  },
  {
   "cell_type": "code",
   "execution_count": null,
   "id": "01bf6368",
   "metadata": {},
   "outputs": [],
   "source": []
  },
  {
   "cell_type": "code",
   "execution_count": null,
   "id": "cffa280b",
   "metadata": {},
   "outputs": [],
   "source": []
  },
  {
   "cell_type": "code",
   "execution_count": null,
   "id": "d1efdf46",
   "metadata": {},
   "outputs": [],
   "source": []
  }
 ],
 "metadata": {
  "kernelspec": {
   "display_name": "Python 3 (ipykernel)",
   "language": "python",
   "name": "python3"
  },
  "language_info": {
   "codemirror_mode": {
    "name": "ipython",
    "version": 3
   },
   "file_extension": ".py",
   "mimetype": "text/x-python",
   "name": "python",
   "nbconvert_exporter": "python",
   "pygments_lexer": "ipython3",
   "version": "3.10.13"
  }
 },
 "nbformat": 4,
 "nbformat_minor": 5
}
