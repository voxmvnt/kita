{
 "cells": [
  {
   "cell_type": "markdown",
   "id": "8350bbf9",
   "metadata": {},
   "source": [
    "#### [과제1_1030] num1 = 12345을 아래와 같이 출력하세요.\n",
    "12345\n",
    "     12345\n",
    "12.345679\n",
    "          12.346"
   ]
  },
  {
   "cell_type": "code",
   "execution_count": 21,
   "id": "7bab61fc",
   "metadata": {},
   "outputs": [
    {
     "name": "stdout",
     "output_type": "stream",
     "text": [
      "12345\n",
      "     12345\n",
      "12.345679\n",
      "          12.346\n"
     ]
    }
   ],
   "source": [
    "num1 = 12345; num2 = 12.345679\n",
    "print(num1)\n",
    "print(f'{num1:10}')\n",
    "print(f'{num2}')\n",
    "print(f'{num2:16.3f}')"
   ]
  },
  {
   "cell_type": "code",
   "execution_count": null,
   "id": "372f071c",
   "metadata": {},
   "outputs": [],
   "source": [
    "# 과제2_1030 : listdata = ['a', 'b', 'c']에서 조건문을 이용해서 아래와 같이 출력하세요\n",
    "\n",
    "\n",
    "a가 listdata에 있습니다.\n",
    "b가 listdata에 있습니다.\n",
    "c가 listdata에 있습니다."
   ]
  },
  {
   "cell_type": "code",
   "execution_count": 4,
   "id": "d52cbd6c",
   "metadata": {},
   "outputs": [
    {
     "name": "stdout",
     "output_type": "stream",
     "text": [
      "확인할 알파벳 한 개를 입력하세요 : b\n",
      "b가 listdata에 있습니다.\n"
     ]
    }
   ],
   "source": [
    "listdata = ['a', 'b', 'c']\n",
    "\n",
    "q_data = input('확인할 알파벳 한 개를 입력하세요 : ')\n",
    "\n",
    "if q_data in listdata:\n",
    "    print(q_data+'가 listdata에 있습니다.')\n",
    "else:\n",
    "    print('데이터가 리스트에 없습니다.')"
   ]
  },
  {
   "cell_type": "code",
   "execution_count": 4,
   "id": "eb461974",
   "metadata": {},
   "outputs": [
    {
     "name": "stdout",
     "output_type": "stream",
     "text": [
      "a가 listdata에 있습니다.\n",
      "b가 listdata에 있습니다.\n",
      "c가 listdata에 있습니다.\n"
     ]
    }
   ],
   "source": [
    "listdata = ['a', 'b', 'c']\n",
    "\n",
    "for i in listdata:\n",
    "    if i in listdata:\n",
    "        print(i+'가 listdata에 있습니다.')\n"
   ]
  },
  {
   "cell_type": "code",
   "execution_count": null,
   "id": "e4b6169b",
   "metadata": {},
   "outputs": [],
   "source": [
    "# 과제3_1030 : 돈이 있으면 택시를 타고, 돈이 없으면 걸어 간다를 만족하는 조건문을 작성하세요"
   ]
  },
  {
   "cell_type": "code",
   "execution_count": 2,
   "id": "d8572cf3",
   "metadata": {},
   "outputs": [
    {
     "name": "stdout",
     "output_type": "stream",
     "text": [
      "가지고 있는 돈을 숫자만 입력하세요 : 5000\n",
      "택시를 탄다. (택시 기본요금 4800원)\n"
     ]
    }
   ],
   "source": [
    "m_data = int(input('가지고 있는 돈을 숫자만 입력하세요 : '))\n",
    "\n",
    "if m_data >= 4800:\n",
    "    print('택시를 탄다. (택시 기본요금 4800원)')\n",
    "else:\n",
    "    print('걸어간다. (택시 기본요금 4800원)')"
   ]
  },
  {
   "cell_type": "code",
   "execution_count": null,
   "id": "2c3cf372",
   "metadata": {},
   "outputs": [],
   "source": [
    "# 과제4_1030 : 조건부 표현식을 한줄의 조건문으로 작성하세요.\n",
    "score = 70\n",
    "if score >= 60:\n",
    "    message = \"success\"\n",
    "else:\n",
    "    message = \"failure\"\n",
    "    \n",
    "print(message)"
   ]
  },
  {
   "cell_type": "code",
   "execution_count": 1,
   "id": "555d0394",
   "metadata": {},
   "outputs": [
    {
     "name": "stdout",
     "output_type": "stream",
     "text": [
      "success\n"
     ]
    }
   ],
   "source": [
    "score = 70\n",
    "print(\"success\" if score >= 60 else \"failure\")"
   ]
  },
  {
   "cell_type": "code",
   "execution_count": null,
   "id": "b28630a1",
   "metadata": {},
   "outputs": [],
   "source": [
    "# 과제5_1030 : \"수입과 지출금액을 비교해서 수입이 많은면 저축 증가, 반대이면 빚이 증가\" 프로그램 작성"
   ]
  },
  {
   "cell_type": "code",
   "execution_count": 6,
   "id": "0e07e67c",
   "metadata": {
    "scrolled": true
   },
   "outputs": [
    {
     "name": "stdout",
     "output_type": "stream",
     "text": [
      "수입 입력(숫자): 100\n",
      "지출 입력(숫자): 34\n",
      "저축 증가\n"
     ]
    }
   ],
   "source": [
    "money_in = int(input('수입 입력(숫자): '))\n",
    "money_out = int(input('지출 입력(숫자): '))\n",
    "\n",
    "if money_in > money_out:\n",
    "    print('저축 증가')\n",
    "elif money_in < money_out:\n",
    "    print('빚이 증가')\n",
    "else:\n",
    "    print('수입과 지출이 같습니다.')"
   ]
  },
  {
   "cell_type": "code",
   "execution_count": null,
   "id": "43b9bdcf",
   "metadata": {},
   "outputs": [],
   "source": [
    "# 과제6_1030 : 1~10 범위의 정수에서 1부터 5까지만 출력하세요"
   ]
  },
  {
   "cell_type": "code",
   "execution_count": 1,
   "id": "ed3fc31b",
   "metadata": {
    "scrolled": true
   },
   "outputs": [
    {
     "name": "stdout",
     "output_type": "stream",
     "text": [
      "1\n",
      "2\n",
      "3\n",
      "4\n",
      "5\n"
     ]
    }
   ],
   "source": [
    "for i in range (1, 11):\n",
    "    if i > 5:\n",
    "        break\n",
    "    print(i)"
   ]
  },
  {
   "cell_type": "code",
   "execution_count": null,
   "id": "59d95887",
   "metadata": {},
   "outputs": [],
   "source": [
    "# 과제7_1030 : numbers 리스트에서 15, 20, 25를 출력하세요. (for문과 if 조건 사용 필수)\n",
    "numbers = [5, 15, 6, 20, 7, 25]"
   ]
  },
  {
   "cell_type": "code",
   "execution_count": 2,
   "id": "87ce9ae6",
   "metadata": {
    "scrolled": false
   },
   "outputs": [
    {
     "name": "stdout",
     "output_type": "stream",
     "text": [
      "15 20 25 "
     ]
    }
   ],
   "source": [
    "numbers = [5, 15, 6, 20, 7, 25]\n",
    "for i in numbers:\n",
    "    if i in [15, 20, 25]:\n",
    "        print(i, end=' ')"
   ]
  },
  {
   "cell_type": "code",
   "execution_count": null,
   "id": "19ceac50",
   "metadata": {},
   "outputs": [],
   "source": [
    "# 과제8_1030 : 1부터 100까지의 정수 중 5에서 95까지의 합을 구하세요."
   ]
  },
  {
   "cell_type": "code",
   "execution_count": 3,
   "id": "165b367e",
   "metadata": {},
   "outputs": [
    {
     "name": "stdout",
     "output_type": "stream",
     "text": [
      "4550\n"
     ]
    }
   ],
   "source": [
    "result = 0\n",
    "for i in range(1, 101):\n",
    "    if i >=5 and i <= 95:\n",
    "        result += i\n",
    "print(result)"
   ]
  },
  {
   "cell_type": "code",
   "execution_count": 5,
   "id": "37c8b319",
   "metadata": {},
   "outputs": [
    {
     "name": "stdout",
     "output_type": "stream",
     "text": [
      "4550\n"
     ]
    }
   ],
   "source": [
    "# 틀린 코드 수정하기 _ 한정현씨 과제\n",
    "\n",
    "# 과제8_1030 솔루션 # while, if\n",
    "num = 1\n",
    "sum = 0\n",
    "while num <= 100:\n",
    "    if num >=5 and num <= 95: \n",
    "        sum += num\n",
    "    num += 1\n",
    "print(sum)"
   ]
  },
  {
   "cell_type": "code",
   "execution_count": 1,
   "id": "6324214d",
   "metadata": {},
   "outputs": [
    {
     "name": "stdout",
     "output_type": "stream",
     "text": [
      "4550\n"
     ]
    }
   ],
   "source": [
    "# 반대 경우에 pass하는 형식\n",
    "\n",
    "num = 1\n",
    "sum = 0\n",
    "while num <= 100:\n",
    "    if num < 5 or num > 95: \n",
    "        num += 1   # num을 증가시키지 않으면 while문 무한루프 돌게됨.\n",
    "        continue\n",
    "    sum += num\n",
    "    num += 1\n",
    "print(sum)"
   ]
  },
  {
   "cell_type": "code",
   "execution_count": null,
   "id": "9c9187b9",
   "metadata": {},
   "outputs": [],
   "source": [
    "# 과제9_1030 : while문을 사용해 1부터 1000까지의 정수 중 3과 5의 공배수의 합을 구해보세요."
   ]
  },
  {
   "cell_type": "code",
   "execution_count": 3,
   "id": "240b5d76",
   "metadata": {},
   "outputs": [
    {
     "name": "stdout",
     "output_type": "stream",
     "text": [
      "33165\n"
     ]
    }
   ],
   "source": [
    "re09 = 0\n",
    "for i in range(1,1001):\n",
    "    if i%3 == 0 and i%5 == 0:\n",
    "        re09 += i\n",
    "print(re09)"
   ]
  },
  {
   "cell_type": "code",
   "execution_count": null,
   "id": "42e38a11",
   "metadata": {},
   "outputs": [],
   "source": [
    "# 과제10_1030 : 현재 시각을 오전과 오후로 구분하는 프로그램을 작성하세요"
   ]
  },
  {
   "cell_type": "code",
   "execution_count": 3,
   "id": "f2036a2b",
   "metadata": {},
   "outputs": [
    {
     "name": "stdout",
     "output_type": "stream",
     "text": [
      "2023-10-31 10:08:11.254009\n",
      "10\n"
     ]
    }
   ],
   "source": [
    "import datetime\n",
    "now=datetime.datetime.now()\n",
    "print(now)\n",
    "print(now.hour)"
   ]
  },
  {
   "cell_type": "code",
   "execution_count": 8,
   "id": "681b8984",
   "metadata": {
    "scrolled": false
   },
   "outputs": [
    {
     "name": "stdout",
     "output_type": "stream",
     "text": [
      "현재날짜1 :  2023-10-31\n",
      "현재날짜2 :  23-10-31\n",
      "현재날짜3 :  10/31/23\n",
      "현재시간 :  10:12:15\n",
      "오전 입니다\n"
     ]
    }
   ],
   "source": [
    "from datetime import datetime\n",
    "\n",
    "now = datetime.now()\n",
    "\n",
    "print(\"현재날짜1 : \", now.strftime('%Y-%m-%d'))\n",
    "print(\"현재날짜2 : \", now.strftime('%y-%m-%d'))\n",
    "print(\"현재날짜3 : \", now.strftime('%D'))\n",
    "print(\"현재시간 : \", now.strftime('%H:%M:%S'))\n",
    "\n",
    "hour = int(now.strftime('%H'))\n",
    "\n",
    "if hour >= 12:\n",
    "    print('오후 입니다.')\n",
    "else:\n",
    "    print('오전 입니다')"
   ]
  },
  {
   "cell_type": "code",
   "execution_count": 9,
   "id": "5ea350f3",
   "metadata": {},
   "outputs": [
    {
     "name": "stdout",
     "output_type": "stream",
     "text": [
      "현재시간 :  10:14:42\n",
      "오전 입니다\n"
     ]
    }
   ],
   "source": [
    "from datetime import datetime\n",
    "\n",
    "now = datetime.now()\n",
    "\n",
    "print(\"현재시간 : \", now.strftime('%H:%M:%S'))\n",
    "\n",
    "hour = int(now.strftime('%H'))\n",
    "\n",
    "if hour >= 12:\n",
    "    print('오후 입니다.')\n",
    "else:\n",
    "    print('오전 입니다')"
   ]
  },
  {
   "cell_type": "code",
   "execution_count": null,
   "id": "6cf6684c",
   "metadata": {},
   "outputs": [],
   "source": [
    "# 과제11_1030 : 태어난 연도를 입력받아 띠를 출력하는 프로그램을 작성하세요\n",
    "# 원숭이, 닭, 개, 돼지, 쥐, 소, 범, 토끼, 용, 뱀, 말, 양띠"
   ]
  },
  {
   "cell_type": "code",
   "execution_count": 10,
   "id": "8fbd2c34",
   "metadata": {},
   "outputs": [
    {
     "name": "stdout",
     "output_type": "stream",
     "text": [
      "태어난 해를 입력하세요 : 1988\n",
      "당신의 띠는 용띠 입니다.\n"
     ]
    }
   ],
   "source": [
    "list11 = ['원숭이','닭','개','돼지','쥐','소','호랑이','토끼','용','뱀','말','양']\n",
    "ans11 = int(input('태어난 해를 입력하세요 : '))\n",
    "cal_index = ans11 % 12\n",
    "print(f'당신의 띠는 {list11[cal_index]}띠 입니다.')"
   ]
  },
  {
   "cell_type": "code",
   "execution_count": null,
   "id": "e76f521f",
   "metadata": {},
   "outputs": [],
   "source": [
    "# 과제12_1030 : 커피 자판기 프로그램\n",
    "- 시나리오 : 자판기 커피 재고 5잔, 커피 1잔 가격 300원, 재고 범위내에서 300원 이상 돈을 넣으면 거스름돈과 커피를 주고 \n",
    "              그렇지 않으면 반환하며 재고가 소진되면 안내멘트 출력\n",
    "- 각 Case별 멘트 출력은 상황에 맞게 창작\n",
    "- while, if ~ elif ~ else 제어문을 사용하여 작성"
   ]
  },
  {
   "cell_type": "code",
   "execution_count": 11,
   "id": "7bb92ce1",
   "metadata": {},
   "outputs": [
    {
     "name": "stdout",
     "output_type": "stream",
     "text": [
      "돈을 주시면 커피를 드립니다.500\n",
      "거스름돈 200원을 반환하고 커피를 추출합니다.\n",
      "돈을 주시면 커피를 드립니다.700\n",
      "거스름돈 400원을 반환하고 커피를 추출합니다.\n",
      "돈을 주시면 커피를 드립니다.300\n",
      "커피를 추출합니다\n",
      "돈을 주시면 커피를 드립니다.300\n",
      "커피를 추출합니다\n",
      "돈을 주시면 커피를 드립니다.300\n",
      "커피를 추출합니다\n",
      "커피가 다 소진되었습니다. 다음에 또 찾아주시길 바랍니다.\n"
     ]
    }
   ],
   "source": [
    "# 정석적인 문제 풀이\n",
    "coffee = 5\n",
    "while True:\n",
    "    money =int(input(\"돈을 주시면 커피를 드립니다.\"))\n",
    "    if money ==300:\n",
    "        print(\"커피를 추출합니다\")\n",
    "        coffee -=1\n",
    "    elif money > 300:\n",
    "        print(\"거스름돈 %d원을 반환하고 커피를 추출합니다.\"%(money-300))\n",
    "        coffee -=1\n",
    "    else:\n",
    "        print(\"금액이 부족하여 %d원을 반환합니다.\"%(돈))\n",
    "    if coffee == 0:\n",
    "        print(\"커피가 다 소진되었습니다. 다음에 또 찾아주시길 바랍니다.\")\n",
    "        break"
   ]
  },
  {
   "cell_type": "code",
   "execution_count": 13,
   "id": "f2ae0305",
   "metadata": {
    "collapsed": true
   },
   "outputs": [
    {
     "name": "stdout",
     "output_type": "stream",
     "text": [
      "kita 자판기 안내\n",
      "커피 1잔: 300원\n",
      "남은재고: 5잔\n",
      "=======================================================\n",
      "선택 잔수: 0잔\n",
      "가격: 0원\n",
      "넣은 돈: 0원\n",
      "=======================================================\n",
      "0.안내 보기 / 1.잔수 입력 / 2. 돈 넣기 / 3. 주문 완료\n",
      "=======================================================\n",
      "메뉴 번호를 선택하세요: 1\n",
      "\n",
      "주문할 잔수를 선택하세요(재고 5잔) : 2\n",
      "=======================================================\n",
      "선택 잔수: 2잔\n",
      "가격: 600원\n",
      "넣은 돈: 0원\n",
      "=======================================================\n",
      "0.안내 보기 / 1.잔수 입력 / 2. 돈 넣기 / 3. 주문 완료\n",
      "=======================================================\n",
      "메뉴 번호를 선택하세요: 2\n",
      "\n",
      "돈을 넣어주세요(넣은 돈 0원) : 500\n",
      "=======================================================\n",
      "선택 잔수: 2잔\n",
      "가격: 600원\n",
      "넣은 돈: 500원\n",
      "=======================================================\n",
      "0.안내 보기 / 1.잔수 입력 / 2. 돈 넣기 / 3. 주문 완료\n",
      "=======================================================\n",
      "메뉴 번호를 선택하세요: 3\n",
      "\n",
      "금액이 모자랍니다. 돈을 넣거나 잔수를 재입력하세요.\n",
      "=======================================================\n",
      "선택 잔수: 2잔\n",
      "가격: 600원\n",
      "넣은 돈: 500원\n",
      "=======================================================\n",
      "0.안내 보기 / 1.잔수 입력 / 2. 돈 넣기 / 3. 주문 완료\n",
      "=======================================================\n",
      "메뉴 번호를 선택하세요: 2\n",
      "\n",
      "돈을 넣어주세요(넣은 돈 500원) : 100\n",
      "=======================================================\n",
      "선택 잔수: 2잔\n",
      "가격: 600원\n",
      "넣은 돈: 600원\n",
      "=======================================================\n",
      "0.안내 보기 / 1.잔수 입력 / 2. 돈 넣기 / 3. 주문 완료\n",
      "=======================================================\n",
      "메뉴 번호를 선택하세요: 3\n",
      "\n",
      "주문하신 커피 2잔\n",
      "거스름돈 0원 반출완료 되었습니다.\n",
      "\n",
      "kita 자판기 안내\n",
      "커피 1잔: 300원\n",
      "남은재고: 3잔\n",
      "=======================================================\n",
      "선택 잔수: 0잔\n",
      "가격: 0원\n",
      "넣은 돈: 0원\n",
      "=======================================================\n",
      "0.안내 보기 / 1.잔수 입력 / 2. 돈 넣기 / 3. 주문 완료\n",
      "=======================================================\n",
      "메뉴 번호를 선택하세요: 1\n",
      "\n",
      "주문할 잔수를 선택하세요(재고 3잔) : 3\n",
      "=======================================================\n",
      "선택 잔수: 3잔\n",
      "가격: 900원\n",
      "넣은 돈: 0원\n",
      "=======================================================\n",
      "0.안내 보기 / 1.잔수 입력 / 2. 돈 넣기 / 3. 주문 완료\n",
      "=======================================================\n",
      "메뉴 번호를 선택하세요: 2\n",
      "\n",
      "돈을 넣어주세요(넣은 돈 0원) : 1000\n",
      "=======================================================\n",
      "선택 잔수: 3잔\n",
      "가격: 900원\n",
      "넣은 돈: 1000원\n",
      "=======================================================\n",
      "0.안내 보기 / 1.잔수 입력 / 2. 돈 넣기 / 3. 주문 완료\n",
      "=======================================================\n",
      "메뉴 번호를 선택하세요: 3\n",
      "\n",
      "주문하신 커피 3잔\n",
      "거스름돈 100원 반출완료 되었습니다.\n",
      "\n",
      "재고 소진으로 자판기가 꺼집니다.\n"
     ]
    }
   ],
   "source": [
    "# 완성도를 높여서 재시도.\n",
    "# 메뉴를 고를 필요 없이 순서대로 진행.\n",
    "remain = 5\n",
    "\n",
    "money_input = 0\n",
    "\n",
    "cup_num = 0\n",
    "\n",
    "intro_str = f'kita 자판기 안내\\n커피 1잔: 300원\\n남은재고: {remain}잔'\n",
    "line_str = '======================================================='\n",
    "list_str = f'선택 잔수: {cup_num}잔\\n가격: {cup_num*300}원\\n넣은 돈: {money_input}원'\n",
    "menu_str = '0.안내 보기 / 1.잔수 입력 / 2. 돈 넣기 / 3. 주문 완료'\n",
    "\n",
    "cnt = 0 # 무한 루프 방지용, 첫화면 확인\n",
    "while cnt < 20:\n",
    "    if cnt == 0:\n",
    "        print(intro_str)\n",
    "    cnt += 1    \n",
    "    \n",
    "    print(line_str)\n",
    "    print(list_str)\n",
    "    print(line_str)\n",
    "    print(menu_str)\n",
    "    print(line_str)\n",
    "    order = int(input('메뉴 번호를 선택하세요: '))\n",
    "    print()\n",
    "    if order in [0,1,2,3]:\n",
    "        if order == 0:\n",
    "            print(intro_str)\n",
    "        elif order == 1:\n",
    "            cup_num = int(input(f'주문할 잔수를 선택하세요(재고 {remain}잔) : '))\n",
    "            list_str = f'선택 잔수: {cup_num}잔\\n가격: {cup_num*300}원\\n넣은 돈: {money_input}원'\n",
    "        elif order == 2:\n",
    "            money_input += int(input(f'돈을 넣어주세요(넣은 돈 {money_input}원) : '))\n",
    "            list_str = f'선택 잔수: {cup_num}잔\\n가격: {cup_num*300}원\\n넣은 돈: {money_input}원'\n",
    "        else:\n",
    "            if remain < cup_num:\n",
    "                print('재고가 모자랍니다. 잔수를 다시 입력하세요.')\n",
    "            else:\n",
    "                if money_input >= cup_num*300:\n",
    "                    print(f'주문하신 커피 {cup_num}잔\\n거스름돈 {money_input-cup_num*300}원 반출완료 되었습니다.')\n",
    "                    print()\n",
    "                    remain -= cup_num\n",
    "                    intro_str = f'kita 자판기 안내\\n커피 1잔: 300원\\n남은재고: {remain}잔'\n",
    "                    money_input = 0\n",
    "                    cup_num = 0\n",
    "                    list_str = f'선택 잔수: {cup_num}잔\\n가격: {cup_num*300}원\\n넣은 돈: {money_input}원'\n",
    "                    cnt = 0\n",
    "                else: \n",
    "                    print('금액이 모자랍니다. 돈을 넣거나 잔수를 재입력하세요.')\n",
    "    else:\n",
    "        print('메뉴 안의 숫자를 입력해주세요.')\n",
    "        continue\n",
    "        \n",
    "    if remain <= 0:\n",
    "        print('재고 소진으로 자판기가 꺼집니다.')\n",
    "        break\n",
    "        \n",
    "    "
   ]
  },
  {
   "cell_type": "code",
   "execution_count": 1,
   "id": "350feaee",
   "metadata": {},
   "outputs": [
    {
     "name": "stdout",
     "output_type": "stream",
     "text": [
      "kita 자판기 안내\n",
      "커피 1잔: 300원\n",
      "남은재고: 5잔\n",
      "=======================================================\n",
      "선택 잔수: 0잔\n",
      "가격: 0원\n",
      "=======================================================\n",
      "0.안내 보기 / 1.잔수 입력 / 2. 돈 넣기\n",
      "=======================================================\n",
      "메뉴 번호를 선택하세요: 1\n",
      "\n",
      "주문할 잔수를 선택하세요(재고 5잔) : 2\n",
      "=======================================================\n",
      "선택 잔수: 2잔\n",
      "가격: 600원\n",
      "=======================================================\n",
      "0.안내 보기 / 1.잔수 입력 / 2. 돈 넣기\n",
      "=======================================================\n",
      "메뉴 번호를 선택하세요: 2\n",
      "\n",
      "돈을 넣어주세요: 1000\n",
      "주문하신 커피 2잔\n",
      "거스름돈 400원 반출완료 되었습니다.\n",
      "\n",
      "kita 자판기 안내\n",
      "커피 1잔: 300원\n",
      "남은재고: 3잔\n",
      "=======================================================\n",
      "선택 잔수: 0잔\n",
      "가격: 0원\n",
      "=======================================================\n",
      "0.안내 보기 / 1.잔수 입력 / 2. 돈 넣기\n",
      "=======================================================\n",
      "메뉴 번호를 선택하세요: 1\n",
      "\n",
      "주문할 잔수를 선택하세요(재고 3잔) : 3\n",
      "=======================================================\n",
      "선택 잔수: 3잔\n",
      "가격: 900원\n",
      "=======================================================\n",
      "0.안내 보기 / 1.잔수 입력 / 2. 돈 넣기\n",
      "=======================================================\n",
      "메뉴 번호를 선택하세요: 2\n",
      "\n",
      "돈을 넣어주세요: 1500\n",
      "주문하신 커피 3잔\n",
      "거스름돈 600원 반출완료 되었습니다.\n",
      "\n",
      "재고 소진으로 자판기가 꺼집니다.\n"
     ]
    }
   ],
   "source": [
    "# 자판기 완성도 개선_강사님 의견 반영\n",
    "# 돈을 넣을 경우 자동으로 주문완료\n",
    "remain = 5\n",
    "\n",
    "money_input = 0\n",
    "\n",
    "cup_num = 0\n",
    "\n",
    "intro_str = f'kita 자판기 안내\\n커피 1잔: 300원\\n남은재고: {remain}잔'\n",
    "line_str = '======================================================='\n",
    "list_str = f'선택 잔수: {cup_num}잔\\n가격: {cup_num*300}원'\n",
    "menu_str = '0.안내 보기 / 1.잔수 입력 / 2. 돈 넣기'\n",
    "\n",
    "cnt = 0 # 무한 루프 방지용, 첫화면 확인\n",
    "while cnt < 20:\n",
    "    if cnt == 0:\n",
    "        print(intro_str)\n",
    "    cnt += 1    \n",
    "    \n",
    "    print(line_str)\n",
    "    print(list_str)\n",
    "    print(line_str)\n",
    "    print(menu_str)\n",
    "    print(line_str)\n",
    "    order = int(input('메뉴 번호를 선택하세요: '))\n",
    "    print()\n",
    "    if order in [0,1,2]:\n",
    "        if order == 0:\n",
    "            print(intro_str)\n",
    "        elif order == 1:\n",
    "            cup_num_input = int(input(f'주문할 잔수를 선택하세요(재고 {remain}잔) : '))\n",
    "            \n",
    "            if remain < cup_num_input:\n",
    "                print('재고가 모자랍니다. 잔수를 다시 입력하세요.')\n",
    "            else:\n",
    "                cup_num = cup_num_input\n",
    "                list_str = f'선택 잔수: {cup_num}잔\\n가격: {cup_num*300}원'\n",
    "        else:\n",
    "            money_input02 = int(input(f'돈을 넣어주세요: '))\n",
    "            \n",
    "            if money_input02 >= cup_num*300:\n",
    "                money_input = money_input02\n",
    "                print(f'주문하신 커피 {cup_num}잔\\n거스름돈 {money_input-cup_num*300}원 반출완료 되었습니다.')\n",
    "                print()\n",
    "                remain -= cup_num\n",
    "                intro_str = f'kita 자판기 안내\\n커피 1잔: 300원\\n남은재고: {remain}잔'\n",
    "                money_input = 0\n",
    "                cup_num = 0\n",
    "                list_str = f'선택 잔수: {cup_num}잔\\n가격: {cup_num*300}원'\n",
    "                cnt = 0\n",
    "            else: \n",
    "                print('금액이 모자랍니다. 돈을 다시 넣거나 잔수를 재입력하세요.')\n",
    "    else:\n",
    "        print('메뉴 안의 숫자를 입력해주세요.')\n",
    "        continue\n",
    "        \n",
    "    if remain <= 0:\n",
    "        print('재고 소진으로 자판기가 꺼집니다.')\n",
    "        break\n"
   ]
  },
  {
   "cell_type": "markdown",
   "id": "d56155be",
   "metadata": {},
   "source": [
    "#### 음식점의 음식 주문가격 산출 프로그램을 자유롭게 작성하세요\n",
    "\n",
    "'''\n",
    "KITA 식당에 오신 것을 환영합니다\n",
    "\n",
    "========================================\n",
    "\n",
    "          - 메  뉴 -\n",
    "    1. 불고기 비빔밥 : 12,000원\n",
    "    2. 야채 비빔밥 : 8,000원\n",
    "    3. 전주 비빔밥 : 10,000원\n",
    "\n",
    "    세트 주문시 : 3000원 추가\n",
    "    (세트는 밥과 반찬이 추가됩니다.)\n",
    "\n",
    "========================================\n",
    "\n",
    "비빔밥 메뉴를 선택해 주세요. 1, 2, 3 >>> 2\n",
    "세트 주문을 하시겠습니까? 3,000원 추가. y, n >>> y\n",
    "총 금액은 11000원 입니다.\n",
    "'''"
   ]
  },
  {
   "cell_type": "code",
   "execution_count": 12,
   "id": "13dd1473",
   "metadata": {
    "scrolled": false
   },
   "outputs": [
    {
     "name": "stdout",
     "output_type": "stream",
     "text": [
      "\n",
      "KITA 식당에 오신 것을 환영합니다\n",
      "\n",
      "========================================\n",
      "\n",
      "          - 메  뉴 -\n",
      "    1. 불고기 비빔밥 : 12,000원\n",
      "    2. 야채 비빔밥 : 8,000원\n",
      "    3. 전주 비빔밥 : 10,000원\n",
      "\n",
      "    세트 주문시 : 3000원 추가\n",
      "    (세트는 밥과 반찬이 추가됩니다.)\n",
      "\n",
      "========================================\n",
      "\n",
      "\n",
      "==========================================================\n",
      "1.메뉴보기 2.주문하기 3.장바구니 4.주문완료 5.시스템종료\n",
      "==========================================================\n",
      "\n",
      "실행할 내용을 번호로 선택하세요: 2\n",
      "\n",
      "비빔밥 메뉴를 선택해 주세요. 1, 2, 3 >>>2\n",
      "세트 주문을 하시겠습니까? 3,000원 추가. y, n >>>y\n",
      "야채 비빔밥 세트 1개 추가되었습니다.\n",
      "\n",
      "==========================================================\n",
      "1.메뉴보기 2.주문하기 3.장바구니 4.주문완료 5.시스템종료\n",
      "==========================================================\n",
      "\n",
      "실행할 내용을 번호로 선택하세요: 1\n",
      "\n",
      "\n",
      "KITA 식당에 오신 것을 환영합니다\n",
      "\n",
      "========================================\n",
      "\n",
      "          - 메  뉴 -\n",
      "    1. 불고기 비빔밥 : 12,000원\n",
      "    2. 야채 비빔밥 : 8,000원\n",
      "    3. 전주 비빔밥 : 10,000원\n",
      "\n",
      "    세트 주문시 : 3000원 추가\n",
      "    (세트는 밥과 반찬이 추가됩니다.)\n",
      "\n",
      "========================================\n",
      "\n",
      "\n",
      "==========================================================\n",
      "1.메뉴보기 2.주문하기 3.장바구니 4.주문완료 5.시스템종료\n",
      "==========================================================\n",
      "\n",
      "실행할 내용을 번호로 선택하세요: 2\n",
      "\n",
      "비빔밥 메뉴를 선택해 주세요. 1, 2, 3 >>>1\n",
      "세트 주문을 하시겠습니까? 3,000원 추가. y, n >>>n\n",
      "불고기 비빔밥 1개 추가되었습니다.\n",
      "\n",
      "==========================================================\n",
      "1.메뉴보기 2.주문하기 3.장바구니 4.주문완료 5.시스템종료\n",
      "==========================================================\n",
      "\n",
      "실행할 내용을 번호로 선택하세요: 3\n",
      "\n",
      "장바구니 보기:\n",
      "========================================\n",
      "불고기 비빔밥 : 1개\n",
      "불고기 비빔밥 세트 : 0개\n",
      "야채 비빔밥 : 0개\n",
      "야채 비빔밥 세트 : 1개\n",
      "전주 비빔밥 : 0개\n",
      "전주 비빔밥 세트 : 0개\n",
      "========================================\n",
      "\n",
      "==========================================================\n",
      "1.메뉴보기 2.주문하기 3.장바구니 4.주문완료 5.시스템종료\n",
      "==========================================================\n",
      "\n",
      "실행할 내용을 번호로 선택하세요: 4\n",
      "\n",
      "총 가격은 23000원 입니다.\n",
      "주문을 완료하여 장바구니가 초기화됩니다.\n",
      "\n",
      "==========================================================\n",
      "1.메뉴보기 2.주문하기 3.장바구니 4.주문완료 5.시스템종료\n",
      "==========================================================\n",
      "\n",
      "실행할 내용을 번호로 선택하세요: 3\n",
      "\n",
      "장바구니 보기:\n",
      "========================================\n",
      "불고기 비빔밥 : 0개\n",
      "불고기 비빔밥 세트 : 0개\n",
      "야채 비빔밥 : 0개\n",
      "야채 비빔밥 세트 : 0개\n",
      "전주 비빔밥 : 0개\n",
      "전주 비빔밥 세트 : 0개\n",
      "========================================\n",
      "\n",
      "==========================================================\n",
      "1.메뉴보기 2.주문하기 3.장바구니 4.주문완료 5.시스템종료\n",
      "==========================================================\n",
      "\n",
      "실행할 내용을 번호로 선택하세요: 5\n",
      "\n",
      "주문 시스템을 종료합니다.\n"
     ]
    }
   ],
   "source": [
    "intro_str = '''\n",
    "KITA 식당에 오신 것을 환영합니다\n",
    "\n",
    "========================================\n",
    "\n",
    "          - 메  뉴 -\n",
    "    1. 불고기 비빔밥 : 12,000원\n",
    "    2. 야채 비빔밥 : 8,000원\n",
    "    3. 전주 비빔밥 : 10,000원\n",
    "\n",
    "    세트 주문시 : 3000원 추가\n",
    "    (세트는 밥과 반찬이 추가됩니다.)\n",
    "\n",
    "========================================\n",
    "'''\n",
    "\n",
    "menu_dic = {'불고기 비빔밥': 0, '불고기 비빔밥 세트': 0, \n",
    "            '야채 비빔밥': 0, '야채 비빔밥 세트':0, \n",
    "            '전주 비빔밥':0, '전주 비빔밥 세트':0}\n",
    "money_dic = {'불고기 비빔밥': 12000, '불고기 비빔밥 세트': 15000, \n",
    "             '야채 비빔밥': 8000, '야채 비빔밥 세트': 11000, \n",
    "             '전주 비빔밥': 10000, '전주 비빔밥 세트': 13000}\n",
    "\n",
    "def cal_menu(m1, m2):\n",
    "    if m1 == 1 and m2 != 'y':\n",
    "        menu_dic['불고기 비빔밥'] += 1\n",
    "        print('불고기 비빔밥 1개 추가되었습니다.')\n",
    "    elif m1 == 1 and m2 == 'y':\n",
    "        menu_dic['불고기 비빔밥 세트'] += 1\n",
    "        print('불고기 비빔밥 세트 1개 추가되었습니다.')\n",
    "    elif m1 == 2 and m2 != 'y':\n",
    "        menu_dic['야채 비빔밥'] += 1\n",
    "        print('야채 비빔밥 1개 추가되었습니다.')\n",
    "    elif m1 == 2 and m2 == 'y':\n",
    "        menu_dic['야채 비빔밥 세트'] += 1\n",
    "        print('야채 비빔밥 세트 1개 추가되었습니다.')\n",
    "    elif m1 == 3 and m2 != 'y':\n",
    "        menu_dic['전주 비빔밥'] += 1\n",
    "        print('전주 비빔밥 1개 추가되었습니다.')\n",
    "    elif m1 == 3 and m2 == 'y':\n",
    "        menu_dic['전주 비빔밥 세트'] += 1\n",
    "        print('전주 비빔밥 세트 1개 추가되었습니다.')\n",
    "    else:\n",
    "        print('메뉴가 선택되지 않았습니다.')\n",
    "\n",
    "def show_money():\n",
    "    result = 0\n",
    "    for k, v in menu_dic.items():\n",
    "        if v != 0:\n",
    "            result += money_dic[k]\n",
    "    print(f'총 가격은 {result}원 입니다.')\n",
    "    print('주문을 완료하여 장바구니가 초기화됩니다.')\n",
    "    return result\n",
    "      \n",
    "def show_list():\n",
    "    print('장바구니 보기:')\n",
    "    print('========================================')\n",
    "    for k, v in menu_dic.items():\n",
    "        print(f'{k} : {v}개')\n",
    "    print('========================================')\n",
    "    \n",
    "def menu_order():\n",
    "    m1 = int(input('비빔밥 메뉴를 선택해 주세요. 1, 2, 3 >>>'))\n",
    "    m2 = str(input('세트 주문을 하시겠습니까? 3,000원 추가. y, n >>>'))\n",
    "    cal_menu(m1, m2)\n",
    "\n",
    "select_str ='''\n",
    "==========================================================\n",
    "1.메뉴보기 2.주문하기 3.장바구니 4.주문완료 5.시스템종료\n",
    "==========================================================\n",
    "'''\n",
    "cnt = 0;  # 무한 루프 방지용, 첫화면 확인\n",
    "while cnt < 20:\n",
    "    if cnt == 0:\n",
    "        print(intro_str)\n",
    "    \n",
    "    print(select_str)\n",
    "    select_order = int(input('실행할 내용을 번호로 선택하세요: '))\n",
    "    print()\n",
    "    if select_order in [1,2,3,4,5]:\n",
    "        if select_order == 1:\n",
    "            print(intro_str)\n",
    "        elif select_order == 2:\n",
    "            menu_order()\n",
    "        elif select_order == 3:\n",
    "            show_list()\n",
    "        elif select_order == 4:\n",
    "            show_money()\n",
    "            # 주문 초기화\n",
    "            menu_dic = {'불고기 비빔밥': 0, '불고기 비빔밥 세트': 0, \n",
    "            '야채 비빔밥': 0, '야채 비빔밥 세트':0, \n",
    "            '전주 비빔밥':0, '전주 비빔밥 세트':0}\n",
    "            cnt = 0\n",
    "        else:\n",
    "            print('주문 시스템을 종료합니다.')\n",
    "            break\n",
    "    else:\n",
    "        print('메뉴 안의 번호를 입력하세요')\n",
    "    cnt += 1\n",
    "    \n",
    "    \n",
    "    \n",
    "    "
   ]
  },
  {
   "cell_type": "code",
   "execution_count": null,
   "id": "45cc11f4",
   "metadata": {},
   "outputs": [],
   "source": []
  },
  {
   "cell_type": "code",
   "execution_count": null,
   "id": "eb42b251",
   "metadata": {},
   "outputs": [],
   "source": []
  }
 ],
 "metadata": {
  "kernelspec": {
   "display_name": "Python 3 (ipykernel)",
   "language": "python",
   "name": "python3"
  },
  "language_info": {
   "codemirror_mode": {
    "name": "ipython",
    "version": 3
   },
   "file_extension": ".py",
   "mimetype": "text/x-python",
   "name": "python",
   "nbconvert_exporter": "python",
   "pygments_lexer": "ipython3",
   "version": "3.10.13"
  }
 },
 "nbformat": 4,
 "nbformat_minor": 5
}
