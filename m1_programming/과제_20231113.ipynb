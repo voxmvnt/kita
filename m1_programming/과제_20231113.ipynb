{
 "cells": [
  {
   "cell_type": "markdown",
   "id": "5e949211",
   "metadata": {},
   "source": [
    "문제1_1113: 문자열 \"The cat in the hat.\"에서 \"cat\"과 \"hat\"을 찾으세요."
   ]
  },
  {
   "cell_type": "code",
   "execution_count": 11,
   "id": "c316c38a",
   "metadata": {},
   "outputs": [
    {
     "name": "stdout",
     "output_type": "stream",
     "text": [
      "['cat', 'hat']\n"
     ]
    }
   ],
   "source": [
    "import re\n",
    "\n",
    "p1 = r\".at\"\n",
    "t1 = \"The cat in the hat.\"\n",
    "s1 = re.findall(p1, t1)\n",
    "\n",
    "print(s1)"
   ]
  },
  {
   "cell_type": "markdown",
   "id": "a362810f",
   "metadata": {},
   "source": [
    "문제2_1113: 문자열 \"bat, cat, rat, fat\"에서 \"bat\", \"cat\", \"rat\"을 찾되, \"fat\"은 제외하세요."
   ]
  },
  {
   "cell_type": "code",
   "execution_count": 23,
   "id": "67de1525",
   "metadata": {},
   "outputs": [
    {
     "name": "stdout",
     "output_type": "stream",
     "text": [
      "['bat', 'cat', 'rat']\n"
     ]
    }
   ],
   "source": [
    "import re\n",
    "\n",
    "p2 = r\"[^f]at\"\n",
    "t2 = \"bat, cat, rat, fat\"\n",
    "s2 = re.findall(p2, t2)\n",
    "\n",
    "print(s2)"
   ]
  },
  {
   "cell_type": "markdown",
   "id": "cd4c864c",
   "metadata": {},
   "source": [
    "문제3_1113: 문자열 \"123 abc 456\"에서 모든 숫자를 찾으세요."
   ]
  },
  {
   "cell_type": "code",
   "execution_count": 31,
   "id": "00213a71",
   "metadata": {},
   "outputs": [
    {
     "name": "stdout",
     "output_type": "stream",
     "text": [
      "['1', '2', '3', '4', '5', '6']\n",
      "[{'1': (0, 1)}, {'2': (1, 2)}, {'3': (2, 3)}, {'4': (8, 9)}, {'5': (9, 10)}, {'6': (10, 11)}]\n",
      "[<re.Match object; span=(0, 1), match='1'>, <re.Match object; span=(1, 2), match='2'>, <re.Match object; span=(2, 3), match='3'>, <re.Match object; span=(8, 9), match='4'>, <re.Match object; span=(9, 10), match='5'>, <re.Match object; span=(10, 11), match='6'>]\n"
     ]
    }
   ],
   "source": [
    "import re\n",
    "\n",
    "p3 = r\"\\d\"\n",
    "t3 = \"123 abc 456\"\n",
    "s3 = re.findall(p3, t3)\n",
    "s3_it = [{match.group(): match.span()} for match in re.finditer(p3, t3)]\n",
    "s3_li_test = list(re.finditer(p3, t3))\n",
    "\n",
    "print(s3)\n",
    "print(s3_it)\n",
    "print(s3_li_test)"
   ]
  },
  {
   "cell_type": "markdown",
   "id": "91f2e502",
   "metadata": {},
   "source": [
    "문제4_1113: 문자열 \"Hello, my name is John.\"에서 첫 단어 \"Hello\"를 찾으세요."
   ]
  },
  {
   "cell_type": "code",
   "execution_count": 3,
   "id": "823b68ae",
   "metadata": {},
   "outputs": [
    {
     "name": "stdout",
     "output_type": "stream",
     "text": [
      "Hello\n"
     ]
    }
   ],
   "source": [
    "import re\n",
    "\n",
    "p4 = r\"^Hello\"   # ^(캐럿) 첫단어\n",
    "t4 = \"Hello, my name is John.\"   \n",
    "s4 = re.match(p4, t4)   # match 첫단어\n",
    "\n",
    "print(s4.group())"
   ]
  },
  {
   "cell_type": "markdown",
   "id": "0f341810",
   "metadata": {},
   "source": [
    "문제5_1113: 문자열 \"The car parked in the garage #42.\"에서 문장의 마지막 단어 \"garage\"를 찾으세요."
   ]
  },
  {
   "cell_type": "code",
   "execution_count": 33,
   "id": "08cf331f",
   "metadata": {},
   "outputs": [
    {
     "name": "stdout",
     "output_type": "stream",
     "text": [
      "garage\n",
      "(22, 28)\n"
     ]
    }
   ],
   "source": [
    "import re\n",
    "\n",
    "p5 = r\"garage\\b\"  # \\b는 단어의 경계를 표시\n",
    "t5 = \"The car parked in the garage #42.\"\n",
    "s5 = re.search(p5, t5)\n",
    "\n",
    "print(s5.group())\n",
    "print(s5.span())"
   ]
  },
  {
   "cell_type": "markdown",
   "id": "488d51c2",
   "metadata": {},
   "source": [
    "문제6_1113: 이메일 주소 찾기\n",
    "- 조건: user@example.com과 같은 이메일 주소를 찾는 정규 표현식을 작성하세요."
   ]
  },
  {
   "cell_type": "code",
   "execution_count": 58,
   "id": "428f2a1f",
   "metadata": {},
   "outputs": [
    {
     "name": "stdout",
     "output_type": "stream",
     "text": [
      "user@example.com\n"
     ]
    }
   ],
   "source": [
    "import re\n",
    "p6 = re.compile(r'[\\d\\D]+@[\\d\\D]+.com', re.I)\n",
    "t6 = 'user@example.com'\n",
    "\n",
    "print(p6.search(t6).group())"
   ]
  },
  {
   "cell_type": "code",
   "execution_count": 66,
   "id": "6bc8052e",
   "metadata": {},
   "outputs": [
    {
     "name": "stdout",
     "output_type": "stream",
     "text": [
      "['user@example.com']\n"
     ]
    }
   ],
   "source": [
    "import re \n",
    "text = \"user@example.com\"\n",
    "pattern = r\"\\b[a-zA-Z0-9._+-]+@[a-zA-Z0-9]+\\.[a-zA-Z]{2,4}\\b\"  # \\b (block)을 통해 이 형태로 맞춰 찾는다.\n",
    "email = re.findall(pattern, text)\n",
    "print(email)"
   ]
  },
  {
   "cell_type": "markdown",
   "id": "2c1be1b2",
   "metadata": {},
   "source": [
    "문제7_1113: 전화번호 검증\n",
    "- 조건: 010-1234-5678 형태의 대한민국 전화번호와 일치하는 정규 표현식을 작성하세요."
   ]
  },
  {
   "cell_type": "code",
   "execution_count": 67,
   "id": "d1d066f5",
   "metadata": {
    "scrolled": true
   },
   "outputs": [
    {
     "name": "stdout",
     "output_type": "stream",
     "text": [
      "010-1234-5678\n"
     ]
    }
   ],
   "source": [
    "import re\n",
    "p7 = re.compile(r'\\b\\d{3}-\\d{4}-\\d{4}\\b')\n",
    "t7 = '010-1234-5678'\n",
    "\n",
    "print(p7.search(t7).group())"
   ]
  },
  {
   "cell_type": "markdown",
   "id": "533ddbbb",
   "metadata": {},
   "source": [
    "문제8_1113: 웹사이트 URL 검증\n",
    "- 조건: http://www.example.com 형태의 웹사이트 주소와 일치하는 정규 표현식을 작성하세요."
   ]
  },
  {
   "cell_type": "code",
   "execution_count": 70,
   "id": "adef4a5b",
   "metadata": {},
   "outputs": [
    {
     "name": "stdout",
     "output_type": "stream",
     "text": [
      "http://www.example.com\n"
     ]
    }
   ],
   "source": [
    "import re\n",
    "p8 = re.compile(r'^http://[\\d\\D]+\\.\\D+/?', re.I)\n",
    "t8 = 'http://www.example.com'\n",
    "\n",
    "print(p8.search(t8).group())"
   ]
  },
  {
   "cell_type": "code",
   "execution_count": 73,
   "id": "529bf04b",
   "metadata": {},
   "outputs": [
    {
     "name": "stdout",
     "output_type": "stream",
     "text": [
      "유효한 URL입니다.\n"
     ]
    }
   ],
   "source": [
    "# 강사님 정답\n",
    "url_example = \"http://www.example.com\"\n",
    "url_pattern = r'http[s]?://www\\.[a-zA-Z0-9-]+\\.[a-zA-Z]+/?'\n",
    "if re.match(url_pattern, url_example):\n",
    "    print(\"유효한 URL입니다.\")\n",
    "else:\n",
    "    print(\"유효하지 않은 URL입니다.\")"
   ]
  },
  {
   "cell_type": "markdown",
   "id": "e6cf379a",
   "metadata": {},
   "source": [
    "문제9_1113: 날짜 형식 검증\n",
    "- 조건: YYYY-MM-DD 형식의 날짜와 일치하는 정규 표현식을 작성하세요 (예: 2023-11-09)."
   ]
  },
  {
   "cell_type": "code",
   "execution_count": 39,
   "id": "da3953db",
   "metadata": {},
   "outputs": [
    {
     "name": "stdout",
     "output_type": "stream",
     "text": [
      "2023-11-09\n"
     ]
    }
   ],
   "source": [
    "import re\n",
    "p9 = re.compile(r'\\d{4}-\\d{2}-\\d{2}')\n",
    "t9 = '2023-11-09'\n",
    "\n",
    "print(p9.search(t9).group())"
   ]
  },
  {
   "cell_type": "markdown",
   "id": "72b3a132",
   "metadata": {},
   "source": [
    "문제10_1113: HTML 태그 제거\n",
    "- 조건: <p>Hello World</p>와 같은 HTML 태그를 찾아 제거하는 정규 표현식을 작성하세요."
   ]
  },
  {
   "cell_type": "code",
   "execution_count": 14,
   "id": "79513582",
   "metadata": {},
   "outputs": [
    {
     "name": "stdout",
     "output_type": "stream",
     "text": [
      "Hello World\n"
     ]
    }
   ],
   "source": [
    "import re\n",
    "p10 = re.compile(r'<.*?>')\n",
    "t10 = r'<p>Hello World</p>'\n",
    "\n",
    "print(re.sub(p10,'',t10))"
   ]
  },
  {
   "cell_type": "code",
   "execution_count": 13,
   "id": "eb3f530e",
   "metadata": {},
   "outputs": [
    {
     "name": "stdout",
     "output_type": "stream",
     "text": [
      "\n"
     ]
    }
   ],
   "source": [
    "import re\n",
    "p10 = re.compile(r'<.*>')\n",
    "t10 = r'<p>Hello World</p>'\n",
    "\n",
    "print(re.sub(p10,'',t10))"
   ]
  },
  {
   "cell_type": "code",
   "execution_count": 72,
   "id": "b43a9f32",
   "metadata": {},
   "outputs": [
    {
     "name": "stdout",
     "output_type": "stream",
     "text": [
      "Hello World\n"
     ]
    }
   ],
   "source": [
    "# 강사님 정답\n",
    "import re\n",
    "p10 = re.compile(r'<[^>]+>')\n",
    "t10 = r'<p>Hello World</p>'\n",
    "\n",
    "print(re.sub(p10,'',t10))"
   ]
  },
  {
   "cell_type": "markdown",
   "id": "812424b1",
   "metadata": {},
   "source": [
    "문제11_1113: 숫자만 추출\n",
    "- 조건: 문자열에서 숫자만 추출하는 정규 표현식을 작성하세요 (예: abc1234d5e에서 12345 추출)."
   ]
  },
  {
   "cell_type": "code",
   "execution_count": 74,
   "id": "2a795e64",
   "metadata": {},
   "outputs": [
    {
     "name": "stdout",
     "output_type": "stream",
     "text": [
      "12345\n"
     ]
    }
   ],
   "source": [
    "import re\n",
    "find_str = re.findall(r'\\d', 'abc1234d5e')\n",
    "join_str = ''.join(find_str)\n",
    "print(join_str)"
   ]
  },
  {
   "cell_type": "markdown",
   "id": "8a0d9252",
   "metadata": {},
   "source": [
    "문제12_1113: 대문자로 시작하는 단어 찾기\n",
    "- 조건: 각 단어가 대문자로 시작하는 경우와 일치하는 정규 표현식을 작성하세요 (예: Hello World에서 Hello와 World 추출)."
   ]
  },
  {
   "cell_type": "code",
   "execution_count": 5,
   "id": "b5c38929",
   "metadata": {},
   "outputs": [
    {
     "name": "stdout",
     "output_type": "stream",
     "text": [
      "['Hello', 'World', 'H3']\n"
     ]
    }
   ],
   "source": [
    "import re\n",
    "find_str = re.findall(r'\\b[A-Z]\\w*\\b', 'Hello World H3')\n",
    "print(find_str)"
   ]
  },
  {
   "cell_type": "markdown",
   "id": "de3aa8f3",
   "metadata": {},
   "source": [
    "문제13_1113: 이메일 유효성 검사\n",
    "- 조건: 이메일 주소가 유효한 형식인지 검사하는 정규 표현식을 작성하세요. 유효한 이메일 형식은 username@domain.extension과 같습니다."
   ]
  },
  {
   "cell_type": "code",
   "execution_count": 89,
   "id": "b32fb8dc",
   "metadata": {},
   "outputs": [
    {
     "name": "stdout",
     "output_type": "stream",
     "text": [
      "유효합니다.\n"
     ]
    }
   ],
   "source": [
    "import re\n",
    "pattern_email = re.compile(r'\\b\\w[\\d\\D]+@[\\d\\D]+\\.[a-z]+[a-z]$')\n",
    "match = pattern_email.search(\"username@domain.extension\")\n",
    "\n",
    "if match:\n",
    "    print(\"유효합니다.\")\n",
    "else:\n",
    "    print(\"유효하지 않습니다.\")"
   ]
  },
  {
   "cell_type": "code",
   "execution_count": 6,
   "id": "d2ad9479",
   "metadata": {},
   "outputs": [
    {
     "name": "stdout",
     "output_type": "stream",
     "text": [
      "유효합니다.\n"
     ]
    }
   ],
   "source": [
    "# 강사님 정답\n",
    "pattern_email = re.compile(r'^[a-zA-Z0-9._%+-]+@[a-zA-Z0-9.-]+\\.[A-Za-z]{2,10}$')\n",
    "match = pattern_email.search(\"username@domain.extension\")\n",
    "\n",
    "if match:\n",
    "    print(\"유효합니다.\")\n",
    "else:\n",
    "    print(\"유효하지 않습니다.\")\n"
   ]
  },
  {
   "cell_type": "markdown",
   "id": "9d8936db",
   "metadata": {},
   "source": [
    "문제14_1113: IP 주소 검증\n",
    "- 조건: 192.168.1.1과 같은 IPv4 주소와 일치하는 정규 표현식을 작성하세요."
   ]
  },
  {
   "cell_type": "code",
   "execution_count": 94,
   "id": "d8cd8bef",
   "metadata": {},
   "outputs": [
    {
     "name": "stdout",
     "output_type": "stream",
     "text": [
      "유효합니다.\n"
     ]
    }
   ],
   "source": [
    "import re\n",
    "pattern_ip = re.compile(r'^\\d{1,3}\\.\\d{1,3}\\.\\d{1,3}\\.\\d{1,3}$')\n",
    "match = pattern_ip.search(\"192.168.1.1\")\n",
    "\n",
    "if match:\n",
    "    print(\"유효합니다.\")\n",
    "else:\n",
    "    print(\"유효하지 않습니다.\")"
   ]
  },
  {
   "cell_type": "code",
   "execution_count": 9,
   "id": "eae81e68",
   "metadata": {
    "scrolled": true
   },
   "outputs": [
    {
     "data": {
      "text/plain": [
       "{'192.168.1.1': True,\n",
       " '255.255.255.255': True,\n",
       " '0.0.0.0': True,\n",
       " '256.1.1.1': False,\n",
       " '1.1.1.1.1': False,\n",
       " '123.356.78.90': False}"
      ]
     },
     "execution_count": 9,
     "metadata": {},
     "output_type": "execute_result"
    }
   ],
   "source": [
    "# [Kevin] [오후 4:59] 문제14_1113: IP 주소 검증\n",
    "# - 조건: 192.168.1.1과 같은 IPv4 주소와 일치하는 정규 표현식을 작성하세요.\n",
    "# 0 - 255 까지로 찾음\n",
    "\n",
    "import re\n",
    "\n",
    "ip_examples = [\"192.168.1.1\", \"255.255.255.255\", \"0.0.0.0\", \n",
    "               \"256.1.1.1\", \"1.1.1.1.1\", \"123.356.78.90\"]\n",
    "\n",
    "pattern = r'^((25[0-5]|2[0-4]\\d|1\\d{2}|[1-9]?\\d)\\.){3}(25[0-5]|2[0-4]\\d|1\\d{2}|[1-9]?\\d)$'\n",
    "\n",
    "checks = {ip: bool(re.match(pattern, ip)) for ip in ip_examples}\n",
    "\n",
    "\n",
    "checks"
   ]
  },
  {
   "cell_type": "code",
   "execution_count": 11,
   "id": "33fc3d70",
   "metadata": {},
   "outputs": [
    {
     "name": "stdout",
     "output_type": "stream",
     "text": [
      "192.168.1.1\n",
      "1\n"
     ]
    }
   ],
   "source": [
    "# 강사님 정답\n",
    "ip_example = \"192.168.1.1\"\n",
    "p = re.compile(r'\\b(?:[0-9]{1,3}\\.){3}([0-9]{1,3}\\b)')\n",
    "match = p.search(ip_example)\n",
    "\n",
    "print(match.group())\n",
    "print(match.group(1)) # 비캡쳐 그룹 저장안하고 바로 1"
   ]
  },
  {
   "cell_type": "markdown",
   "id": "484f14a2",
   "metadata": {},
   "source": [
    "문제15_1113: 코드 주석 찾기\n",
    "- 조건: # This is a comment와 같은 파이썬 코드 내의 주석과 일치하는 정규 표현식을 작성하세요."
   ]
  },
  {
   "cell_type": "code",
   "execution_count": 106,
   "id": "e455fd7e",
   "metadata": {},
   "outputs": [
    {
     "name": "stdout",
     "output_type": "stream",
     "text": [
      "#따뜻한 # 가벼운\n",
      "# 주석 샘플 # 확인\n",
      "#      담백한\n",
      "#   소박한\n"
     ]
    }
   ],
   "source": [
    "import re\n",
    "\n",
    "data = '''python one\n",
    "life is too short #따뜻한 # 가벼운\n",
    "python two  \n",
    "# 주석 샘플 # 확인\n",
    "you need python  #      담백한\n",
    "python three #   소박한'''\n",
    "\n",
    "pattern = r'#\\s*[^\\n]+'  # #뒤에 공백이 있거나 없고 줄바꿈을 제외한 문자열을 찾는 정규표현식\n",
    "\n",
    "matches = re.findall(pattern, data)\n",
    "\n",
    "for match in matches:\n",
    "    print(match)\n",
    "    "
   ]
  },
  {
   "cell_type": "code",
   "execution_count": 12,
   "id": "99f37833",
   "metadata": {},
   "outputs": [
    {
     "data": {
      "text/plain": [
       "['#따뜻한 # 가벼운', '# 주석 샘플 # 확인', '#      담백한', '#   소박한']"
      ]
     },
     "execution_count": 12,
     "metadata": {},
     "output_type": "execute_result"
    }
   ],
   "source": [
    "# [Kevin] [오후 5:00] 문제15_1113: 코드 주석 찾기\n",
    "# - 조건: # This is a comment와 같은 파이썬 코드 내의 주석과 일치하는 정규 표현식을 작성하세요.\n",
    "\n",
    "import re\n",
    "\n",
    "data = '''python one\n",
    "life is too short #따뜻한 # 가벼운\n",
    "python two  \n",
    "# 주석 샘플 # 확인\n",
    "you need python  #      담백한\n",
    "python three #   소박한'''\n",
    "\n",
    "# 파이썬 주석을 찾는 정규 표현식 패턴\n",
    "pattern = r'#.*'\n",
    "\n",
    "# 패턴과 일치하는 모든 주석 찾기\n",
    "comments = re.findall(pattern, data)\n",
    "\n",
    "# 결과 출력\n",
    "comments"
   ]
  },
  {
   "cell_type": "code",
   "execution_count": null,
   "id": "45a6b57d",
   "metadata": {},
   "outputs": [],
   "source": []
  },
  {
   "cell_type": "code",
   "execution_count": null,
   "id": "f40b693f",
   "metadata": {},
   "outputs": [],
   "source": []
  },
  {
   "cell_type": "code",
   "execution_count": null,
   "id": "343b68a9",
   "metadata": {},
   "outputs": [],
   "source": []
  }
 ],
 "metadata": {
  "kernelspec": {
   "display_name": "Python 3 (ipykernel)",
   "language": "python",
   "name": "python3"
  },
  "language_info": {
   "codemirror_mode": {
    "name": "ipython",
    "version": 3
   },
   "file_extension": ".py",
   "mimetype": "text/x-python",
   "name": "python",
   "nbconvert_exporter": "python",
   "pygments_lexer": "ipython3",
   "version": "3.10.13"
  }
 },
 "nbformat": 4,
 "nbformat_minor": 5
}
