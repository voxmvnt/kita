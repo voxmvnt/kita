{
 "cells": [
  {
   "cell_type": "markdown",
   "id": "82aea1d1",
   "metadata": {},
   "source": [
    "#### 과제1_1108 : 클래스 구성 요소와 관련 아래 사항에 대한 사례를 작성하세요.\n",
    "\n",
    "- 클래스 선언\n",
    "- 생성자 \n",
    "- 속성(attributes)\n",
    "- 메서드\n",
    "- 상속\n",
    "- 인스턴스화(객체 만들기)\n",
    "- 클래스 변수\n",
    "- 매직 메서드(특수 메서드) "
   ]
  },
  {
   "cell_type": "code",
   "execution_count": 2,
   "id": "8e542be0",
   "metadata": {},
   "outputs": [
    {
     "name": "stdout",
     "output_type": "stream",
     "text": [
      "MyHome\n",
      "8500\n",
      "나는 오발탄을 8500원 주고 샀다.\n",
      "오발탄 by 이범선\n"
     ]
    }
   ],
   "source": [
    "class Book:\n",
    "    def __init__(self, title, author):\n",
    "        self.title = title\n",
    "        self.author = author\n",
    "    \n",
    "    def __str__(self):  # 객체를 문자열로 표현할 때 사용\n",
    "        return f\"{self.title} by {self.author}\"\n",
    "    \n",
    "class MyBook(Book):\n",
    "    location = 'MyHome' \n",
    "    def __init__(self, title, author, price):\n",
    "        super().__init__(title, author)\n",
    "        self.price = price\n",
    "    \n",
    "    def how_much(self):\n",
    "        return f\"나는 {self.title}을 {self.price}원 주고 샀다.\"\n",
    "    \n",
    "b1 = MyBook(\"오발탄\",\"이범선\",\"8500\")\n",
    "\n",
    "print(b1.location)\n",
    "print(b1.price)\n",
    "print(b1.how_much())\n",
    "print(b1)"
   ]
  },
  {
   "cell_type": "markdown",
   "id": "789d6eec",
   "metadata": {},
   "source": [
    "#### 과제2_1108 : 업무미팅이 2시임을 알려주는 자동 이메일을 클래스 AutoEmail을 작성하여 아래와 같이 출력하세요.\n",
    "\n",
    "- 세가지 방식으로 작성 : 생성자, 메서드, 생성자/메서드\n",
    "\n",
    "- 안녕하세요. kevin님, 업무미팅은 2시입니다."
   ]
  },
  {
   "cell_type": "code",
   "execution_count": 19,
   "id": "9f849151",
   "metadata": {},
   "outputs": [
    {
     "name": "stdout",
     "output_type": "stream",
     "text": [
      "안녕하세요. kevin님, 업무미팅은 2시입니다.\n",
      "====================================================================================================\n",
      "안녕하세요. kevin님, 업무미팅은 2시입니다.\n",
      "====================================================================================================\n",
      "안녕하세요. kevin님, 업무미팅은 2시입니다.\n"
     ]
    }
   ],
   "source": [
    "class Part1:\n",
    "    def __init__(self,name,time):\n",
    "        print(f\"안녕하세요. {name}님, 업무미팅은 {time}시입니다.\")\n",
    "        \n",
    "class Part2:\n",
    "    def show_meet(self, name, time):\n",
    "        print(f\"안녕하세요. {name}님, 업무미팅은 {time}시입니다.\")\n",
    "        \n",
    "class Part3:\n",
    "    def __init__(self,name,time):\n",
    "        self.name = name\n",
    "        self.time = time\n",
    "        \n",
    "    def show_meet(self):\n",
    "        print(f\"안녕하세요. {self.name}님, 업무미팅은 {self.time}시입니다.\")\n",
    "        \n",
    "obj1 = Part1('kevin', 2)\n",
    "print('='*100)\n",
    "obj2 = Part2()\n",
    "obj2.show_meet('kevin', 2)\n",
    "print('='*100)\n",
    "obj3 = Part3('kevin', 2)\n",
    "obj3.show_meet()"
   ]
  },
  {
   "cell_type": "markdown",
   "id": "f5ddcde1",
   "metadata": {},
   "source": [
    "#### 과제3_1108 : 사용자 함수를 작성하여 기본가격 1000에 입력 받은 값을 추가한 가격을 산출하세요. \n",
    "\n",
    "- (지역변수, 전역변수 2가지 방법) \n",
    "- return 사용, global 변수 사용 두가지 경우로 수행"
   ]
  },
  {
   "cell_type": "code",
   "execution_count": 15,
   "id": "c7770d01",
   "metadata": {},
   "outputs": [
    {
     "name": "stdout",
     "output_type": "stream",
     "text": [
      "1055\n",
      "1055\n"
     ]
    }
   ],
   "source": [
    "x1 = 1000\n",
    "\n",
    "def method1(y):\n",
    "    global x1\n",
    "    return x1+y\n",
    "\n",
    "def method2(y):\n",
    "    x2 = 1000\n",
    "    return x2+y\n",
    "\n",
    "print(method1(55))\n",
    "print('='*100)\n",
    "print(method2(55))"
   ]
  },
  {
   "cell_type": "markdown",
   "id": "118469b5",
   "metadata": {},
   "source": [
    "#### 과제4_1108 : \n",
    "- 4칙 연산 기능을 포함한 Cal4 클래스(생성자 이용)를 작성하고 이 클래스를 이용하여 cal 계산기 객체를 <br> \n",
    "만든 후 두개의 수  1000, 200에 대한 사칙연산을 수행하세요."
   ]
  },
  {
   "cell_type": "code",
   "execution_count": 1,
   "id": "79b44057",
   "metadata": {},
   "outputs": [
    {
     "name": "stdout",
     "output_type": "stream",
     "text": [
      "1200\n",
      "800\n",
      "200000\n",
      "5.0\n"
     ]
    }
   ],
   "source": [
    "class Cal4:\n",
    "    def __init__(self, n1, n2):\n",
    "        self.n1 = n1\n",
    "        self.n2 = n2\n",
    "    \n",
    "    def cal_add(self):\n",
    "        return self.n1+self.n2\n",
    "    def cal_sub(self):\n",
    "        return self.n1-self.n2\n",
    "    def cal_mul(self):\n",
    "        return self.n1*self.n2\n",
    "    def cal_div(self):\n",
    "        return self.n1/self.n2\n",
    "    \n",
    "cal4 = Cal4(1000,200) \n",
    "    \n",
    "print(cal4.cal_add())\n",
    "print(cal4.cal_sub())\n",
    "print(cal4.cal_mul())\n",
    "print(cal4.cal_div())"
   ]
  },
  {
   "cell_type": "markdown",
   "id": "6be80ecb",
   "metadata": {},
   "source": [
    "#### 과제5_1108 : 직원 채용, 직원 퇴직 관리를 하는 프로그램밍을 구조지향, 객체지향으로 각각 작성하세요.\n",
    "\n",
    "- def add_employee(employees, name, position):\n",
    "- def remove_employee(employees, name):"
   ]
  },
  {
   "cell_type": "code",
   "execution_count": 9,
   "id": "d06b5f1c",
   "metadata": {},
   "outputs": [
    {
     "name": "stdout",
     "output_type": "stream",
     "text": [
      "[('지용', '대리'), ('상현', '과장'), ('진수', '사원'), ('수홍', '부장'), ('호동', '임원')]\n",
      "====================================================================================================\n",
      "[('지용', '대리'), ('상현', '과장'), ('진수', '사원'), ('수홍', '부장'), ('호동', '임원'), ('지원', '회장')]\n",
      "====================================================================================================\n",
      "[('지용', '대리'), ('진수', '사원'), ('수홍', '부장'), ('호동', '임원'), ('지원', '회장')]\n"
     ]
    }
   ],
   "source": [
    "# 구조 지향 >> 메소드만 사용\n",
    "\n",
    "def add_employee(employees, name, position):\n",
    "    x = employees\n",
    "    t = name, position\n",
    "    x.append(t)\n",
    "    return x\n",
    "    \n",
    "def remove_employee(employees, name):\n",
    "    x = employees \n",
    "    return [i for i in x if i[0] != name]\n",
    "\n",
    "n_list = ['지용','상현','진수','수홍','호동']\n",
    "p_list = ['대리','과장','사원','부장','임원']\n",
    "z_list = list(zip(n_list, p_list))\n",
    "\n",
    "print(z_list)\n",
    "print('='*100)\n",
    "\n",
    "m1 = add_employee(z_list, '지원', '회장')\n",
    "print(m1)\n",
    "print('='*100)\n",
    "\n",
    "m2 = remove_employee(m1, '상현')\n",
    "print(m2)\n"
   ]
  },
  {
   "cell_type": "code",
   "execution_count": 11,
   "id": "a8a23f91",
   "metadata": {},
   "outputs": [
    {
     "name": "stdout",
     "output_type": "stream",
     "text": [
      "[('지용', '대리'), ('상현', '과장'), ('진수', '사원'), ('수홍', '부장'), ('호동', '임원')]\n",
      "====================================================================================================\n",
      "[('지용', '대리'), ('상현', '과장'), ('진수', '사원'), ('수홍', '부장'), ('호동', '임원'), ('지원', '회장')]\n",
      "====================================================================================================\n",
      "[('지용', '대리'), ('진수', '사원'), ('수홍', '부장'), ('호동', '임원'), ('지원', '회장')]\n",
      "====================================================================================================\n",
      "이름과 계급을 입력하세요\n",
      "이름을 입력하세요\n"
     ]
    }
   ],
   "source": [
    "# 객체 지향 >> 클래스 안에 넣어놓고 구현\n",
    "\n",
    "class Employee:\n",
    "    e_list = [('지용', '대리'), ('상현', '과장'), ('진수', '사원'), ('수홍', '부장'), ('호동', '임원')]\n",
    "    def add_employee(name, position):\n",
    "        if name and position:\n",
    "            n_tuple = name, position\n",
    "            Employee.e_list.append(n_tuple)\n",
    "        else:\n",
    "            print('이름과 계급을 입력하세요')\n",
    "        \n",
    "    def remove_employee(name):\n",
    "        if not name:\n",
    "            print('이름을 입력하세요')\n",
    "            return \n",
    "        f_index = -1\n",
    "        x = Employee.e_list\n",
    "        for i, val in enumerate(x):\n",
    "            if val[0] == name:\n",
    "                f_index = i\n",
    "                break\n",
    "        if f_index == -1:\n",
    "            print('이름이 목록에 없습니다.')\n",
    "        else:\n",
    "            del Employee.e_list[f_index]\n",
    "            \n",
    "print(Employee.e_list)\n",
    "print('='*100)\n",
    "\n",
    "Employee.add_employee('지원', '회장')\n",
    "print(Employee.e_list)\n",
    "print('='*100)\n",
    "\n",
    "Employee.remove_employee('상현')\n",
    "print(Employee.e_list)\n",
    "print('='*100)\n",
    "\n",
    "# 미입력 테스트1\n",
    "Employee.add_employee('', '회장')\n",
    "# 미입력 테스트2\n",
    "Employee.remove_employee('')"
   ]
  },
  {
   "cell_type": "code",
   "execution_count": 5,
   "id": "9ab3b1d9",
   "metadata": {},
   "outputs": [
    {
     "name": "stdout",
     "output_type": "stream",
     "text": [
      "eeee\n"
     ]
    }
   ],
   "source": [
    "# 딕셔너리 조건문 사용 예시\n",
    "# 키값으로 조건문 걸고 추가 또는 삭제\n",
    "\n",
    "dic2 = {'a':22, 'b':44}\n",
    "\n",
    "if 'b' in dic2:\n",
    "    print('eeee')\n",
    "else:\n",
    "    print('233')"
   ]
  },
  {
   "cell_type": "code",
   "execution_count": null,
   "id": "6df4cdeb",
   "metadata": {},
   "outputs": [],
   "source": []
  },
  {
   "cell_type": "code",
   "execution_count": null,
   "id": "de327746",
   "metadata": {},
   "outputs": [],
   "source": []
  },
  {
   "cell_type": "code",
   "execution_count": null,
   "id": "05b777fa",
   "metadata": {},
   "outputs": [],
   "source": []
  },
  {
   "cell_type": "code",
   "execution_count": null,
   "id": "81fcb392",
   "metadata": {},
   "outputs": [],
   "source": []
  },
  {
   "cell_type": "code",
   "execution_count": null,
   "id": "365e7dde",
   "metadata": {},
   "outputs": [],
   "source": []
  },
  {
   "cell_type": "code",
   "execution_count": null,
   "id": "d72589ec",
   "metadata": {},
   "outputs": [],
   "source": []
  },
  {
   "cell_type": "code",
   "execution_count": null,
   "id": "1268279e",
   "metadata": {},
   "outputs": [],
   "source": []
  },
  {
   "cell_type": "code",
   "execution_count": null,
   "id": "eade7248",
   "metadata": {},
   "outputs": [],
   "source": []
  },
  {
   "cell_type": "code",
   "execution_count": null,
   "id": "64e8ccbf",
   "metadata": {},
   "outputs": [],
   "source": []
  },
  {
   "cell_type": "code",
   "execution_count": null,
   "id": "4a70e38f",
   "metadata": {},
   "outputs": [],
   "source": []
  }
 ],
 "metadata": {
  "kernelspec": {
   "display_name": "Python 3 (ipykernel)",
   "language": "python",
   "name": "python3"
  },
  "language_info": {
   "codemirror_mode": {
    "name": "ipython",
    "version": 3
   },
   "file_extension": ".py",
   "mimetype": "text/x-python",
   "name": "python",
   "nbconvert_exporter": "python",
   "pygments_lexer": "ipython3",
   "version": "3.10.13"
  }
 },
 "nbformat": 4,
 "nbformat_minor": 5
}
