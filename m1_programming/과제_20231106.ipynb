{
 "cells": [
  {
   "cell_type": "code",
   "execution_count": null,
   "id": "d0b161c9",
   "metadata": {},
   "outputs": [],
   "source": [
    "# 과제1_1106 : 1에서 백만까지 더하는데 걸리는 프로그램 실행 시간을 밀리초(ms) 단위로 구하세요."
   ]
  },
  {
   "cell_type": "code",
   "execution_count": 2,
   "id": "03a662b4",
   "metadata": {},
   "outputs": [
    {
     "name": "stdout",
     "output_type": "stream",
     "text": [
      "백만까지 더한 값: 500000500000\n",
      "걸린 시간: 105 (ms)\n"
     ]
    }
   ],
   "source": [
    "import time\n",
    "\n",
    "t1 = time.time()\n",
    "t2 = 0\n",
    "result = 0\n",
    "\n",
    "for i in range(1000000):\n",
    "    result += i+1\n",
    "else:\n",
    "    t2 = time.time()\n",
    "    \n",
    "print(f'백만까지 더한 값: {result}\\n걸린 시간: {round((t2-t1)*1000)} (ms)')"
   ]
  }
 ],
 "metadata": {
  "kernelspec": {
   "display_name": "Python 3 (ipykernel)",
   "language": "python",
   "name": "python3"
  },
  "language_info": {
   "codemirror_mode": {
    "name": "ipython",
    "version": 3
   },
   "file_extension": ".py",
   "mimetype": "text/x-python",
   "name": "python",
   "nbconvert_exporter": "python",
   "pygments_lexer": "ipython3",
   "version": "3.10.13"
  }
 },
 "nbformat": 4,
 "nbformat_minor": 5
}
